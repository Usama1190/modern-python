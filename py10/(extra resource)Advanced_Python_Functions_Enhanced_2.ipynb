{
 "cells": [
  {
   "cell_type": "markdown",
   "id": "0df7f92a",
   "metadata": {},
   "source": [
    "### Advanced Python Function with Static Type Annotation\n",
    "\n",
    "#### 1. Function Basics\n",
    "\n",
    "A function is a block of code that performs a specific task. Here's a simple function that greets the person whose name is passed as a parameter"
   ]
  },
  {
   "cell_type": "code",
   "execution_count": 3,
   "id": "522d4b55",
   "metadata": {},
   "outputs": [
    {
     "name": "stdout",
     "output_type": "stream",
     "text": [
      "Hello,  Brics .Good morning!\n"
     ]
    }
   ],
   "source": [
    "def greet(name: str) -> None:\n",
    "    \"\"\"\n",
    "    This function greets the person as in a parameter\n",
    "    \"\"\"\n",
    "\n",
    "    print(\"Hello, \", name, \".Good morning!\")\n",
    "\n",
    "greet(\"Brics\")"
   ]
  },
  {
   "cell_type": "markdown",
   "id": "2f083135",
   "metadata": {},
   "source": [
    "#### 2. Default Arguments\n",
    "\n",
    "Default arguments in a function can be specified by assigning a default value to the parameter in the function definition. This allows you to call the function without providing those arguments."
   ]
  },
  {
   "cell_type": "code",
   "execution_count": null,
   "id": "6c8111ac",
   "metadata": {},
   "outputs": [
    {
     "name": "stdout",
     "output_type": "stream",
     "text": [
      "Hello Usama, Good morning!\n",
      "Hello Usama, How do you do\n"
     ]
    }
   ],
   "source": [
    "def greet(name: str, msg: str = \"Good morning!\") -> None:\n",
    "    \"\"\"\n",
    "    This function greet the person with the provided message,\n",
    "    If the message is not provided, its default to \"Good morning!\"\n",
    "    \"\"\"\n",
    "    \n",
    "    print(\"Hello\", name + \", \" + msg)\n",
    "    \n",
    "greet(\"Usama\")\n",
    "greet(\"Usama\", \"How do you do\")"
   ]
  },
  {
   "cell_type": "markdown",
   "id": "04c693c8",
   "metadata": {},
   "source": [
    "### 3. Variable-length Arguments\n",
    "\n",
    "Sometimes you might not know in advanced how many arguments a function should accept. Python allows you to handle this kind of situation through function calls with an arbitrary number of arguments."
   ]
  },
  {
   "cell_type": "code",
   "execution_count": 13,
   "id": "d3256bd6",
   "metadata": {},
   "outputs": [
    {
     "name": "stdout",
     "output_type": "stream",
     "text": [
      "Hello, Usama\n",
      "Hello, Israr\n",
      "Hello, Khan\n",
      "Hello, Alice\n",
      "Hello, John\n"
     ]
    }
   ],
   "source": [
    "from typing import Tuple\n",
    "\n",
    "def greet(*names: Tuple[str, ...]) -> None:\n",
    "    \"\"\"\n",
    "    This function greets all persons in the names tuple\n",
    "    \"\"\"\n",
    "    \n",
    "    for name in names:\n",
    "        print(\"Hello, \" + name)\n",
    "        \n",
    "greet(\"Usama\", \"Israr\", \"Khan\", \"Alice\", \"John\")"
   ]
  },
  {
   "cell_type": "markdown",
   "id": "7af4ede8",
   "metadata": {},
   "source": [
    "### 3. Lambda Function\n",
    "\n",
    "Lambda functions are small anonymous functions defined with the `lambda` keyword. They can take any numbers of arguments, but can only have one expression."
   ]
  },
  {
   "cell_type": "code",
   "execution_count": null,
   "id": "98e6007e",
   "metadata": {},
   "outputs": [
    {
     "name": "stdout",
     "output_type": "stream",
     "text": [
      "25\n"
     ]
    }
   ],
   "source": [
    "square = lambda x: x ** 2\n",
    "\n",
    "print(square(5))"
   ]
  },
  {
   "cell_type": "markdown",
   "id": "389bb8c9",
   "metadata": {},
   "source": [
    "### 4. Higher-order Functions"
   ]
  },
  {
   "cell_type": "code",
   "execution_count": 19,
   "id": "582b74d7",
   "metadata": {},
   "outputs": [
    {
     "name": "stdout",
     "output_type": "stream",
     "text": [
      "25\n"
     ]
    }
   ],
   "source": [
    "from typing import Callable\n",
    "\n",
    "def apply(func: Callable[[int], int], value: int) -> int:\n",
    "    return func(value)\n",
    "\n",
    "result: int = apply(lambda x: x ** 2, 5)\n",
    "\n",
    "print(result)"
   ]
  },
  {
   "cell_type": "markdown",
   "id": "c46284a9",
   "metadata": {},
   "source": [
    "### 5. Closures"
   ]
  },
  {
   "cell_type": "code",
   "execution_count": null,
   "id": "c1f8213b",
   "metadata": {},
   "outputs": [
    {
     "name": "stdout",
     "output_type": "stream",
     "text": [
      "22\n"
     ]
    }
   ],
   "source": [
    "from typing import Callable\n",
    "\n",
    "def outer_func(x: int) -> Callable[[int], int]:\n",
    "    def inner_func(y: int):\n",
    "        return x + y\n",
    "    \n",
    "    return inner_func\n",
    "\n",
    "closures = outer_func(19)\n",
    "\n",
    "print(closures(3))    # output: 22"
   ]
  },
  {
   "cell_type": "markdown",
   "id": "8a5e44f5",
   "metadata": {},
   "source": [
    "### 6. Decorators\n"
   ]
  },
  {
   "cell_type": "code",
   "execution_count": 25,
   "id": "860e5bae",
   "metadata": {},
   "outputs": [
    {
     "name": "stdout",
     "output_type": "stream",
     "text": [
      "Something is happening before the function is called.\n",
      "Hello!\n",
      "Something is happening after the function is called.\n"
     ]
    }
   ],
   "source": [
    "from typing import Callable\n",
    "\n",
    "def my_decorators(func: Callable[[int], None]) -> Callable[[int], None]:\n",
    "    def wrapper():\n",
    "        print('Something is happening before the function is called.')\n",
    "        func()\n",
    "        print('Something is happening after the function is called.')\n",
    "        \n",
    "    return wrapper\n",
    "\n",
    "@my_decorators\n",
    "def say_hello() -> None:\n",
    "    print(\"Hello!\")\n",
    "    \n",
    "say_hello()"
   ]
  },
  {
   "cell_type": "markdown",
   "id": "e33d6027",
   "metadata": {},
   "source": [
    "### 7. Recursion"
   ]
  },
  {
   "cell_type": "code",
   "execution_count": null,
   "id": "e753a998",
   "metadata": {},
   "outputs": [
    {
     "name": "stdout",
     "output_type": "stream",
     "text": [
      "The factorial of 6 is 720\n"
     ]
    }
   ],
   "source": [
    "def factorial(x: int) -> int:\n",
    "    \"\"\"\n",
    "    This is a recursive function to find the factorial of an integer\n",
    "    \"\"\"\n",
    "    if x == 0:\n",
    "        return 1\n",
    "    else:\n",
    "        return (x * factorial(x - 1))\n",
    "    \n",
    "num = 6\n",
    "print(\"The factorial of\", num, \"is\", factorial(num))"
   ]
  },
  {
   "cell_type": "markdown",
   "id": "611ecec9",
   "metadata": {},
   "source": [
    "### 8. Type Hints"
   ]
  },
  {
   "cell_type": "code",
   "execution_count": 33,
   "id": "b9614e28",
   "metadata": {},
   "outputs": [
    {
     "name": "stdout",
     "output_type": "stream",
     "text": [
      "13\n"
     ]
    }
   ],
   "source": [
    "def add_numbers(a: int, b: int) -> int:\n",
    "    return a + b\n",
    "\n",
    "result = add_numbers(12, 1)\n",
    "\n",
    "print(result)"
   ]
  },
  {
   "cell_type": "markdown",
   "id": "012aedc2",
   "metadata": {},
   "source": [
    "### 9. Docstrings"
   ]
  },
  {
   "cell_type": "code",
   "execution_count": null,
   "id": "3b3b1662",
   "metadata": {},
   "outputs": [],
   "source": [
    "def add_numbers(a: int, b: int) -> int:\n",
    "    \"\"\"\n",
    "    This function add two numbers.\n",
    "    \n",
    "    Parameters:\n",
    "    a (int): The first parameter\n",
    "    b (int): The second parameter\n",
    "    \n",
    "    Returns:\n",
    "    int: The sum of two numbers\n",
    "    \"\"\"\n",
    "    return a + b"
   ]
  }
 ],
 "metadata": {
  "kernelspec": {
   "display_name": "python12",
   "language": "python",
   "name": "python3"
  },
  "language_info": {
   "codemirror_mode": {
    "name": "ipython",
    "version": 3
   },
   "file_extension": ".py",
   "mimetype": "text/x-python",
   "name": "python",
   "nbconvert_exporter": "python",
   "pygments_lexer": "ipython3",
   "version": "3.12.0"
  }
 },
 "nbformat": 4,
 "nbformat_minor": 5
}
