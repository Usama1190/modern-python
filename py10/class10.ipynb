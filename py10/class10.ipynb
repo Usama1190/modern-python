{
 "cells": [
  {
   "cell_type": "markdown",
   "id": "374924a9",
   "metadata": {},
   "source": [
    "## Function\n",
    "\n",
    "* pre-defined function\n",
    "    * provided by in language\n",
    "* user-defined function\n",
    "    * custom function\n",
    "\n",
    "### Similar properties on both typed\n",
    "\n",
    "* return and non-return function\n",
    "    * return\n",
    "        * we can assign this function output in any variable\n",
    "    * non-return\n",
    "        * only run we can't assign value to variable.\n",
    "\n",
    "#### components\n",
    "\n",
    "* function declration\n",
    "* function body\n",
    "* function calling\n",
    "\n",
    "#### syntax function\n",
    "\n",
    "def function_name(param1: type, parma2: type, ...) -> return_type:\n",
    "    function_body\n",
    "\n",
    "function_name(arg1, arg2)\n",
    "\n",
    "#### syntax lambda function\n",
    "\n",
    "* one line function\n",
    "* without name\n",
    "* only use this line\n",
    "\n",
    "lambda param1, param2 : function_body\n",
    "\n",
    "### Pre-defined function\n",
    "\n",
    "* print\n",
    "* len\n",
    "* id\n",
    "* dir\n",
    "* chr\n",
    "* ord\n",
    "* exec\n",
    "\n",
    "### Return and non-return function"
   ]
  },
  {
   "cell_type": "code",
   "execution_count": 3,
   "id": "0199d5b3",
   "metadata": {},
   "outputs": [
    {
     "name": "stdout",
     "output_type": "stream",
     "text": [
      "pakistan\n"
     ]
    },
    {
     "data": {
      "text/plain": [
       "None"
      ]
     },
     "metadata": {},
     "output_type": "display_data"
    }
   ],
   "source": [
    "# variable.method_name()\n",
    "a: str = print(\"pakistan\")     # a = \"pakistan\" | None\n",
    "\n",
    "display(a)     # output: None"
   ]
  },
  {
   "cell_type": "code",
   "execution_count": 5,
   "id": "b964f423",
   "metadata": {},
   "outputs": [
    {
     "data": {
      "text/plain": [
       "8"
      ]
     },
     "metadata": {},
     "output_type": "display_data"
    }
   ],
   "source": [
    "a: int = len(\"pakistan\")     # a = 8 return\n",
    "\n",
    "display(a)"
   ]
  },
  {
   "cell_type": "code",
   "execution_count": null,
   "id": "2576eaad",
   "metadata": {},
   "outputs": [],
   "source": [
    "print(\"aa\")\n",
    "print(len(\"aaa\"))"
   ]
  },
  {
   "cell_type": "markdown",
   "id": "68e3dcb4",
   "metadata": {},
   "source": [
    "#### components"
   ]
  }
 ],
 "metadata": {
  "kernelspec": {
   "display_name": "python12",
   "language": "python",
   "name": "python3"
  },
  "language_info": {
   "codemirror_mode": {
    "name": "ipython",
    "version": 3
   },
   "file_extension": ".py",
   "mimetype": "text/x-python",
   "name": "python",
   "nbconvert_exporter": "python",
   "pygments_lexer": "ipython3",
   "version": "3.12.0"
  }
 },
 "nbformat": 4,
 "nbformat_minor": 5
}
