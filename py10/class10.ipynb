{
 "cells": [
  {
   "cell_type": "markdown",
   "id": "374924a9",
   "metadata": {},
   "source": [
    "## Function\n",
    "\n",
    "* pre-defined function\n",
    "    * provided by in language\n",
    "* user-defined function\n",
    "    * custom function\n",
    "\n",
    "### Similar properties on both typed\n",
    "\n",
    "* return and non-return function\n",
    "    * return\n",
    "        * we can assign this function output in any variable\n",
    "    * non-return\n",
    "        * only run we can't assign value to variable.\n",
    "\n",
    "#### components\n",
    "\n",
    "* function declration\n",
    "* function body\n",
    "* function calling\n",
    "\n",
    "#### syntax function\n",
    "\n",
    "def function_name(param1: type, parma2: type, ...) -> return_type:\n",
    "    function_body\n",
    "\n",
    "function_name(arg1, arg2)\n",
    "\n",
    "#### syntax lambda function\n",
    "\n",
    "* one line function\n",
    "* without name\n",
    "* only use this line\n",
    "\n",
    "lambda param1, param2 : function_body\n",
    "\n",
    "### Pre-defined function\n",
    "\n",
    "* print\n",
    "* len\n",
    "* id\n",
    "* dir\n",
    "* chr\n",
    "* ord\n",
    "* exec\n",
    "\n",
    "### Return and non-return function"
   ]
  },
  {
   "cell_type": "code",
   "execution_count": 54,
   "id": "0199d5b3",
   "metadata": {},
   "outputs": [
    {
     "name": "stdout",
     "output_type": "stream",
     "text": [
      "pakistan\n"
     ]
    },
    {
     "data": {
      "text/plain": [
       "None"
      ]
     },
     "metadata": {},
     "output_type": "display_data"
    }
   ],
   "source": [
    "# variable.method_name()\n",
    "a: str = print(\"pakistan\")     # a = \"pakistan\" | None\n",
    "\n",
    "display(a)     # output: None"
   ]
  },
  {
   "cell_type": "code",
   "execution_count": 55,
   "id": "b964f423",
   "metadata": {},
   "outputs": [
    {
     "data": {
      "text/plain": [
       "8"
      ]
     },
     "metadata": {},
     "output_type": "display_data"
    }
   ],
   "source": [
    "a: int = len(\"pakistan\")     # a = 8 return\n",
    "\n",
    "display(a)"
   ]
  },
  {
   "cell_type": "code",
   "execution_count": 56,
   "id": "2576eaad",
   "metadata": {},
   "outputs": [
    {
     "name": "stdout",
     "output_type": "stream",
     "text": [
      "aa\n",
      "3\n"
     ]
    }
   ],
   "source": [
    "print(\"aa\")\n",
    "print(len(\"aaa\"))"
   ]
  },
  {
   "cell_type": "markdown",
   "id": "68e3dcb4",
   "metadata": {},
   "source": [
    "#### components\n",
    "\n",
    "* function declration\n",
    "    * function name\n",
    "    * parameters\n",
    "        * param : type\n",
    "    * return output type\n",
    "* function body\n",
    "    * any business logic write here\n",
    "* function calling\n",
    "    * function(arg1, arg2)\n",
    "\n",
    "#### syntax function\n",
    "\n",
    "def function_name(param1: type, param2: type, ...) -> return_type:    # declration\n",
    "    function_body    # body\n",
    "\n",
    "function_name(arg1, arg2)   # calling\n",
    "\n",
    "#### Create simple function without any argument (default function)"
   ]
  },
  {
   "cell_type": "code",
   "execution_count": 57,
   "id": "04d13076",
   "metadata": {},
   "outputs": [
    {
     "name": "stdout",
     "output_type": "stream",
     "text": [
      "PIAIC Generative Artificial Intelligence\n",
      "Python Cresh Course\n"
     ]
    }
   ],
   "source": [
    "def piaic() -> None:      # declration / function signature\n",
    "    # function body start\n",
    "    print('PIAIC Generative Artificial Intelligence')    # statement 1\n",
    "    print('Python Cresh Course')                         # statement 2\n",
    "    # function body end\n",
    "    \n",
    "piaic()    # calling"
   ]
  },
  {
   "cell_type": "code",
   "execution_count": 58,
   "id": "f92a27c8",
   "metadata": {},
   "outputs": [
    {
     "name": "stdout",
     "output_type": "stream",
     "text": [
      "PIAIC Generative Artificial Intelligence\n",
      "Python Cresh Course\n",
      "PIAIC Generative Artificial Intelligence\n",
      "Python Cresh Course\n"
     ]
    }
   ],
   "source": [
    "piaic()\n",
    "piaic()"
   ]
  },
  {
   "cell_type": "markdown",
   "id": "e3ed76f7",
   "metadata": {},
   "source": [
    "#### Required parameters functions"
   ]
  },
  {
   "cell_type": "code",
   "execution_count": 59,
   "id": "509274ae",
   "metadata": {},
   "outputs": [
    {
     "name": "stdout",
     "output_type": "stream",
     "text": [
      "num 1 value 2 and num 2 value 6\n"
     ]
    },
    {
     "data": {
      "text/plain": [
       "8"
      ]
     },
     "execution_count": 59,
     "metadata": {},
     "output_type": "execute_result"
    }
   ],
   "source": [
    "#                   param1       param2\n",
    "def add_two_numbers(num1: int, num2: int) -> int:\n",
    "    print(f\"num 1 value {num1} and num 2 value {num2}\")\n",
    "    return num1 + num2\n",
    "\n",
    "add_two_numbers(2, 6)    # arg1, arg2  positional"
   ]
  },
  {
   "cell_type": "code",
   "execution_count": 60,
   "id": "da9ce6cb",
   "metadata": {},
   "outputs": [
    {
     "name": "stdout",
     "output_type": "stream",
     "text": [
      "num 1 value 9 and num 2 value 12\n"
     ]
    },
    {
     "data": {
      "text/plain": [
       "21"
      ]
     },
     "execution_count": 60,
     "metadata": {},
     "output_type": "execute_result"
    }
   ],
   "source": [
    "#                   param1       param2\n",
    "def add_two_numbers(num1: int, num2: int) -> int:\n",
    "    print(f\"num 1 value {num1} and num 2 value {num2}\")\n",
    "    return num1 + num2\n",
    "\n",
    "add_two_numbers(num2=12, num1=9)    # arg1, arg2  key word arguments"
   ]
  },
  {
   "cell_type": "code",
   "execution_count": 61,
   "id": "9cf3a0a1",
   "metadata": {},
   "outputs": [
    {
     "ename": "TypeError",
     "evalue": "add_two_numbers() missing 1 required positional argument: 'num2'",
     "output_type": "error",
     "traceback": [
      "\u001b[31m---------------------------------------------------------------------------\u001b[39m",
      "\u001b[31mTypeError\u001b[39m                                 Traceback (most recent call last)",
      "\u001b[36mCell\u001b[39m\u001b[36m \u001b[39m\u001b[32mIn[61]\u001b[39m\u001b[32m, line 1\u001b[39m\n\u001b[32m----> \u001b[39m\u001b[32m1\u001b[39m \u001b[43madd_two_numbers\u001b[49m\u001b[43m(\u001b[49m\u001b[32;43m3\u001b[39;49m\u001b[43m)\u001b[49m\n",
      "\u001b[31mTypeError\u001b[39m: add_two_numbers() missing 1 required positional argument: 'num2'"
     ]
    }
   ],
   "source": [
    "add_two_numbers(3)"
   ]
  },
  {
   "cell_type": "markdown",
   "id": "7087456f",
   "metadata": {},
   "source": [
    "#### function with optional parameters"
   ]
  },
  {
   "cell_type": "code",
   "execution_count": null,
   "id": "925b6c1c",
   "metadata": {},
   "outputs": [
    {
     "name": "stdout",
     "output_type": "stream",
     "text": [
      "num 1 value 2 and num 2 value 9\n"
     ]
    },
    {
     "data": {
      "text/plain": [
       "11"
      ]
     },
     "execution_count": 13,
     "metadata": {},
     "output_type": "execute_result"
    }
   ],
   "source": [
    "def add_two_numbers(num1: int, num2: int = 0) -> int:\n",
    "    print(f\"num 1 value {num1} and num 2 value {num2}\")\n",
    "    return num1 + num2\n",
    "\n",
    "add_two_numbers(2, 9)"
   ]
  },
  {
   "cell_type": "markdown",
   "id": "29019478",
   "metadata": {},
   "source": [
    "#### syntax lambda function\n",
    "\n",
    "* one line function\n",
    "* without name\n",
    "* only use in this line\n",
    "\n",
    "    lambda param1, param2 : function_body"
   ]
  },
  {
   "cell_type": "code",
   "execution_count": null,
   "id": "20d9ce72",
   "metadata": {},
   "outputs": [
    {
     "data": {
      "text/plain": [
       "12"
      ]
     },
     "execution_count": 14,
     "metadata": {},
     "output_type": "execute_result"
    }
   ],
   "source": [
    "a = lambda num1, num2 : num1 + num2\n",
    "\n",
    "a(3, 9)"
   ]
  },
  {
   "cell_type": "markdown",
   "id": "5fb2bb96",
   "metadata": {},
   "source": [
    "https://stackoverflow.com/questions/33833881/is-it-possible-to-type-hint-a-lambda-function"
   ]
  },
  {
   "cell_type": "code",
   "execution_count": null,
   "id": "5558e4cb",
   "metadata": {},
   "outputs": [
    {
     "name": "stdout",
     "output_type": "stream",
     "text": [
      "11\n"
     ]
    }
   ],
   "source": [
    "from typing import Callable\n",
    "\n",
    "add: Callable[[int, int], int] = lambda x, y : x + y\n",
    "\n",
    "result = add(7, 4)    # result will be 11\n",
    "\n",
    "print(result)"
   ]
  },
  {
   "cell_type": "code",
   "execution_count": null,
   "id": "d8b866d0",
   "metadata": {},
   "outputs": [
    {
     "name": "stdout",
     "output_type": "stream",
     "text": [
      "[1, 4, 9, 16, 25, 36, 49, 64, 81, 100]\n"
     ]
    }
   ],
   "source": [
    "data: list[int] = [1, 2, 3, 4, 5, 6, 7, 8, 9, 10]\n",
    "\n",
    "data = list(map(lambda x : x ** 2, data))\n",
    "\n",
    "print(data)"
   ]
  },
  {
   "cell_type": "code",
   "execution_count": null,
   "id": "770eb1c9",
   "metadata": {},
   "outputs": [],
   "source": [
    "data: list[int] = [1, 2, 3, 4, 5, 6, 7, 8, 9, 10]\n",
    "\n",
    "data = list(map(lambda x : x ** 2, data))\n",
    "\n",
    "print(data)"
   ]
  },
  {
   "cell_type": "code",
   "execution_count": null,
   "id": "667a68f8",
   "metadata": {},
   "outputs": [
    {
     "name": "stdout",
     "output_type": "stream",
     "text": [
      "[2, 4, 6, 8, 10]\n"
     ]
    }
   ],
   "source": [
    "data: list[int] = [1, 2, 3, 4, 5, 6, 7, 8, 9, 10]\n",
    "\n",
    "data = list(filter(lambda x : x % 2 == 0, data))\n",
    "\n",
    "print(data)"
   ]
  },
  {
   "cell_type": "code",
   "execution_count": null,
   "id": "f06d7409",
   "metadata": {},
   "outputs": [
    {
     "data": {
      "text/plain": [
       "[2,\n",
       " 4,\n",
       " 6,\n",
       " 8,\n",
       " 10,\n",
       " 12,\n",
       " 14,\n",
       " 16,\n",
       " 18,\n",
       " 20,\n",
       " 22,\n",
       " 24,\n",
       " 26,\n",
       " 28,\n",
       " 30,\n",
       " 32,\n",
       " 34,\n",
       " 36,\n",
       " 38,\n",
       " 40,\n",
       " 42,\n",
       " 44,\n",
       " 46,\n",
       " 48,\n",
       " 50,\n",
       " 52,\n",
       " 54,\n",
       " 56,\n",
       " 58,\n",
       " 60,\n",
       " 62,\n",
       " 64,\n",
       " 66,\n",
       " 68,\n",
       " 70,\n",
       " 72,\n",
       " 74,\n",
       " 76,\n",
       " 78,\n",
       " 80,\n",
       " 82,\n",
       " 84,\n",
       " 86,\n",
       " 88,\n",
       " 90,\n",
       " 92,\n",
       " 94,\n",
       " 96,\n",
       " 98,\n",
       " 100]"
      ]
     },
     "execution_count": 25,
     "metadata": {},
     "output_type": "execute_result"
    }
   ],
   "source": [
    "data: list[int] = list(filter(lambda x: x % 2 == 0, range(1, 101)))\n",
    "\n",
    "data"
   ]
  },
  {
   "cell_type": "code",
   "execution_count": null,
   "id": "e479c22d",
   "metadata": {},
   "outputs": [
    {
     "name": "stdout",
     "output_type": "stream",
     "text": [
      "2\n",
      "4\n"
     ]
    }
   ],
   "source": [
    "data: list[int] = filter(lambda x: x % 2 == 0, range(1, 101))\n",
    "\n",
    "print(next(data))\n",
    "print(next(data))"
   ]
  },
  {
   "cell_type": "markdown",
   "id": "986d46af",
   "metadata": {},
   "source": [
    "#### Generator function\n",
    "\n",
    "* iterate on element one by one\n",
    "* stop after each iteration\n",
    "* remember old iteration value (last iterate value)\n",
    "* next iterate\n",
    "    * go forward from last iterate value"
   ]
  },
  {
   "cell_type": "code",
   "execution_count": null,
   "id": "a81a613c",
   "metadata": {},
   "outputs": [
    {
     "name": "stdout",
     "output_type": "stream",
     "text": [
      "<generator object my_range at 0x000001B96A617790>\n",
      "[1, 2, 3, 4, 5, 6, 7, 8, 9, 10]\n"
     ]
    }
   ],
   "source": [
    "# Generator function\n",
    "\n",
    "def my_range(start: int, end: int, step: int = 1):\n",
    "    for i in range(start, end + 1, step):\n",
    "        yield i   # Generator function\n",
    "        \n",
    "a = my_range(1, 10)\n",
    "\n",
    "print(a)\n",
    "print(list(a))"
   ]
  },
  {
   "cell_type": "code",
   "execution_count": null,
   "id": "49d11550",
   "metadata": {},
   "outputs": [
    {
     "name": "stdout",
     "output_type": "stream",
     "text": [
      "<generator object my_range at 0x000001B96A694130>\n",
      "1\n",
      "2\n",
      "3\n",
      "Pakistan\n",
      "4\n"
     ]
    }
   ],
   "source": [
    "a = my_range(1, 10)\n",
    "\n",
    "print(a)\n",
    "print(next(a))\n",
    "print(next(a))\n",
    "print(next(a))\n",
    "print(\"Pakistan\")\n",
    "print(next(a))"
   ]
  },
  {
   "cell_type": "code",
   "execution_count": null,
   "id": "26e180ed",
   "metadata": {},
   "outputs": [
    {
     "name": "stdout",
     "output_type": "stream",
     "text": [
      "1\n",
      "2\n"
     ]
    }
   ],
   "source": [
    "from collections.abc import Iterator\n",
    "\n",
    "myDictT = dict[str, object]   # for example\n",
    "\n",
    "def yield_function() -> Iterator(myDictT) :\n",
    "    a: myDictT = {}\n",
    "    b: myDictT = {}\n",
    "    ...\n",
    "    \n",
    "    yield a\n",
    "    yield b"
   ]
  },
  {
   "cell_type": "markdown",
   "id": "1a311757",
   "metadata": {},
   "source": [
    "https://stackoverflow.com/questions/74774919/proper-typing-for-a-interesting-yield-function"
   ]
  },
  {
   "cell_type": "code",
   "execution_count": null,
   "id": "a9c24ea3",
   "metadata": {},
   "outputs": [],
   "source": [
    "from collections.abc import Iterator\n",
    "\n",
    "def my_range(start: int, end: int, step: int = 1) -> Iterator[int]:\n",
    "    for i in range(start, end + 1, step):\n",
    "        yield i   # Generator function\n",
    "        \n",
    "iterator_variable = my_range(1, 10)\n",
    "\n",
    "print(next(iterator_variable))\n",
    "print(next(iterator_variable))"
   ]
  },
  {
   "cell_type": "code",
   "execution_count": 62,
   "id": "5775cd2d",
   "metadata": {},
   "outputs": [
    {
     "name": "stdout",
     "output_type": "stream",
     "text": [
      "1\n",
      "2\n",
      "<class 'generator'>\n"
     ]
    }
   ],
   "source": [
    "from collections.abc import Iterator\n",
    "\n",
    "def my_range(start: int, end: int, step: int = 1) -> Iterator[int]:\n",
    "    for i in range(start, end + 1, step):\n",
    "        yield i   # Generator function\n",
    "        \n",
    "iterator_variable = my_range(1, 10)\n",
    "\n",
    "print(next(iterator_variable))\n",
    "print(next(iterator_variable))\n",
    "\n",
    "print(type(iterator_variable))"
   ]
  },
  {
   "cell_type": "code",
   "execution_count": 63,
   "id": "67fe640d",
   "metadata": {},
   "outputs": [
    {
     "name": "stdout",
     "output_type": "stream",
     "text": [
      "3\n",
      "4\n",
      "5\n",
      "6\n",
      "7\n",
      "8\n",
      "9\n",
      "10\n"
     ]
    }
   ],
   "source": [
    "for i in iterator_variable:\n",
    "    print(i)"
   ]
  },
  {
   "cell_type": "code",
   "execution_count": null,
   "id": "5c89b3fd",
   "metadata": {},
   "outputs": [
    {
     "data": {
      "text/plain": [
       "['__class__',\n",
       " '__del__',\n",
       " '__delattr__',\n",
       " '__dir__',\n",
       " '__doc__',\n",
       " '__eq__',\n",
       " '__format__',\n",
       " '__ge__',\n",
       " '__getattribute__',\n",
       " '__getstate__',\n",
       " '__gt__',\n",
       " '__hash__',\n",
       " '__init__',\n",
       " '__init_subclass__',\n",
       " '__iter__',\n",
       " '__le__',\n",
       " '__lt__',\n",
       " '__name__',\n",
       " '__ne__',\n",
       " '__new__',\n",
       " '__next__',\n",
       " '__qualname__',\n",
       " '__reduce__',\n",
       " '__reduce_ex__',\n",
       " '__repr__',\n",
       " '__setattr__',\n",
       " '__sizeof__',\n",
       " '__str__',\n",
       " '__subclasshook__',\n",
       " 'close',\n",
       " 'gi_code',\n",
       " 'gi_frame',\n",
       " 'gi_running',\n",
       " 'gi_suspended',\n",
       " 'gi_yieldfrom',\n",
       " 'send',\n",
       " 'throw']"
      ]
     },
     "execution_count": 64,
     "metadata": {},
     "output_type": "execute_result"
    }
   ],
   "source": [
    "dir(iterator_variable)   # or dir(a)"
   ]
  },
  {
   "cell_type": "markdown",
   "id": "f16ed962",
   "metadata": {},
   "source": [
    "#### pass unlimited arguments"
   ]
  },
  {
   "cell_type": "code",
   "execution_count": null,
   "id": "8e44db79",
   "metadata": {},
   "outputs": [
    {
     "name": "stdout",
     "output_type": "stream",
     "text": [
      "(2, 1, 4, 6, 3, 6, 8) <class 'tuple'>\n"
     ]
    },
    {
     "data": {
      "text/plain": [
       "30"
      ]
     },
     "execution_count": 65,
     "metadata": {},
     "output_type": "execute_result"
    }
   ],
   "source": [
    "def abc(*nums):\n",
    "    print(nums, type(nums))\n",
    "    \n",
    "    total = 0\n",
    "    \n",
    "    for n in nums:\n",
    "        total += n\n",
    "    \n",
    "    return total\n",
    "\n",
    "abc(2, 1, 4, 6, 3, 6, 8)"
   ]
  },
  {
   "cell_type": "code",
   "execution_count": null,
   "id": "7694ef0f",
   "metadata": {},
   "outputs": [
    {
     "name": "stdout",
     "output_type": "stream",
     "text": [
      "Hello,  Usama\n",
      "Hello,  Israr\n",
      "Hello,  John\n",
      "Hello,  Brics\n",
      "Hello,  Luke\n",
      "Hello,  Peterson\n"
     ]
    }
   ],
   "source": [
    "from typing import Tuple\n",
    "\n",
    "def greet(*names: Tuple[str, ...]) -> None:\n",
    "    \"\"\"\n",
    "        This function greets all persons in the names tuple\n",
    "    \"\"\"\n",
    "    \n",
    "    for name in names:\n",
    "        print(\"Hello, \", name)\n",
    "    \n",
    "greet(\"Usama\", \"Israr\", \"John\", \"Brics\", \"Luke\", \"Peterson\")"
   ]
  },
  {
   "cell_type": "code",
   "execution_count": 73,
   "id": "af12b5a2",
   "metadata": {},
   "outputs": [
    {
     "name": "stdout",
     "output_type": "stream",
     "text": [
      "{'a': 'Pakistan', 'b': 'Usa'}\n"
     ]
    }
   ],
   "source": [
    "from typing import Dict\n",
    "\n",
    "def greet(**xyz: Dict[str, str]) -> None:\n",
    "    print(xyz)\n",
    "    \n",
    "greet(a = \"Pakistan\", b = \"Usa\")"
   ]
  },
  {
   "cell_type": "code",
   "execution_count": 74,
   "id": "89db0009",
   "metadata": {},
   "outputs": [
    {
     "name": "stdout",
     "output_type": "stream",
     "text": [
      "{'a': 12, 'b': 2, 'c': 6, 'd': 1, 'name': 'Usama', 'fname': 'Israr'} <class 'dict'>\n"
     ]
    }
   ],
   "source": [
    "def xyz(**kargs):\n",
    "    print(kargs, type(kargs))\n",
    "    \n",
    "xyz(a = 12, b = 2, c = 6, d = 1, name = \"Usama\", fname = \"Israr\")"
   ]
  },
  {
   "cell_type": "code",
   "execution_count": 79,
   "id": "b656c1d1",
   "metadata": {},
   "outputs": [
    {
     "name": "stdout",
     "output_type": "stream",
     "text": [
      "1 2 (3, 5, 6, 7, 8, 9) {'c': 1, 'd': 2, 'x': 101}\n"
     ]
    }
   ],
   "source": [
    "def my_function(a, b, *abc, **cde):\n",
    "    print(a, b, abc, cde)\n",
    "    \n",
    "my_function(1, 2,  3, 5, 6, 7, 8, 9,  c = 1, d = 2, x = 101)"
   ]
  },
  {
   "cell_type": "code",
   "execution_count": 82,
   "id": "cd32c502",
   "metadata": {},
   "outputs": [
    {
     "name": "stdout",
     "output_type": "stream",
     "text": [
      "1 2 (3, 5, 6, 7, 8, 9) {'c': 1, 'd': 2, 'x': 101}\n"
     ]
    }
   ],
   "source": [
    "from typing import Tuple, Dict\n",
    "\n",
    "# Typing hint error\n",
    "\n",
    "def my_function(a: int, b: int, *abc: Tuple[int, ...], **cde: Dict[str, int]):\n",
    "    print(a, b, abc, cde)\n",
    "    \n",
    "my_function(1, 2,  3, 5, 6, 7, 8, 9,  c = 1, d = 2, x = 101)"
   ]
  },
  {
   "cell_type": "code",
   "execution_count": 83,
   "id": "47738fa1",
   "metadata": {},
   "outputs": [
    {
     "name": "stdout",
     "output_type": "stream",
     "text": [
      "1 2 (3, 5, 6, 7, 8, 9) {'c': 1, 'd': 2, 'x': 101}\n"
     ]
    }
   ],
   "source": [
    "from typing import Tuple, Dict\n",
    "\n",
    "# Typing hint error\n",
    "\n",
    "def my_function(a: int, b: int, *abc: int, **cde: int) -> None:\n",
    "    print(a, b, abc, cde)\n",
    "    \n",
    "my_function(1, 2,  3, 5, 6, 7, 8, 9,  c = 1, d = 2, x = 101)"
   ]
  },
  {
   "cell_type": "code",
   "execution_count": 90,
   "id": "699cb329",
   "metadata": {},
   "outputs": [
    {
     "name": "stdout",
     "output_type": "stream",
     "text": [
      "Something is happening before the function is called.\n",
      "Hello!\n",
      "Something is happening after the function is called.\n"
     ]
    }
   ],
   "source": [
    "from typing import Callable\n",
    "\n",
    "def my_decorator(func: Callable[[], None]) -> Callable[[], None]:\n",
    "    def wrapper():\n",
    "        print(\"Something is happening before the function is called.\")\n",
    "        func()\n",
    "        print(\"Something is happening after the function is called.\")\n",
    "        \n",
    "    return wrapper\n",
    "\n",
    "@my_decorator\n",
    "def say_Hello():\n",
    "    print('Hello!')\n",
    "    \n",
    "say_Hello()"
   ]
  },
  {
   "cell_type": "code",
   "execution_count": 95,
   "id": "ddb342d9",
   "metadata": {},
   "outputs": [
    {
     "name": "stdout",
     "output_type": "stream",
     "text": [
      "Something is happening before the function is called.\n",
      "100\n",
      "Something is happening after the function is called.\n"
     ]
    }
   ],
   "source": [
    "from typing import Callable\n",
    "\n",
    "def my_decorator(func: Callable[[int], None]) -> Callable[[int], None]:\n",
    "    def wrapper(num1: int) -> None:\n",
    "        print(\"Something is happening before the function is called.\")\n",
    "        func(num1)\n",
    "        print(\"Something is happening after the function is called.\")\n",
    "        \n",
    "    return wrapper\n",
    "\n",
    "@my_decorator\n",
    "def say_Hello(num1: int) -> None:\n",
    "    print(num1)\n",
    "    \n",
    "say_Hello(100)"
   ]
  },
  {
   "cell_type": "code",
   "execution_count": null,
   "id": "e08e10dd",
   "metadata": {},
   "outputs": [
    {
     "name": "stdout",
     "output_type": "stream",
     "text": [
      "The factorial of  5 is 120\n"
     ]
    }
   ],
   "source": [
    "def factorial(x: int) -> int:\n",
    "    \"\"\"This is the recursive function to find the factorial of an integer\"\"\"\n",
    "    if x == 1:\n",
    "        return 1\n",
    "    else:\n",
    "        return (x * factorial(x - 1))\n",
    "    #           5*4*3*2*1\n",
    "\n",
    "num = 5\n",
    "\n",
    "print(\"The factorial of \", num, \"is\", factorial(num))"
   ]
  },
  {
   "cell_type": "code",
   "execution_count": 98,
   "id": "1b9653af",
   "metadata": {},
   "outputs": [
    {
     "data": {
      "text/plain": [
       "120"
      ]
     },
     "execution_count": 98,
     "metadata": {},
     "output_type": "execute_result"
    }
   ],
   "source": [
    "5*4*3*2*1"
   ]
  },
  {
   "cell_type": "code",
   "execution_count": null,
   "id": "2dc3d3b9",
   "metadata": {},
   "outputs": [],
   "source": []
  }
 ],
 "metadata": {
  "kernelspec": {
   "display_name": "python12",
   "language": "python",
   "name": "python3"
  },
  "language_info": {
   "codemirror_mode": {
    "name": "ipython",
    "version": 3
   },
   "file_extension": ".py",
   "mimetype": "text/x-python",
   "name": "python",
   "nbconvert_exporter": "python",
   "pygments_lexer": "ipython3",
   "version": "3.12.0"
  }
 },
 "nbformat": 4,
 "nbformat_minor": 5
}
