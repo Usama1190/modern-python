{
 "cells": [
  {
   "cell_type": "code",
   "execution_count": 1,
   "id": "23f36857",
   "metadata": {},
   "outputs": [],
   "source": [
    "from piaic.genai import ExecutionTimer"
   ]
  },
  {
   "cell_type": "code",
   "execution_count": 2,
   "id": "532d03f2",
   "metadata": {},
   "outputs": [
    {
     "name": "stdout",
     "output_type": "stream",
     "text": [
      "square_numbers() took 0.0031 ms\n"
     ]
    },
    {
     "data": {
      "text/plain": [
       "[0, 1, 4, 9, 16, 25, 36, 49, 64, 81]"
      ]
     },
     "execution_count": 2,
     "metadata": {},
     "output_type": "execute_result"
    }
   ],
   "source": [
    "@ExecutionTimer\n",
    "def square_numbers(numbers):\n",
    "    return [number ** 2 for number in numbers]\n",
    "\n",
    "\n",
    "square_numbers(list(range(10)))"
   ]
  },
  {
   "cell_type": "markdown",
   "id": "031cf973",
   "metadata": {},
   "source": [
    "## How can we create python package for public users\n",
    "https://www.turing.com/kb/how-to-create-pypi-packages"
   ]
  },
  {
   "cell_type": "code",
   "execution_count": 4,
   "id": "e408fa79",
   "metadata": {},
   "outputs": [
    {
     "name": "stdout",
     "output_type": "stream",
     "text": [
      "0080\n"
     ]
    }
   ],
   "source": [
    "from xml.etree.ElementTree import PI\n",
    "\n",
    "\n",
    "class Piaic():\n",
    "    def __init__(self) -> None:\n",
    "        # self.name           public\n",
    "        self.piaic_helpline = '0080'\n",
    "        \n",
    "        # self._name          protected\n",
    "        self._total_expence = 24324334\n",
    "        \n",
    "        # self.__name          private\n",
    "        self.__text_annoucement = 'Jan 17, 25'\n",
    "        \n",
    "osama : Piaic = Piaic()\n",
    "\n",
    "print(osama.piaic_helpline)"
   ]
  },
  {
   "cell_type": "code",
   "execution_count": 6,
   "id": "b8750228",
   "metadata": {},
   "outputs": [
    {
     "name": "stdout",
     "output_type": "stream",
     "text": [
      "0300-123456789\n"
     ]
    }
   ],
   "source": [
    "osama.piaic_helpline = '0300-123456789'\n",
    "\n",
    "print(osama.piaic_helpline)"
   ]
  },
  {
   "cell_type": "code",
   "execution_count": 8,
   "id": "a5107cef",
   "metadata": {},
   "outputs": [
    {
     "ename": "AttributeError",
     "evalue": "'Piaic' object has no attribute 'text_annoucement'",
     "output_type": "error",
     "traceback": [
      "\u001b[31m---------------------------------------------------------------------------\u001b[39m",
      "\u001b[31mAttributeError\u001b[39m                            Traceback (most recent call last)",
      "\u001b[36mCell\u001b[39m\u001b[36m \u001b[39m\u001b[32mIn[8]\u001b[39m\u001b[32m, line 1\u001b[39m\n\u001b[32m----> \u001b[39m\u001b[32m1\u001b[39m \u001b[43mosama\u001b[49m\u001b[43m.\u001b[49m\u001b[43mtext_annoucement\u001b[49m\n",
      "\u001b[31mAttributeError\u001b[39m: 'Piaic' object has no attribute 'text_annoucement'"
     ]
    }
   ],
   "source": [
    "osama.text_annoucement"
   ]
  },
  {
   "cell_type": "code",
   "execution_count": 9,
   "id": "62454f24",
   "metadata": {},
   "outputs": [
    {
     "ename": "AttributeError",
     "evalue": "'Piaic' object has no attribute '__text_annoucement'",
     "output_type": "error",
     "traceback": [
      "\u001b[31m---------------------------------------------------------------------------\u001b[39m",
      "\u001b[31mAttributeError\u001b[39m                            Traceback (most recent call last)",
      "\u001b[36mCell\u001b[39m\u001b[36m \u001b[39m\u001b[32mIn[9]\u001b[39m\u001b[32m, line 1\u001b[39m\n\u001b[32m----> \u001b[39m\u001b[32m1\u001b[39m \u001b[43mosama\u001b[49m\u001b[43m.\u001b[49m\u001b[43m__text_annoucement\u001b[49m\n",
      "\u001b[31mAttributeError\u001b[39m: 'Piaic' object has no attribute '__text_annoucement'"
     ]
    }
   ],
   "source": [
    "osama.__text_annoucement"
   ]
  },
  {
   "cell_type": "code",
   "execution_count": 14,
   "id": "435332f5",
   "metadata": {},
   "outputs": [
    {
     "data": {
      "text/plain": [
       "'Jan 17, 25'"
      ]
     },
     "execution_count": 14,
     "metadata": {},
     "output_type": "execute_result"
    }
   ],
   "source": [
    "osama._Piaic__text_annoucement"
   ]
  },
  {
   "cell_type": "code",
   "execution_count": 26,
   "id": "089c5418",
   "metadata": {},
   "outputs": [],
   "source": [
    "class StudentLogin():\n",
    "    def __init__(self) -> None:\n",
    "        self.__username: str = \"Admin\"    # private\n",
    "        self.__password: str = \"Admin\"    # private\n",
    "        \n",
    "    def __dbconnectivity(self, user: str, password: str):\n",
    "        print(\"Successfully connected!\")\n",
    "        if self.__username == user and self.__password == password:\n",
    "            return \"Valid user\"\n",
    "        else:\n",
    "            return \"Invalid user\"\n",
    "        \n",
    "    def update_password(self, password: str):\n",
    "        self.__password = password\n",
    "        \n",
    "    def studentLogin(self, user, pass1):\n",
    "        message: str = self.__dbconnectivity(user, pass1)\n",
    "        print(message)\n",
    "        \n",
    "    def display_information(self):\n",
    "        print(f\"Hello Dear, {self.__username} and password {self.__password}\")\n",
    "        \n",
    "usama: StudentLogin = StudentLogin()"
   ]
  },
  {
   "cell_type": "code",
   "execution_count": 27,
   "id": "5d9b7ba6",
   "metadata": {},
   "outputs": [
    {
     "ename": "AttributeError",
     "evalue": "'StudentLogin' object has no attribute '__password'",
     "output_type": "error",
     "traceback": [
      "\u001b[31m---------------------------------------------------------------------------\u001b[39m",
      "\u001b[31mAttributeError\u001b[39m                            Traceback (most recent call last)",
      "\u001b[36mCell\u001b[39m\u001b[36m \u001b[39m\u001b[32mIn[27]\u001b[39m\u001b[32m, line 1\u001b[39m\n\u001b[32m----> \u001b[39m\u001b[32m1\u001b[39m \u001b[43musama\u001b[49m\u001b[43m.\u001b[49m\u001b[43m__password\u001b[49m\n",
      "\u001b[31mAttributeError\u001b[39m: 'StudentLogin' object has no attribute '__password'"
     ]
    }
   ],
   "source": [
    "usama.__password"
   ]
  },
  {
   "cell_type": "code",
   "execution_count": 28,
   "id": "d4e0c997",
   "metadata": {},
   "outputs": [
    {
     "name": "stdout",
     "output_type": "stream",
     "text": [
      "Hello Dear, Admin and password Admin\n"
     ]
    }
   ],
   "source": [
    "usama.display_information()"
   ]
  },
  {
   "cell_type": "code",
   "execution_count": 29,
   "id": "da3029d4",
   "metadata": {},
   "outputs": [
    {
     "name": "stdout",
     "output_type": "stream",
     "text": [
      "Successfully connected!\n",
      "Invalid user\n"
     ]
    }
   ],
   "source": [
    "usama.studentLogin(\"Usama\", \"Usama1190\")"
   ]
  },
  {
   "cell_type": "code",
   "execution_count": 30,
   "id": "9763e476",
   "metadata": {},
   "outputs": [
    {
     "name": "stdout",
     "output_type": "stream",
     "text": [
      "Successfully connected!\n",
      "Valid user\n"
     ]
    }
   ],
   "source": [
    "usama.studentLogin(\"Admin\", \"Admin\")"
   ]
  },
  {
   "cell_type": "code",
   "execution_count": 31,
   "id": "ae8c5bff",
   "metadata": {},
   "outputs": [],
   "source": [
    "usama.update_password(\"usama1190\")"
   ]
  },
  {
   "cell_type": "code",
   "execution_count": 32,
   "id": "956f3fe4",
   "metadata": {},
   "outputs": [
    {
     "name": "stdout",
     "output_type": "stream",
     "text": [
      "Hello Dear, Admin and password usama1190\n"
     ]
    }
   ],
   "source": [
    "usama.display_information()"
   ]
  },
  {
   "cell_type": "markdown",
   "id": "aa0f1631",
   "metadata": {},
   "source": [
    "## str"
   ]
  },
  {
   "cell_type": "code",
   "execution_count": 33,
   "id": "595a24a5",
   "metadata": {},
   "outputs": [
    {
     "name": "stdout",
     "output_type": "stream",
     "text": [
      "<__main__.Teacher object at 0x000002E02F54DC10>\n"
     ]
    }
   ],
   "source": [
    "class Teacher():\n",
    "    def __init__(self, name: str) -> None:\n",
    "        self.name = name\n",
    "        \n",
    "teacher1: Teacher = Teacher(\"Sir Zia\")\n",
    "\n",
    "print(teacher1)"
   ]
  },
  {
   "cell_type": "code",
   "execution_count": 34,
   "id": "ed04fd61",
   "metadata": {},
   "outputs": [
    {
     "name": "stdout",
     "output_type": "stream",
     "text": [
      "Teacher name is Sir Zia\n"
     ]
    }
   ],
   "source": [
    "class Teacher():\n",
    "    def __init__(self, name: str) -> None:\n",
    "        self.name = name\n",
    "        \n",
    "    def __str__(self):\n",
    "        return f\"Teacher name is {self.name}\"\n",
    "        \n",
    "teacher1: Teacher = Teacher(\"Sir Zia\")\n",
    "\n",
    "print(teacher1)"
   ]
  },
  {
   "cell_type": "markdown",
   "id": "88e5895b",
   "metadata": {},
   "source": [
    "## Abstract Class"
   ]
  },
  {
   "cell_type": "code",
   "execution_count": 35,
   "id": "e8f35ca7",
   "metadata": {},
   "outputs": [
    {
     "ename": "TypeError",
     "evalue": "Can't instantiate abstract class Animal without an implementation for abstract method '__init__'",
     "output_type": "error",
     "traceback": [
      "\u001b[31m---------------------------------------------------------------------------\u001b[39m",
      "\u001b[31mTypeError\u001b[39m                                 Traceback (most recent call last)",
      "\u001b[36mCell\u001b[39m\u001b[36m \u001b[39m\u001b[32mIn[35]\u001b[39m\u001b[32m, line 11\u001b[39m\n\u001b[32m      8\u001b[39m         \u001b[38;5;28msuper\u001b[39m().\u001b[34m__init__\u001b[39m()\n\u001b[32m      9\u001b[39m         \u001b[38;5;28mself\u001b[39m.livingThing: \u001b[38;5;28mbool\u001b[39m = \u001b[38;5;28;01mTrue\u001b[39;00m\n\u001b[32m---> \u001b[39m\u001b[32m11\u001b[39m isfahan: Animal = \u001b[43mAnimal\u001b[49m\u001b[43m(\u001b[49m\u001b[43m)\u001b[49m\n",
      "\u001b[31mTypeError\u001b[39m: Can't instantiate abstract class Animal without an implementation for abstract method '__init__'"
     ]
    }
   ],
   "source": [
    "from abc import ABC, abstractmethod\n",
    "\n",
    "from traitlets import Bool\n",
    "\n",
    "class Animal(ABC):\n",
    "    @abstractmethod\n",
    "    def __init__(self) -> None:\n",
    "        super().__init__()\n",
    "        self.livingThing: bool = True\n",
    "        \n",
    "isfahan: Animal = Animal()"
   ]
  },
  {
   "cell_type": "code",
   "execution_count": 36,
   "id": "8bb0b0fe",
   "metadata": {},
   "outputs": [
    {
     "ename": "TypeError",
     "evalue": "Can't instantiate abstract class Cat without an implementation for abstract method 'eat'",
     "output_type": "error",
     "traceback": [
      "\u001b[31m---------------------------------------------------------------------------\u001b[39m",
      "\u001b[31mTypeError\u001b[39m                                 Traceback (most recent call last)",
      "\u001b[36mCell\u001b[39m\u001b[36m \u001b[39m\u001b[32mIn[36]\u001b[39m\u001b[32m, line 17\u001b[39m\n\u001b[32m     14\u001b[39m     \u001b[38;5;28;01mdef\u001b[39;00m\u001b[38;5;250m \u001b[39m\u001b[34m__init__\u001b[39m(\u001b[38;5;28mself\u001b[39m):\n\u001b[32m     15\u001b[39m         \u001b[38;5;28msuper\u001b[39m().\u001b[34m__init__\u001b[39m()\n\u001b[32m---> \u001b[39m\u001b[32m17\u001b[39m isfahan: Cat = \u001b[43mCat\u001b[49m\u001b[43m(\u001b[49m\u001b[43m)\u001b[49m\n\u001b[32m     19\u001b[39m \u001b[38;5;28mprint\u001b[39m(isfahan.livingThing)\n",
      "\u001b[31mTypeError\u001b[39m: Can't instantiate abstract class Cat without an implementation for abstract method 'eat'"
     ]
    }
   ],
   "source": [
    "from abc import ABC, abstractmethod\n",
    "\n",
    "class Animal(ABC):\n",
    "    @abstractmethod\n",
    "    def __init__(self) -> None:\n",
    "        super().__init__()\n",
    "        self.livingThing: bool = True\n",
    "        \n",
    "    @abstractmethod\n",
    "    def eat(self, food: str):\n",
    "        ...\n",
    "        \n",
    "class Cat(Animal):\n",
    "    def __init__(self):\n",
    "        super().__init__()\n",
    "        \n",
    "isfahan: Cat = Cat()\n",
    "\n",
    "print(isfahan.livingThing)"
   ]
  },
  {
   "cell_type": "code",
   "execution_count": 39,
   "id": "89893e7e",
   "metadata": {},
   "outputs": [
    {
     "name": "stdout",
     "output_type": "stream",
     "text": [
      "True\n"
     ]
    }
   ],
   "source": [
    "from abc import ABC, abstractmethod\n",
    "\n",
    "class Animal(ABC):\n",
    "    @abstractmethod\n",
    "    def __init__(self) -> None:\n",
    "        super().__init__()\n",
    "        self.livingThing: bool = True\n",
    "        \n",
    "    @abstractmethod\n",
    "    def eat(self, food: str):\n",
    "        ...\n",
    "        \n",
    "class Cat(Animal):\n",
    "    def __init__(self) -> None:\n",
    "        super().__init__()    # parent\n",
    "        \n",
    "    def eat(self, food):\n",
    "        return f\"Cat is eating {food}\"\n",
    "        \n",
    "isfahan: Cat = Cat()\n",
    "\n",
    "print(isfahan.livingThing)"
   ]
  },
  {
   "cell_type": "code",
   "execution_count": 40,
   "id": "d9cd1019",
   "metadata": {},
   "outputs": [
    {
     "ename": "AttributeError",
     "evalue": "'Cat' object has no attribute 'livingThing'",
     "output_type": "error",
     "traceback": [
      "\u001b[31m---------------------------------------------------------------------------\u001b[39m",
      "\u001b[31mAttributeError\u001b[39m                            Traceback (most recent call last)",
      "\u001b[36mCell\u001b[39m\u001b[36m \u001b[39m\u001b[32mIn[40]\u001b[39m\u001b[32m, line 18\u001b[39m\n\u001b[32m     14\u001b[39m         \u001b[38;5;28;01mreturn\u001b[39;00m \u001b[33mf\u001b[39m\u001b[33m\"\u001b[39m\u001b[33mCat is eating \u001b[39m\u001b[38;5;132;01m{\u001b[39;00mfood\u001b[38;5;132;01m}\u001b[39;00m\u001b[33m\"\u001b[39m\n\u001b[32m     16\u001b[39m isfahan: Cat = Cat()\n\u001b[32m---> \u001b[39m\u001b[32m18\u001b[39m \u001b[38;5;28mprint\u001b[39m(\u001b[43misfahan\u001b[49m\u001b[43m.\u001b[49m\u001b[43mlivingThing\u001b[49m)\n",
      "\u001b[31mAttributeError\u001b[39m: 'Cat' object has no attribute 'livingThing'"
     ]
    }
   ],
   "source": [
    "from abc import ABC, abstractmethod\n",
    "\n",
    "class Animal(ABC):\n",
    "        \n",
    "    @abstractmethod\n",
    "    def eat(self, food: str):\n",
    "        ...\n",
    "        \n",
    "class Cat(Animal):\n",
    "    def __init__(self):\n",
    "        super().__init__()\n",
    "        \n",
    "    def eat(self, food):\n",
    "        return f\"Cat is eating {food}\"\n",
    "        \n",
    "isfahan: Cat = Cat()\n",
    "\n",
    "print(isfahan.livingThing)"
   ]
  },
  {
   "cell_type": "code",
   "execution_count": 41,
   "id": "24a70681",
   "metadata": {},
   "outputs": [
    {
     "name": "stdout",
     "output_type": "stream",
     "text": [
      "Cat is eating Mouse\n"
     ]
    }
   ],
   "source": [
    "print(isfahan.eat(\"Mouse\"))"
   ]
  },
  {
   "cell_type": "markdown",
   "id": "dd2198de",
   "metadata": {},
   "source": [
    "## Duck Typing\n",
    "https://ioflood.com/blog/duck-typing/"
   ]
  },
  {
   "cell_type": "code",
   "execution_count": 42,
   "id": "0076a7a7",
   "metadata": {},
   "outputs": [
    {
     "name": "stdout",
     "output_type": "stream",
     "text": [
      "Quack!\n",
      "I'm Quacking Like a Duck!\n"
     ]
    }
   ],
   "source": [
    "class Duck:\n",
    "    def quack(self)->str:\n",
    "        return 'Quack!'\n",
    "\n",
    "class Person:\n",
    "    def quack(self)->str:\n",
    "        return 'I\\'m Quacking Like a Duck!'\n",
    "\n",
    "def in_the_forest(malard):\n",
    "    print(malard.quack())\n",
    "\n",
    "donald : Duck = Duck()\n",
    "john : Person = Person()\n",
    "in_the_forest(donald)\n",
    "in_the_forest(john)\n",
    "\n",
    "# Output:\n",
    "# 'Quack!'\n",
    "# 'I'm Quacking Like a Duck!'"
   ]
  },
  {
   "cell_type": "code",
   "execution_count": null,
   "id": "1477d9b9",
   "metadata": {},
   "outputs": [],
   "source": [
    "class Duck:\n",
    "    def quack(self)->str:\n",
    "        return 'Quack!'\n",
    "\n",
    "class Person:\n",
    "    def quack(self)->str:\n",
    "        return 'I\\'m Quacking Like a Duck!'\n",
    "\n",
    "def in_the_forest(malard):\n",
    "    print(malard.quack())\n",
    "\n",
    "donald : Duck = Duck()\n",
    "john : Person = Person()\n",
    "in_the_forest(donald)\n",
    "in_the_forest(john)\n",
    "\n",
    "# Output:\n",
    "# 'Quack!'\n",
    "# 'I'm Quacking Like a Duck!'"
   ]
  },
  {
   "cell_type": "code",
   "execution_count": 43,
   "id": "2026c65c",
   "metadata": {},
   "outputs": [
    {
     "data": {
      "text/plain": [
       "['__class__',\n",
       " '__delattr__',\n",
       " '__dict__',\n",
       " '__dir__',\n",
       " '__doc__',\n",
       " '__eq__',\n",
       " '__format__',\n",
       " '__ge__',\n",
       " '__getattribute__',\n",
       " '__getstate__',\n",
       " '__gt__',\n",
       " '__hash__',\n",
       " '__init__',\n",
       " '__init_subclass__',\n",
       " '__le__',\n",
       " '__lt__',\n",
       " '__module__',\n",
       " '__ne__',\n",
       " '__new__',\n",
       " '__reduce__',\n",
       " '__reduce_ex__',\n",
       " '__repr__',\n",
       " '__setattr__',\n",
       " '__sizeof__',\n",
       " '__str__',\n",
       " '__subclasshook__',\n",
       " '__weakref__']"
      ]
     },
     "execution_count": 43,
     "metadata": {},
     "output_type": "execute_result"
    }
   ],
   "source": [
    "class XYZ:\n",
    "    pass\n",
    "\n",
    "dir(XYZ)"
   ]
  },
  {
   "cell_type": "code",
   "execution_count": null,
   "id": "5fec84cb",
   "metadata": {},
   "outputs": [],
   "source": []
  }
 ],
 "metadata": {
  "kernelspec": {
   "display_name": "python12",
   "language": "python",
   "name": "python3"
  },
  "language_info": {
   "codemirror_mode": {
    "name": "ipython",
    "version": 3
   },
   "file_extension": ".py",
   "mimetype": "text/x-python",
   "name": "python",
   "nbconvert_exporter": "python",
   "pygments_lexer": "ipython3",
   "version": "3.12.0"
  }
 },
 "nbformat": 4,
 "nbformat_minor": 5
}
