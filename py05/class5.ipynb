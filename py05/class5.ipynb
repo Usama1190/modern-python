{
 "cells": [
  {
   "cell_type": "markdown",
   "id": "ef1d93f5-0e47-4e9f-b766-5ea00e2c5b37",
   "metadata": {},
   "source": [
    "# List\n",
    "\n",
    "* iteration operation with loop\n",
    "* apply any operation on element"
   ]
  },
  {
   "cell_type": "code",
   "execution_count": 9,
   "id": "49ebdcde-4801-482c-9fe4-5eb26ca4927e",
   "metadata": {},
   "outputs": [
    {
     "name": "stdout",
     "output_type": "stream",
     "text": [
      "['Sir Zia', 'Muhammad Qasim', 'Usama']\n"
     ]
    }
   ],
   "source": [
    "names: list[str] = ['Sir Zia', 'Muhammad Qasim', 'Usama']\n",
    "\n",
    "print(names)"
   ]
  },
  {
   "cell_type": "code",
   "execution_count": 10,
   "id": "41c7cb9e-cdce-4e04-8b9b-1002a417a579",
   "metadata": {},
   "outputs": [
    {
     "name": "stdout",
     "output_type": "stream",
     "text": [
      "Sir Zia\n",
      "Muhammad Qasim\n",
      "Usama\n"
     ]
    }
   ],
   "source": [
    "names: list[str] = ['Sir Zia', 'Muhammad Qasim', 'Usama']\n",
    "\n",
    "for name in names:\n",
    "    print(name)\n",
    "\n",
    "# Sir Zia\n",
    "# Muhammad Qasim\n",
    "# Usama"
   ]
  },
  {
   "cell_type": "code",
   "execution_count": 11,
   "id": "002a2962-5d26-4a05-93bc-505de109108a",
   "metadata": {},
   "outputs": [
    {
     "ename": "SyntaxError",
     "evalue": "invalid syntax. Maybe you meant '==' or ':=' instead of '='? (1953723622.py, line 1)",
     "output_type": "error",
     "traceback": [
      "  \u001b[36mCell\u001b[39m\u001b[36m \u001b[39m\u001b[32mIn[11]\u001b[39m\u001b[32m, line 1\u001b[39m\n\u001b[31m    \u001b[39m\u001b[31mfor(i=0; i<names.length; i++){\u001b[39m\n        ^\n\u001b[31mSyntaxError\u001b[39m\u001b[31m:\u001b[39m invalid syntax. Maybe you meant '==' or ':=' instead of '='?\n"
     ]
    }
   ],
   "source": [
    "for(i=0; i<names.length; i++){\n",
    "    names[i]\n",
    "}"
   ]
  },
  {
   "cell_type": "code",
   "execution_count": 8,
   "id": "90494085-9b6b-4b39-a30b-6bdf024f37b9",
   "metadata": {},
   "outputs": [
    {
     "name": "stdout",
     "output_type": "stream",
     "text": [
      "Sir Zia\n",
      "Muhammad Qasim\n",
      "Usama\n"
     ]
    }
   ],
   "source": [
    "names: list[str] = ['Sir Zia', 'Muhammad Qasim', 'Usama']\n",
    "\n",
    "i: int = 0\n",
    "\n",
    "while i<len(names):\n",
    "    print(names[i])\n",
    "    i += 1"
   ]
  },
  {
   "cell_type": "code",
   "execution_count": 13,
   "id": "20e4862a-d18b-4885-a3d8-d53a5506d6e4",
   "metadata": {},
   "outputs": [
    {
     "name": "stdout",
     "output_type": "stream",
     "text": [
      "('qasim', '123')\n",
      "('sirzia', '345')\n",
      "('ikhlas', '789')\n"
     ]
    }
   ],
   "source": [
    "data_base: list[tuple[str, str]] = [('qasim', '123'), ('sirzia', '345'), ('ikhlas', '789')]\n",
    "\n",
    "for row in data_base:\n",
    "    print(row)"
   ]
  },
  {
   "cell_type": "code",
   "execution_count": 14,
   "id": "53959dfc-9893-4480-b0a2-2c297d2c3297",
   "metadata": {},
   "outputs": [
    {
     "name": "stdout",
     "output_type": "stream",
     "text": [
      "qasim 123\n",
      "sirzia 345\n",
      "ikhlas 789\n"
     ]
    }
   ],
   "source": [
    "data_base: list[tuple[str, str]] = [('qasim', '123'), ('sirzia', '345'), ('ikhlas', '789')]\n",
    "\n",
    "for row in data_base:\n",
    "    user, password = row\n",
    "    print(user, password)"
   ]
  },
  {
   "cell_type": "code",
   "execution_count": 16,
   "id": "e0d968ef-c4f1-4676-92ed-678a00173d94",
   "metadata": {},
   "outputs": [
    {
     "name": "stdin",
     "output_type": "stream",
     "text": [
      "Enter user name Usama\n"
     ]
    },
    {
     "name": "stdout",
     "output_type": "stream",
     "text": [
      "Usama\n",
      "qasim 123\n",
      "sirzia 345\n",
      "ikhlas 789\n"
     ]
    }
   ],
   "source": [
    "data_base: list[tuple[str, str]] = [('qasim', '123'), ('sirzia', '345'), ('ikhlas', '789')]\n",
    "\n",
    "user_input: str = input(\"Enter user name\")\n",
    "print(user_input)\n",
    "\n",
    "for row in data_base:\n",
    "    user, password = row\n",
    "    print(user, password)"
   ]
  },
  {
   "cell_type": "code",
   "execution_count": 19,
   "id": "61cd8bac-2a4a-45e4-9b6a-7a8fe333e753",
   "metadata": {},
   "outputs": [
    {
     "name": "stdin",
     "output_type": "stream",
     "text": [
      "Enter user name qasim\n",
      "Enter password 123\n"
     ]
    },
    {
     "name": "stdout",
     "output_type": "stream",
     "text": [
      "Valid user\n"
     ]
    }
   ],
   "source": [
    "data_base: list[tuple[str, str]] = [('qasim', '123'), ('sirzia', '345'), ('ikhlas', '789')]\n",
    "\n",
    "user_input: str = input(\"Enter user name\")\n",
    "password_input: str = input(\"Enter user password\")\n",
    "\n",
    "for row in data_base:\n",
    "    user, password = row\n",
    "    if user_input == user and password_input == password:\n",
    "        print(\"Valid user\")\n",
    "        break\n",
    "else:\n",
    "    print(\"User not found or invalid user\")"
   ]
  },
  {
   "cell_type": "markdown",
   "id": "89784a4d-c1a3-4d4b-9d14-c38a5fb1b74c",
   "metadata": {
    "jp-MarkdownHeadingCollapsed": true
   },
   "source": [
    "# Numbers with loop"
   ]
  },
  {
   "cell_type": "code",
   "execution_count": null,
   "id": "00c8e330-cdde-49ce-9f92-4da622421be3",
   "metadata": {},
   "outputs": [],
   "source": []
  }
 ],
 "metadata": {
  "kernelspec": {
   "display_name": "Python 3 (ipykernel)",
   "language": "python",
   "name": "python3"
  },
  "language_info": {
   "codemirror_mode": {
    "name": "ipython",
    "version": 3
   },
   "file_extension": ".py",
   "mimetype": "text/x-python",
   "name": "python",
   "nbconvert_exporter": "python",
   "pygments_lexer": "ipython3",
   "version": "3.12.0"
  }
 },
 "nbformat": 4,
 "nbformat_minor": 5
}
