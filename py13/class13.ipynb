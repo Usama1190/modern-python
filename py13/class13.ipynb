{
 "cells": [
  {
   "cell_type": "code",
   "execution_count": null,
   "id": "f6b1cd3f",
   "metadata": {},
   "outputs": [],
   "source": [
    "def obj1(): pass\n",
    "def obj2(): pass\n",
    "\n",
    "obj1_name: str = \"M.Qasim\"\n",
    "obj2_name: str = \"M.Usama\""
   ]
  },
  {
   "cell_type": "markdown",
   "id": "d98a5167",
   "metadata": {},
   "source": [
    "# OOP (Object Oriented Programming)\n",
    "\n",
    "* Class\n",
    "    * method\n",
    "        * first argument must be additional variable (self, this or anything alse)\n",
    "\n",
    "    * attribute\n",
    "        * connect with individual object\n",
    "\n",
    "    * class variables\n",
    "\n",
    "    * constructor\n",
    "        * def `__int__(self, arg1, arg2)`\n",
    "\n",
    "    * Class variable\n",
    "        * this value use for all objects\n",
    "            * `ClassName.class_variable`\n",
    "\n",
    "    class ClassName():\n",
    "        class_variable: type = value\n",
    "\n",
    "## Syntax of Class\n",
    "\n",
    "    class ClassName():\n",
    "        pass"
   ]
  },
  {
   "cell_type": "code",
   "execution_count": 1,
   "id": "758d3e59",
   "metadata": {},
   "outputs": [],
   "source": [
    "class Teacher():\n",
    "    def __init__(self, teacher_id: int, teacher_name: str) -> None:  # method / constructor\n",
    "        self.id: int = teacher_id         # self.attribute_name = value\n",
    "        self.name: str = teacher_name\n",
    "        self.organization: str = \"PIAIC\"\n",
    "        \n",
    "    def speak(self, words: str):        # method\n",
    "        print(f\"{self.name} is speaking {words}\")\n",
    "        \n",
    "    def teaching(self, subject: str):   # method\n",
    "        print(f\"{self.name} is teaching {subject}\")"
   ]
  }
 ],
 "metadata": {
  "kernelspec": {
   "display_name": "python12",
   "language": "python",
   "name": "python3"
  },
  "language_info": {
   "codemirror_mode": {
    "name": "ipython",
    "version": 3
   },
   "file_extension": ".py",
   "mimetype": "text/x-python",
   "name": "python",
   "nbconvert_exporter": "python",
   "pygments_lexer": "ipython3",
   "version": "3.12.0"
  }
 },
 "nbformat": 4,
 "nbformat_minor": 5
}
