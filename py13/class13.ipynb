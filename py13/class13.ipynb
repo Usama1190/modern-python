{
 "cells": [
  {
   "cell_type": "code",
   "execution_count": null,
   "id": "f6b1cd3f",
   "metadata": {},
   "outputs": [],
   "source": [
    "def obj1(): pass\n",
    "def obj2(): pass\n",
    "\n",
    "obj1_name: str = \"M.Qasim\"\n",
    "obj2_name: str = \"M.Usama\""
   ]
  },
  {
   "cell_type": "markdown",
   "id": "d98a5167",
   "metadata": {},
   "source": [
    "# OOP (Object Oriented Programming)\n",
    "\n",
    "* Class\n",
    "    * method\n",
    "        * first argument must be additional variable (self, this or anything alse)\n",
    "\n",
    "    * attribute\n",
    "        * connect with individual object\n",
    "\n",
    "    * class variables\n",
    "\n",
    "    * constructor\n",
    "        * def `__int__(self, arg1, arg2)`\n",
    "\n",
    "    * Class variable\n",
    "        * this value use for all objects\n",
    "            * `ClassName.class_variable`\n",
    "\n",
    "    class ClassName():\n",
    "        class_variable: type = value\n",
    "\n",
    "## Syntax of Class\n",
    "\n",
    "    class ClassName():\n",
    "        pass"
   ]
  },
  {
   "cell_type": "code",
   "execution_count": 2,
   "id": "758d3e59",
   "metadata": {},
   "outputs": [],
   "source": [
    "class Teacher():\n",
    "    def __init__(self, teacher_id: int, teacher_name: str) -> None:  # method / constructor\n",
    "        self.id: int = teacher_id         # self.attribute_name = value\n",
    "        self.name: str = teacher_name\n",
    "        self.organization: str = \"PIAIC\"\n",
    "        \n",
    "    def speak(self, words: str):        # method\n",
    "        print(f\"{self.name} is speaking {words}\")\n",
    "        \n",
    "    def teaching(self, subject: str):   # method\n",
    "        print(f\"{self.name} is teaching {subject}\")"
   ]
  },
  {
   "cell_type": "code",
   "execution_count": 7,
   "id": "e85230c5",
   "metadata": {},
   "outputs": [],
   "source": [
    "obj1: Teacher = Teacher(1, \"Sir Zia\")       # initialize object -> calling constructor __init__ method only this time\n",
    "\n",
    "# obj1 = object, teacher class instance\n",
    "\n",
    "obj2: Teacher = Teacher(2, \"M.Qasim\")"
   ]
  },
  {
   "cell_type": "code",
   "execution_count": 8,
   "id": "fd805528",
   "metadata": {},
   "outputs": [
    {
     "ename": "TypeError",
     "evalue": "Teacher.__init__() missing 1 required positional argument: 'teacher_name'",
     "output_type": "error",
     "traceback": [
      "\u001b[31m---------------------------------------------------------------------------\u001b[39m",
      "\u001b[31mTypeError\u001b[39m                                 Traceback (most recent call last)",
      "\u001b[36mCell\u001b[39m\u001b[36m \u001b[39m\u001b[32mIn[8]\u001b[39m\u001b[32m, line 1\u001b[39m\n\u001b[32m----> \u001b[39m\u001b[32m1\u001b[39m abc: Teacher = \u001b[43mTeacher\u001b[49m\u001b[43m(\u001b[49m\u001b[32;43m3\u001b[39;49m\u001b[43m)\u001b[49m\n",
      "\u001b[31mTypeError\u001b[39m: Teacher.__init__() missing 1 required positional argument: 'teacher_name'"
     ]
    }
   ],
   "source": [
    "abc: Teacher = Teacher(3)"
   ]
  },
  {
   "cell_type": "code",
   "execution_count": 9,
   "id": "dbda8ead",
   "metadata": {},
   "outputs": [
    {
     "name": "stdout",
     "output_type": "stream",
     "text": [
      "1\n",
      "Sir Zia\n",
      "PIAIC\n",
      "2\n",
      "M.Qasim\n",
      "PIAIC\n"
     ]
    }
   ],
   "source": [
    "print(obj1.id)\n",
    "print(obj1.name)\n",
    "print(obj1.organization)\n",
    "\n",
    "print(obj2.id)\n",
    "print(obj2.name)\n",
    "print(obj2.organization)"
   ]
  },
  {
   "cell_type": "code",
   "execution_count": 10,
   "id": "613de784",
   "metadata": {},
   "outputs": [
    {
     "name": "stdout",
     "output_type": "stream",
     "text": [
      "Sir Zia is teaching Generative AI\n"
     ]
    }
   ],
   "source": [
    "obj1.teaching(\"Generative AI\")"
   ]
  },
  {
   "cell_type": "code",
   "execution_count": 11,
   "id": "0865ba8b",
   "metadata": {},
   "outputs": [
    {
     "name": "stdout",
     "output_type": "stream",
     "text": [
      "M.Qasim is teaching Deep Learning\n"
     ]
    }
   ],
   "source": [
    "obj2.teaching(\"Deep Learning\")"
   ]
  },
  {
   "cell_type": "code",
   "execution_count": 12,
   "id": "4c6c0ddb",
   "metadata": {},
   "outputs": [
    {
     "data": {
      "text/plain": [
       "['__class__',\n",
       " '__delattr__',\n",
       " '__dict__',\n",
       " '__dir__',\n",
       " '__doc__',\n",
       " '__eq__',\n",
       " '__format__',\n",
       " '__ge__',\n",
       " '__getattribute__',\n",
       " '__getstate__',\n",
       " '__gt__',\n",
       " '__hash__',\n",
       " '__init__',\n",
       " '__init_subclass__',\n",
       " '__le__',\n",
       " '__lt__',\n",
       " '__module__',\n",
       " '__ne__',\n",
       " '__new__',\n",
       " '__reduce__',\n",
       " '__reduce_ex__',\n",
       " '__repr__',\n",
       " '__setattr__',\n",
       " '__sizeof__',\n",
       " '__str__',\n",
       " '__subclasshook__',\n",
       " '__weakref__',\n",
       " 'id',\n",
       " 'name',\n",
       " 'organization',\n",
       " 'speak',\n",
       " 'teaching']"
      ]
     },
     "execution_count": 12,
     "metadata": {},
     "output_type": "execute_result"
    }
   ],
   "source": [
    "dir(obj1)"
   ]
  },
  {
   "cell_type": "code",
   "execution_count": 13,
   "id": "31a71672",
   "metadata": {},
   "outputs": [],
   "source": [
    "class Teacher():\n",
    "    def __init__(self, teacher_id: int, teacher_name: str) -> None:  # method / constructor\n",
    "        self.id: int = teacher_id         # self.attribute_name = value\n",
    "        self.name: str = teacher_name\n",
    "        self.organization: str = \"PIAIC\"\n",
    "        \n",
    "    def speak(self, words: str):        # method\n",
    "        print(f\"{self.name} is speaking {words}\")\n",
    "        \n",
    "    def teaching(self, subject: str):   # method\n",
    "        print(f\"{self.name} is teaching {subject}\")\n",
    "        \n",
    "obj1: Teacher = Teacher(1, \"M.Osama\")\n",
    "obj2: Teacher = Teacher(2, \"M.Qasim\")"
   ]
  },
  {
   "cell_type": "markdown",
   "id": "c4bfa305",
   "metadata": {},
   "source": [
    "### Class Variable\n",
    "\n",
    "* class variable\n",
    "* this value is use for all objects\n",
    "    * `ClassName.class_variable`\n",
    "    * `ObjectName.object_variable`\n",
    "\n",
    "    ```\n",
    "    class ClassName():\n",
    "        class_variable: type = value\n",
    "    ```"
   ]
  },
  {
   "cell_type": "code",
   "execution_count": 15,
   "id": "809fcba1",
   "metadata": {},
   "outputs": [
    {
     "name": "stdout",
     "output_type": "stream",
     "text": [
      "1 1\n"
     ]
    }
   ],
   "source": [
    "class Teacher():\n",
    "    \n",
    "    counter: int = 0                          # class variable 1\n",
    "    help_line_numer: str = \"0315-2968211\"     # class variable 2\n",
    "    \n",
    "    \n",
    "    def __init__(self, teacher_id: int, teacher_name: str) -> None:  # method / constructor\n",
    "        self.id: int = teacher_id         # self.attribute_name = value\n",
    "        self.name: str = teacher_name\n",
    "        self.organization: str = \"PIAIC\"\n",
    "        Teacher.counter += 1\n",
    "        \n",
    "    def speak(self, words: str) -> None:        # method\n",
    "        print(f\"{self.name} is speaking {words}\")\n",
    "        \n",
    "    def teaching(self, subject: str) -> None:   # method\n",
    "        print(f\"{self.name} is teaching {subject}\")\n",
    "        \n",
    "    def details(self)-> None:\n",
    "        information: str = f\"\"\"\n",
    "        Teacher name is {self.name},\n",
    "        Our helpline number is {self.help_line_numer}\"\"\"\n",
    "        print(information)\n",
    "        \n",
    "obj1: Teacher = Teacher(1, \"M.Qasim\")\n",
    "\n",
    "print(Teacher.counter, obj1.counter)"
   ]
  },
  {
   "cell_type": "code",
   "execution_count": 16,
   "id": "99a1e4ee",
   "metadata": {},
   "outputs": [
    {
     "data": {
      "text/plain": [
       "1991736486768"
      ]
     },
     "execution_count": 16,
     "metadata": {},
     "output_type": "execute_result"
    }
   ],
   "source": [
    "id(obj1)"
   ]
  },
  {
   "cell_type": "code",
   "execution_count": 17,
   "id": "1d2e16db",
   "metadata": {},
   "outputs": [
    {
     "name": "stdout",
     "output_type": "stream",
     "text": [
      "2 2\n"
     ]
    }
   ],
   "source": [
    "obj2: Teacher = Teacher(1, \"M.Usama\")\n",
    "\n",
    "print(Teacher.counter, obj2.counter)"
   ]
  },
  {
   "cell_type": "code",
   "execution_count": 18,
   "id": "3650fd3d",
   "metadata": {},
   "outputs": [
    {
     "data": {
      "text/plain": [
       "1991737680064"
      ]
     },
     "execution_count": 18,
     "metadata": {},
     "output_type": "execute_result"
    }
   ],
   "source": [
    "id(obj2)"
   ]
  },
  {
   "cell_type": "code",
   "execution_count": 20,
   "id": "479c4b1f",
   "metadata": {},
   "outputs": [
    {
     "name": "stdout",
     "output_type": "stream",
     "text": [
      "2\n",
      "2\n",
      "2\n",
      "0315-2968211\n",
      "0315-2968211\n",
      "0315-2968211\n"
     ]
    }
   ],
   "source": [
    "print(obj1.counter)\n",
    "print(obj2.counter)\n",
    "print(Teacher.counter)\n",
    "\n",
    "print(obj1.help_line_numer)\n",
    "print(obj2.help_line_numer)\n",
    "print(Teacher.help_line_numer)"
   ]
  },
  {
   "cell_type": "code",
   "execution_count": 21,
   "id": "9ef08781",
   "metadata": {},
   "outputs": [
    {
     "name": "stdout",
     "output_type": "stream",
     "text": [
      "\n",
      "        Teacher name is M.Qasim,\n",
      "        Our helpline number is 0315-2968211\n"
     ]
    }
   ],
   "source": [
    "obj1.details()"
   ]
  },
  {
   "cell_type": "markdown",
   "id": "e201b0a3",
   "metadata": {},
   "source": [
    "### 1. Inheritance\n",
    "\n",
    "```\n",
    "class ChildClass(ParentClass):\n",
    "    pass\n",
    "```"
   ]
  },
  {
   "cell_type": "code",
   "execution_count": 28,
   "id": "c62423a7",
   "metadata": {},
   "outputs": [
    {
     "name": "stdout",
     "output_type": "stream",
     "text": [
      "black\n",
      "Brown\n",
      "Parent method speak: Pakistan Zindabad!\n",
      "You are looking TV\n",
      "=====Child Object=====\n",
      "black\n",
      "Brown\n",
      "Parent method speak: Hello World!\n",
      "You are looking Cenima\n"
     ]
    }
   ],
   "source": [
    "class Parents():\n",
    "    def __init__(self) -> None:\n",
    "        self.eye_color: str = \"black\"\n",
    "        self.hair_color: str = \"Brown\"\n",
    "        \n",
    "    def speak(self, words: str) -> None:\n",
    "        print(f\"Parent method speak: {words}\")\n",
    "    \n",
    "    def watching(self, object_name: str) -> None:\n",
    "        print(f\"You are looking {object_name}\")\n",
    "\n",
    "class Child(Parents):\n",
    "    pass\n",
    "    \n",
    "    \n",
    "obj1: Parents = Parents()\n",
    "\n",
    "print(obj1.eye_color)\n",
    "print(obj1.hair_color)\n",
    "\n",
    "obj1.speak(\"Pakistan Zindabad!\")\n",
    "obj1.watching(\"TV\")\n",
    "\n",
    "print(\"=====Child Object=====\")\n",
    "# Child Object\n",
    "\n",
    "obj2: Child = Child()\n",
    "\n",
    "print(obj2.eye_color)\n",
    "print(obj2.hair_color)\n",
    "\n",
    "obj2.speak(\"Hello World!\")\n",
    "obj2.watching(\"Cenima\")"
   ]
  },
  {
   "cell_type": "code",
   "execution_count": 29,
   "id": "ceb0fb07",
   "metadata": {},
   "outputs": [
    {
     "name": "stdout",
     "output_type": "stream",
     "text": [
      "black\n",
      "Brown\n",
      "Parent method speak: Pakistan Zindabad!\n",
      "You are looking TV\n",
      "=====Child Object=====\n",
      "black\n",
      "Brown\n",
      "Parent method speak: Hello World!\n",
      "You are looking Cenima\n",
      "Child method for teaching: Generative AI\n"
     ]
    }
   ],
   "source": [
    "class Parents():\n",
    "    def __init__(self) -> None:\n",
    "        self.eye_color: str = \"black\"\n",
    "        self.hair_color: str = \"Brown\"\n",
    "        \n",
    "    def speak(self, words: str) -> None:\n",
    "        print(f\"Parent method speak: {words}\")\n",
    "    \n",
    "    def watching(self, object_name: str) -> None:\n",
    "        print(f\"You are looking {object_name}\")\n",
    "\n",
    "class Child(Parents):\n",
    "    def teaching(self, object: None)-> None:\n",
    "        print(f\"Child method for teaching: {object}\")\n",
    "    \n",
    "    \n",
    "obj1: Parents = Parents()\n",
    "\n",
    "print(obj1.eye_color)\n",
    "print(obj1.hair_color)\n",
    "\n",
    "obj1.speak(\"Pakistan Zindabad!\")\n",
    "obj1.watching(\"TV\")\n",
    "\n",
    "print(\"=====Child Object=====\")\n",
    "# Child Object\n",
    "\n",
    "obj2: Child = Child()\n",
    "\n",
    "print(obj2.eye_color)\n",
    "print(obj2.hair_color)\n",
    "\n",
    "obj2.speak(\"Hello World!\")\n",
    "obj2.watching(\"Cenima\")\n",
    "obj2.teaching(\"Generative AI\")"
   ]
  },
  {
   "cell_type": "code",
   "execution_count": 30,
   "id": "6f79f631",
   "metadata": {},
   "outputs": [
    {
     "ename": "TypeError",
     "evalue": "Developer.__init__() takes 2 positional arguments but 3 were given",
     "output_type": "error",
     "traceback": [
      "\u001b[31m---------------------------------------------------------------------------\u001b[39m",
      "\u001b[31mTypeError\u001b[39m                                 Traceback (most recent call last)",
      "\u001b[36mCell\u001b[39m\u001b[36m \u001b[39m\u001b[32mIn[30]\u001b[39m\u001b[32m, line 22\u001b[39m\n\u001b[32m     18\u001b[39m         \u001b[38;5;28mself\u001b[39m.programming_skills: \u001b[38;5;28mlist\u001b[39m[\u001b[38;5;28mstr\u001b[39m] = [\u001b[33m\"\u001b[39m\u001b[33mpython\u001b[39m\u001b[33m\"\u001b[39m]\n\u001b[32m     20\u001b[39m designer1: Designer = Designer(\u001b[33m\"\u001b[39m\u001b[33mAnimated Artist\u001b[39m\u001b[33m\"\u001b[39m, \u001b[33m\"\u001b[39m\u001b[33mSuleman\u001b[39m\u001b[33m\"\u001b[39m)\n\u001b[32m---> \u001b[39m\u001b[32m22\u001b[39m dev1: Developer = \u001b[43mDeveloper\u001b[49m\u001b[43m(\u001b[49m\u001b[33;43m\"\u001b[39;49m\u001b[33;43mGenAI Engineer\u001b[39;49m\u001b[33;43m\"\u001b[39;49m\u001b[43m,\u001b[49m\u001b[43m \u001b[49m\u001b[33;43m\"\u001b[39;49m\u001b[33;43mOsama\u001b[39;49m\u001b[33;43m\"\u001b[39;49m\u001b[43m)\u001b[49m\n\u001b[32m     24\u001b[39m \u001b[38;5;28mprint\u001b[39m(designer1.title)\n\u001b[32m     26\u001b[39m \u001b[38;5;28mprint\u001b[39m(dev1.programming_skills)\n",
      "\u001b[31mTypeError\u001b[39m: Developer.__init__() takes 2 positional arguments but 3 were given"
     ]
    }
   ],
   "source": [
    "class Employee:\n",
    "    def __init__(self, name: str) -> None:\n",
    "        self.name: str = name\n",
    "        self.education: str = ''\n",
    "        self.department: str = ''\n",
    "\n",
    "        \n",
    "class Designer(Employee):\n",
    "    def __init__(self, title: str, name: str):\n",
    "        super().__init__(name)\n",
    "        self.title = title\n",
    "\n",
    "        \n",
    "class Developer(Employee):\n",
    "    def __init__(self, title: str):\n",
    "        super().__init__()\n",
    "        self.title = title\n",
    "        self.programming_skills: list[str] = [\"python\"]\n",
    "        \n",
    "designer1: Designer = Designer(\"Animated Artist\", \"Suleman\")\n",
    "\n",
    "dev1: Developer = Developer(\"GenAI Engineer\", \"Osama\")\n",
    "\n",
    "print(designer1.title)\n",
    "\n",
    "print(dev1.programming_skills)\n"
   ]
  },
  {
   "cell_type": "code",
   "execution_count": 31,
   "id": "7aed7c22",
   "metadata": {},
   "outputs": [
    {
     "name": "stdout",
     "output_type": "stream",
     "text": [
      "Animated Artist\n",
      "['python']\n"
     ]
    }
   ],
   "source": [
    "class Employee:\n",
    "    def __init__(self, name: str) -> None:\n",
    "        self.name: str = name\n",
    "        self.education: str = ''\n",
    "        self.department: str = ''\n",
    "\n",
    "        \n",
    "class Designer(Employee):\n",
    "    def __init__(self, title: str, name: str):\n",
    "        super().__init__(name)\n",
    "        self.title = title\n",
    "\n",
    "        \n",
    "class Developer(Employee):\n",
    "    def __init__(self, title: str, name:str):\n",
    "        super().__init__(name)\n",
    "        self.title = title\n",
    "        self.programming_skills: list[str] = [\"python\"]\n",
    "        \n",
    "designer1: Designer = Designer(\"Animated Artist\", \"Suleman\")\n",
    "\n",
    "dev1: Developer = Developer(\"GenAI Engineer\", \"Osama\")\n",
    "\n",
    "print(designer1.title)\n",
    "\n",
    "print(dev1.programming_skills)\n"
   ]
  },
  {
   "cell_type": "markdown",
   "id": "7da08395",
   "metadata": {},
   "source": [
    "### 1. Encapsulation\n",
    "\n",
    "Encapsulation: The bundling of data with the methods that operate on that data. It restricts direct access to some of an object's component and can prevent the accidental modification of data.\n",
    "\n",
    "### 2. Abstraction\n",
    "\n",
    "Abstraction: The concept of hiding the complex reality while exposing only the nessary parts. It helps to reduce programming complexity and efforts.\n",
    "\n",
    "### 3. Inheritance\n",
    "\n",
    "Inheritance: A mechanism where in a new class inherit properties and behavior (methods) from other class. This helps to create a new class based on an existing class.\n",
    "\n",
    "### 4. Polymorphism\n",
    "\n",
    "Polymorphism: The ability of different classes to respond to the same message (method call) in different ways. This allows for code to work with objects of various classes as if they were objects of a common superclass."
   ]
  },
  {
   "cell_type": "code",
   "execution_count": null,
   "id": "65193194",
   "metadata": {},
   "outputs": [],
   "source": []
  }
 ],
 "metadata": {
  "kernelspec": {
   "display_name": "python12",
   "language": "python",
   "name": "python3"
  },
  "language_info": {
   "codemirror_mode": {
    "name": "ipython",
    "version": 3
   },
   "file_extension": ".py",
   "mimetype": "text/x-python",
   "name": "python",
   "nbconvert_exporter": "python",
   "pygments_lexer": "ipython3",
   "version": "3.12.0"
  }
 },
 "nbformat": 4,
 "nbformat_minor": 5
}
