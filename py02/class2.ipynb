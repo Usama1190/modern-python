{
 "cells": [
  {
   "cell_type": "code",
   "execution_count": 16,
   "metadata": {},
   "outputs": [
    {
     "name": "stdout",
     "output_type": "stream",
     "text": [
      "name\n"
     ]
    }
   ],
   "source": [
    "print(\"name\")    # name print successfully"
   ]
  },
  {
   "cell_type": "code",
   "execution_count": 17,
   "metadata": {},
   "outputs": [
    {
     "name": "stdout",
     "output_type": "stream",
     "text": [
      "Usama Israr\n"
     ]
    }
   ],
   "source": [
    "print(name)      # error occurced here because name is undefined"
   ]
  },
  {
   "cell_type": "code",
   "execution_count": 18,
   "metadata": {},
   "outputs": [
    {
     "name": "stdout",
     "output_type": "stream",
     "text": [
      "name\n"
     ]
    }
   ],
   "source": [
    "name: str = 'usama'\n",
    "print('name')"
   ]
  },
  {
   "cell_type": "markdown",
   "metadata": {},
   "source": [
    "# String Data type in python"
   ]
  },
  {
   "cell_type": "code",
   "execution_count": null,
   "metadata": {},
   "outputs": [
    {
     "name": "stdout",
     "output_type": "stream",
     "text": [
      "<class 'str'>\n",
      "Usama Israr\n"
     ]
    }
   ],
   "source": [
    "# boundries\n",
    "# 'string text' , \"string text\" , '''string text''' , \"\"\"string text\"\"\"\n",
    "# `string text` type script yaha nahi chalta ye\n",
    "\n",
    "name: str = \"Usama Israr\"\n",
    "print(type(name))\n",
    "print(name)"
   ]
  },
  {
   "cell_type": "code",
   "execution_count": null,
   "metadata": {},
   "outputs": [
    {
     "ename": "SyntaxError",
     "evalue": "unterminated string literal (detected at line 1) (3443607492.py, line 1)",
     "output_type": "error",
     "traceback": [
      "\u001b[1;36m  Cell \u001b[1;32mIn[20], line 1\u001b[1;36m\u001b[0m\n\u001b[1;33m    message: str = 'PIAIC Student Card \\n father's Name'\u001b[0m\n\u001b[1;37m                                                       ^\u001b[0m\n\u001b[1;31mSyntaxError\u001b[0m\u001b[1;31m:\u001b[0m unterminated string literal (detected at line 1)\n"
     ]
    }
   ],
   "source": [
    "message: str = 'PIAIC Student Card \\n father's Name'\n",
    "print(message)"
   ]
  },
  {
   "cell_type": "code",
   "execution_count": null,
   "metadata": {},
   "outputs": [
    {
     "name": "stdout",
     "output_type": "stream",
     "text": [
      "PIAIC Student Card \n",
      " father's Name\n"
     ]
    }
   ],
   "source": [
    "message: str = \"PIAIC Student Card \\n father's Name\"\n",
    "print(message)"
   ]
  },
  {
   "cell_type": "code",
   "execution_count": null,
   "metadata": {},
   "outputs": [
    {
     "name": "stdout",
     "output_type": "stream",
     "text": [
      "PIAIC \"Student Card\" \n",
      " father Name\n"
     ]
    }
   ],
   "source": [
    "message: str = 'PIAIC \"Student Card\" \\n father Name'\n",
    "print(message)"
   ]
  },
  {
   "cell_type": "code",
   "execution_count": null,
   "metadata": {},
   "outputs": [
    {
     "name": "stdout",
     "output_type": "stream",
     "text": [
      "PIAIC Student Card \n",
      " father's Name\n"
     ]
    }
   ],
   "source": [
    "# convert any special character into simple character, place \\ before character\n",
    "message: str = 'PIAIC Student Card \\n father\\'s Name'\n",
    "print(message)"
   ]
  },
  {
   "cell_type": "code",
   "execution_count": null,
   "metadata": {},
   "outputs": [],
   "source": [
    "message: str = \"PIAIC Student Card \\n father's Name\""
   ]
  },
  {
   "cell_type": "code",
   "execution_count": null,
   "metadata": {},
   "outputs": [
    {
     "name": "stdout",
     "output_type": "stream",
     "text": [
      "<class 'str'>\n",
      "Usama Israr\n"
     ]
    }
   ],
   "source": [
    "# boundries\n",
    "# 'string text' , \"string text\" , '''string text''' , \"\"\"string text\"\"\"\n",
    "# `string text` type script yaha nahi chalta ye\n",
    "\n",
    "name: str = 'Usama Israr'\n",
    "print(type(name))\n",
    "print(name)"
   ]
  },
  {
   "cell_type": "markdown",
   "metadata": {},
   "source": [
    "## Concatenation"
   ]
  },
  {
   "cell_type": "code",
   "execution_count": null,
   "metadata": {},
   "outputs": [
    {
     "data": {
      "text/plain": [
       "'abc'"
      ]
     },
     "execution_count": 11,
     "metadata": {},
     "output_type": "execute_result"
    }
   ],
   "source": [
    "\"a\" + \"b\" + \"c\""
   ]
  },
  {
   "cell_type": "code",
   "execution_count": null,
   "metadata": {},
   "outputs": [
    {
     "ename": "TypeError",
     "evalue": "can only concatenate str (not \"int\") to str",
     "output_type": "error",
     "traceback": [
      "\u001b[31m---------------------------------------------------------------------------\u001b[39m",
      "\u001b[31mTypeError\u001b[39m                                 Traceback (most recent call last)",
      "\u001b[36mCell\u001b[39m\u001b[36m \u001b[39m\u001b[32mIn[13]\u001b[39m\u001b[32m, line 1\u001b[39m\n\u001b[32m----> \u001b[39m\u001b[32m1\u001b[39m \u001b[33;43m\"\u001b[39;49m\u001b[33;43ma\u001b[39;49m\u001b[33;43m\"\u001b[39;49m\u001b[43m \u001b[49m\u001b[43m+\u001b[49m\u001b[43m \u001b[49m\u001b[32;43m7\u001b[39;49m\n\u001b[32m      2\u001b[39m \u001b[33m\"\u001b[39m\u001b[33ma\u001b[39m\u001b[33m\"\u001b[39m + \u001b[33m\"\u001b[39m\u001b[33m7\u001b[39m\u001b[33m\"\u001b[39m\n\u001b[32m      3\u001b[39m \u001b[33m\"\u001b[39m\u001b[33ma\u001b[39m\u001b[33m\"\u001b[39m + \u001b[38;5;28mstr\u001b[39m(\u001b[32m7\u001b[39m)\n",
      "\u001b[31mTypeError\u001b[39m: can only concatenate str (not \"int\") to str"
     ]
    }
   ],
   "source": [
    "\"a\" + 7\n",
    "\"a\" + \"7\""
   ]
  },
  {
   "cell_type": "code",
   "execution_count": null,
   "metadata": {},
   "outputs": [],
   "source": [
    "\"a\" + str(7)"
   ]
  },
  {
   "cell_type": "code",
   "execution_count": null,
   "metadata": {},
   "outputs": [
    {
     "name": "stdout",
     "output_type": "stream",
     "text": [
      "PIAIC Student Card \n",
      "Student Name: Usama Israr\n",
      "Age: 23\n"
     ]
    }
   ],
   "source": [
    "# boundries\n",
    "# 'string text' , \"string text\" , '''string text''' , \"\"\"string text\"\"\"\n",
    "# `string text` type script yaha nahi chalta ye\n",
    "\n",
    "name: str = 'Usama Israr'\n",
    "fname: str = \"Muhammad Israr\"\n",
    "education: str = \"Master in Data Science\"\n",
    "age: int = 23\n",
    "\n",
    "card: str = \"PIAIC Student Card \\nStudent Name: \" + name + \"\\nAge: \" + str(age)\n",
    "\n",
    "print(card)"
   ]
  },
  {
   "cell_type": "code",
   "execution_count": null,
   "metadata": {},
   "outputs": [
    {
     "name": "stdout",
     "output_type": "stream",
     "text": [
      "17\n"
     ]
    }
   ],
   "source": [
    "print(7 + 8 + 2)"
   ]
  },
  {
   "cell_type": "markdown",
   "metadata": {},
   "source": [
    "## \"\\\\\" line continue"
   ]
  },
  {
   "cell_type": "code",
   "execution_count": null,
   "metadata": {},
   "outputs": [
    {
     "name": "stdout",
     "output_type": "stream",
     "text": [
      "17\n"
     ]
    }
   ],
   "source": [
    "print(7 + \\\n",
    "      8 + \\\n",
    "        2)"
   ]
  },
  {
   "cell_type": "code",
   "execution_count": null,
   "metadata": {},
   "outputs": [
    {
     "name": "stdout",
     "output_type": "stream",
     "text": [
      "PIAIC Student Card \n",
      "Student Name: Usama Israr\n",
      "Age: 23\n",
      "EducationMaster in Data Science\n"
     ]
    }
   ],
   "source": [
    "# boundries\n",
    "# 'string text' , \"string text\" , '''string text''' , \"\"\"string text\"\"\"\n",
    "# `string text` type script yaha nahi chalta ye\n",
    "\n",
    "name: str = 'Usama Israr'\n",
    "fname: str = \"Muhammad Israr\"\n",
    "education: str = \"Master in Data Science\"\n",
    "age: int = 23\n",
    "\n",
    "card: str = \"PIAIC Student Card \\nStudent Name: \" + name +\\\n",
    "      \"\\nAge: \" + str(age) + \"\\n\" + \\\n",
    "      \"Education \" + education\n",
    "\n",
    "print(card)"
   ]
  },
  {
   "cell_type": "markdown",
   "metadata": {},
   "source": [
    "## Define multiline string \"\"\"\"\"\", ''''''"
   ]
  },
  {
   "cell_type": "code",
   "execution_count": null,
   "metadata": {},
   "outputs": [
    {
     "name": "stdout",
     "output_type": "stream",
     "text": [
      "\n",
      "PIAIC Student Card\n",
      "Student Name: .....\n",
      "Father's Name: .....\n",
      "Age: .....\n",
      "Education: .....\n",
      "\n"
     ]
    }
   ],
   "source": [
    "name: str = 'Usama Israr'\n",
    "fname: str = \"Muhammad Israr\"\n",
    "education: str = \"Master in Data Science\"\n",
    "age: int = 23\n",
    "\n",
    "card: str = \"\"\"\n",
    "PIAIC Student Card\n",
    "Student Name: .....\n",
    "Father's Name: .....\n",
    "Age: .....\n",
    "Education: .....\n",
    "\"\"\"\n",
    "\n",
    "print(card)"
   ]
  },
  {
   "cell_type": "markdown",
   "metadata": {},
   "source": [
    "# F-string python\n",
    "### f-string double quotes"
   ]
  },
  {
   "cell_type": "code",
   "execution_count": null,
   "metadata": {},
   "outputs": [
    {
     "name": "stdout",
     "output_type": "stream",
     "text": [
      "\n",
      "PIAIC Student Card\n",
      "Student Name: Usama Israr\n",
      "Father's Name: Muhammad Israr\n",
      "Age: 23\n",
      "Education: Master in Data Science\n",
      "\n"
     ]
    }
   ],
   "source": [
    "name: str = 'Usama Israr'\n",
    "fname: str = \"Muhammad Israr\"\n",
    "education: str = \"Master in Data Science\"\n",
    "age: int = 23\n",
    "\n",
    "card: str = f\"\"\"\n",
    "PIAIC Student Card\n",
    "Student Name: {name}\n",
    "Father's Name: {fname}\n",
    "Age: {age}\n",
    "Education: {education}\n",
    "\"\"\"\n",
    "\n",
    "print(card)"
   ]
  },
  {
   "cell_type": "markdown",
   "metadata": {},
   "source": [
    "### f-string single quotes"
   ]
  },
  {
   "cell_type": "code",
   "execution_count": null,
   "metadata": {},
   "outputs": [
    {
     "name": "stdout",
     "output_type": "stream",
     "text": [
      "\n",
      "PIAIC Student Card\n",
      "Student Name: Usama Israr\n",
      "Father's Name: Muhammad Israr\n",
      "Age: 23\n",
      "Education: Master in Data Science\n",
      "\n"
     ]
    }
   ],
   "source": [
    "name: str = 'Usama Israr'\n",
    "fname: str = \"Muhammad Israr\"\n",
    "education: str = \"Master in Data Science\"\n",
    "age: int = 23\n",
    "\n",
    "card: str = f'''\n",
    "PIAIC Student Card\n",
    "Student Name: {name}\n",
    "Father's Name: {fname}\n",
    "Age: {age}\n",
    "Education: {education}\n",
    "'''\n",
    "\n",
    "print(card)"
   ]
  },
  {
   "cell_type": "markdown",
   "metadata": {},
   "source": [
    "### Back ticks are not compatible in python"
   ]
  },
  {
   "cell_type": "code",
   "execution_count": null,
   "metadata": {},
   "outputs": [
    {
     "ename": "SyntaxError",
     "evalue": "unterminated string literal (detected at line 9) (2413712598.py, line 9)",
     "output_type": "error",
     "traceback": [
      "  \u001b[36mCell\u001b[39m\u001b[36m \u001b[39m\u001b[32mIn[20]\u001b[39m\u001b[32m, line 9\u001b[39m\n\u001b[31m    \u001b[39m\u001b[31mFather's Name: {fname}\u001b[39m\n          ^\n\u001b[31mSyntaxError\u001b[39m\u001b[31m:\u001b[39m unterminated string literal (detected at line 9)\n"
     ]
    }
   ],
   "source": [
    "name: str = 'Usama Israr'\n",
    "fname: str = \"Muhammad Israr\"\n",
    "education: str = \"Master in Data Science\"\n",
    "age: int = 23\n",
    "\n",
    "card: str = `\n",
    "PIAIC Student Card\n",
    "Student Name: {name}\n",
    "Father's Name: {fname}\n",
    "Age: {age}\n",
    "Education: {education}\n",
    "`\n",
    "\n",
    "print(card)"
   ]
  },
  {
   "cell_type": "markdown",
   "metadata": {},
   "source": [
    "### Python expression in f-string"
   ]
  },
  {
   "cell_type": "code",
   "execution_count": null,
   "metadata": {},
   "outputs": [
    {
     "name": "stdout",
     "output_type": "stream",
     "text": [
      "\n",
      "PIAIC Student Card\n",
      "Student Name: Usama Israr\n",
      "Father's Name: Muhammad Israr\n",
      "Age: 23\n",
      "Education: Master in Data Science\n",
      "\n",
      "Total 22\n",
      "\n"
     ]
    }
   ],
   "source": [
    "name: str = 'Usama Israr'\n",
    "fname: str = \"Muhammad Israr\"\n",
    "education: str = \"Master in Data Science\"\n",
    "age: int = 23\n",
    "\n",
    "card: str = f'''\n",
    "PIAIC Student Card\n",
    "Student Name: {name}\n",
    "Father's Name: {fname}\n",
    "Age: {age}\n",
    "Education: {education}\n",
    "\n",
    "Total {2 + 8 + 9 + 3}\n",
    "'''\n",
    "\n",
    "print(card)"
   ]
  },
  {
   "cell_type": "markdown",
   "metadata": {},
   "source": [
    "## F-string and Jinja style"
   ]
  },
  {
   "cell_type": "markdown",
   "metadata": {},
   "source": [
    "### F-string"
   ]
  },
  {
   "cell_type": "code",
   "execution_count": null,
   "metadata": {},
   "outputs": [
    {
     "data": {
      "text/plain": [
       "'\\nstudent name Usama Israr\\n'"
      ]
     },
     "execution_count": 3,
     "metadata": {},
     "output_type": "execute_result"
    }
   ],
   "source": [
    "f\"\"\"\n",
    "student name {name}\n",
    "\"\"\""
   ]
  },
  {
   "cell_type": "markdown",
   "metadata": {},
   "source": [
    "### Jinja Style"
   ]
  },
  {
   "cell_type": "code",
   "execution_count": null,
   "metadata": {},
   "outputs": [],
   "source": [
    "# Jinja Style\n",
    "\"\"\"\n",
    "student name {{name}}\n",
    "\"\"\""
   ]
  },
  {
   "cell_type": "markdown",
   "metadata": {},
   "source": [
    "### Basic way like C or Java before f-string"
   ]
  },
  {
   "cell_type": "code",
   "execution_count": null,
   "metadata": {},
   "outputs": [
    {
     "name": "stdout",
     "output_type": "stream",
     "text": [
      "\n",
      "PIAIC Student Card\n",
      "Student Name: Usama Israr\n",
      "Father's Name: Muhammad Israr\n",
      "Age: 23\n",
      "Education: Master in Data Science\n",
      "\n"
     ]
    }
   ],
   "source": [
    "name: str = 'Usama Israr'\n",
    "fname: str = \"Muhammad Israr\"\n",
    "education: str = \"Master in Data Science\"\n",
    "age: int = 23\n",
    "\n",
    "card: str = f\"\"\"\n",
    "PIAIC Student Card\n",
    "Student Name: %s\n",
    "Father's Name: %s\n",
    "Age: %d\n",
    "Education: %s\n",
    "\"\"\" % (name, fname, age, education)\n",
    "\n",
    "print(card)"
   ]
  },
  {
   "cell_type": "code",
   "execution_count": null,
   "metadata": {},
   "outputs": [
    {
     "data": {
      "text/plain": [
       "['capitalize',\n",
       " 'casefold',\n",
       " 'center',\n",
       " 'count',\n",
       " 'encode',\n",
       " 'endswith',\n",
       " 'expandtabs',\n",
       " 'find',\n",
       " 'format',\n",
       " 'format_map',\n",
       " 'index',\n",
       " 'isalnum',\n",
       " 'isalpha',\n",
       " 'isascii',\n",
       " 'isdecimal',\n",
       " 'isdigit',\n",
       " 'isidentifier',\n",
       " 'islower',\n",
       " 'isnumeric',\n",
       " 'isprintable',\n",
       " 'isspace',\n",
       " 'istitle',\n",
       " 'isupper',\n",
       " 'join',\n",
       " 'ljust',\n",
       " 'lower',\n",
       " 'lstrip',\n",
       " 'maketrans',\n",
       " 'partition',\n",
       " 'removeprefix',\n",
       " 'removesuffix',\n",
       " 'replace',\n",
       " 'rfind',\n",
       " 'rindex',\n",
       " 'rjust',\n",
       " 'rpartition',\n",
       " 'rsplit',\n",
       " 'rstrip',\n",
       " 'split',\n",
       " 'splitlines',\n",
       " 'startswith',\n",
       " 'strip',\n",
       " 'swapcase',\n",
       " 'title',\n",
       " 'translate',\n",
       " 'upper',\n",
       " 'zfill']"
      ]
     },
     "execution_count": 5,
     "metadata": {},
     "output_type": "execute_result"
    }
   ],
   "source": [
    "dir(str)\n",
    "\n",
    "# list comprehensive\n",
    "\n",
    "[i for i in dir(str) if \"__\" not in i]"
   ]
  },
  {
   "cell_type": "markdown",
   "metadata": {},
   "source": [
    "### Dot format Method or F-string"
   ]
  },
  {
   "cell_type": "code",
   "execution_count": null,
   "metadata": {},
   "outputs": [
    {
     "data": {
      "text/plain": [
       "'pakistan value a = 7 and value b = 8'"
      ]
     },
     "execution_count": 8,
     "metadata": {},
     "output_type": "execute_result"
    }
   ],
   "source": [
    "a = 7\n",
    "b = 8\n",
    "\n",
    "# {} placeholder\n",
    "#                    0               1          0 1\n",
    "\"pakistan value a = {} and value b = {}\".format(a, b)"
   ]
  },
  {
   "cell_type": "code",
   "execution_count": null,
   "metadata": {},
   "outputs": [
    {
     "name": "stdout",
     "output_type": "stream",
     "text": [
      "Usama israr\n",
      "usama israr\n"
     ]
    }
   ],
   "source": [
    "name: str = \"uSamA iSrAr\"\n",
    "\n",
    "# Methods of string\n",
    "\n",
    "print(name.capitalize())\n",
    "print(name.lower())"
   ]
  },
  {
   "cell_type": "markdown",
   "metadata": {},
   "source": [
    "## Use Dot Format Method"
   ]
  },
  {
   "cell_type": "code",
   "execution_count": null,
   "metadata": {},
   "outputs": [
    {
     "name": "stdout",
     "output_type": "stream",
     "text": [
      "\n",
      "PIAIC Student Card\n",
      "Student Name: Muhammad Israr\n",
      "Father's Name: Usama Israr\n",
      "Age: 23\n",
      "Education: Master in Data Science\n",
      "\n"
     ]
    }
   ],
   "source": [
    "name: str = 'Usama Israr'\n",
    "fname: str = \"Muhammad Israr\"\n",
    "education: str = \"Master in Data Science\"\n",
    "age: int = 23\n",
    "\n",
    "card: str = \"\"\"\n",
    "PIAIC Student Card\n",
    "Student Name: {}\n",
    "Father's Name: {}\n",
    "Age: {}\n",
    "Education: {}\n",
    "\"\"\".format(fname, name, education, age)\n",
    "\n",
    "print(card)"
   ]
  },
  {
   "cell_type": "markdown",
   "metadata": {},
   "source": [
    "### Index number are matter"
   ]
  },
  {
   "cell_type": "markdown",
   "metadata": {},
   "source": [
    "#### Set position of index number"
   ]
  },
  {
   "cell_type": "code",
   "execution_count": 21,
   "metadata": {},
   "outputs": [
    {
     "name": "stdout",
     "output_type": "stream",
     "text": [
      "\n",
      "PIAIC Student Card\n",
      "Student Name: Usama Israr\n",
      "Father's Name: Muhammad Israr\n",
      "Age: 23\n",
      "Education: Master in Data Science\n",
      "\n"
     ]
    }
   ],
   "source": [
    "name: str = 'Usama Israr'\n",
    "fname: str = \"Muhammad Israr\"\n",
    "education: str = \"Master in Data Science\"\n",
    "age: int = 23\n",
    "\n",
    "card: str = \"\"\"\n",
    "PIAIC Student Card\n",
    "Student Name: {1}\n",
    "Father's Name: {0}\n",
    "Age: {3}\n",
    "Education: {2}\n",
    "\"\"\".format(fname, name, education, age)\n",
    "#           0      1       2        3\n",
    "\n",
    "print(card)"
   ]
  },
  {
   "cell_type": "markdown",
   "metadata": {},
   "source": [
    "#### For Lang chain\n",
    "Use this technique for create template of lang chain by useing f-string with .format, with placeholder"
   ]
  },
  {
   "cell_type": "code",
   "execution_count": null,
   "metadata": {},
   "outputs": [],
   "source": [
    "name: str = 'Usama Israr'\n",
    "fname: str = \"Muhammad Israr\"\n",
    "education: str = \"Master in Data Science\"\n",
    "age: int = 23\n",
    "\n",
    "card: str = \"\"\"\n",
    "PIAIC Student Card\n",
    "Student Name: {a}\n",
    "Father's Name: {b}\n",
    "Age: {c}\n",
    "Education: {d}\n",
    "\"\"\".format(a=name, b=fname, c=age, d=education)\n",
    "\n",
    "print(card)"
   ]
  },
  {
   "cell_type": "markdown",
   "metadata": {},
   "source": [
    "## Recommended below two f-string format"
   ]
  },
  {
   "cell_type": "code",
   "execution_count": null,
   "metadata": {},
   "outputs": [],
   "source": [
    "name: str = 'Usama Israr'\n",
    "fname: str = \"Muhammad Israr\"\n",
    "education: str = \"Master in Data Science\"\n",
    "age: int = 23\n",
    "\n",
    "card: str = f\"\"\"\n",
    "PIAIC Student Card\n",
    "Student Name: {name}\n",
    "Father's Name: {fname}\n",
    "Age: {age}\n",
    "Education: {education}\n",
    "\"\"\"\n",
    "\n",
    "print(card)"
   ]
  },
  {
   "cell_type": "code",
   "execution_count": null,
   "metadata": {},
   "outputs": [
    {
     "name": "stdout",
     "output_type": "stream",
     "text": [
      "My name is usama israr\n",
      "15\n"
     ]
    }
   ],
   "source": [
    "student_code: str = \"\"\" \n",
    "print('My name is usama israr')\n",
    "a: int = 7\n",
    "b: int = 8\n",
    "\n",
    "print(a + b)\n",
    "\n",
    "\"\"\"\n",
    "\n",
    "exec(student_code)"
   ]
  },
  {
   "cell_type": "markdown",
   "metadata": {},
   "source": [
    "## Explore String methods and attributes\n",
    "\n",
    "pre-define global function we have\n",
    "* print\n",
    "* type\n",
    "* id\n",
    "* dir\n",
    "* len"
   ]
  },
  {
   "cell_type": "code",
   "execution_count": 2,
   "metadata": {},
   "outputs": [
    {
     "name": "stdout",
     "output_type": "stream",
     "text": [
      "['capitalize', 'casefold', 'center', 'count', 'encode', 'endswith', 'expandtabs', 'find', 'format', 'format_map', 'index', 'isalnum', 'isalpha', 'isascii', 'isdecimal', 'isdigit', 'isidentifier', 'islower', 'isnumeric', 'isprintable', 'isspace', 'istitle', 'isupper', 'join', 'ljust', 'lower', 'lstrip', 'maketrans', 'partition', 'removeprefix', 'removesuffix', 'replace', 'rfind', 'rindex', 'rjust', 'rpartition', 'rsplit', 'rstrip', 'split', 'splitlines', 'startswith', 'strip', 'swapcase', 'title', 'translate', 'upper', 'zfill']\n",
      "47\n"
     ]
    }
   ],
   "source": [
    "a: list[str] = [i for i in dir(str) if \"__\" not in i]\n",
    "print(a)\n",
    "print(len(a))"
   ]
  },
  {
   "cell_type": "code",
   "execution_count": 5,
   "metadata": {},
   "outputs": [
    {
     "name": "stdout",
     "output_type": "stream",
     "text": [
      "Usama israr\n"
     ]
    }
   ],
   "source": [
    "name: str = \"Usama Israr\"\n",
    "\n",
    "# variable_name.method()\n",
    "print(name.capitalize())"
   ]
  },
  {
   "cell_type": "code",
   "execution_count": 7,
   "metadata": {},
   "outputs": [
    {
     "name": "stdout",
     "output_type": "stream",
     "text": [
      "Usama Israr\n",
      "usama israr\n"
     ]
    }
   ],
   "source": [
    "name: str = \"Usama Israr\"\n",
    "\n",
    "# variable_name.method()\n",
    "print(name)\n",
    "print(name.casefold())"
   ]
  },
  {
   "cell_type": "code",
   "execution_count": 8,
   "metadata": {},
   "outputs": [
    {
     "name": "stdout",
     "output_type": "stream",
     "text": [
      "Usama Israr\n",
      "usama israr\n"
     ]
    }
   ],
   "source": [
    "name: str = \"Usama Israr\"\n",
    "\n",
    "# variable_name.method()\n",
    "print(name)\n",
    "print(name.lower())"
   ]
  },
  {
   "cell_type": "code",
   "execution_count": 9,
   "metadata": {},
   "outputs": [
    {
     "data": {
      "text/plain": [
       "'     Usama Israr     '"
      ]
     },
     "metadata": {},
     "output_type": "display_data"
    },
    {
     "data": {
      "text/plain": [
       "'Usama Israr     '"
      ]
     },
     "metadata": {},
     "output_type": "display_data"
    }
   ],
   "source": [
    "name: str = \"     Usama Israr     \"\n",
    "\n",
    "# variable_name.method()\n",
    "display(name)\n",
    "display(name.lstrip())"
   ]
  },
  {
   "cell_type": "code",
   "execution_count": 10,
   "metadata": {},
   "outputs": [
    {
     "data": {
      "text/plain": [
       "'     Usama Israr     '"
      ]
     },
     "metadata": {},
     "output_type": "display_data"
    },
    {
     "data": {
      "text/plain": [
       "'     Usama Israr'"
      ]
     },
     "metadata": {},
     "output_type": "display_data"
    }
   ],
   "source": [
    "name: str = \"     Usama Israr     \"\n",
    "\n",
    "# variable_name.method()\n",
    "display(name)\n",
    "display(name.rstrip())"
   ]
  },
  {
   "cell_type": "code",
   "execution_count": null,
   "metadata": {},
   "outputs": [
    {
     "data": {
      "text/plain": [
       "'     Usama Israr     '"
      ]
     },
     "metadata": {},
     "output_type": "display_data"
    },
    {
     "data": {
      "text/plain": [
       "'Usama Israr'"
      ]
     },
     "metadata": {},
     "output_type": "display_data"
    }
   ],
   "source": [
    "name: str = \"     Usama      Israr     \"\n",
    "\n",
    "# variable_name.method()\n",
    "display(name)\n",
    "display(name.strip())"
   ]
  },
  {
   "cell_type": "markdown",
   "metadata": {},
   "source": [
    "#### Regex (powerfull technique)"
   ]
  },
  {
   "cell_type": "code",
   "execution_count": 16,
   "metadata": {},
   "outputs": [
    {
     "data": {
      "text/plain": [
       "'     Usama       Israr     '"
      ]
     },
     "metadata": {},
     "output_type": "display_data"
    },
    {
     "data": {
      "text/plain": [
       "'Usama Israr'"
      ]
     },
     "metadata": {},
     "output_type": "display_data"
    }
   ],
   "source": [
    "import re\n",
    "name: str = \"     Usama       Israr     \"\n",
    "\n",
    "display(name)\n",
    "\n",
    "name1: str = re.sub(' {2,100}', ' ', name).strip()\n",
    "display(name1)"
   ]
  },
  {
   "cell_type": "code",
   "execution_count": 17,
   "metadata": {},
   "outputs": [
    {
     "data": {
      "text/plain": [
       "'Usama Israr'"
      ]
     },
     "metadata": {},
     "output_type": "display_data"
    },
    {
     "data": {
      "text/plain": [
       "'Usama Israr'"
      ]
     },
     "metadata": {},
     "output_type": "display_data"
    }
   ],
   "source": [
    "name: str = \"Usama Israr\"\n",
    "\n",
    "# variable_name.method()\n",
    "display(name)\n",
    "display(name.title())"
   ]
  },
  {
   "cell_type": "code",
   "execution_count": 18,
   "metadata": {},
   "outputs": [
    {
     "name": "stdout",
     "output_type": "stream",
     "text": [
      "USAMA ISRAR\n",
      "usama israr\n"
     ]
    }
   ],
   "source": [
    "name: str = \"Usama Israr\"\n",
    "\n",
    "print(name.upper())\n",
    "print(name.lower())"
   ]
  },
  {
   "cell_type": "code",
   "execution_count": null,
   "metadata": {},
   "outputs": [],
   "source": [
    "\\n\n",
    "\\t\n",
    "\\b"
   ]
  },
  {
   "cell_type": "code",
   "execution_count": 19,
   "metadata": {},
   "outputs": [
    {
     "name": "stdout",
     "output_type": "stream",
     "text": [
      "Name:\t\t Usama Israr\n"
     ]
    }
   ],
   "source": [
    "print(\"Name:\\t\\t Usama Israr\")"
   ]
  },
  {
   "cell_type": "code",
   "execution_count": 21,
   "metadata": {},
   "outputs": [
    {
     "name": "stdout",
     "output_type": "stream",
     "text": [
      "Name:\n",
      "Usama Israr\n"
     ]
    }
   ],
   "source": [
    "print(\"Name:\\nUsama Israr\")"
   ]
  },
  {
   "cell_type": "markdown",
   "metadata": {},
   "source": [
    "#### Backspace"
   ]
  },
  {
   "cell_type": "code",
   "execution_count": 22,
   "metadata": {},
   "outputs": [
    {
     "name": "stdout",
     "output_type": "stream",
     "text": [
      "NameUsama Israr\n"
     ]
    }
   ],
   "source": [
    "print(\"Name:\\bUsama Israr\")"
   ]
  },
  {
   "cell_type": "code",
   "execution_count": null,
   "metadata": {},
   "outputs": [
    {
     "data": {
      "text/plain": [
       "'nostarch.com'"
      ]
     },
     "execution_count": 23,
     "metadata": {},
     "output_type": "execute_result"
    }
   ],
   "source": [
    "nostarch_url: str = \"https://nostarch.com\"\n",
    "nostarch_url.removeprefix(\"https://\")"
   ]
  },
  {
   "cell_type": "code",
   "execution_count": 24,
   "metadata": {},
   "outputs": [
    {
     "ename": "SyntaxError",
     "evalue": "invalid decimal literal (2069597177.py, line 1)",
     "output_type": "error",
     "traceback": [
      "  \u001b[36mCell\u001b[39m\u001b[36m \u001b[39m\u001b[32mIn[24]\u001b[39m\u001b[32m, line 1\u001b[39m\n\u001b[31m    \u001b[39m\u001b[31m1name: str = \"Usama\"\u001b[39m\n    ^\n\u001b[31mSyntaxError\u001b[39m\u001b[31m:\u001b[39m invalid decimal literal\n"
     ]
    }
   ],
   "source": [
    "1name: str = \"Usama\"\n",
    "print(1name)"
   ]
  },
  {
   "cell_type": "code",
   "execution_count": 26,
   "metadata": {},
   "outputs": [
    {
     "name": "stdout",
     "output_type": "stream",
     "text": [
      "Usama\n"
     ]
    }
   ],
   "source": [
    "_1name: str = \"Usama\"\n",
    "print(_1name)"
   ]
  },
  {
   "cell_type": "code",
   "execution_count": 25,
   "metadata": {},
   "outputs": [
    {
     "name": "stdout",
     "output_type": "stream",
     "text": [
      "Usama\n"
     ]
    }
   ],
   "source": [
    "name1: str = \"Usama\"\n",
    "print(name1)"
   ]
  },
  {
   "cell_type": "code",
   "execution_count": 27,
   "metadata": {},
   "outputs": [
    {
     "ename": "SyntaxError",
     "evalue": "invalid syntax (1763232237.py, line 1)",
     "output_type": "error",
     "traceback": [
      "  \u001b[36mCell\u001b[39m\u001b[36m \u001b[39m\u001b[32mIn[27]\u001b[39m\u001b[32m, line 1\u001b[39m\n\u001b[31m    \u001b[39m\u001b[31mpiaic student name: str = \"Usama Israr\"\u001b[39m\n          ^\n\u001b[31mSyntaxError\u001b[39m\u001b[31m:\u001b[39m invalid syntax\n"
     ]
    }
   ],
   "source": [
    "piaic student name: str = \"Usama Israr\"\n",
    "print(piaic student name)"
   ]
  },
  {
   "cell_type": "code",
   "execution_count": 28,
   "metadata": {},
   "outputs": [
    {
     "name": "stdout",
     "output_type": "stream",
     "text": [
      "Usama Israr\n"
     ]
    }
   ],
   "source": [
    "piaic_student_name: str = \"Usama Israr\"\n",
    "print(piaic_student_name)"
   ]
  }
 ],
 "metadata": {
  "kernelspec": {
   "display_name": "Python 3",
   "language": "python",
   "name": "python3"
  },
  "language_info": {
   "codemirror_mode": {
    "name": "ipython",
    "version": 3
   },
   "file_extension": ".py",
   "mimetype": "text/x-python",
   "name": "python",
   "nbconvert_exporter": "python",
   "pygments_lexer": "ipython3",
   "version": "3.13.2"
  }
 },
 "nbformat": 4,
 "nbformat_minor": 2
}
