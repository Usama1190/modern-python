{
 "cells": [
  {
   "cell_type": "code",
   "execution_count": 7,
   "metadata": {},
   "outputs": [],
   "source": [
    "name1: str = 'Usama'\n",
    "name2: str = 'Rehan'\n",
    "name3: str = 'Wasiq'"
   ]
  },
  {
   "cell_type": "markdown",
   "metadata": {},
   "source": [
    "## List\n",
    "dynamic length,\n",
    "hetrogenous data types (Multiple type)\n",
    "\n",
    "Index\n",
    "positive 0 to n-1,\n",
    "negative -1 to length\n",
    "\n",
    "slicing\n",
    "variable names[start:end:step]\n",
    "start : int = include\n",
    "end : int = n-1\n",
    "step : int = sequance"
   ]
  },
  {
   "cell_type": "code",
   "execution_count": 12,
   "metadata": {},
   "outputs": [
    {
     "name": "stdout",
     "output_type": "stream",
     "text": [
      "Usama\n",
      "Usama\n",
      "Aftab\n"
     ]
    }
   ],
   "source": [
    "# old way\n",
    "# ->       0         1         2\n",
    "names = ['Usama', 'Aftab', 'Qasim'] # length - 1\n",
    "# <-      -3        -2        -1\n",
    "\n",
    "print(names[0])   # Usama\n",
    "print(names[-3])  # Usama\n",
    "\n",
    "print(names[-2])"
   ]
  },
  {
   "cell_type": "code",
   "execution_count": 18,
   "metadata": {},
   "outputs": [
    {
     "name": "stdout",
     "output_type": "stream",
     "text": [
      "<class 'list'>\n",
      "<class 'str'>\n",
      "Founder of PIAIC QASIM\n"
     ]
    }
   ],
   "source": [
    "from typing import Any\n",
    "\n",
    "# ->       0         1         2\n",
    "names: list[Any] = ['Usama', 'Qasim', 'Zayyan']\n",
    "# <-       -3       -2        -1\n",
    "\n",
    "print(type(names))\n",
    "\n",
    "print(type(names[-2]))\n",
    "\n",
    "print(f'Founder of PIAIC {names[-2].upper()}')"
   ]
  },
  {
   "cell_type": "code",
   "execution_count": 1,
   "metadata": {},
   "outputs": [
    {
     "data": {
      "text/plain": [
       "'abcdef'"
      ]
     },
     "execution_count": 1,
     "metadata": {},
     "output_type": "execute_result"
    }
   ],
   "source": [
    "'abcdef'"
   ]
  },
  {
   "cell_type": "code",
   "execution_count": 3,
   "metadata": {},
   "outputs": [
    {
     "data": {
      "text/plain": [
       "['a', 'b', 'c', 'd', 'e', 'f']"
      ]
     },
     "execution_count": 3,
     "metadata": {},
     "output_type": "execute_result"
    }
   ],
   "source": [
    "list('abcdef')"
   ]
  },
  {
   "cell_type": "code",
   "execution_count": 4,
   "metadata": {},
   "outputs": [
    {
     "name": "stdout",
     "output_type": "stream",
     "text": [
      "['A', 'B', 'C', 'D', 'E', 'F', 'G', 'H', 'I', 'J', 'K', 'L', 'M', 'N', 'O', 'P', 'Q', 'R', 'S', 'T', 'U', 'V', 'W', 'X', 'Y', 'Z']\n"
     ]
    }
   ],
   "source": [
    "characters: list[str] = list(\"ABCDEFGHIJKLMNOPQRSTUVWXYZ\")\n",
    "\n",
    "print(characters)"
   ]
  },
  {
   "cell_type": "code",
   "execution_count": null,
   "metadata": {},
   "outputs": [
    {
     "name": "stdout",
     "output_type": "stream",
     "text": [
      "['A', 'B']\n",
      "['A', 'B']\n",
      "['A', 'B']\n",
      "['A', 'B']\n",
      "['A', 'B']\n"
     ]
    }
   ],
   "source": [
    "#                          0    1    2                                                                                                                 25\n",
    "characters: list[str] = ['A', 'B', 'C', 'D', 'E', 'F', 'G', 'H', 'I', 'J', 'K', 'L', 'M', 'N', 'O', 'P', 'Q', 'R', 'S', 'T', 'U', 'V', 'W', 'X', 'Y', 'Z']\n",
    "#                         -26   -25  -24                                                                                                               -1\n",
    "\n",
    "# defualt slicing go from left to right\n",
    "\n",
    "print(characters[0:2])  # 0= include : index 2-1 = 1\n",
    "print(characters[:2])  # not pass any number = all\n",
    "print(characters[-26:-24])  # 0= include : index -24-1 = -25\n",
    "print(characters[0:2:1])  # 0= include : index 2-1 = 1\n",
    "print(characters[0:2:])  # 0= include : index 2-1 = 1\n"
   ]
  },
  {
   "cell_type": "code",
   "execution_count": 6,
   "metadata": {},
   "outputs": [
    {
     "name": "stdout",
     "output_type": "stream",
     "text": [
      "['A', 'B', 'C', 'D', 'E', 'F', 'G', 'H', 'I', 'J', 'K', 'L', 'M', 'N', 'O', 'P', 'Q', 'R', 'S', 'T', 'U', 'V', 'W', 'X', 'Y', 'X']\n"
     ]
    }
   ],
   "source": [
    "characters : list[str] = ['A', 'B', 'C', 'D', 'E', 'F', 'G', 'H', 'I', 'J', 'K', 'L', 'M', 'N', 'O', 'P', 'Q', 'R', 'S', 'T', 'U', 'V', 'W', 'X', 'Y', 'X']\n",
    "\n",
    "print(characters[::])"
   ]
  },
  {
   "cell_type": "code",
   "execution_count": 7,
   "metadata": {},
   "outputs": [
    {
     "name": "stdout",
     "output_type": "stream",
     "text": [
      "['A', 'C', 'E', 'G', 'I', 'K', 'M', 'O', 'Q', 'S', 'U', 'W', 'Y']\n"
     ]
    }
   ],
   "source": [
    "characters : list[str] = ['A', 'B', 'C', 'D', 'E', 'F', 'G', 'H', 'I', 'J', 'K', 'L', 'M', 'N', 'O', 'P', 'Q', 'R', 'S', 'T', 'U', 'V', 'W', 'X', 'Y', 'X']\n",
    "\n",
    "print(characters[::2])"
   ]
  },
  {
   "cell_type": "code",
   "execution_count": 8,
   "metadata": {},
   "outputs": [
    {
     "name": "stdout",
     "output_type": "stream",
     "text": [
      "['B', 'C', 'D', 'E']\n"
     ]
    }
   ],
   "source": [
    "#                          0    1    2    3    4   5     6    7\n",
    "characters : list[str] = ['A', 'B', 'C', 'D', 'E', 'F', 'G', 'H']\n",
    "#                         -8    -7   -6  -5    -4   -3   -2   -1\n",
    "\n",
    "print(characters[1:-3]) # 'B', 'C', 'D', 'E'"
   ]
  },
  {
   "cell_type": "code",
   "execution_count": 9,
   "metadata": {},
   "outputs": [
    {
     "name": "stdout",
     "output_type": "stream",
     "text": [
      "[]\n"
     ]
    }
   ],
   "source": [
    "#                          0    1    2    3    4   5     6    7\n",
    "characters : list[str] = ['A', 'B', 'C', 'D', 'E', 'F', 'G', 'H']\n",
    "#                         -8    -7   -6  -5    -4   -3   -2   -1\n",
    "\n",
    "# iteration slicing ->\n",
    "# step -> positive\n",
    "# step <- negative\n",
    "print(characters[-2:-5]) \n"
   ]
  },
  {
   "cell_type": "code",
   "execution_count": null,
   "metadata": {},
   "outputs": [],
   "source": [
    "#                          0    1    2    3    4   5     6    7\n",
    "characters : list[str] = ['A', 'B', 'C', 'D', 'E', 'F', 'G', 'H']\n",
    "#                         -8    -7   -6  -5    -4   -3   -2   -1\n",
    "\n",
    "# iteration slicing ->\n",
    "# step -> positive\n",
    "# step <- negative\n",
    "print(characters[-2:-5:-1]) "
   ]
  },
  {
   "cell_type": "code",
   "execution_count": 10,
   "metadata": {},
   "outputs": [
    {
     "name": "stdout",
     "output_type": "stream",
     "text": [
      "['Z', 'Y', 'X', 'W', 'V', 'U', 'T', 'S', 'R', 'Q', 'P', 'O', 'N', 'M', 'L', 'K', 'J', 'I', 'H', 'G', 'F', 'E', 'D', 'C', 'B', 'A']\n"
     ]
    }
   ],
   "source": [
    "characters : list[str] = ['A', 'B', 'C', 'D', 'E', 'F', 'G', 'H', 'I', 'J', 'K', 'L', 'M', 'N', 'O', 'P', 'Q', 'R', 'S', 'T', 'U', 'V', 'W', 'X', 'Y', 'Z']\n",
    "\n",
    "print(characters[::-1]) # <-\n"
   ]
  },
  {
   "cell_type": "code",
   "execution_count": 12,
   "metadata": {},
   "outputs": [
    {
     "name": "stdout",
     "output_type": "stream",
     "text": [
      "['A', 'B', 'C', 'D', 'E', 'F', 'G', 'H', 'I', 'J', 'K', 'L', 'M', 'N', 'O', 'P', 'Q', 'R', 'S', 'T', 'U', 'V', 'W', 'X', 'Y', 'Z']\n",
      "['A', 'C', 'E', 'G', 'I', 'K', 'M', 'O', 'Q', 'S', 'U', 'W', 'Y']\n",
      "['Z', 'Y', 'X', 'W', 'V', 'U', 'T', 'S', 'R', 'Q', 'P', 'O', 'N', 'M', 'L', 'K', 'J', 'I', 'H', 'G', 'F', 'E', 'D', 'C', 'B', 'A']\n"
     ]
    }
   ],
   "source": [
    "characters: list[str] = ['A', 'B', 'C', 'D', 'E', 'F', 'G', 'H', 'I', 'J', 'K', 'L', 'M', 'N', 'O', 'P', 'Q', 'R', 'S', 'T', 'U', 'V', 'W', 'X', 'Y', 'Z']\n",
    "\n",
    "print(characters[ : : ])\n",
    "\n",
    "print(characters[ : : 2])\n",
    "\n",
    "print(characters[ : : -1])"
   ]
  },
  {
   "cell_type": "code",
   "execution_count": 13,
   "metadata": {},
   "outputs": [
    {
     "name": "stdout",
     "output_type": "stream",
     "text": [
      "['B', 'C', 'D', 'E']\n"
     ]
    }
   ],
   "source": [
    "characters: list[str] = ['A', 'B', 'C', 'D', 'E', 'F', 'G', 'H']\n",
    "\n",
    "print(characters[1: -3])"
   ]
  },
  {
   "cell_type": "markdown",
   "metadata": {},
   "source": [
    "## List methods"
   ]
  },
  {
   "cell_type": "code",
   "execution_count": 11,
   "metadata": {},
   "outputs": [
    {
     "data": {
      "text/plain": [
       "['append',\n",
       " 'clear',\n",
       " 'copy',\n",
       " 'count',\n",
       " 'extend',\n",
       " 'index',\n",
       " 'insert',\n",
       " 'pop',\n",
       " 'remove',\n",
       " 'reverse',\n",
       " 'sort']"
      ]
     },
     "execution_count": 11,
     "metadata": {},
     "output_type": "execute_result"
    }
   ],
   "source": [
    "[i for i in dir(list) if \"__\" not in i]"
   ]
  },
  {
   "cell_type": "code",
   "execution_count": 12,
   "metadata": {},
   "outputs": [
    {
     "name": "stdout",
     "output_type": "stream",
     "text": [
      "[1, 2, 3]\n"
     ]
    }
   ],
   "source": [
    "a: list[str] = [1,2,3]\n",
    "print(a)"
   ]
  },
  {
   "cell_type": "code",
   "execution_count": 13,
   "metadata": {},
   "outputs": [
    {
     "ename": "NameError",
     "evalue": "name 'a' is not defined",
     "output_type": "error",
     "traceback": [
      "\u001b[31m---------------------------------------------------------------------------\u001b[39m",
      "\u001b[31mNameError\u001b[39m                                 Traceback (most recent call last)",
      "\u001b[36mCell\u001b[39m\u001b[36m \u001b[39m\u001b[32mIn[13]\u001b[39m\u001b[32m, line 3\u001b[39m\n\u001b[32m      1\u001b[39m a: \u001b[38;5;28mlist\u001b[39m[\u001b[38;5;28mstr\u001b[39m] = [\u001b[32m1\u001b[39m,\u001b[32m2\u001b[39m,\u001b[32m3\u001b[39m]\n\u001b[32m      2\u001b[39m \u001b[38;5;28;01mdel\u001b[39;00m a \u001b[38;5;66;03m# remove object from memory\u001b[39;00m\n\u001b[32m----> \u001b[39m\u001b[32m3\u001b[39m \u001b[38;5;28mprint\u001b[39m(\u001b[43ma\u001b[49m)\n",
      "\u001b[31mNameError\u001b[39m: name 'a' is not defined"
     ]
    }
   ],
   "source": [
    "a: list[str] = [1,2,3]\n",
    "del a # remove object from memory\n",
    "print(a)"
   ]
  },
  {
   "cell_type": "code",
   "execution_count": 14,
   "metadata": {},
   "outputs": [
    {
     "name": "stdout",
     "output_type": "stream",
     "text": [
      "[]\n"
     ]
    }
   ],
   "source": [
    "a: list[str] = [1,2,3]\n",
    "a.clear()# remove all element but object is ramin\n",
    "print(a)"
   ]
  },
  {
   "cell_type": "markdown",
   "metadata": {},
   "source": [
    "## Help\n",
    "\n",
    "help(object)  ||  object?  ||  object??  ||  ?object  ||  ??object"
   ]
  },
  {
   "cell_type": "code",
   "execution_count": 14,
   "metadata": {},
   "outputs": [
    {
     "name": "stdout",
     "output_type": "stream",
     "text": [
      "Help on built-in function print in module builtins:\n",
      "\n",
      "print(*args, sep=' ', end='\\n', file=None, flush=False)\n",
      "    Prints the values to a stream, or to sys.stdout by default.\n",
      "\n",
      "    sep\n",
      "      string inserted between values, default a space.\n",
      "    end\n",
      "      string appended after the last value, default a newline.\n",
      "    file\n",
      "      a file-like object (stream); defaults to the current sys.stdout.\n",
      "    flush\n",
      "      whether to forcibly flush the stream.\n",
      "\n"
     ]
    }
   ],
   "source": [
    "# Help\n",
    "\n",
    "help(print)"
   ]
  },
  {
   "cell_type": "code",
   "execution_count": 16,
   "metadata": {},
   "outputs": [
    {
     "name": "stdout",
     "output_type": "stream",
     "text": [
      "\u001b[31mSignature:\u001b[39m print(*args, sep=\u001b[33m' '\u001b[39m, end=\u001b[33m'\\n'\u001b[39m, file=\u001b[38;5;28;01mNone\u001b[39;00m, flush=\u001b[38;5;28;01mFalse\u001b[39;00m)\n",
      "\u001b[31mDocstring:\u001b[39m\n",
      "Prints the values to a stream, or to sys.stdout by default.\n",
      "\n",
      "sep\n",
      "  string inserted between values, default a space.\n",
      "end\n",
      "  string appended after the last value, default a newline.\n",
      "file\n",
      "  a file-like object (stream); defaults to the current sys.stdout.\n",
      "flush\n",
      "  whether to forcibly flush the stream.\n",
      "\u001b[31mType:\u001b[39m      builtin_function_or_method"
     ]
    }
   ],
   "source": [
    "?print"
   ]
  },
  {
   "cell_type": "code",
   "execution_count": 19,
   "metadata": {},
   "outputs": [
    {
     "name": "stdout",
     "output_type": "stream",
     "text": [
      "['Qasim', 'Sir Zia', 'Sir Inam', 20, True]\n",
      "['Muhammad Qasim', 'Sir Zia', 'Sir Inam', 20, True]\n"
     ]
    }
   ],
   "source": [
    "# ->                    0        1         2\n",
    "names : list[Any] = [\"Qasim\",\"Sir Zia\", \"Sir Inam\", 20, True]\n",
    "# <-                    -3     -2          -1\n",
    "\n",
    "print(names)\n",
    "\n",
    "names[0] = \"Muhammad Qasim\" # mutable -> editable\n",
    "\n",
    "print(names)"
   ]
  },
  {
   "cell_type": "code",
   "execution_count": 20,
   "metadata": {},
   "outputs": [
    {
     "name": "stdout",
     "output_type": "stream",
     "text": [
      "['Qasim', 'Sir Zia', 'Sir Inam', 20, True]\n",
      "['Qasim', 'Sir Zia', 'Sir Inam', True]\n"
     ]
    }
   ],
   "source": [
    "# ->                    0        1         2\n",
    "names : list[Any] = [\"Qasim\",\"Sir Zia\", \"Sir Inam\", 20, True]\n",
    "# <-                    -3     -2          -1\n",
    "\n",
    "print(names)\n",
    "\n",
    "del names[3] # delete 3 index element\n",
    "\n",
    "print(names)\n"
   ]
  },
  {
   "cell_type": "code",
   "execution_count": 21,
   "metadata": {},
   "outputs": [
    {
     "name": "stdout",
     "output_type": "stream",
     "text": [
      "Pakistan\n"
     ]
    },
    {
     "data": {
      "text/plain": [
       "None"
      ]
     },
     "metadata": {},
     "output_type": "display_data"
    }
   ],
   "source": [
    "a : str = print(\"Pakistan\") # none-return function\n",
    "display(a)"
   ]
  },
  {
   "cell_type": "code",
   "execution_count": 22,
   "metadata": {},
   "outputs": [
    {
     "data": {
      "text/plain": [
       "1794770611328"
      ]
     },
     "metadata": {},
     "output_type": "display_data"
    }
   ],
   "source": [
    "a : str = id(names) # return function\n",
    "display(a)\n"
   ]
  },
  {
   "cell_type": "code",
   "execution_count": 23,
   "metadata": {},
   "outputs": [
    {
     "data": {
      "text/plain": [
       "['Qasim', 'Sir Zia', 'Sir Inam', True]"
      ]
     },
     "execution_count": 23,
     "metadata": {},
     "output_type": "execute_result"
    }
   ],
   "source": [
    "# ->                    0        1         2\n",
    "names : list[Any] = [\"Qasim\",\"Sir Zia\", \"Sir Inam\", 20, True]\n",
    "# <-                    -3     -2          -1\n",
    "\n",
    "del names[3]\n",
    "names"
   ]
  },
  {
   "cell_type": "markdown",
   "metadata": {},
   "source": [
    "## pop method"
   ]
  },
  {
   "cell_type": "code",
   "execution_count": 24,
   "metadata": {},
   "outputs": [
    {
     "name": "stdout",
     "output_type": "stream",
     "text": [
      "['Qasim', 'Sir Zia', 'Sir Inam', 20, True]\n",
      "True\n"
     ]
    }
   ],
   "source": [
    "# ->                    0        1         2\n",
    "names : list[Any] = [\"Qasim\",\"Sir Zia\", \"Sir Inam\", 20, True]\n",
    "# <-\n",
    "print(names)\n",
    "a : str = names.pop() # pop return method\n",
    "\n",
    "print(a)"
   ]
  },
  {
   "cell_type": "code",
   "execution_count": 25,
   "metadata": {},
   "outputs": [
    {
     "name": "stdout",
     "output_type": "stream",
     "text": [
      "['Qasim', 'Sir Zia', 'Sir Inam', 20, True]\n",
      "Qasim\n",
      "['Sir Zia', 'Sir Inam', 20, True]\n"
     ]
    }
   ],
   "source": [
    "# ->                    0        1         2\n",
    "names : list[Any] = [\"Qasim\",\"Sir Zia\", \"Sir Inam\", 20, True]\n",
    "# <-\n",
    "print(names)\n",
    "a : str = names.pop(0) # pop return method\n",
    "\n",
    "print(a)\n",
    "print(names)\n"
   ]
  },
  {
   "cell_type": "markdown",
   "metadata": {},
   "source": [
    "### append method add element in last"
   ]
  },
  {
   "cell_type": "code",
   "execution_count": 26,
   "metadata": {},
   "outputs": [
    {
     "name": "stdout",
     "output_type": "stream",
     "text": [
      "['a', 'b', 'Sir Zia', 'Sir Inam', 'Qasim']\n"
     ]
    }
   ],
   "source": [
    "names : list[str] = ['a','b']\n",
    "\n",
    "names.append(\"Sir Zia\")# add element in last\n",
    "names.append(\"Sir Inam\") # add element in last\n",
    "names.append(\"Qasim\")# add element in last\n",
    "\n",
    "print(names)"
   ]
  },
  {
   "cell_type": "code",
   "execution_count": 27,
   "metadata": {},
   "outputs": [
    {
     "name": "stdout",
     "output_type": "stream",
     "text": [
      "['a', 'b', 'c', 'd']\n",
      "['a', 'Qasim', 'b', 'c', 'd']\n"
     ]
    }
   ],
   "source": [
    "names : list[str] = ['a','b','c','d']\n",
    "\n",
    "print(names)\n",
    "\n",
    "names.insert(1, \"Qasim\") # insert on perticular postion\n",
    "\n",
    "print(names)"
   ]
  },
  {
   "cell_type": "code",
   "execution_count": 28,
   "metadata": {},
   "outputs": [
    {
     "name": "stdout",
     "output_type": "stream",
     "text": [
      "Pakistan zinda bad\n",
      "None\n"
     ]
    }
   ],
   "source": [
    "print(print(\"Pakistan zinda bad\"))"
   ]
  },
  {
   "cell_type": "code",
   "execution_count": 29,
   "metadata": {},
   "outputs": [
    {
     "name": "stdout",
     "output_type": "stream",
     "text": [
      "['a', 'b', 'c']\n",
      "['a', 'b', 'c']\n"
     ]
    }
   ],
   "source": [
    "a : list[str] = ['a','b','c']\n",
    "b = a\n",
    "\n",
    "print(a)\n",
    "print(b)"
   ]
  },
  {
   "cell_type": "code",
   "execution_count": 30,
   "metadata": {},
   "outputs": [
    {
     "name": "stdout",
     "output_type": "stream",
     "text": [
      "['a', 'b', 'c']\n",
      "['a', 'b', 'c']\n",
      "['pakistan', 'b', 'c']\n",
      "['pakistan', 'b', 'c']\n"
     ]
    }
   ],
   "source": [
    "a : list[str] = ['a','b','c']\n",
    "b = a # shallow copy\n",
    "print(a)\n",
    "print(b)\n",
    "\n",
    "b[0] = 'pakistan' # change only b variable but both variable updated\n",
    "\n",
    "print(a)\n",
    "print(b)"
   ]
  },
  {
   "cell_type": "code",
   "execution_count": 31,
   "metadata": {},
   "outputs": [
    {
     "name": "stdout",
     "output_type": "stream",
     "text": [
      "a ['a', 'b', 'c']\n",
      "b ['a', 'b', 'c']\n",
      "a ['a', 'b', 'c']\n",
      "b ['pakistan', 'b', 'c']\n"
     ]
    }
   ],
   "source": [
    "a : list[str] = ['a','b','c']\n",
    "b = a.copy() # Deep copy\n",
    "print(\"a\",a)\n",
    "print(\"b\",b)\n",
    "\n",
    "b[0] = 'pakistan' # change only b variable but both variable updated\n",
    "\n",
    "print(\"a\",a)\n",
    "print(\"b\",b)\n"
   ]
  },
  {
   "cell_type": "code",
   "execution_count": 32,
   "metadata": {},
   "outputs": [
    {
     "name": "stdout",
     "output_type": "stream",
     "text": [
      "2\n",
      "3\n"
     ]
    }
   ],
   "source": [
    "# count\n",
    "names : list[str] = ['a','a','a','b','c','c']\n",
    "print(names.count(\"c\"))\n",
    "print(names.count(\"a\"))"
   ]
  },
  {
   "cell_type": "code",
   "execution_count": 33,
   "metadata": {},
   "outputs": [
    {
     "data": {
      "text/plain": [
       "['Sir Zia', 'Muhammad Qasim', ['Sir Inam', 'Dr Noman']]"
      ]
     },
     "execution_count": 33,
     "metadata": {},
     "output_type": "execute_result"
    }
   ],
   "source": [
    "names : list[str] = [\"Sir Zia\",\"Muhammad Qasim\"] # GenAI founder members\n",
    "\n",
    "new_faculty_members : list[str] = ['Sir Inam',\"Dr Noman\"]\n",
    "\n",
    "names.append(new_faculty_members)\n",
    "\n",
    "names\n"
   ]
  },
  {
   "cell_type": "code",
   "execution_count": 2,
   "metadata": {},
   "outputs": [
    {
     "data": {
      "text/plain": [
       "['Sir Zia', 'M. Qasim', 'Sir Noman', 'Dr Inam']"
      ]
     },
     "execution_count": 2,
     "metadata": {},
     "output_type": "execute_result"
    }
   ],
   "source": [
    "names: list[str] = [\"Sir Zia\", \"M. Qasim\"]\n",
    "\n",
    "new_faculty_memeber: list[str] = [\"Sir Noman\", \"Dr Inam\"]\n",
    "\n",
    "names.extend(new_faculty_memeber)\n",
    "\n",
    "names"
   ]
  },
  {
   "cell_type": "code",
   "execution_count": 34,
   "metadata": {},
   "outputs": [
    {
     "data": {
      "text/plain": [
       "['Sir Zia', 'Dr Noman']"
      ]
     },
     "execution_count": 34,
     "metadata": {},
     "output_type": "execute_result"
    }
   ],
   "source": [
    "names : list[str] = [\"Sir Zia\",\"Muhammad Qasim\",'Sir Inam',\"Dr Noman\"] # GenAI founder members\n",
    "\n",
    "\n",
    "del names[1:3]\n",
    "\n",
    "names"
   ]
  },
  {
   "cell_type": "code",
   "execution_count": 3,
   "metadata": {},
   "outputs": [
    {
     "data": {
      "text/plain": [
       "['Sir Zia', 'Sir Noman', 'Dr Inam']"
      ]
     },
     "execution_count": 3,
     "metadata": {},
     "output_type": "execute_result"
    }
   ],
   "source": [
    "names: list[str] = ['Sir Zia', 'M. Qasim', 'Sir Noman', 'Dr Inam']\n",
    "\n",
    "names.remove('M. Qasim')  # remove with text value\n",
    "\n",
    "names"
   ]
  },
  {
   "cell_type": "code",
   "execution_count": 6,
   "metadata": {},
   "outputs": [
    {
     "data": {
      "text/plain": [
       "1"
      ]
     },
     "execution_count": 6,
     "metadata": {},
     "output_type": "execute_result"
    }
   ],
   "source": [
    "names: list[str] = ['Sir Zia', 'M. Qasim', 'Sir Noman', 'Dr Inam', 'M. Qasim']\n",
    "\n",
    "names.index('M. Qasim')  # remove with text value"
   ]
  },
  {
   "cell_type": "code",
   "execution_count": 35,
   "metadata": {},
   "outputs": [
    {
     "data": {
      "text/plain": [
       "1"
      ]
     },
     "execution_count": 35,
     "metadata": {},
     "output_type": "execute_result"
    }
   ],
   "source": [
    "names :list[str] = ['Sir Zia', 'Muhammad Qasim', 'Sir Inam', 'Dr Noman',\"Muhammad Qasim\"]\n",
    "\n",
    "names.index(\"Muhammad Qasim\") # 1"
   ]
  },
  {
   "cell_type": "code",
   "execution_count": 36,
   "metadata": {},
   "outputs": [
    {
     "data": {
      "text/plain": [
       "4"
      ]
     },
     "execution_count": 36,
     "metadata": {},
     "output_type": "execute_result"
    }
   ],
   "source": [
    "names :list[str] = ['Sir Zia', 'Muhammad Qasim', 'Sir Inam', 'Dr Noman',\"Muhammad Qasim\"]\n",
    "\n",
    "names.index(\"Muhammad Qasim\",2) # 1"
   ]
  },
  {
   "cell_type": "code",
   "execution_count": 37,
   "metadata": {},
   "outputs": [
    {
     "name": "stdout",
     "output_type": "stream",
     "text": [
      "['A', 'B', 'C', 'D', 'E', 'F', 'G', 'H']\n",
      "['H', 'G', 'F', 'E', 'D', 'C', 'B', 'A']\n"
     ]
    }
   ],
   "source": [
    "names: list[str] = list('ABCDEFGH')\n",
    "\n",
    "print(names)\n",
    "\n",
    "names.reverse()\n",
    "\n",
    "print(names)"
   ]
  },
  {
   "cell_type": "code",
   "execution_count": 38,
   "metadata": {},
   "outputs": [
    {
     "name": "stdout",
     "output_type": "stream",
     "text": [
      "['A', 'C', 'B', 'D', 'E', 'F']\n",
      "['A', 'B', 'C', 'D', 'E', 'F']\n"
     ]
    }
   ],
   "source": [
    "names :list[str] = list(\"ACBDEF\")\n",
    "print(names)\n",
    "names.sort() #in-memory = change real data sort\n",
    "print(names)"
   ]
  },
  {
   "cell_type": "code",
   "execution_count": 39,
   "metadata": {},
   "outputs": [
    {
     "name": "stdout",
     "output_type": "stream",
     "text": [
      "['A', 'C', 'B', 'D', 'E', 'F']\n",
      "['A', 'B', 'C', 'D', 'E', 'F']\n"
     ]
    }
   ],
   "source": [
    "names :list[str] = list(\"ACBDEF\")\n",
    "print(names)\n",
    "names.sort() #in-memory = change real data sort\n",
    "print(names)"
   ]
  },
  {
   "cell_type": "code",
   "execution_count": 40,
   "metadata": {},
   "outputs": [
    {
     "name": "stdout",
     "output_type": "stream",
     "text": [
      "['A', 'C', 'B', 'D', 'E', 'F']\n",
      "['F', 'E', 'D', 'C', 'B', 'A']\n"
     ]
    }
   ],
   "source": [
    "names :list[str] = list(\"ACBDEF\")\n",
    "print(names)\n",
    "names.sort(reverse=True) #in-memory = change real data sort\n",
    "print(names)"
   ]
  },
  {
   "cell_type": "code",
   "execution_count": 41,
   "metadata": {},
   "outputs": [
    {
     "name": "stdout",
     "output_type": "stream",
     "text": [
      "6\n"
     ]
    },
    {
     "ename": "IndexError",
     "evalue": "list index out of range",
     "output_type": "error",
     "traceback": [
      "\u001b[31m---------------------------------------------------------------------------\u001b[39m",
      "\u001b[31mIndexError\u001b[39m                                Traceback (most recent call last)",
      "\u001b[36mCell\u001b[39m\u001b[36m \u001b[39m\u001b[32mIn[41]\u001b[39m\u001b[32m, line 3\u001b[39m\n\u001b[32m      1\u001b[39m names :\u001b[38;5;28mlist\u001b[39m[\u001b[38;5;28mstr\u001b[39m] = \u001b[38;5;28mlist\u001b[39m(\u001b[33m\"\u001b[39m\u001b[33mACBDEF\u001b[39m\u001b[33m\"\u001b[39m)\n\u001b[32m      2\u001b[39m \u001b[38;5;28mprint\u001b[39m(\u001b[38;5;28mlen\u001b[39m(names))\n\u001b[32m----> \u001b[39m\u001b[32m3\u001b[39m \u001b[43mnames\u001b[49m\u001b[43m[\u001b[49m\u001b[32;43m25\u001b[39;49m\u001b[43m]\u001b[49m\n",
      "\u001b[31mIndexError\u001b[39m: list index out of range"
     ]
    }
   ],
   "source": [
    "names :list[str] = list(\"ACBDEF\")\n",
    "print(len(names))\n",
    "names[25]\n"
   ]
  }
 ],
 "metadata": {
  "kernelspec": {
   "display_name": "python12",
   "language": "python",
   "name": "python3"
  },
  "language_info": {
   "codemirror_mode": {
    "name": "ipython",
    "version": 3
   },
   "file_extension": ".py",
   "mimetype": "text/x-python",
   "name": "python",
   "nbconvert_exporter": "python",
   "pygments_lexer": "ipython3",
   "version": "3.12.0"
  }
 },
 "nbformat": 4,
 "nbformat_minor": 2
}
