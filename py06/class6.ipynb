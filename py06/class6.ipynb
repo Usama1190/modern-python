{
 "cells": [
  {
   "cell_type": "markdown",
   "id": "3fe0e8fb",
   "metadata": {},
   "source": [
    "### if-else-elif\n",
    "```\n",
    "if logic:\n",
    "    True_block\n",
    "else:\n",
    "    False_block\n",
    "```"
   ]
  },
  {
   "cell_type": "markdown",
   "id": "1f88334d",
   "metadata": {},
   "source": [
    "### Comprehensive is-else\n",
    "\n",
    "True_block if logic els False_block\n",
    "\n",
    "* if\n",
    "* if-else\n",
    "* if-elif-else"
   ]
  },
  {
   "cell_type": "code",
   "execution_count": 1,
   "id": "c5dfd421",
   "metadata": {},
   "outputs": [
    {
     "name": "stdout",
     "output_type": "stream",
     "text": [
      "Pakistan Zindabad\n"
     ]
    }
   ],
   "source": [
    "if True:\n",
    "    print(\"Pakistan Zindabad\")\n",
    "else:\n",
    "    print(\"Hello world!\")"
   ]
  },
  {
   "cell_type": "code",
   "execution_count": 2,
   "id": "f3eff3e1",
   "metadata": {},
   "outputs": [
    {
     "name": "stdout",
     "output_type": "stream",
     "text": [
      "Hello world!\n"
     ]
    }
   ],
   "source": [
    "if False:\n",
    "    print(\"Pakistan Zindabad\")\n",
    "else:\n",
    "    print(\"Hello world!\")"
   ]
  },
  {
   "cell_type": "code",
   "execution_count": null,
   "id": "986b6465",
   "metadata": {},
   "outputs": [
    {
     "name": "stdout",
     "output_type": "stream",
     "text": [
      "Hello world!\n"
     ]
    }
   ],
   "source": [
    "#       \n",
    "print(\"Pakistan zindabad!\") if False else print(\"Hello world!\")"
   ]
  }
 ],
 "metadata": {
  "kernelspec": {
   "display_name": "python12",
   "language": "python",
   "name": "python3"
  },
  "language_info": {
   "codemirror_mode": {
    "name": "ipython",
    "version": 3
   },
   "file_extension": ".py",
   "mimetype": "text/x-python",
   "name": "python",
   "nbconvert_exporter": "python",
   "pygments_lexer": "ipython3",
   "version": "3.12.0"
  }
 },
 "nbformat": 4,
 "nbformat_minor": 5
}
