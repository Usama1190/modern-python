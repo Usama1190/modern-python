{
 "cells": [
  {
   "cell_type": "markdown",
   "id": "3fe0e8fb",
   "metadata": {},
   "source": [
    "## if-else-elif\n",
    "```\n",
    "if logic:\n",
    "    True_block\n",
    "else:\n",
    "    False_block\n",
    "```\n",
    "\n",
    "#### comprehensive if-else\n",
    "\n",
    "True_block if logic else False_block\n",
    "\n",
    "* if\n",
    "* if-else\n",
    "* if-elif-else"
   ]
  },
  {
   "cell_type": "code",
   "execution_count": 1,
   "id": "c5dfd421",
   "metadata": {},
   "outputs": [
    {
     "name": "stdout",
     "output_type": "stream",
     "text": [
      "Pakistan Zindabad\n"
     ]
    }
   ],
   "source": [
    "if True:\n",
    "    print(\"Pakistan Zindabad\")\n",
    "else:\n",
    "    print(\"Hello world!\")"
   ]
  },
  {
   "cell_type": "code",
   "execution_count": 2,
   "id": "f3eff3e1",
   "metadata": {},
   "outputs": [
    {
     "name": "stdout",
     "output_type": "stream",
     "text": [
      "Hello world!\n"
     ]
    }
   ],
   "source": [
    "if False:\n",
    "    print(\"Pakistan Zindabad\")\n",
    "else:\n",
    "    print(\"Hello world!\")"
   ]
  },
  {
   "cell_type": "code",
   "execution_count": 2,
   "id": "986b6465",
   "metadata": {},
   "outputs": [
    {
     "name": "stdout",
     "output_type": "stream",
     "text": [
      "Hello world!\n"
     ]
    }
   ],
   "source": [
    "#        True_block             logic           False_block\n",
    "print(\"Pakistan zindabad!\") if False else print(\"Hello world!\")"
   ]
  },
  {
   "cell_type": "code",
   "execution_count": 3,
   "id": "56048c3d",
   "metadata": {},
   "outputs": [
    {
     "name": "stdout",
     "output_type": "stream",
     "text": [
      "Pakistan zindabad!\n"
     ]
    }
   ],
   "source": [
    "print(\"Pakistan zindabad!\") if True else print(\"Hello world!\")"
   ]
  },
  {
   "cell_type": "markdown",
   "id": "bb7d585b",
   "metadata": {},
   "source": [
    "### comparison operators\n",
    "\n",
    "* ==\n",
    "* `>=`\n",
    "* <=\n",
    "* !=\n",
    "\n",
    "### Logic\n",
    "\n",
    "* and\n",
    "* or\n",
    "* not"
   ]
  },
  {
   "cell_type": "code",
   "execution_count": 4,
   "id": "9ae9fd4f",
   "metadata": {},
   "outputs": [
    {
     "name": "stdout",
     "output_type": "stream",
     "text": [
      "True Pakistan Block\n",
      "1\n",
      "2\n"
     ]
    }
   ],
   "source": [
    "if True:\n",
    "    print(\"True Pakistan Block\")\n",
    "    \n",
    "print(\"1\")\n",
    "print(\"2\")"
   ]
  },
  {
   "cell_type": "code",
   "execution_count": 5,
   "id": "cbe1a46b",
   "metadata": {},
   "outputs": [
    {
     "name": "stdout",
     "output_type": "stream",
     "text": [
      "1\n",
      "2\n"
     ]
    }
   ],
   "source": [
    "if False:\n",
    "    print(\"True Pakistan Block\")\n",
    "    \n",
    "print(\"1\")\n",
    "print(\"2\")"
   ]
  },
  {
   "cell_type": "code",
   "execution_count": null,
   "id": "d71a89e1",
   "metadata": {},
   "outputs": [
    {
     "name": "stdout",
     "output_type": "stream",
     "text": [
      "True_block\n"
     ]
    }
   ],
   "source": [
    "if True:\n",
    "    print(\"True_block\")\n",
    "elif False:\n",
    "    print(\"elif logic 1\")\n",
    "elif False:\n",
    "    print(\"elif logic 2\")\n",
    "elif False:\n",
    "    print(\"elif logic 3\")\n",
    "else:\n",
    "    print(\"final else block\")"
   ]
  },
  {
   "cell_type": "code",
   "execution_count": null,
   "id": "6b369515",
   "metadata": {},
   "outputs": [
    {
     "name": "stdout",
     "output_type": "stream",
     "text": [
      "elif logic 1\n"
     ]
    }
   ],
   "source": [
    "if False:\n",
    "    print(\"True_block\")\n",
    "elif True:\n",
    "    print(\"elif logic 1\")\n",
    "elif False:\n",
    "    print(\"elif logic 2\")\n",
    "elif False:\n",
    "    print(\"elif logic 3\")\n",
    "else:\n",
    "    print(\"final else block\")"
   ]
  },
  {
   "cell_type": "code",
   "execution_count": 9,
   "id": "56f709c1",
   "metadata": {},
   "outputs": [
    {
     "name": "stdout",
     "output_type": "stream",
     "text": [
      "elif logic 2\n",
      "final else block\n",
      "Pakistan\n"
     ]
    }
   ],
   "source": [
    "# chain1 run only one block\n",
    "if False:\n",
    "    print(\"True_block\")\n",
    "elif False:\n",
    "    print(\"elif logic 1\")\n",
    "elif True:\n",
    "    print(\"elif logic 2\")\n",
    "elif True:\n",
    "    print(\"elif logic 3\")\n",
    "else:\n",
    "    print(\"final else block\")\n",
    "   \n",
    "# chain2 run only one block\n",
    " \n",
    "if False:\n",
    "    print(\"True_block\")\n",
    "elif False:\n",
    "    print(\"elif logic 1\")\n",
    "elif False:\n",
    "    print(\"elif logic 2\")\n",
    "elif False:\n",
    "    print(\"elif logic 3\")\n",
    "else:\n",
    "    print(\"final else block\")\n",
    "    \n",
    "print(\"Pakistan\")"
   ]
  },
  {
   "cell_type": "markdown",
   "id": "44e443ea",
   "metadata": {},
   "source": [
    "### Grading Rules\n",
    "https://www.infoworld.com/article/3630372/get-started-with-python-type-hints.html"
   ]
  },
  {
   "cell_type": "code",
   "execution_count": 14,
   "id": "a0c0d287",
   "metadata": {},
   "outputs": [
    {
     "name": "stdout",
     "output_type": "stream",
     "text": [
      "Dear student your percentage is 88 now your calcualted grade is:\t A+\n"
     ]
    }
   ],
   "source": [
    "from typing import Union\n",
    "\n",
    "per: Union[int, float] = 88\n",
    "grade: Union[str, None] = None\n",
    "\n",
    "if per >= 80:\n",
    "    grade = 'A+'\n",
    "elif per >= 70:\n",
    "    grade = 'A'\n",
    "elif per >= 60:\n",
    "    grade = 'B'\n",
    "elif per >= 50:\n",
    "    grade = 'C'\n",
    "elif per >= 40:\n",
    "    grade = 'D'\n",
    "elif per >= 33:\n",
    "    grade = 'E'\n",
    "else:\n",
    "    grade = 'Fail'\n",
    "    \n",
    "print(f\"Dear student your percentage is {per} now your calcualted grade is:\\t {grade}\")\n"
   ]
  },
  {
   "cell_type": "code",
   "execution_count": 11,
   "id": "591f7bd8",
   "metadata": {},
   "outputs": [
    {
     "name": "stdout",
     "output_type": "stream",
     "text": [
      "<class 'str'>\n",
      "78\n"
     ]
    }
   ],
   "source": [
    "a: int = input(\"Enter your percentage: \\t\")\n",
    "print(type(a))\n",
    "print(a)"
   ]
  },
  {
   "cell_type": "code",
   "execution_count": 12,
   "id": "9c3c466f",
   "metadata": {},
   "outputs": [
    {
     "name": "stdout",
     "output_type": "stream",
     "text": [
      "<class 'str'>\n",
      "89\n"
     ]
    }
   ],
   "source": [
    "a: int = input(\"Enter your percentage: \\t\")\n",
    "print(type(a))\n",
    "print(a)"
   ]
  },
  {
   "cell_type": "code",
   "execution_count": 17,
   "id": "9a18ed42",
   "metadata": {},
   "outputs": [
    {
     "name": "stdout",
     "output_type": "stream",
     "text": [
      "Dear student your percentage is 87 now your calcualted grade is:\t A+\n"
     ]
    }
   ],
   "source": [
    "from typing import Union\n",
    "\n",
    "per: Union[int, float] = int(input(\"Enter your percentage: \\t\"))\n",
    "grade: Union[str, None] = None\n",
    "\n",
    "if per >= 80:\n",
    "    grade = 'A+'\n",
    "elif per >= 70:\n",
    "    grade = 'A'\n",
    "elif per >= 60:\n",
    "    grade = 'B'\n",
    "elif per >= 50:\n",
    "    grade = 'C'\n",
    "elif per >= 40:\n",
    "    grade = 'D'\n",
    "elif per >= 33:\n",
    "    grade = 'E'\n",
    "else:\n",
    "    grade = 'Fail'\n",
    "    \n",
    "print(f\"Dear student your percentage is {per} now your calcualted grade is:\\t {grade}\")\n"
   ]
  },
  {
   "cell_type": "code",
   "execution_count": 18,
   "id": "f321a290",
   "metadata": {},
   "outputs": [],
   "source": [
    "from typing import Union, Optional\n",
    "\n",
    "per: Union[int, float] = 88\n",
    "grade: Optional[str] = None\n",
    "\n",
    "if per >= 80:\n",
    "    grade = 'A+'\n",
    "elif per >= 70:\n",
    "    grade = 'A'\n",
    "elif per >= 60:\n",
    "    grade = 'B'\n",
    "elif per >= 50:\n",
    "    grade = 'C'\n",
    "elif per >= 40:\n",
    "    grade = 'D'\n",
    "elif per >= 33:\n",
    "    grade = 'E'\n",
    "else:\n",
    "    grade = 'Fail'\n",
    "    "
   ]
  },
  {
   "cell_type": "markdown",
   "id": "10f849a6",
   "metadata": {},
   "source": [
    "### Logical Error"
   ]
  },
  {
   "cell_type": "code",
   "execution_count": 2,
   "id": "2d6116d0",
   "metadata": {},
   "outputs": [
    {
     "name": "stdout",
     "output_type": "stream",
     "text": [
      "Dear student your percentage is 78 now your calcualted grade is:\t Fail\n"
     ]
    }
   ],
   "source": [
    "from typing import Union, Optional\n",
    "\n",
    "per: Union[int, float] = int(input(\"Enter your percentage: \\t\"))\n",
    "grade: Optional[str] = None\n",
    "\n",
    "if per >= 0:\n",
    "    grade = 'Fail'\n",
    "elif per >= 33:\n",
    "    grade = 'E'\n",
    "elif per >= 40:\n",
    "    grade = 'D'\n",
    "elif per >= 50:\n",
    "    grade = 'C'\n",
    "elif per >= 60:\n",
    "    grade = 'B'\n",
    "elif per >= 70:\n",
    "    grade = 'A'\n",
    "else:\n",
    "    grade = 'A+'\n",
    "    \n",
    "print(f\"Dear student your percentage is {per} now your calcualted grade is:\\t {grade}\")\n",
    "    "
   ]
  },
  {
   "cell_type": "code",
   "execution_count": 4,
   "id": "66d6a9e1",
   "metadata": {},
   "outputs": [
    {
     "name": "stdout",
     "output_type": "stream",
     "text": [
      "Dear student your percentage is 34 now your calcualted grade is:\t E\n"
     ]
    }
   ],
   "source": [
    "from typing import Union, Optional\n",
    "\n",
    "per: Union[int, float] = int(input(\"Enter your percentage: \\t\"))\n",
    "grade: Optional[str] = None\n",
    "\n",
    "if per >= 0 and per < 33:\n",
    "    grade = 'Fail'\n",
    "elif per >= 33 and per < 40:\n",
    "    grade = 'E'\n",
    "elif per >= 40 and per < 50:\n",
    "    grade = 'D'\n",
    "elif per >= 50 and per < 60:\n",
    "    grade = 'C'\n",
    "elif per >= 60 and per < 70:\n",
    "    grade = 'B'\n",
    "elif per >= 70 and per < 80:\n",
    "    grade = 'A'\n",
    "elif per >= 80 and per <=100:\n",
    "    grade = 'A+'\n",
    "    \n",
    "print(f\"Dear student your percentage is {per} now your calcualted grade is:\\t {grade}\")\n",
    "    "
   ]
  },
  {
   "cell_type": "code",
   "execution_count": 5,
   "id": "ef5141fb",
   "metadata": {},
   "outputs": [
    {
     "name": "stdout",
     "output_type": "stream",
     "text": [
      "Dear student your percentage is 87.5 now your calcualted grade is:\t A+\n"
     ]
    }
   ],
   "source": [
    "from typing import Union, Optional\n",
    "\n",
    "per: Union[int, float] = float(input(\"Enter your percentage: \\t\"))\n",
    "grade: Optional[str] = None\n",
    "\n",
    "if per >= 0 and per < 33:\n",
    "    grade = 'Fail'\n",
    "elif per >= 33 and per < 40:\n",
    "    grade = 'E'\n",
    "elif per >= 40 and per < 50:\n",
    "    grade = 'D'\n",
    "elif per >= 50 and per < 60:\n",
    "    grade = 'C'\n",
    "elif per >= 60 and per < 70:\n",
    "    grade = 'B'\n",
    "elif per >= 70 and per < 80:\n",
    "    grade = 'A'\n",
    "elif per >= 80 and per <=100:\n",
    "    grade = 'A+'\n",
    "    \n",
    "print(f\"Dear student your percentage is {per} now your calcualted grade is:\\t {grade}\")\n",
    "    "
   ]
  },
  {
   "cell_type": "markdown",
   "id": "5fb0cfea",
   "metadata": {},
   "source": [
    "### student percentages\n",
    "https://peps.python.org/pep-0484/#type-aliases"
   ]
  },
  {
   "cell_type": "code",
   "execution_count": 8,
   "id": "35c1f41c",
   "metadata": {},
   "outputs": [
    {
     "name": "stdout",
     "output_type": "stream",
     "text": [
      "[34, 67.8, 89, 62, 32, 44.1, 97, 32.9]\n",
      "['E', 'B', 'A+', 'B', 'Fail', 'D', 'A+', 'Fail']\n"
     ]
    }
   ],
   "source": [
    "from typing import Union, Optional\n",
    "\n",
    "perTyp = Union[float, int]\n",
    "\n",
    "percentages: list[perTyp] = [34, 67.8, 89, 62, 32, 44.1, 97, 32.9]\n",
    "\n",
    "grades: list[str] = []\n",
    "\n",
    "for per in percentages:\n",
    "    grade: str = \"\"\n",
    "    if per >= 0 and per < 33:\n",
    "        grade = 'Fail'\n",
    "    elif per >= 33 and per < 40:\n",
    "        grade = 'E'\n",
    "    elif per >= 40 and per < 50:\n",
    "        grade = 'D'\n",
    "    elif per >= 50 and per < 60:\n",
    "        grade = 'C'\n",
    "    elif per >= 60 and per < 70:\n",
    "        grade = 'B'\n",
    "    elif per >= 70 and per < 80:\n",
    "        grade = 'A'\n",
    "    elif per >= 80 and per <=100:\n",
    "        grade = 'A+'\n",
    "    grades.append(grade)\n",
    "    \n",
    "    \n",
    "print(percentages)\n",
    "print(grades)    "
   ]
  },
  {
   "cell_type": "code",
   "execution_count": null,
   "id": "80e21db7",
   "metadata": {},
   "outputs": [
    {
     "name": "stdout",
     "output_type": "stream",
     "text": [
      "['Sir Zia', 'Usama', 'Sir Qasim']\n"
     ]
    }
   ],
   "source": [
    "names: list[str] = [\"Sir Zia\"]\n",
    "\n",
    "names.append(\"Usama\")\n",
    "names.append(\"Sir Qasim\")\n",
    "print(names)"
   ]
  },
  {
   "cell_type": "code",
   "execution_count": 12,
   "id": "bcd9e53f",
   "metadata": {},
   "outputs": [
    {
     "data": {
      "text/plain": [
       "<zip at 0x23a6a20d080>"
      ]
     },
     "execution_count": 12,
     "metadata": {},
     "output_type": "execute_result"
    }
   ],
   "source": [
    "zip(percentages, grades)    # <zip at 0x23a6a1f7840> generator function iteration perform -> for"
   ]
  },
  {
   "cell_type": "code",
   "execution_count": 15,
   "id": "295775f5",
   "metadata": {},
   "outputs": [
    {
     "data": {
      "text/plain": [
       "[(34, 'E'),\n",
       " (67.8, 'B'),\n",
       " (89, 'A+'),\n",
       " (62, 'B'),\n",
       " (32, 'Fail'),\n",
       " (44.1, 'D'),\n",
       " (97, 'A+'),\n",
       " (32.9, 'Fail')]"
      ]
     },
     "execution_count": 15,
     "metadata": {},
     "output_type": "execute_result"
    }
   ],
   "source": [
    "list(zip(percentages, grades))"
   ]
  },
  {
   "cell_type": "code",
   "execution_count": 22,
   "id": "bea91267",
   "metadata": {},
   "outputs": [
    {
     "data": {
      "text/plain": [
       "[0, 1, 2, 3, 4, 5, 6, 7]"
      ]
     },
     "execution_count": 22,
     "metadata": {},
     "output_type": "execute_result"
    }
   ],
   "source": [
    "roll_no: list[int] = list(range(len(percentages)))\n",
    "roll_no"
   ]
  },
  {
   "cell_type": "code",
   "execution_count": 23,
   "id": "685ce0d7",
   "metadata": {},
   "outputs": [
    {
     "data": {
      "text/plain": [
       "[(0, 34, 'E'),\n",
       " (1, 67.8, 'B'),\n",
       " (2, 89, 'A+'),\n",
       " (3, 62, 'B'),\n",
       " (4, 32, 'Fail'),\n",
       " (5, 44.1, 'D'),\n",
       " (6, 97, 'A+'),\n",
       " (7, 32.9, 'Fail')]"
      ]
     },
     "execution_count": 23,
     "metadata": {},
     "output_type": "execute_result"
    }
   ],
   "source": [
    "database = list(zip(roll_no, percentages, grades))\n",
    "database"
   ]
  },
  {
   "cell_type": "code",
   "execution_count": 24,
   "id": "5e6edd14",
   "metadata": {},
   "outputs": [
    {
     "data": {
      "text/plain": [
       "[(0, 34, 'E'),\n",
       " (1, 67.8, 'B'),\n",
       " (2, 89, 'A+'),\n",
       " (3, 62, 'B'),\n",
       " (4, 32, 'Fail'),\n",
       " (5, 44.1, 'D'),\n",
       " (6, 97, 'A+'),\n",
       " (7, 32.9, 'Fail')]"
      ]
     },
     "metadata": {},
     "output_type": "display_data"
    },
    {
     "data": {
      "text/plain": [
       "[(0, 34, 'E'),\n",
       " (1, 67.8, 'B'),\n",
       " (2, 89, 'A+'),\n",
       " (3, 62, 'B'),\n",
       " (4, 32, 'Fail'),\n",
       " (5, 44.1, 'D'),\n",
       " (6, 97, 'A+'),\n",
       " (7, 32.9, 'Fail')]"
      ]
     },
     "execution_count": 24,
     "metadata": {},
     "output_type": "execute_result"
    }
   ],
   "source": [
    "display(database)\n",
    "sorted(database)"
   ]
  },
  {
   "cell_type": "code",
   "execution_count": 27,
   "id": "1f1c19de",
   "metadata": {},
   "outputs": [
    {
     "data": {
      "text/plain": [
       "[(0, 34, 'E'),\n",
       " (1, 67.8, 'B'),\n",
       " (2, 89, 'A+'),\n",
       " (3, 62, 'B'),\n",
       " (4, 32, 'Fail'),\n",
       " (5, 44.1, 'D'),\n",
       " (6, 97, 'A+'),\n",
       " (7, 32.9, 'Fail')]"
      ]
     },
     "metadata": {},
     "output_type": "display_data"
    },
    {
     "data": {
      "text/plain": [
       "[(4, 32, 'Fail'),\n",
       " (7, 32.9, 'Fail'),\n",
       " (0, 34, 'E'),\n",
       " (5, 44.1, 'D'),\n",
       " (3, 62, 'B'),\n",
       " (1, 67.8, 'B'),\n",
       " (2, 89, 'A+'),\n",
       " (6, 97, 'A+')]"
      ]
     },
     "execution_count": 27,
     "metadata": {},
     "output_type": "execute_result"
    }
   ],
   "source": [
    "display(database)\n",
    "sorted(database, key=lambda x:x[1])"
   ]
  },
  {
   "cell_type": "code",
   "execution_count": 28,
   "id": "e5574e54",
   "metadata": {},
   "outputs": [
    {
     "data": {
      "text/plain": [
       "[(0, 34, 'E'),\n",
       " (1, 67.8, 'B'),\n",
       " (2, 89, 'A+'),\n",
       " (3, 62, 'B'),\n",
       " (4, 32, 'Fail'),\n",
       " (5, 44.1, 'D'),\n",
       " (6, 97, 'A+'),\n",
       " (7, 32.9, 'Fail')]"
      ]
     },
     "metadata": {},
     "output_type": "display_data"
    },
    {
     "data": {
      "text/plain": [
       "[(6, 97, 'A+'),\n",
       " (2, 89, 'A+'),\n",
       " (1, 67.8, 'B'),\n",
       " (3, 62, 'B'),\n",
       " (5, 44.1, 'D'),\n",
       " (0, 34, 'E'),\n",
       " (7, 32.9, 'Fail'),\n",
       " (4, 32, 'Fail')]"
      ]
     },
     "execution_count": 28,
     "metadata": {},
     "output_type": "execute_result"
    }
   ],
   "source": [
    "display(database)\n",
    "sorted(database, key=lambda x:x[1], reverse=True)"
   ]
  },
  {
   "cell_type": "code",
   "execution_count": 29,
   "id": "c4948ab6",
   "metadata": {},
   "outputs": [
    {
     "name": "stdout",
     "output_type": "stream",
     "text": [
      "Audi\n",
      "BMW\n",
      "Subaru\n",
      "Toyota\n"
     ]
    }
   ],
   "source": [
    "cars: list[str] = ['audi', 'bmw', 'subaru', 'toyota']\n",
    "\n",
    "for car in cars:\n",
    "    if car == \"bmw\":\n",
    "        print(car.upper())\n",
    "    else:\n",
    "        print(car.title())"
   ]
  },
  {
   "cell_type": "code",
   "execution_count": 30,
   "id": "1f76ae6e",
   "metadata": {},
   "outputs": [
    {
     "name": "stdout",
     "output_type": "stream",
     "text": [
      "toyota\n"
     ]
    },
    {
     "data": {
      "text/plain": [
       "False"
      ]
     },
     "execution_count": 30,
     "metadata": {},
     "output_type": "execute_result"
    }
   ],
   "source": [
    "print(car)\n",
    "car == 'bmw'"
   ]
  },
  {
   "cell_type": "code",
   "execution_count": 31,
   "id": "31f0e54d",
   "metadata": {},
   "outputs": [
    {
     "data": {
      "text/plain": [
       "True"
      ]
     },
     "execution_count": 31,
     "metadata": {},
     "output_type": "execute_result"
    }
   ],
   "source": [
    "car = \"Audi\"\n",
    "car.lower() == \"audi\""
   ]
  },
  {
   "cell_type": "code",
   "execution_count": null,
   "id": "0c07d794",
   "metadata": {},
   "outputs": [
    {
     "name": "stdout",
     "output_type": "stream",
     "text": [
      "AUDI\n",
      "BMW\n",
      "mehran\n",
      "SUBARU\n",
      "TOYOTA\n"
     ]
    }
   ],
   "source": [
    "cars: list[str] = ['audi', 'bmw',\"Mehran\", 'subaru', 'toyota']\n",
    "\n",
    "for car in cars:             # in = extract element from iterated type\n",
    "    if car != \"Mehran\":\n",
    "        print(car.upper())\n",
    "    else:\n",
    "        print(car.lower())"
   ]
  },
  {
   "cell_type": "code",
   "execution_count": 33,
   "id": "350d237f",
   "metadata": {},
   "outputs": [
    {
     "name": "stdout",
     "output_type": "stream",
     "text": [
      "That is not the correct answer. Please try again!\n"
     ]
    }
   ],
   "source": [
    "answer = 17\n",
    "\n",
    "if answer != 42:\n",
    "    print(\"That is not the correct answer. Please try again!\")"
   ]
  },
  {
   "cell_type": "code",
   "execution_count": 34,
   "id": "2c392c93",
   "metadata": {},
   "outputs": [
    {
     "data": {
      "text/plain": [
       "False"
      ]
     },
     "execution_count": 34,
     "metadata": {},
     "output_type": "execute_result"
    }
   ],
   "source": [
    "cars: list[str] = ['audi', 'bmw',\"Mehran\", 'subaru', 'toyota']\n",
    "\n",
    "'changan' in cars"
   ]
  },
  {
   "cell_type": "code",
   "execution_count": null,
   "id": "753d3121",
   "metadata": {},
   "outputs": [
    {
     "data": {
      "text/plain": [
       "True"
      ]
     },
     "execution_count": 35,
     "metadata": {},
     "output_type": "execute_result"
    }
   ],
   "source": [
    "cars: list[str] = ['audi', 'bmw',\"Mehran\", 'subaru', 'toyota']\n",
    "\n",
    "'bmw' in cars     # True"
   ]
  },
  {
   "cell_type": "code",
   "execution_count": 37,
   "id": "a73c2775",
   "metadata": {},
   "outputs": [
    {
     "name": "stdout",
     "output_type": "stream",
     "text": [
      "True\n",
      "Marie, you can post a response if you wish.\n"
     ]
    }
   ],
   "source": [
    "banned_users: list[str] = ['andrew', 'carolina', 'david']\n",
    "\n",
    "user: str = 'marie'\n",
    "\n",
    "print(user not in banned_users)\n",
    "\n",
    "if user not in banned_users:\n",
    "    print(f\"{user.title()}, you can post a response if you wish.\")"
   ]
  },
  {
   "cell_type": "code",
   "execution_count": 38,
   "id": "360a4d5c",
   "metadata": {},
   "outputs": [
    {
     "name": "stdout",
     "output_type": "stream",
     "text": [
      "Sorry, you are too young to vote.\n",
      "Please register to vote as soon as you turn 18!\n"
     ]
    }
   ],
   "source": [
    "age: int = 17\n",
    "if age >= 18:\n",
    "    print(\"You are old enough to vote!\") \n",
    "    print(\"Have you registered to vote yet?\")\n",
    "else:\n",
    "    print(\"Sorry, you are too young to vote.\")\n",
    "    print(\"Please register to vote as soon as you turn 18!\")"
   ]
  },
  {
   "cell_type": "code",
   "execution_count": 40,
   "id": "f51633fb",
   "metadata": {},
   "outputs": [
    {
     "name": "stdout",
     "output_type": "stream",
     "text": [
      "Your admission cost is $25.\n"
     ]
    }
   ],
   "source": [
    "age = 12\n",
    "if age < 4:\n",
    "    print(\"Your admission cost is $0.\")\n",
    "elif age < 18:\n",
    "    print(\"Your admission cost is $25.\")\n",
    "else:\n",
    "    print(\"Your admission cost is $40.\")"
   ]
  },
  {
   "cell_type": "code",
   "execution_count": 41,
   "id": "3faa22b6",
   "metadata": {},
   "outputs": [
    {
     "name": "stdout",
     "output_type": "stream",
     "text": [
      "Adding mushrooms.\n",
      "Adding extra cheese.\n",
      "\n",
      "Finished making your pizza!\n"
     ]
    }
   ],
   "source": [
    "requested_toppings : list[str] = ['mushrooms', 'extra cheese']\n",
    "\n",
    "if 'mushrooms' in requested_toppings:\n",
    "      print(\"Adding mushrooms.\")\n",
    "    \n",
    "if 'pepperoni' in requested_toppings: \n",
    "    print(\"Adding pepperoni.\")\n",
    "    \n",
    "if 'extra cheese' in requested_toppings:\n",
    "    print(\"Adding extra cheese.\")\n",
    "    \n",
    "print(\"\\nFinished making your pizza!\")"
   ]
  },
  {
   "cell_type": "code",
   "execution_count": 42,
   "id": "f1b9ff79",
   "metadata": {},
   "outputs": [
    {
     "name": "stdout",
     "output_type": "stream",
     "text": [
      "Adding mushrooms.\n",
      "Sorry, we are out of green peppers right now.\n",
      "Adding extra cheese.\n",
      "\n",
      "Finished making your pizza!\n"
     ]
    }
   ],
   "source": [
    "requested_toppings = ['mushrooms', 'green peppers', 'extra cheese']\n",
    "for requested_topping in requested_toppings:\n",
    "    if requested_topping == 'green peppers':\n",
    "        print(\"Sorry, we are out of green peppers right now.\")\n",
    "    else:\n",
    "        print(f\"Adding {requested_topping}.\")\n",
    "print(\"\\nFinished making your pizza!\")"
   ]
  },
  {
   "cell_type": "code",
   "execution_count": 43,
   "id": "ac28038a",
   "metadata": {},
   "outputs": [
    {
     "name": "stdout",
     "output_type": "stream",
     "text": [
      "Are you sure you want a plain pizza?\n"
     ]
    }
   ],
   "source": [
    "requested_toppings = []\n",
    "\n",
    "if requested_toppings:\n",
    "    for requested_topping in requested_toppings:\n",
    "        print(f\"Adding {requested_topping}.\")\n",
    "    print(\"\\nFinished making your pizza!\")\n",
    "else:\n",
    "    print(\"Are you sure you want a plain pizza?\")"
   ]
  },
  {
   "cell_type": "code",
   "execution_count": 44,
   "id": "a2a1ab8c",
   "metadata": {},
   "outputs": [
    {
     "name": "stdout",
     "output_type": "stream",
     "text": [
      "Adding mushrooms.\n",
      "Sorry, we don't have french fries.\n",
      "Adding extra cheese.\n",
      "\n",
      "Finished making your pizza!\n"
     ]
    }
   ],
   "source": [
    "available_toppings:list[str] = ['mushrooms', 'olives', 'green peppers',\n",
    "                        'pepperoni', 'pineapple', 'extra cheese']\n",
    "\n",
    "requested_toppings:list[str] = ['mushrooms', 'french fries', 'extra cheese'] # user input\n",
    "\n",
    "for requested_topping in requested_toppings:\n",
    "    if requested_topping in available_toppings:\n",
    "        print(f\"Adding {requested_topping}.\")\n",
    "    else:\n",
    "        print(f\"Sorry, we don't have {requested_topping}.\")\n",
    "print(\"\\nFinished making your pizza!\")"
   ]
  },
  {
   "cell_type": "code",
   "execution_count": 46,
   "id": "f8e38852",
   "metadata": {},
   "outputs": [
    {
     "data": {
      "text/plain": [
       "['78']"
      ]
     },
     "execution_count": 46,
     "metadata": {},
     "output_type": "execute_result"
    }
   ],
   "source": [
    "input(\"Enter ',' seprated value for topping\").split(\",\")"
   ]
  },
  {
   "cell_type": "code",
   "execution_count": 48,
   "id": "6d2b2a3b",
   "metadata": {},
   "outputs": [
    {
     "name": "stdout",
     "output_type": "stream",
     "text": [
      "sent otp on you registered number\n",
      "Welcom PIAIC\n"
     ]
    }
   ],
   "source": [
    "user_name : str = input(\"Enter user id: \\t\")\n",
    "user_passwrod : str = input(\"Enter password:\\t\")\n",
    "\n",
    "\n",
    "if user_name == 'admin' and user_passwrod == 'admin':\n",
    "    print(\"sent otp on you registered number\")\n",
    "    otp : str = input(\"Please inter otp\")\n",
    "    if otp == '123':\n",
    "        print(\"Welcom PIAIC\")\n",
    "else:\n",
    "    print(\"Invalid user or password\")"
   ]
  }
 ],
 "metadata": {
  "kernelspec": {
   "display_name": "python12",
   "language": "python",
   "name": "python3"
  },
  "language_info": {
   "codemirror_mode": {
    "name": "ipython",
    "version": 3
   },
   "file_extension": ".py",
   "mimetype": "text/x-python",
   "name": "python",
   "nbconvert_exporter": "python",
   "pygments_lexer": "ipython3",
   "version": "3.12.0"
  }
 },
 "nbformat": 4,
 "nbformat_minor": 5
}
