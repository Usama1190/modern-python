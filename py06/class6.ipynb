{
 "cells": [
  {
   "cell_type": "markdown",
   "id": "3fe0e8fb",
   "metadata": {},
   "source": [
    "## if-else-elif\n",
    "```\n",
    "if logic:\n",
    "    True_block\n",
    "else:\n",
    "    False_block\n",
    "```\n",
    "\n",
    "#### comprehensive if-else\n",
    "\n",
    "True_block if logic else False_block\n",
    "\n",
    "* if\n",
    "* if-else\n",
    "* if-elif-else"
   ]
  },
  {
   "cell_type": "code",
   "execution_count": 1,
   "id": "c5dfd421",
   "metadata": {},
   "outputs": [
    {
     "name": "stdout",
     "output_type": "stream",
     "text": [
      "Pakistan Zindabad\n"
     ]
    }
   ],
   "source": [
    "if True:\n",
    "    print(\"Pakistan Zindabad\")\n",
    "else:\n",
    "    print(\"Hello world!\")"
   ]
  },
  {
   "cell_type": "code",
   "execution_count": 2,
   "id": "f3eff3e1",
   "metadata": {},
   "outputs": [
    {
     "name": "stdout",
     "output_type": "stream",
     "text": [
      "Hello world!\n"
     ]
    }
   ],
   "source": [
    "if False:\n",
    "    print(\"Pakistan Zindabad\")\n",
    "else:\n",
    "    print(\"Hello world!\")"
   ]
  },
  {
   "cell_type": "code",
   "execution_count": 2,
   "id": "986b6465",
   "metadata": {},
   "outputs": [
    {
     "name": "stdout",
     "output_type": "stream",
     "text": [
      "Hello world!\n"
     ]
    }
   ],
   "source": [
    "#        True_block             logic           False_block\n",
    "print(\"Pakistan zindabad!\") if False else print(\"Hello world!\")"
   ]
  },
  {
   "cell_type": "code",
   "execution_count": 3,
   "id": "56048c3d",
   "metadata": {},
   "outputs": [
    {
     "name": "stdout",
     "output_type": "stream",
     "text": [
      "Pakistan zindabad!\n"
     ]
    }
   ],
   "source": [
    "print(\"Pakistan zindabad!\") if True else print(\"Hello world!\")"
   ]
  },
  {
   "cell_type": "markdown",
   "id": "bb7d585b",
   "metadata": {},
   "source": [
    "### comparison operators\n",
    "\n",
    "* ==\n",
    "* `>=`\n",
    "* <=\n",
    "* !=\n",
    "\n",
    "### Logic\n",
    "\n",
    "* and\n",
    "* or\n",
    "* not"
   ]
  },
  {
   "cell_type": "code",
   "execution_count": 4,
   "id": "9ae9fd4f",
   "metadata": {},
   "outputs": [
    {
     "name": "stdout",
     "output_type": "stream",
     "text": [
      "True Pakistan Block\n",
      "1\n",
      "2\n"
     ]
    }
   ],
   "source": [
    "if True:\n",
    "    print(\"True Pakistan Block\")\n",
    "    \n",
    "print(\"1\")\n",
    "print(\"2\")"
   ]
  },
  {
   "cell_type": "code",
   "execution_count": 5,
   "id": "cbe1a46b",
   "metadata": {},
   "outputs": [
    {
     "name": "stdout",
     "output_type": "stream",
     "text": [
      "1\n",
      "2\n"
     ]
    }
   ],
   "source": [
    "if False:\n",
    "    print(\"True Pakistan Block\")\n",
    "    \n",
    "print(\"1\")\n",
    "print(\"2\")"
   ]
  },
  {
   "cell_type": "code",
   "execution_count": null,
   "id": "d71a89e1",
   "metadata": {},
   "outputs": [
    {
     "name": "stdout",
     "output_type": "stream",
     "text": [
      "True_block\n"
     ]
    }
   ],
   "source": [
    "if True:\n",
    "    print(\"True_block\")\n",
    "elif False:\n",
    "    print(\"elif logic 1\")\n",
    "elif False:\n",
    "    print(\"elif logic 2\")\n",
    "elif False:\n",
    "    print(\"elif logic 3\")\n",
    "else:\n",
    "    print(\"final else block\")"
   ]
  },
  {
   "cell_type": "code",
   "execution_count": null,
   "id": "6b369515",
   "metadata": {},
   "outputs": [
    {
     "name": "stdout",
     "output_type": "stream",
     "text": [
      "elif logic 1\n"
     ]
    }
   ],
   "source": [
    "if False:\n",
    "    print(\"True_block\")\n",
    "elif True:\n",
    "    print(\"elif logic 1\")\n",
    "elif False:\n",
    "    print(\"elif logic 2\")\n",
    "elif False:\n",
    "    print(\"elif logic 3\")\n",
    "else:\n",
    "    print(\"final else block\")"
   ]
  },
  {
   "cell_type": "code",
   "execution_count": 9,
   "id": "56f709c1",
   "metadata": {},
   "outputs": [
    {
     "name": "stdout",
     "output_type": "stream",
     "text": [
      "elif logic 2\n",
      "final else block\n",
      "Pakistan\n"
     ]
    }
   ],
   "source": [
    "# chain1 run only one block\n",
    "if False:\n",
    "    print(\"True_block\")\n",
    "elif False:\n",
    "    print(\"elif logic 1\")\n",
    "elif True:\n",
    "    print(\"elif logic 2\")\n",
    "elif True:\n",
    "    print(\"elif logic 3\")\n",
    "else:\n",
    "    print(\"final else block\")\n",
    "   \n",
    "# chain2 run only one block\n",
    " \n",
    "if False:\n",
    "    print(\"True_block\")\n",
    "elif False:\n",
    "    print(\"elif logic 1\")\n",
    "elif False:\n",
    "    print(\"elif logic 2\")\n",
    "elif False:\n",
    "    print(\"elif logic 3\")\n",
    "else:\n",
    "    print(\"final else block\")\n",
    "    \n",
    "print(\"Pakistan\")"
   ]
  },
  {
   "cell_type": "markdown",
   "id": "44e443ea",
   "metadata": {},
   "source": [
    "### Grading Rules\n",
    "https://www.infoworld.com/article/3630372/get-started-with-python-type-hints.html"
   ]
  },
  {
   "cell_type": "code",
   "execution_count": 14,
   "id": "a0c0d287",
   "metadata": {},
   "outputs": [
    {
     "name": "stdout",
     "output_type": "stream",
     "text": [
      "Dear student your percentage is 88 now your calcualted grade is:\t A+\n"
     ]
    }
   ],
   "source": [
    "from typing import Union\n",
    "\n",
    "per: Union[int, float] = 88\n",
    "grade: Union[str, None] = None\n",
    "\n",
    "if per >= 80:\n",
    "    grade = 'A+'\n",
    "elif per >= 70:\n",
    "    grade = 'A'\n",
    "elif per >= 60:\n",
    "    grade = 'B'\n",
    "elif per >= 50:\n",
    "    grade = 'C'\n",
    "elif per >= 40:\n",
    "    grade = 'D'\n",
    "elif per >= 33:\n",
    "    grade = 'E'\n",
    "else:\n",
    "    grade = 'Fail'\n",
    "    \n",
    "print(f\"Dear student your percentage is {per} now your calcualted grade is:\\t {grade}\")\n"
   ]
  },
  {
   "cell_type": "code",
   "execution_count": 11,
   "id": "591f7bd8",
   "metadata": {},
   "outputs": [
    {
     "name": "stdout",
     "output_type": "stream",
     "text": [
      "<class 'str'>\n",
      "78\n"
     ]
    }
   ],
   "source": [
    "a: int = input(\"Enter your percentage: \\t\")\n",
    "print(type(a))\n",
    "print(a)"
   ]
  },
  {
   "cell_type": "code",
   "execution_count": 12,
   "id": "9c3c466f",
   "metadata": {},
   "outputs": [
    {
     "name": "stdout",
     "output_type": "stream",
     "text": [
      "<class 'str'>\n",
      "89\n"
     ]
    }
   ],
   "source": [
    "a: int = input(\"Enter your percentage: \\t\")\n",
    "print(type(a))\n",
    "print(a)"
   ]
  },
  {
   "cell_type": "code",
   "execution_count": 17,
   "id": "9a18ed42",
   "metadata": {},
   "outputs": [
    {
     "name": "stdout",
     "output_type": "stream",
     "text": [
      "Dear student your percentage is 87 now your calcualted grade is:\t A+\n"
     ]
    }
   ],
   "source": [
    "from typing import Union\n",
    "\n",
    "per: Union[int, float] = int(input(\"Enter your percentage: \\t\"))\n",
    "grade: Union[str, None] = None\n",
    "\n",
    "if per >= 80:\n",
    "    grade = 'A+'\n",
    "elif per >= 70:\n",
    "    grade = 'A'\n",
    "elif per >= 60:\n",
    "    grade = 'B'\n",
    "elif per >= 50:\n",
    "    grade = 'C'\n",
    "elif per >= 40:\n",
    "    grade = 'D'\n",
    "elif per >= 33:\n",
    "    grade = 'E'\n",
    "else:\n",
    "    grade = 'Fail'\n",
    "    \n",
    "print(f\"Dear student your percentage is {per} now your calcualted grade is:\\t {grade}\")\n"
   ]
  },
  {
   "cell_type": "code",
   "execution_count": 18,
   "id": "f321a290",
   "metadata": {},
   "outputs": [],
   "source": [
    "from typing import Union, Optional\n",
    "\n",
    "per: Union[int, float] = 88\n",
    "grade: Optional[str] = None\n",
    "\n",
    "if per >= 80:\n",
    "    grade = 'A+'\n",
    "elif per >= 70:\n",
    "    grade = 'A'\n",
    "elif per >= 60:\n",
    "    grade = 'B'\n",
    "elif per >= 50:\n",
    "    grade = 'C'\n",
    "elif per >= 40:\n",
    "    grade = 'D'\n",
    "elif per >= 33:\n",
    "    grade = 'E'\n",
    "else:\n",
    "    grade = 'Fail'\n",
    "    "
   ]
  }
 ],
 "metadata": {
  "kernelspec": {
   "display_name": "python12",
   "language": "python",
   "name": "python3"
  },
  "language_info": {
   "codemirror_mode": {
    "name": "ipython",
    "version": 3
   },
   "file_extension": ".py",
   "mimetype": "text/x-python",
   "name": "python",
   "nbconvert_exporter": "python",
   "pygments_lexer": "ipython3",
   "version": "3.12.0"
  }
 },
 "nbformat": 4,
 "nbformat_minor": 5
}
