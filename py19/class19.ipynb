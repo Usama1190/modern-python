{
 "cells": [
  {
   "cell_type": "markdown",
   "id": "4c5ccfd1",
   "metadata": {},
   "source": [
    "# Pandas\n",
    "\n",
    "* filtering\n",
    "* sorting\n",
    "* usefull methods\n",
    "* groupby\n",
    "* merge"
   ]
  },
  {
   "cell_type": "code",
   "execution_count": 28,
   "id": "c64dd222",
   "metadata": {},
   "outputs": [
    {
     "data": {
      "text/html": [
       "<div>\n",
       "<style scoped>\n",
       "    .dataframe tbody tr th:only-of-type {\n",
       "        vertical-align: middle;\n",
       "    }\n",
       "\n",
       "    .dataframe tbody tr th {\n",
       "        vertical-align: top;\n",
       "    }\n",
       "\n",
       "    .dataframe thead th {\n",
       "        text-align: right;\n",
       "    }\n",
       "</style>\n",
       "<table border=\"1\" class=\"dataframe\">\n",
       "  <thead>\n",
       "    <tr style=\"text-align: right;\">\n",
       "      <th></th>\n",
       "      <th>roll_no</th>\n",
       "      <th>name</th>\n",
       "      <th>father</th>\n",
       "      <th>course</th>\n",
       "      <th>date_of_admission</th>\n",
       "      <th>fee</th>\n",
       "    </tr>\n",
       "  </thead>\n",
       "  <tbody>\n",
       "    <tr>\n",
       "      <th>0</th>\n",
       "      <td>1</td>\n",
       "      <td>Alice</td>\n",
       "      <td>Bob</td>\n",
       "      <td>Physics</td>\n",
       "      <td>2023-01-10</td>\n",
       "      <td>10000</td>\n",
       "    </tr>\n",
       "    <tr>\n",
       "      <th>1</th>\n",
       "      <td>2</td>\n",
       "      <td>Brian</td>\n",
       "      <td>Steve</td>\n",
       "      <td>Chemistry</td>\n",
       "      <td>2023-02-12</td>\n",
       "      <td>11000</td>\n",
       "    </tr>\n",
       "    <tr>\n",
       "      <th>2</th>\n",
       "      <td>3</td>\n",
       "      <td>Chloe</td>\n",
       "      <td>Tim</td>\n",
       "      <td>Biology</td>\n",
       "      <td>2023-03-14</td>\n",
       "      <td>12000</td>\n",
       "    </tr>\n",
       "    <tr>\n",
       "      <th>3</th>\n",
       "      <td>4</td>\n",
       "      <td>David</td>\n",
       "      <td>Rick</td>\n",
       "      <td>Mathematics</td>\n",
       "      <td>2023-04-10</td>\n",
       "      <td>13000</td>\n",
       "    </tr>\n",
       "    <tr>\n",
       "      <th>4</th>\n",
       "      <td>5</td>\n",
       "      <td>Eva</td>\n",
       "      <td>John</td>\n",
       "      <td>Computer Science</td>\n",
       "      <td>2023-05-16</td>\n",
       "      <td>14000</td>\n",
       "    </tr>\n",
       "    <tr>\n",
       "      <th>5</th>\n",
       "      <td>6</td>\n",
       "      <td>Frank</td>\n",
       "      <td>Tom</td>\n",
       "      <td>Economics</td>\n",
       "      <td>2023-06-21</td>\n",
       "      <td>15000</td>\n",
       "    </tr>\n",
       "    <tr>\n",
       "      <th>6</th>\n",
       "      <td>7</td>\n",
       "      <td>Grace</td>\n",
       "      <td>Harry</td>\n",
       "      <td>History</td>\n",
       "      <td>2023-07-25</td>\n",
       "      <td>16000</td>\n",
       "    </tr>\n",
       "    <tr>\n",
       "      <th>7</th>\n",
       "      <td>8</td>\n",
       "      <td>Henry</td>\n",
       "      <td>Charles</td>\n",
       "      <td>Geography</td>\n",
       "      <td>2023-08-17</td>\n",
       "      <td>17000</td>\n",
       "    </tr>\n",
       "    <tr>\n",
       "      <th>8</th>\n",
       "      <td>9</td>\n",
       "      <td>Isabel</td>\n",
       "      <td>Oliver</td>\n",
       "      <td>English</td>\n",
       "      <td>2023-09-10</td>\n",
       "      <td>18000</td>\n",
       "    </tr>\n",
       "    <tr>\n",
       "      <th>9</th>\n",
       "      <td>10</td>\n",
       "      <td>Jack</td>\n",
       "      <td>Noah</td>\n",
       "      <td>Art</td>\n",
       "      <td>2023-10-05</td>\n",
       "      <td>19000</td>\n",
       "    </tr>\n",
       "  </tbody>\n",
       "</table>\n",
       "</div>"
      ],
      "text/plain": [
       "   roll_no    name   father            course date_of_admission    fee\n",
       "0        1   Alice      Bob           Physics        2023-01-10  10000\n",
       "1        2   Brian    Steve         Chemistry        2023-02-12  11000\n",
       "2        3   Chloe      Tim           Biology        2023-03-14  12000\n",
       "3        4   David     Rick       Mathematics        2023-04-10  13000\n",
       "4        5     Eva     John  Computer Science        2023-05-16  14000\n",
       "5        6   Frank      Tom         Economics        2023-06-21  15000\n",
       "6        7   Grace    Harry           History        2023-07-25  16000\n",
       "7        8   Henry  Charles         Geography        2023-08-17  17000\n",
       "8        9  Isabel   Oliver           English        2023-09-10  18000\n",
       "9       10    Jack     Noah               Art        2023-10-05  19000"
      ]
     },
     "metadata": {},
     "output_type": "display_data"
    },
    {
     "name": "stdout",
     "output_type": "stream",
     "text": [
      "<class 'pandas.core.frame.DataFrame'>\n",
      "RangeIndex: 10 entries, 0 to 9\n",
      "Data columns (total 6 columns):\n",
      " #   Column             Non-Null Count  Dtype         \n",
      "---  ------             --------------  -----         \n",
      " 0   roll_no            10 non-null     int64         \n",
      " 1   name               10 non-null     object        \n",
      " 2   father             10 non-null     object        \n",
      " 3   course             10 non-null     object        \n",
      " 4   date_of_admission  10 non-null     datetime64[ns]\n",
      " 5   fee                10 non-null     int64         \n",
      "dtypes: datetime64[ns](1), int64(2), object(3)\n",
      "memory usage: 612.0+ bytes\n"
     ]
    },
    {
     "data": {
      "text/plain": [
       "None"
      ]
     },
     "metadata": {},
     "output_type": "display_data"
    }
   ],
   "source": [
    "import pandas as pd\n",
    "from datetime import datetime\n",
    "\n",
    "# defines the data as a list of dictionaries with 10 student records\n",
    "\n",
    "students_data = [\n",
    "    {'roll_no': 1, 'name': 'Alice', 'father': 'Bob', 'course': 'Physics', 'date_of_admission': '2023-01-10', 'fee': 10000},\n",
    "    {'roll_no': 2, 'name': 'Brian', 'father': 'Steve', 'course': 'Chemistry', 'date_of_admission': '2023-02-12', 'fee': 11000},\n",
    "    {'roll_no': 3, 'name': 'Chloe', 'father': 'Tim', 'course': 'Biology', 'date_of_admission': '2023-03-14', 'fee': 12000},\n",
    "    {'roll_no': 4, 'name': 'David', 'father': 'Rick', 'course': 'Mathematics', 'date_of_admission': '2023-04-10', 'fee': 13000},\n",
    "    {'roll_no': 5, 'name': 'Eva', 'father': 'John', 'course': 'Computer Science', 'date_of_admission': '2023-05-16', 'fee': 14000},\n",
    "    {'roll_no': 6, 'name': 'Frank', 'father': 'Tom', 'course': 'Economics', 'date_of_admission': '2023-06-21', 'fee': 15000},\n",
    "    {'roll_no': 7, 'name': 'Grace', 'father': 'Harry', 'course': 'History', 'date_of_admission': '2023-07-25', 'fee': 16000},\n",
    "    {'roll_no': 8, 'name': 'Henry', 'father': 'Charles', 'course': 'Geography', 'date_of_admission': '2023-08-17', 'fee': 17000},\n",
    "    {'roll_no': 9, 'name': 'Isabel', 'father': 'Oliver', 'course': 'English', 'date_of_admission': '2023-09-10', 'fee': 18000},\n",
    "    {'roll_no': 10, 'name': 'Jack', 'father': 'Noah', 'course': 'Art', 'date_of_admission': '2023-10-05', 'fee': 19000},\n",
    "]\n",
    "\n",
    "# create the DataFrame\n",
    "\n",
    "students_df: pd.DataFrame = pd.DataFrame(students_data)\n",
    "\n",
    "# convert `date_of_admission` to datetime\n",
    "\n",
    "students_df['date_of_admission'] = pd.to_datetime(students_df['date_of_admission'])\n",
    "\n",
    "# show the DataFrame\n",
    "\n",
    "display(students_df)\n",
    "\n",
    "# Verify the data types\n",
    "\n",
    "display(students_df.info())"
   ]
  },
  {
   "cell_type": "code",
   "execution_count": 29,
   "id": "ec0c31ea",
   "metadata": {},
   "outputs": [
    {
     "name": "stdout",
     "output_type": "stream",
     "text": [
      "   roll_no    name   father     course date_of_admission    fee\n",
      "0        1   Alice      Bob    Physics        2023-01-10  10000\n",
      "1        2   Brian    Steve  Chemistry        2023-02-12  11000\n",
      "2        3   Chloe      Tim    Biology        2023-03-14  12000\n",
      "3        4   David     Rick    Physics        2023-04-10  13000\n",
      "4        5     Eva     John    Physics        2023-05-16  14000\n",
      "5        6   Frank      Tom  Economics        2023-06-21  15000\n",
      "6        7   Grace    Harry    History        2023-07-25  16000\n",
      "7        8   Henry  Charles  Geography        2023-08-17  17000\n",
      "8        9  Isabel   Oliver    English        2023-09-10  18000\n",
      "9       10    Jack     Noah        Art        2023-10-05  19000\n"
     ]
    }
   ],
   "source": [
    "import pandera as pa\n",
    "from pandera.typing import Series\n",
    "from datetime import datetime\n",
    "import pandas as pd\n",
    "\n",
    "# define the schema using schema model\n",
    "\n",
    "class StudentSchema(pa.DataFrameModel):\n",
    "    roll_no: Series[int] = pa.Field(ge=1)\n",
    "    name: Series[str] = pa.Field(nullable=False)\n",
    "    father: Series[str] = pa.Field(nullable=False)\n",
    "    course: Series[str] = pa.Field(nullable=False)\n",
    "    date_of_admission: Series[datetime] = pa.Field(le=datetime.now())\n",
    "    fee: Series[int] = pa.Field(ge=0)\n",
    "    \n",
    "    class Config:\n",
    "        coerce = True     # Automatically coerce types if possible\n",
    "        strict = True     # Ensure all columns are accounted for in the schema\n",
    "        \n",
    "# data for 10 students\n",
    "students_data = [\n",
    "    {'roll_no': 1, 'name': 'Alice', 'father': 'Bob', 'course': 'Physics', 'date_of_admission': '2023-01-10', 'fee': 10000},\n",
    "    {'roll_no': 2, 'name': 'Brian', 'father': 'Steve', 'course': 'Chemistry', 'date_of_admission': '2023-02-12', 'fee': 11000},\n",
    "    {'roll_no': 3, 'name': 'Chloe', 'father': 'Tim', 'course': 'Biology', 'date_of_admission': '2023-03-14', 'fee': 12000},\n",
    "    {'roll_no': 4, 'name': 'David', 'father': 'Rick', 'course': 'Physics', 'date_of_admission': '2023-04-10', 'fee': 13000},\n",
    "    {'roll_no': 5, 'name': 'Eva', 'father': 'John', 'course': 'Physics', 'date_of_admission': '2023-05-16', 'fee': 14000},\n",
    "    {'roll_no': 6, 'name': 'Frank', 'father': 'Tom', 'course': 'Economics', 'date_of_admission': '2023-06-21', 'fee': 15000},\n",
    "    {'roll_no': 7, 'name': 'Grace', 'father': 'Harry', 'course': 'History', 'date_of_admission': '2023-07-25', 'fee': 16000},\n",
    "    {'roll_no': 8, 'name': 'Henry', 'father': 'Charles', 'course': 'Geography', 'date_of_admission': '2023-08-17', 'fee': 17000},\n",
    "    {'roll_no': 9, 'name': 'Isabel', 'father': 'Oliver', 'course': 'English', 'date_of_admission': '2023-09-10', 'fee': 18000},\n",
    "    {'roll_no': 10, 'name': 'Jack', 'father': 'Noah', 'course': 'Art', 'date_of_admission': '2023-10-05', 'fee': 19000},\n",
    "]\n",
    "\n",
    "# create the dataframe\n",
    "students_df = pd.DataFrame(students_data)\n",
    "\n",
    "# convert 'date_of_admission' to datetime\n",
    "students_df['date_of_admission'] = pd.to_datetime(students_df['date_of_admission'])\n",
    "\n",
    "# validate the dataframe\n",
    "\n",
    "validated_df = StudentSchema.validate(students_df)\n",
    "\n",
    "print(validated_df)"
   ]
  },
  {
   "cell_type": "markdown",
   "id": "e532c9c7",
   "metadata": {},
   "source": [
    "## Apply the filter or filter functions on dataframe"
   ]
  },
  {
   "cell_type": "code",
   "execution_count": 30,
   "id": "557bc61c",
   "metadata": {},
   "outputs": [
    {
     "data": {
      "text/html": [
       "<div>\n",
       "<style scoped>\n",
       "    .dataframe tbody tr th:only-of-type {\n",
       "        vertical-align: middle;\n",
       "    }\n",
       "\n",
       "    .dataframe tbody tr th {\n",
       "        vertical-align: top;\n",
       "    }\n",
       "\n",
       "    .dataframe thead th {\n",
       "        text-align: right;\n",
       "    }\n",
       "</style>\n",
       "<table border=\"1\" class=\"dataframe\">\n",
       "  <thead>\n",
       "    <tr style=\"text-align: right;\">\n",
       "      <th></th>\n",
       "      <th>roll_no</th>\n",
       "      <th>name</th>\n",
       "      <th>father</th>\n",
       "      <th>course</th>\n",
       "      <th>date_of_admission</th>\n",
       "      <th>fee</th>\n",
       "    </tr>\n",
       "  </thead>\n",
       "  <tbody>\n",
       "    <tr>\n",
       "      <th>0</th>\n",
       "      <td>1</td>\n",
       "      <td>Alice</td>\n",
       "      <td>Bob</td>\n",
       "      <td>Physics</td>\n",
       "      <td>2023-01-10</td>\n",
       "      <td>10000</td>\n",
       "    </tr>\n",
       "  </tbody>\n",
       "</table>\n",
       "</div>"
      ],
      "text/plain": [
       "   roll_no   name father   course date_of_admission    fee\n",
       "0        1  Alice    Bob  Physics        2023-01-10  10000"
      ]
     },
     "execution_count": 30,
     "metadata": {},
     "output_type": "execute_result"
    }
   ],
   "source": [
    "students_df.head(1)"
   ]
  },
  {
   "cell_type": "code",
   "execution_count": 31,
   "id": "c01f3dac",
   "metadata": {},
   "outputs": [
    {
     "data": {
      "text/plain": [
       "course\n",
       "Physics      3\n",
       "Chemistry    1\n",
       "Biology      1\n",
       "Economics    1\n",
       "History      1\n",
       "Geography    1\n",
       "English      1\n",
       "Art          1\n",
       "Name: count, dtype: int64"
      ]
     },
     "execution_count": 31,
     "metadata": {},
     "output_type": "execute_result"
    }
   ],
   "source": [
    "students_df.course.value_counts()"
   ]
  },
  {
   "cell_type": "code",
   "execution_count": 32,
   "id": "0ebcc59b",
   "metadata": {},
   "outputs": [
    {
     "data": {
      "text/plain": [
       "course\n",
       "Physics      3\n",
       "Chemistry    1\n",
       "Biology      1\n",
       "Economics    1\n",
       "History      1\n",
       "Geography    1\n",
       "English      1\n",
       "Art          1\n",
       "Name: count, dtype: int64"
      ]
     },
     "execution_count": 32,
     "metadata": {},
     "output_type": "execute_result"
    }
   ],
   "source": [
    "students_df.course.value_counts(dropna=False)    # also counts null cell values"
   ]
  },
  {
   "cell_type": "code",
   "execution_count": 33,
   "id": "633fb084",
   "metadata": {},
   "outputs": [
    {
     "data": {
      "text/plain": [
       "course\n",
       "Physics      0.3\n",
       "Chemistry    0.1\n",
       "Biology      0.1\n",
       "Economics    0.1\n",
       "History      0.1\n",
       "Geography    0.1\n",
       "English      0.1\n",
       "Art          0.1\n",
       "Name: proportion, dtype: float64"
      ]
     },
     "execution_count": 33,
     "metadata": {},
     "output_type": "execute_result"
    }
   ],
   "source": [
    "students_df.course.value_counts(dropna=False, normalize=True)    # also counts null cell values"
   ]
  },
  {
   "cell_type": "code",
   "execution_count": 34,
   "id": "6afdd8a8",
   "metadata": {},
   "outputs": [
    {
     "data": {
      "text/plain": [
       "course\n",
       "Physics      30.0\n",
       "Chemistry    10.0\n",
       "Biology      10.0\n",
       "Economics    10.0\n",
       "History      10.0\n",
       "Geography    10.0\n",
       "English      10.0\n",
       "Art          10.0\n",
       "Name: proportion, dtype: float64"
      ]
     },
     "execution_count": 34,
     "metadata": {},
     "output_type": "execute_result"
    }
   ],
   "source": [
    "students_df.course.value_counts(dropna=False, normalize=True)*100    # also counts null cell values"
   ]
  },
  {
   "cell_type": "code",
   "execution_count": 35,
   "id": "baa6564c",
   "metadata": {},
   "outputs": [
    {
     "data": {
      "text/html": [
       "<div>\n",
       "<style scoped>\n",
       "    .dataframe tbody tr th:only-of-type {\n",
       "        vertical-align: middle;\n",
       "    }\n",
       "\n",
       "    .dataframe tbody tr th {\n",
       "        vertical-align: top;\n",
       "    }\n",
       "\n",
       "    .dataframe thead th {\n",
       "        text-align: right;\n",
       "    }\n",
       "</style>\n",
       "<table border=\"1\" class=\"dataframe\">\n",
       "  <thead>\n",
       "    <tr style=\"text-align: right;\">\n",
       "      <th></th>\n",
       "      <th>roll_no</th>\n",
       "      <th>name</th>\n",
       "      <th>father</th>\n",
       "      <th>course</th>\n",
       "      <th>date_of_admission</th>\n",
       "      <th>fee</th>\n",
       "    </tr>\n",
       "  </thead>\n",
       "  <tbody>\n",
       "    <tr>\n",
       "      <th>0</th>\n",
       "      <td>1</td>\n",
       "      <td>Alice</td>\n",
       "      <td>Bob</td>\n",
       "      <td>Physics</td>\n",
       "      <td>2023-01-10</td>\n",
       "      <td>10000</td>\n",
       "    </tr>\n",
       "    <tr>\n",
       "      <th>1</th>\n",
       "      <td>2</td>\n",
       "      <td>Brian</td>\n",
       "      <td>Steve</td>\n",
       "      <td>Chemistry</td>\n",
       "      <td>2023-02-12</td>\n",
       "      <td>11000</td>\n",
       "    </tr>\n",
       "    <tr>\n",
       "      <th>2</th>\n",
       "      <td>3</td>\n",
       "      <td>Chloe</td>\n",
       "      <td>Tim</td>\n",
       "      <td>Biology</td>\n",
       "      <td>2023-03-14</td>\n",
       "      <td>12000</td>\n",
       "    </tr>\n",
       "    <tr>\n",
       "      <th>3</th>\n",
       "      <td>4</td>\n",
       "      <td>David</td>\n",
       "      <td>Rick</td>\n",
       "      <td>Physics</td>\n",
       "      <td>2023-04-10</td>\n",
       "      <td>13000</td>\n",
       "    </tr>\n",
       "    <tr>\n",
       "      <th>4</th>\n",
       "      <td>5</td>\n",
       "      <td>Eva</td>\n",
       "      <td>John</td>\n",
       "      <td>Physics</td>\n",
       "      <td>2023-05-16</td>\n",
       "      <td>14000</td>\n",
       "    </tr>\n",
       "    <tr>\n",
       "      <th>5</th>\n",
       "      <td>6</td>\n",
       "      <td>Frank</td>\n",
       "      <td>Tom</td>\n",
       "      <td>Economics</td>\n",
       "      <td>2023-06-21</td>\n",
       "      <td>15000</td>\n",
       "    </tr>\n",
       "    <tr>\n",
       "      <th>6</th>\n",
       "      <td>7</td>\n",
       "      <td>Grace</td>\n",
       "      <td>Harry</td>\n",
       "      <td>History</td>\n",
       "      <td>2023-07-25</td>\n",
       "      <td>16000</td>\n",
       "    </tr>\n",
       "    <tr>\n",
       "      <th>7</th>\n",
       "      <td>8</td>\n",
       "      <td>Henry</td>\n",
       "      <td>Charles</td>\n",
       "      <td>Geography</td>\n",
       "      <td>2023-08-17</td>\n",
       "      <td>17000</td>\n",
       "    </tr>\n",
       "    <tr>\n",
       "      <th>8</th>\n",
       "      <td>9</td>\n",
       "      <td>Isabel</td>\n",
       "      <td>Oliver</td>\n",
       "      <td>English</td>\n",
       "      <td>2023-09-10</td>\n",
       "      <td>18000</td>\n",
       "    </tr>\n",
       "    <tr>\n",
       "      <th>9</th>\n",
       "      <td>10</td>\n",
       "      <td>Jack</td>\n",
       "      <td>Noah</td>\n",
       "      <td>Art</td>\n",
       "      <td>2023-10-05</td>\n",
       "      <td>19000</td>\n",
       "    </tr>\n",
       "  </tbody>\n",
       "</table>\n",
       "</div>"
      ],
      "text/plain": [
       "   roll_no    name   father     course date_of_admission    fee\n",
       "0        1   Alice      Bob    Physics        2023-01-10  10000\n",
       "1        2   Brian    Steve  Chemistry        2023-02-12  11000\n",
       "2        3   Chloe      Tim    Biology        2023-03-14  12000\n",
       "3        4   David     Rick    Physics        2023-04-10  13000\n",
       "4        5     Eva     John    Physics        2023-05-16  14000\n",
       "5        6   Frank      Tom  Economics        2023-06-21  15000\n",
       "6        7   Grace    Harry    History        2023-07-25  16000\n",
       "7        8   Henry  Charles  Geography        2023-08-17  17000\n",
       "8        9  Isabel   Oliver    English        2023-09-10  18000\n",
       "9       10    Jack     Noah        Art        2023-10-05  19000"
      ]
     },
     "execution_count": 35,
     "metadata": {},
     "output_type": "execute_result"
    }
   ],
   "source": [
    "students_df"
   ]
  },
  {
   "cell_type": "code",
   "execution_count": 36,
   "id": "1572efed",
   "metadata": {},
   "outputs": [
    {
     "name": "stdout",
     "output_type": "stream",
     "text": [
      "          date   fee\n",
      "0   2025-01-01  4277\n",
      "1   2025-01-01  2170\n",
      "2   2025-01-01  4327\n",
      "3   2025-01-01  2256\n",
      "4   2025-01-01  1124\n",
      "..         ...   ...\n",
      "995 2025-06-19  3049\n",
      "996 2025-06-20  4785\n",
      "997 2025-06-20  1186\n",
      "998 2025-06-20  3211\n",
      "999 2025-06-20  2093\n",
      "\n",
      "[1000 rows x 2 columns]\n"
     ]
    }
   ],
   "source": [
    "import pandas as pd\n",
    "import numpy as np\n",
    "from datetime import datetime, timedelta\n",
    "\n",
    "# set a seed for reproducibility\n",
    "\n",
    "np.random.seed(0)\n",
    "\n",
    "# define the number of transactions\n",
    "\n",
    "num_trancsactions = 1000\n",
    "\n",
    "# generate random dates within the current year\n",
    "\n",
    "current_year = datetime.now().year\n",
    "strat_date = datetime(current_year, 1, 1)\n",
    "end_date = datetime.now()\n",
    "\n",
    "# generate a list of random dates within the year\n",
    "\n",
    "random_dates = [strat_date + timedelta(days=np.random.randint(0, (end_date - strat_date).days)) for _ in range(num_trancsactions)]\n",
    "\n",
    "# generate a list of random fee accounts\n",
    "\n",
    "random_fees = np.random.randint(low=0, high=5000, size=num_trancsactions)\n",
    "\n",
    "# create the dataframe\n",
    "\n",
    "fee_transactions = pd.DataFrame({\n",
    "    'date': random_dates,\n",
    "    'fee': random_fees\n",
    "})\n",
    "\n",
    "# sort by date for readability\n",
    "\n",
    "fee_transactions.sort_values('date', inplace=True)\n",
    "\n",
    "# reset index after sorting\n",
    "\n",
    "fee_transactions.reset_index(drop=True, inplace=True)\n",
    "\n",
    "print(fee_transactions)"
   ]
  },
  {
   "cell_type": "code",
   "execution_count": 37,
   "id": "a5ef8c55",
   "metadata": {},
   "outputs": [
    {
     "data": {
      "text/plain": [
       "0      (4000, 5000]\n",
       "1      (1000, 3000]\n",
       "2      (4000, 5000]\n",
       "3      (1000, 3000]\n",
       "4      (1000, 3000]\n",
       "           ...     \n",
       "995    (3000, 4000]\n",
       "996    (4000, 5000]\n",
       "997    (1000, 3000]\n",
       "998    (3000, 4000]\n",
       "999    (1000, 3000]\n",
       "Name: fee, Length: 1000, dtype: category\n",
       "Categories (5, interval[int64, right]): [(1, 500] < (500, 1000] < (1000, 3000] < (3000, 4000] < (4000, 5000]]"
      ]
     },
     "execution_count": 37,
     "metadata": {},
     "output_type": "execute_result"
    }
   ],
   "source": [
    "pd.cut(fee_transactions.fee, [1, 500, 1000, 3000, 4000, 5000])"
   ]
  },
  {
   "cell_type": "code",
   "execution_count": 38,
   "id": "77b3a79d",
   "metadata": {},
   "outputs": [
    {
     "data": {
      "text/plain": [
       "fee\n",
       "(1000, 3000]    428\n",
       "(3000, 4000]    201\n",
       "(4000, 5000]    185\n",
       "(1, 500]        106\n",
       "(500, 1000]      80\n",
       "Name: count, dtype: int64"
      ]
     },
     "execution_count": 38,
     "metadata": {},
     "output_type": "execute_result"
    }
   ],
   "source": [
    "pd.cut(fee_transactions.fee, [1, 500, 1000, 3000, 4000, 5000]).value_counts()"
   ]
  },
  {
   "cell_type": "code",
   "execution_count": 39,
   "id": "49f3f306",
   "metadata": {},
   "outputs": [
    {
     "data": {
      "text/plain": [
       "fee\n",
       "(1000, 3000]    42.8\n",
       "(3000, 4000]    20.1\n",
       "(4000, 5000]    18.5\n",
       "(1, 500]        10.6\n",
       "(500, 1000]      8.0\n",
       "Name: proportion, dtype: float64"
      ]
     },
     "execution_count": 39,
     "metadata": {},
     "output_type": "execute_result"
    }
   ],
   "source": [
    "pd.cut(fee_transactions.fee, [1, 500, 1000, 3000, 4000, 5000]).value_counts(normalize=True)*100"
   ]
  },
  {
   "cell_type": "code",
   "execution_count": 40,
   "id": "2f12a09d",
   "metadata": {},
   "outputs": [
    {
     "data": {
      "text/plain": [
       "0        (3479.5, 4438.2]\n",
       "1      (1529.199, 2396.5]\n",
       "2        (3479.5, 4438.2]\n",
       "3      (1529.199, 2396.5]\n",
       "4                     NaN\n",
       "              ...        \n",
       "995      (2396.5, 3479.5]\n",
       "996      (4438.2, 4997.0]\n",
       "997                   NaN\n",
       "998      (2396.5, 3479.5]\n",
       "999    (1529.199, 2396.5]\n",
       "Name: fee, Length: 1000, dtype: category\n",
       "Categories (4, interval[float64, right]): [(1529.199, 2396.5] < (2396.5, 3479.5] < (3479.5, 4438.2] < (4438.2, 4997.0]]"
      ]
     },
     "execution_count": 40,
     "metadata": {},
     "output_type": "execute_result"
    }
   ],
   "source": [
    "pd.qcut(fee_transactions.fee, [0.3, .5, .7, .9, 1])"
   ]
  },
  {
   "cell_type": "code",
   "execution_count": 41,
   "id": "40481a6a",
   "metadata": {},
   "outputs": [
    {
     "data": {
      "text/plain": [
       "fee\n",
       "(1529.199, 2396.5]    200\n",
       "(2396.5, 3479.5]      200\n",
       "(3479.5, 4438.2]      200\n",
       "(4438.2, 4997.0]      100\n",
       "Name: count, dtype: int64"
      ]
     },
     "execution_count": 41,
     "metadata": {},
     "output_type": "execute_result"
    }
   ],
   "source": [
    "pd.qcut(fee_transactions.fee, [0.3, .5, .7, .9, 1]).value_counts()"
   ]
  },
  {
   "cell_type": "code",
   "execution_count": 42,
   "id": "42fdb61a",
   "metadata": {},
   "outputs": [
    {
     "data": {
      "text/plain": [
       "fee\n",
       "(1529.199, 2396.5]    28.571429\n",
       "(2396.5, 3479.5]      28.571429\n",
       "(3479.5, 4438.2]      28.571429\n",
       "(4438.2, 4997.0]      14.285714\n",
       "Name: proportion, dtype: float64"
      ]
     },
     "execution_count": 42,
     "metadata": {},
     "output_type": "execute_result"
    }
   ],
   "source": [
    "pd.qcut(fee_transactions.fee, [0.3, .5, .7, .9, 1]).value_counts(normalize=True)*100"
   ]
  },
  {
   "cell_type": "code",
   "execution_count": 43,
   "id": "94fb14f8",
   "metadata": {},
   "outputs": [
    {
     "data": {
      "text/html": [
       "<div>\n",
       "<style scoped>\n",
       "    .dataframe tbody tr th:only-of-type {\n",
       "        vertical-align: middle;\n",
       "    }\n",
       "\n",
       "    .dataframe tbody tr th {\n",
       "        vertical-align: top;\n",
       "    }\n",
       "\n",
       "    .dataframe thead th {\n",
       "        text-align: right;\n",
       "    }\n",
       "</style>\n",
       "<table border=\"1\" class=\"dataframe\">\n",
       "  <thead>\n",
       "    <tr style=\"text-align: right;\">\n",
       "      <th></th>\n",
       "      <th>roll_no</th>\n",
       "      <th>name</th>\n",
       "      <th>father</th>\n",
       "      <th>course</th>\n",
       "      <th>date_of_admission</th>\n",
       "      <th>fee</th>\n",
       "    </tr>\n",
       "  </thead>\n",
       "  <tbody>\n",
       "    <tr>\n",
       "      <th>0</th>\n",
       "      <td>1</td>\n",
       "      <td>Alice</td>\n",
       "      <td>Bob</td>\n",
       "      <td>Physics</td>\n",
       "      <td>2023-01-10</td>\n",
       "      <td>10000</td>\n",
       "    </tr>\n",
       "    <tr>\n",
       "      <th>1</th>\n",
       "      <td>2</td>\n",
       "      <td>Brian</td>\n",
       "      <td>Steve</td>\n",
       "      <td>Chemistry</td>\n",
       "      <td>2023-02-12</td>\n",
       "      <td>11000</td>\n",
       "    </tr>\n",
       "    <tr>\n",
       "      <th>2</th>\n",
       "      <td>3</td>\n",
       "      <td>Chloe</td>\n",
       "      <td>Tim</td>\n",
       "      <td>Biology</td>\n",
       "      <td>2023-03-14</td>\n",
       "      <td>12000</td>\n",
       "    </tr>\n",
       "    <tr>\n",
       "      <th>3</th>\n",
       "      <td>4</td>\n",
       "      <td>David</td>\n",
       "      <td>Rick</td>\n",
       "      <td>Physics</td>\n",
       "      <td>2023-04-10</td>\n",
       "      <td>13000</td>\n",
       "    </tr>\n",
       "    <tr>\n",
       "      <th>4</th>\n",
       "      <td>5</td>\n",
       "      <td>Eva</td>\n",
       "      <td>John</td>\n",
       "      <td>Physics</td>\n",
       "      <td>2023-05-16</td>\n",
       "      <td>14000</td>\n",
       "    </tr>\n",
       "  </tbody>\n",
       "</table>\n",
       "</div>"
      ],
      "text/plain": [
       "   roll_no   name father     course date_of_admission    fee\n",
       "0        1  Alice    Bob    Physics        2023-01-10  10000\n",
       "1        2  Brian  Steve  Chemistry        2023-02-12  11000\n",
       "2        3  Chloe    Tim    Biology        2023-03-14  12000\n",
       "3        4  David   Rick    Physics        2023-04-10  13000\n",
       "4        5    Eva   John    Physics        2023-05-16  14000"
      ]
     },
     "execution_count": 43,
     "metadata": {},
     "output_type": "execute_result"
    }
   ],
   "source": [
    "students_df.head()"
   ]
  },
  {
   "cell_type": "markdown",
   "id": "01169509",
   "metadata": {},
   "source": [
    "## filter on cloumns\n",
    "\n",
    "* $, |, ~ Syntax\n",
    "\n",
    "dataframe[(dataframe.column1='value1') & (dataframe.column2='value2')]\n",
    "\n",
    "* string columns\n",
    "* numeric columns\n",
    "* datetime columns"
   ]
  },
  {
   "cell_type": "code",
   "execution_count": 44,
   "id": "f7a68990",
   "metadata": {},
   "outputs": [
    {
     "name": "stdout",
     "output_type": "stream",
     "text": [
      "   roll_no    name   father     course date_of_admission    fee\n",
      "0        1   Alice      Bob    Physics        2023-01-10  10000\n",
      "1        2   Brian    Steve  Chemistry        2023-02-12  11000\n",
      "2        3   Chloe      Tim    Biology        2023-03-14  12000\n",
      "3        4   David     Rick    physics        2023-04-10  13000\n",
      "4        5     Eva     John    Physics        2023-05-16  14000\n",
      "5        6   Frank      Tom  Economics        2023-06-21  15000\n",
      "6        7   Grace    Harry    History        2023-07-25  16000\n",
      "7        8   Henry  Charles  Geography        2023-08-17  17000\n",
      "8        9  Isabel   Oliver    English        2023-09-10  18000\n",
      "9       10    Jack     Noah        Art        2023-10-05  19000\n"
     ]
    }
   ],
   "source": [
    "import pandera as pa\n",
    "from pandera.typing import Series\n",
    "from datetime import datetime\n",
    "import pandas as pd\n",
    "\n",
    "# define the schema using schema model\n",
    "\n",
    "class StudentSchema(pa.DataFrameModel):\n",
    "    roll_no: Series[int] = pa.Field(ge=1)\n",
    "    name: Series[str] = pa.Field(nullable=False)\n",
    "    father: Series[str] = pa.Field(nullable=False)\n",
    "    course: Series[str] = pa.Field(nullable=False)\n",
    "    date_of_admission: Series[datetime] = pa.Field(le=datetime.now())\n",
    "    fee: Series[int] = pa.Field(ge=0)\n",
    "    \n",
    "    class Config:\n",
    "        coerce = True     # Automatically coerce types if possible\n",
    "        strict = True     # Ensure all columns are accounted for in the schema\n",
    "        \n",
    "# data for 10 students\n",
    "students_data = [\n",
    "    {'roll_no': 1, 'name': 'Alice', 'father': 'Bob', 'course': 'Physics', 'date_of_admission': '2023-01-10', 'fee': 10000},\n",
    "    {'roll_no': 2, 'name': 'Brian', 'father': 'Steve', 'course': 'Chemistry', 'date_of_admission': '2023-02-12', 'fee': 11000},\n",
    "    {'roll_no': 3, 'name': 'Chloe', 'father': 'Tim', 'course': 'Biology', 'date_of_admission': '2023-03-14', 'fee': 12000},\n",
    "    {'roll_no': 4, 'name': 'David', 'father': 'Rick', 'course': 'physics', 'date_of_admission': '2023-04-10', 'fee': 13000},\n",
    "    {'roll_no': 5, 'name': 'Eva', 'father': 'John', 'course': 'Physics', 'date_of_admission': '2023-05-16', 'fee': 14000},\n",
    "    {'roll_no': 6, 'name': 'Frank', 'father': 'Tom', 'course': 'Economics', 'date_of_admission': '2023-06-21', 'fee': 15000},\n",
    "    {'roll_no': 7, 'name': 'Grace', 'father': 'Harry', 'course': 'History', 'date_of_admission': '2023-07-25', 'fee': 16000},\n",
    "    {'roll_no': 8, 'name': 'Henry', 'father': 'Charles', 'course': 'Geography', 'date_of_admission': '2023-08-17', 'fee': 17000},\n",
    "    {'roll_no': 9, 'name': 'Isabel', 'father': 'Oliver', 'course': 'English', 'date_of_admission': '2023-09-10', 'fee': 18000},\n",
    "    {'roll_no': 10, 'name': 'Jack', 'father': 'Noah', 'course': 'Art', 'date_of_admission': '2023-10-05', 'fee': 19000},\n",
    "]\n",
    "\n",
    "# create the dataframe\n",
    "students_df = pd.DataFrame(students_data)\n",
    "\n",
    "# convert 'date_of_admission' to datetime\n",
    "students_df['date_of_admission'] = pd.to_datetime(students_df['date_of_admission'])\n",
    "\n",
    "# validate the dataframe\n",
    "\n",
    "validated_df = StudentSchema.validate(students_df)\n",
    "\n",
    "print(validated_df)"
   ]
  },
  {
   "cell_type": "code",
   "execution_count": 45,
   "id": "9914b86d",
   "metadata": {},
   "outputs": [
    {
     "data": {
      "text/html": [
       "<div>\n",
       "<style scoped>\n",
       "    .dataframe tbody tr th:only-of-type {\n",
       "        vertical-align: middle;\n",
       "    }\n",
       "\n",
       "    .dataframe tbody tr th {\n",
       "        vertical-align: top;\n",
       "    }\n",
       "\n",
       "    .dataframe thead th {\n",
       "        text-align: right;\n",
       "    }\n",
       "</style>\n",
       "<table border=\"1\" class=\"dataframe\">\n",
       "  <thead>\n",
       "    <tr style=\"text-align: right;\">\n",
       "      <th></th>\n",
       "      <th>roll_no</th>\n",
       "      <th>name</th>\n",
       "      <th>father</th>\n",
       "      <th>course</th>\n",
       "      <th>date_of_admission</th>\n",
       "      <th>fee</th>\n",
       "    </tr>\n",
       "  </thead>\n",
       "  <tbody>\n",
       "    <tr>\n",
       "      <th>0</th>\n",
       "      <td>1</td>\n",
       "      <td>Alice</td>\n",
       "      <td>Bob</td>\n",
       "      <td>Physics</td>\n",
       "      <td>2023-01-10</td>\n",
       "      <td>10000</td>\n",
       "    </tr>\n",
       "    <tr>\n",
       "      <th>1</th>\n",
       "      <td>2</td>\n",
       "      <td>Brian</td>\n",
       "      <td>Steve</td>\n",
       "      <td>Chemistry</td>\n",
       "      <td>2023-02-12</td>\n",
       "      <td>11000</td>\n",
       "    </tr>\n",
       "    <tr>\n",
       "      <th>2</th>\n",
       "      <td>3</td>\n",
       "      <td>Chloe</td>\n",
       "      <td>Tim</td>\n",
       "      <td>Biology</td>\n",
       "      <td>2023-03-14</td>\n",
       "      <td>12000</td>\n",
       "    </tr>\n",
       "    <tr>\n",
       "      <th>3</th>\n",
       "      <td>4</td>\n",
       "      <td>David</td>\n",
       "      <td>Rick</td>\n",
       "      <td>physics</td>\n",
       "      <td>2023-04-10</td>\n",
       "      <td>13000</td>\n",
       "    </tr>\n",
       "    <tr>\n",
       "      <th>4</th>\n",
       "      <td>5</td>\n",
       "      <td>Eva</td>\n",
       "      <td>John</td>\n",
       "      <td>Physics</td>\n",
       "      <td>2023-05-16</td>\n",
       "      <td>14000</td>\n",
       "    </tr>\n",
       "    <tr>\n",
       "      <th>5</th>\n",
       "      <td>6</td>\n",
       "      <td>Frank</td>\n",
       "      <td>Tom</td>\n",
       "      <td>Economics</td>\n",
       "      <td>2023-06-21</td>\n",
       "      <td>15000</td>\n",
       "    </tr>\n",
       "    <tr>\n",
       "      <th>6</th>\n",
       "      <td>7</td>\n",
       "      <td>Grace</td>\n",
       "      <td>Harry</td>\n",
       "      <td>History</td>\n",
       "      <td>2023-07-25</td>\n",
       "      <td>16000</td>\n",
       "    </tr>\n",
       "    <tr>\n",
       "      <th>7</th>\n",
       "      <td>8</td>\n",
       "      <td>Henry</td>\n",
       "      <td>Charles</td>\n",
       "      <td>Geography</td>\n",
       "      <td>2023-08-17</td>\n",
       "      <td>17000</td>\n",
       "    </tr>\n",
       "    <tr>\n",
       "      <th>8</th>\n",
       "      <td>9</td>\n",
       "      <td>Isabel</td>\n",
       "      <td>Oliver</td>\n",
       "      <td>English</td>\n",
       "      <td>2023-09-10</td>\n",
       "      <td>18000</td>\n",
       "    </tr>\n",
       "    <tr>\n",
       "      <th>9</th>\n",
       "      <td>10</td>\n",
       "      <td>Jack</td>\n",
       "      <td>Noah</td>\n",
       "      <td>Art</td>\n",
       "      <td>2023-10-05</td>\n",
       "      <td>19000</td>\n",
       "    </tr>\n",
       "  </tbody>\n",
       "</table>\n",
       "</div>"
      ],
      "text/plain": [
       "   roll_no    name   father     course date_of_admission    fee\n",
       "0        1   Alice      Bob    Physics        2023-01-10  10000\n",
       "1        2   Brian    Steve  Chemistry        2023-02-12  11000\n",
       "2        3   Chloe      Tim    Biology        2023-03-14  12000\n",
       "3        4   David     Rick    physics        2023-04-10  13000\n",
       "4        5     Eva     John    Physics        2023-05-16  14000\n",
       "5        6   Frank      Tom  Economics        2023-06-21  15000\n",
       "6        7   Grace    Harry    History        2023-07-25  16000\n",
       "7        8   Henry  Charles  Geography        2023-08-17  17000\n",
       "8        9  Isabel   Oliver    English        2023-09-10  18000\n",
       "9       10    Jack     Noah        Art        2023-10-05  19000"
      ]
     },
     "execution_count": 45,
     "metadata": {},
     "output_type": "execute_result"
    }
   ],
   "source": [
    "students_df.head(10)"
   ]
  },
  {
   "cell_type": "code",
   "execution_count": 46,
   "id": "c13135c7",
   "metadata": {},
   "outputs": [
    {
     "data": {
      "text/plain": [
       "0     True\n",
       "1    False\n",
       "2    False\n",
       "3    False\n",
       "4     True\n",
       "5    False\n",
       "6    False\n",
       "7    False\n",
       "8    False\n",
       "9    False\n",
       "Name: course, dtype: bool"
      ]
     },
     "execution_count": 46,
     "metadata": {},
     "output_type": "execute_result"
    }
   ],
   "source": [
    "students_df['course'] == 'Physics'"
   ]
  },
  {
   "cell_type": "code",
   "execution_count": 47,
   "id": "a7aa6645",
   "metadata": {},
   "outputs": [
    {
     "data": {
      "text/html": [
       "<div>\n",
       "<style scoped>\n",
       "    .dataframe tbody tr th:only-of-type {\n",
       "        vertical-align: middle;\n",
       "    }\n",
       "\n",
       "    .dataframe tbody tr th {\n",
       "        vertical-align: top;\n",
       "    }\n",
       "\n",
       "    .dataframe thead th {\n",
       "        text-align: right;\n",
       "    }\n",
       "</style>\n",
       "<table border=\"1\" class=\"dataframe\">\n",
       "  <thead>\n",
       "    <tr style=\"text-align: right;\">\n",
       "      <th></th>\n",
       "      <th>roll_no</th>\n",
       "      <th>name</th>\n",
       "      <th>father</th>\n",
       "      <th>course</th>\n",
       "      <th>date_of_admission</th>\n",
       "      <th>fee</th>\n",
       "    </tr>\n",
       "  </thead>\n",
       "  <tbody>\n",
       "    <tr>\n",
       "      <th>0</th>\n",
       "      <td>1</td>\n",
       "      <td>Alice</td>\n",
       "      <td>Bob</td>\n",
       "      <td>Physics</td>\n",
       "      <td>2023-01-10</td>\n",
       "      <td>10000</td>\n",
       "    </tr>\n",
       "    <tr>\n",
       "      <th>4</th>\n",
       "      <td>5</td>\n",
       "      <td>Eva</td>\n",
       "      <td>John</td>\n",
       "      <td>Physics</td>\n",
       "      <td>2023-05-16</td>\n",
       "      <td>14000</td>\n",
       "    </tr>\n",
       "  </tbody>\n",
       "</table>\n",
       "</div>"
      ],
      "text/plain": [
       "   roll_no   name father   course date_of_admission    fee\n",
       "0        1  Alice    Bob  Physics        2023-01-10  10000\n",
       "4        5    Eva   John  Physics        2023-05-16  14000"
      ]
     },
     "execution_count": 47,
     "metadata": {},
     "output_type": "execute_result"
    }
   ],
   "source": [
    "students_df[students_df['course'] == 'Physics']"
   ]
  },
  {
   "cell_type": "code",
   "execution_count": 48,
   "id": "a8193b64",
   "metadata": {},
   "outputs": [
    {
     "data": {
      "text/plain": [
       "0     True\n",
       "1    False\n",
       "2    False\n",
       "3     True\n",
       "4     True\n",
       "5    False\n",
       "6    False\n",
       "7    False\n",
       "8    False\n",
       "9    False\n",
       "Name: course, dtype: bool"
      ]
     },
     "execution_count": 48,
     "metadata": {},
     "output_type": "execute_result"
    }
   ],
   "source": [
    "students_df['course'].str.lower() == 'physics'"
   ]
  },
  {
   "cell_type": "code",
   "execution_count": 49,
   "id": "256177d7",
   "metadata": {},
   "outputs": [
    {
     "data": {
      "text/html": [
       "<div>\n",
       "<style scoped>\n",
       "    .dataframe tbody tr th:only-of-type {\n",
       "        vertical-align: middle;\n",
       "    }\n",
       "\n",
       "    .dataframe tbody tr th {\n",
       "        vertical-align: top;\n",
       "    }\n",
       "\n",
       "    .dataframe thead th {\n",
       "        text-align: right;\n",
       "    }\n",
       "</style>\n",
       "<table border=\"1\" class=\"dataframe\">\n",
       "  <thead>\n",
       "    <tr style=\"text-align: right;\">\n",
       "      <th></th>\n",
       "      <th>roll_no</th>\n",
       "      <th>name</th>\n",
       "      <th>father</th>\n",
       "      <th>course</th>\n",
       "      <th>date_of_admission</th>\n",
       "      <th>fee</th>\n",
       "    </tr>\n",
       "  </thead>\n",
       "  <tbody>\n",
       "    <tr>\n",
       "      <th>0</th>\n",
       "      <td>1</td>\n",
       "      <td>Alice</td>\n",
       "      <td>Bob</td>\n",
       "      <td>Physics</td>\n",
       "      <td>2023-01-10</td>\n",
       "      <td>10000</td>\n",
       "    </tr>\n",
       "    <tr>\n",
       "      <th>3</th>\n",
       "      <td>4</td>\n",
       "      <td>David</td>\n",
       "      <td>Rick</td>\n",
       "      <td>physics</td>\n",
       "      <td>2023-04-10</td>\n",
       "      <td>13000</td>\n",
       "    </tr>\n",
       "    <tr>\n",
       "      <th>4</th>\n",
       "      <td>5</td>\n",
       "      <td>Eva</td>\n",
       "      <td>John</td>\n",
       "      <td>Physics</td>\n",
       "      <td>2023-05-16</td>\n",
       "      <td>14000</td>\n",
       "    </tr>\n",
       "  </tbody>\n",
       "</table>\n",
       "</div>"
      ],
      "text/plain": [
       "   roll_no   name father   course date_of_admission    fee\n",
       "0        1  Alice    Bob  Physics        2023-01-10  10000\n",
       "3        4  David   Rick  physics        2023-04-10  13000\n",
       "4        5    Eva   John  Physics        2023-05-16  14000"
      ]
     },
     "execution_count": 49,
     "metadata": {},
     "output_type": "execute_result"
    }
   ],
   "source": [
    "students_df[students_df['course'].str.lower() == 'physics']"
   ]
  },
  {
   "cell_type": "code",
   "execution_count": 50,
   "id": "2c728a9f",
   "metadata": {},
   "outputs": [
    {
     "data": {
      "text/plain": [
       "0     True\n",
       "1    False\n",
       "2    False\n",
       "3     True\n",
       "4     True\n",
       "5     True\n",
       "6    False\n",
       "7    False\n",
       "8    False\n",
       "9    False\n",
       "Name: course, dtype: bool"
      ]
     },
     "execution_count": 50,
     "metadata": {},
     "output_type": "execute_result"
    }
   ],
   "source": [
    "students_df['course'].str.lower().str.contains('cs')"
   ]
  },
  {
   "cell_type": "code",
   "execution_count": 52,
   "id": "657b7510",
   "metadata": {},
   "outputs": [
    {
     "data": {
      "text/html": [
       "<div>\n",
       "<style scoped>\n",
       "    .dataframe tbody tr th:only-of-type {\n",
       "        vertical-align: middle;\n",
       "    }\n",
       "\n",
       "    .dataframe tbody tr th {\n",
       "        vertical-align: top;\n",
       "    }\n",
       "\n",
       "    .dataframe thead th {\n",
       "        text-align: right;\n",
       "    }\n",
       "</style>\n",
       "<table border=\"1\" class=\"dataframe\">\n",
       "  <thead>\n",
       "    <tr style=\"text-align: right;\">\n",
       "      <th></th>\n",
       "      <th>roll_no</th>\n",
       "      <th>name</th>\n",
       "      <th>father</th>\n",
       "      <th>course</th>\n",
       "      <th>date_of_admission</th>\n",
       "      <th>fee</th>\n",
       "    </tr>\n",
       "  </thead>\n",
       "  <tbody>\n",
       "    <tr>\n",
       "      <th>0</th>\n",
       "      <td>1</td>\n",
       "      <td>Alice</td>\n",
       "      <td>Bob</td>\n",
       "      <td>Physics</td>\n",
       "      <td>2023-01-10</td>\n",
       "      <td>10000</td>\n",
       "    </tr>\n",
       "    <tr>\n",
       "      <th>3</th>\n",
       "      <td>4</td>\n",
       "      <td>David</td>\n",
       "      <td>Rick</td>\n",
       "      <td>physics</td>\n",
       "      <td>2023-04-10</td>\n",
       "      <td>13000</td>\n",
       "    </tr>\n",
       "    <tr>\n",
       "      <th>4</th>\n",
       "      <td>5</td>\n",
       "      <td>Eva</td>\n",
       "      <td>John</td>\n",
       "      <td>Physics</td>\n",
       "      <td>2023-05-16</td>\n",
       "      <td>14000</td>\n",
       "    </tr>\n",
       "    <tr>\n",
       "      <th>5</th>\n",
       "      <td>6</td>\n",
       "      <td>Frank</td>\n",
       "      <td>Tom</td>\n",
       "      <td>Economics</td>\n",
       "      <td>2023-06-21</td>\n",
       "      <td>15000</td>\n",
       "    </tr>\n",
       "  </tbody>\n",
       "</table>\n",
       "</div>"
      ],
      "text/plain": [
       "   roll_no   name father     course date_of_admission    fee\n",
       "0        1  Alice    Bob    Physics        2023-01-10  10000\n",
       "3        4  David   Rick    physics        2023-04-10  13000\n",
       "4        5    Eva   John    Physics        2023-05-16  14000\n",
       "5        6  Frank    Tom  Economics        2023-06-21  15000"
      ]
     },
     "execution_count": 52,
     "metadata": {},
     "output_type": "execute_result"
    }
   ],
   "source": [
    "students_df[students_df['course'].str.lower().str.contains('cs')]"
   ]
  },
  {
   "cell_type": "code",
   "execution_count": 53,
   "id": "6c851a3e",
   "metadata": {},
   "outputs": [
    {
     "data": {
      "text/html": [
       "<div>\n",
       "<style scoped>\n",
       "    .dataframe tbody tr th:only-of-type {\n",
       "        vertical-align: middle;\n",
       "    }\n",
       "\n",
       "    .dataframe tbody tr th {\n",
       "        vertical-align: top;\n",
       "    }\n",
       "\n",
       "    .dataframe thead th {\n",
       "        text-align: right;\n",
       "    }\n",
       "</style>\n",
       "<table border=\"1\" class=\"dataframe\">\n",
       "  <thead>\n",
       "    <tr style=\"text-align: right;\">\n",
       "      <th></th>\n",
       "      <th>roll_no</th>\n",
       "      <th>name</th>\n",
       "      <th>father</th>\n",
       "      <th>course</th>\n",
       "      <th>date_of_admission</th>\n",
       "      <th>fee</th>\n",
       "    </tr>\n",
       "  </thead>\n",
       "  <tbody>\n",
       "    <tr>\n",
       "      <th>4</th>\n",
       "      <td>5</td>\n",
       "      <td>Eva</td>\n",
       "      <td>John</td>\n",
       "      <td>Physics</td>\n",
       "      <td>2023-05-16</td>\n",
       "      <td>14000</td>\n",
       "    </tr>\n",
       "    <tr>\n",
       "      <th>5</th>\n",
       "      <td>6</td>\n",
       "      <td>Frank</td>\n",
       "      <td>Tom</td>\n",
       "      <td>Economics</td>\n",
       "      <td>2023-06-21</td>\n",
       "      <td>15000</td>\n",
       "    </tr>\n",
       "  </tbody>\n",
       "</table>\n",
       "</div>"
      ],
      "text/plain": [
       "   roll_no   name father     course date_of_admission    fee\n",
       "4        5    Eva   John    Physics        2023-05-16  14000\n",
       "5        6  Frank    Tom  Economics        2023-06-21  15000"
      ]
     },
     "execution_count": 53,
     "metadata": {},
     "output_type": "execute_result"
    }
   ],
   "source": [
    "students_df[(students_df['course'].str.lower().str.contains('cs')) & (students_df['fee'] >= 14000)]"
   ]
  },
  {
   "cell_type": "code",
   "execution_count": 54,
   "id": "2a4cea63",
   "metadata": {},
   "outputs": [
    {
     "data": {
      "text/plain": [
       "0    False\n",
       "1    False\n",
       "2    False\n",
       "3    False\n",
       "4    False\n",
       "5    False\n",
       "6    False\n",
       "7    False\n",
       "8    False\n",
       "9    False\n",
       "Name: course, dtype: bool"
      ]
     },
     "execution_count": 54,
     "metadata": {},
     "output_type": "execute_result"
    }
   ],
   "source": [
    "students_df['course'].str.lower().str.contains('cs') & students_df['course'].str.lower().str.contains('r')"
   ]
  },
  {
   "cell_type": "code",
   "execution_count": 55,
   "id": "8775eb1c",
   "metadata": {},
   "outputs": [
    {
     "data": {
      "text/plain": [
       "0     True\n",
       "1     True\n",
       "2    False\n",
       "3     True\n",
       "4     True\n",
       "5     True\n",
       "6     True\n",
       "7     True\n",
       "8    False\n",
       "9     True\n",
       "Name: course, dtype: bool"
      ]
     },
     "execution_count": 55,
     "metadata": {},
     "output_type": "execute_result"
    }
   ],
   "source": [
    "students_df['course'].str.lower().str.contains('cs') | students_df['course'].str.lower().str.contains('r')"
   ]
  },
  {
   "cell_type": "code",
   "execution_count": 56,
   "id": "58915f67",
   "metadata": {},
   "outputs": [
    {
     "data": {
      "text/html": [
       "<div>\n",
       "<style scoped>\n",
       "    .dataframe tbody tr th:only-of-type {\n",
       "        vertical-align: middle;\n",
       "    }\n",
       "\n",
       "    .dataframe tbody tr th {\n",
       "        vertical-align: top;\n",
       "    }\n",
       "\n",
       "    .dataframe thead th {\n",
       "        text-align: right;\n",
       "    }\n",
       "</style>\n",
       "<table border=\"1\" class=\"dataframe\">\n",
       "  <thead>\n",
       "    <tr style=\"text-align: right;\">\n",
       "      <th></th>\n",
       "      <th>roll_no</th>\n",
       "      <th>name</th>\n",
       "      <th>father</th>\n",
       "      <th>course</th>\n",
       "      <th>date_of_admission</th>\n",
       "      <th>fee</th>\n",
       "    </tr>\n",
       "  </thead>\n",
       "  <tbody>\n",
       "    <tr>\n",
       "      <th>0</th>\n",
       "      <td>1</td>\n",
       "      <td>Alice</td>\n",
       "      <td>Bob</td>\n",
       "      <td>Physics</td>\n",
       "      <td>2023-01-10</td>\n",
       "      <td>10000</td>\n",
       "    </tr>\n",
       "    <tr>\n",
       "      <th>1</th>\n",
       "      <td>2</td>\n",
       "      <td>Brian</td>\n",
       "      <td>Steve</td>\n",
       "      <td>Chemistry</td>\n",
       "      <td>2023-02-12</td>\n",
       "      <td>11000</td>\n",
       "    </tr>\n",
       "    <tr>\n",
       "      <th>3</th>\n",
       "      <td>4</td>\n",
       "      <td>David</td>\n",
       "      <td>Rick</td>\n",
       "      <td>physics</td>\n",
       "      <td>2023-04-10</td>\n",
       "      <td>13000</td>\n",
       "    </tr>\n",
       "    <tr>\n",
       "      <th>4</th>\n",
       "      <td>5</td>\n",
       "      <td>Eva</td>\n",
       "      <td>John</td>\n",
       "      <td>Physics</td>\n",
       "      <td>2023-05-16</td>\n",
       "      <td>14000</td>\n",
       "    </tr>\n",
       "    <tr>\n",
       "      <th>5</th>\n",
       "      <td>6</td>\n",
       "      <td>Frank</td>\n",
       "      <td>Tom</td>\n",
       "      <td>Economics</td>\n",
       "      <td>2023-06-21</td>\n",
       "      <td>15000</td>\n",
       "    </tr>\n",
       "    <tr>\n",
       "      <th>6</th>\n",
       "      <td>7</td>\n",
       "      <td>Grace</td>\n",
       "      <td>Harry</td>\n",
       "      <td>History</td>\n",
       "      <td>2023-07-25</td>\n",
       "      <td>16000</td>\n",
       "    </tr>\n",
       "    <tr>\n",
       "      <th>7</th>\n",
       "      <td>8</td>\n",
       "      <td>Henry</td>\n",
       "      <td>Charles</td>\n",
       "      <td>Geography</td>\n",
       "      <td>2023-08-17</td>\n",
       "      <td>17000</td>\n",
       "    </tr>\n",
       "    <tr>\n",
       "      <th>9</th>\n",
       "      <td>10</td>\n",
       "      <td>Jack</td>\n",
       "      <td>Noah</td>\n",
       "      <td>Art</td>\n",
       "      <td>2023-10-05</td>\n",
       "      <td>19000</td>\n",
       "    </tr>\n",
       "  </tbody>\n",
       "</table>\n",
       "</div>"
      ],
      "text/plain": [
       "   roll_no   name   father     course date_of_admission    fee\n",
       "0        1  Alice      Bob    Physics        2023-01-10  10000\n",
       "1        2  Brian    Steve  Chemistry        2023-02-12  11000\n",
       "3        4  David     Rick    physics        2023-04-10  13000\n",
       "4        5    Eva     John    Physics        2023-05-16  14000\n",
       "5        6  Frank      Tom  Economics        2023-06-21  15000\n",
       "6        7  Grace    Harry    History        2023-07-25  16000\n",
       "7        8  Henry  Charles  Geography        2023-08-17  17000\n",
       "9       10   Jack     Noah        Art        2023-10-05  19000"
      ]
     },
     "execution_count": 56,
     "metadata": {},
     "output_type": "execute_result"
    }
   ],
   "source": [
    "students_df[students_df['course'].str.lower().str.contains('cs') | students_df['course'].str.lower().str.contains('r')]"
   ]
  },
  {
   "cell_type": "code",
   "execution_count": 57,
   "id": "47c89ea5",
   "metadata": {},
   "outputs": [
    {
     "name": "stdout",
     "output_type": "stream",
     "text": [
      "   roll_no    name   father     course date_of_admission    fee\n",
      "0        1   Alice      Bob    Physics        2023-01-10  10000\n",
      "1        2   Brian    Steve  Chemistry        2023-02-12  11000\n",
      "2        3   Chloe      Tim    Biology        2023-03-14  12000\n",
      "3        4   David     Rick    physics        2023-04-10  13000\n",
      "4        5     Eva     John    Physics        2023-05-16  14000\n",
      "5        6   Frank      Tom  Economics        2023-06-21  15000\n",
      "6        7   Grace    Harry    History        2023-07-25  16000\n",
      "7        8   Henry  Charles  Geography        2023-08-17  17000\n",
      "8        9  Isabel   Oliver    English        2023-09-10  18000\n",
      "9       10    Jack     Noah        Art        2023-10-05  19000\n"
     ]
    }
   ],
   "source": [
    "import pandera as pa\n",
    "from pandera.typing import Series\n",
    "from datetime import datetime\n",
    "import pandas as pd\n",
    "\n",
    "# define the schema using schema model\n",
    "\n",
    "class StudentSchema(pa.DataFrameModel):\n",
    "    roll_no: Series[int] = pa.Field(ge=1)\n",
    "    name: Series[str] = pa.Field(nullable=False)\n",
    "    father: Series[str] = pa.Field(nullable=False)\n",
    "    course: Series[str] = pa.Field(nullable=False)\n",
    "    date_of_admission: Series[datetime] = pa.Field(le=datetime.now())\n",
    "    fee: Series[int] = pa.Field(ge=0)\n",
    "    \n",
    "    class Config:\n",
    "        coerce = True     # Automatically coerce types if possible\n",
    "        strict = True     # Ensure all columns are accounted for in the schema\n",
    "        \n",
    "# data for 10 students\n",
    "students_data = [\n",
    "    {'roll_no': 1, 'name': 'Alice', 'father': 'Bob', 'course': 'Physics', 'date_of_admission': '2023-01-10', 'fee': 10000},\n",
    "    {'roll_no': 2, 'name': 'Brian', 'father': 'Steve', 'course': 'Chemistry', 'date_of_admission': '2023-02-12', 'fee': 11000},\n",
    "    {'roll_no': 3, 'name': 'Chloe', 'father': 'Tim', 'course': 'Biology', 'date_of_admission': '2023-03-14', 'fee': 12000},\n",
    "    {'roll_no': 4, 'name': 'David', 'father': 'Rick', 'course': 'physics', 'date_of_admission': '2023-04-10', 'fee': 13000},\n",
    "    {'roll_no': 5, 'name': 'Eva', 'father': 'John', 'course': 'Physics', 'date_of_admission': '2023-05-16', 'fee': 14000},\n",
    "    {'roll_no': 6, 'name': 'Frank', 'father': 'Tom', 'course': 'Economics', 'date_of_admission': '2023-06-21', 'fee': 15000},\n",
    "    {'roll_no': 7, 'name': 'Grace', 'father': 'Harry', 'course': 'History', 'date_of_admission': '2023-07-25', 'fee': 16000},\n",
    "    {'roll_no': 8, 'name': 'Henry', 'father': 'Charles', 'course': 'Geography', 'date_of_admission': '2023-08-17', 'fee': 17000},\n",
    "    {'roll_no': 9, 'name': 'Isabel', 'father': 'Oliver', 'course': 'English', 'date_of_admission': '2023-09-10', 'fee': 18000},\n",
    "    {'roll_no': 10, 'name': 'Jack', 'father': 'Noah', 'course': 'Art', 'date_of_admission': '2023-10-05', 'fee': 19000},\n",
    "]\n",
    "\n",
    "# create the dataframe\n",
    "students_df = pd.DataFrame(students_data)\n",
    "\n",
    "# convert 'date_of_admission' to datetime\n",
    "students_df['date_of_admission'] = pd.to_datetime(students_df['date_of_admission'])\n",
    "\n",
    "# validate the dataframe\n",
    "\n",
    "validated_df = StudentSchema.validate(students_df)\n",
    "\n",
    "print(validated_df)"
   ]
  },
  {
   "cell_type": "markdown",
   "id": "c217fd95",
   "metadata": {},
   "source": [
    "## apply filter on date column\n",
    "\n",
    "* dataframe.column.dt\n",
    "* dt.strftime\n",
    "* dt.strptime\n",
    "\n",
    "In Pandas, when you have a `datetime` column in a DataFrame, you can format the date and time information using the `strftime` method which allows for flexible formatting by specifyings format codes. Each code represents a different element of the date and time. Below are some of the commonly used format codes that you can use with `strftime`.\n",
    "\n",
    "```\n",
    "`%a`- Abbreviated weekday name.\n",
    "`%A`- Full weekday name.\n",
    "`%w`- Weekday as a decimal number, where 0 is Sunday and 6 is Saturday.\n",
    "`%d`- Day of the month as a zero-padded decimal number.\n",
    "`%b`- Abbreviated month name.\n",
    "`%B`- Full month name.\n",
    "`%m`- Month as a zero-padded decimal number.\n",
    "`%y`- Year without century as a zero-padded decimal number.\n",
    "`%Y`- Year with century as a decimal number.\n",
    "`%H`- Hour (24-hour clock) as a zero-padded decimal number.\n",
    "`%I`- Hour (12-hour clock) as a zero-padded decimal number.\n",
    "`%p`- Locale’s equivalent of either AM or PM.\n",
    "`%M`- Minute as a zero-padded decimal number.\n",
    "`%S`- Second as a zero-padded decimal number.\n",
    "`%f`- Microsecond as a decimal number, zero-padded on the left.\n",
    "`%z`- UTC offset in the form ±HHMM[SS[.ffffff]] (empty string if the object is naive).\n",
    "`%Z`- Time zone name (empty string if the object is naive).\n",
    "`%j`- Day of the year as a zero-padded decimal number.\n",
    "`%U`- Week number of the year (Sunday as the first day of the week) as a zero-padded decimal number.\n",
    "`%W`- Week number of the year (Monday as the first day of the week) as a zero-padded decimal number.\n",
    "`%c`- Locale’s appropriate date and time representation.\n",
    "`%x`- Locale’s appropriate date representation.\n",
    "`%X`- Locale’s appropriate time representation.\n",
    "`%G`- ISO 8601 year with century representing the year that contains the greater part of the ISO week (`%V`).\n",
    "`%u`- ISO 8601 weekday as a decimal number where 1 is Monday.\n",
    "`%V`- ISO 8601 week number as a decimal number with Monday as the first day of the week.\n",
    "```\n",
    "Here's a small example of how to use `strftime` with a pandas DataFrame.\n",
    "\n",
    "```\n",
    "import pandas as pd\n",
    "\n",
    "# create a sample DataFrame with datetime column\n",
    "\n",
    "df = pd.DataFrame({\n",
    "    'datetime': pd.date_range(start='2025-01-01', periods=3, freq='D')\n",
    "})\n",
    "\n",
    "# format the `datetime` column as a string with a specific format.\n",
    "\n",
    "df['formatted_date'] = df['datetime'].dt.strftime('%Y-%m-%d %H-%M-%S')\n",
    "\n",
    "print(df)\n",
    "```\n",
    "\n",
    "The `formatted_date` column will contain string representing the dates in the format specific by the `strftime` method. You can combine any of the symbols above to create the date format string as per your requirements."
   ]
  },
  {
   "cell_type": "code",
   "execution_count": 58,
   "id": "10f1f8ee",
   "metadata": {},
   "outputs": [
    {
     "data": {
      "text/plain": [
       "0   2023-01-10\n",
       "1   2023-02-12\n",
       "2   2023-03-14\n",
       "3   2023-04-10\n",
       "4   2023-05-16\n",
       "5   2023-06-21\n",
       "6   2023-07-25\n",
       "7   2023-08-17\n",
       "8   2023-09-10\n",
       "9   2023-10-05\n",
       "Name: date_of_admission, dtype: datetime64[ns]"
      ]
     },
     "execution_count": 58,
     "metadata": {},
     "output_type": "execute_result"
    }
   ],
   "source": [
    "students_df['date_of_admission']"
   ]
  },
  {
   "cell_type": "code",
   "execution_count": 70,
   "id": "e81453b8",
   "metadata": {},
   "outputs": [
    {
     "data": {
      "text/plain": [
       "0   2023-01-10\n",
       "1   2023-02-12\n",
       "2   2023-03-14\n",
       "3   2023-04-10\n",
       "4   2023-05-16\n",
       "5   2023-06-21\n",
       "6   2023-07-25\n",
       "7   2023-08-17\n",
       "8   2023-09-10\n",
       "9   2023-10-05\n",
       "Name: date_of_admission, dtype: datetime64[ns]"
      ]
     },
     "execution_count": 70,
     "metadata": {},
     "output_type": "execute_result"
    }
   ],
   "source": [
    "students_df['date_of_admission'].dt.year\n",
    "students_df['date_of_admission'].dt.month\n",
    "students_df['date_of_admission'].dt.day\n",
    "students_df['date_of_admission'].dt.weekday\n",
    "students_df['date_of_admission'].dt.day_of_week\n",
    "students_df['date_of_admission'].dt.hour\n",
    "students_df['date_of_admission'].dt.minute\n",
    "students_df['date_of_admission'].dt.second\n",
    "students_df['date_of_admission'].dt.microsecond\n",
    "students_df['date_of_admission'].dt.tz\n",
    "students_df['date_of_admission'].dt.tz_localize\n",
    "students_df['date_of_admission'].dt.tz_convert\n",
    "students_df['date_of_admission'].dt.tz_localize(None)"
   ]
  },
  {
   "cell_type": "code",
   "execution_count": 71,
   "id": "135117a4",
   "metadata": {},
   "outputs": [
    {
     "data": {
      "text/plain": [
       "['ceil',\n",
       " 'date',\n",
       " 'day',\n",
       " 'dayofweek',\n",
       " 'dayofyear',\n",
       " 'daysinmonth',\n",
       " 'floor',\n",
       " 'freq',\n",
       " 'hour',\n",
       " 'isocalendar',\n",
       " 'microsecond',\n",
       " 'minute',\n",
       " 'month',\n",
       " 'nanosecond',\n",
       " 'normalize',\n",
       " 'quarter',\n",
       " 'round',\n",
       " 'second',\n",
       " 'strftime',\n",
       " 'time',\n",
       " 'timetz',\n",
       " 'tz',\n",
       " 'unit',\n",
       " 'weekday',\n",
       " 'year']"
      ]
     },
     "execution_count": 71,
     "metadata": {},
     "output_type": "execute_result"
    }
   ],
   "source": [
    "[i for i in dir(students_df['date_of_admission'].dt) if '_' not in i]"
   ]
  },
  {
   "cell_type": "code",
   "execution_count": 72,
   "id": "189727ec",
   "metadata": {},
   "outputs": [
    {
     "data": {
      "text/plain": [
       "datetime.datetime(2025, 6, 21, 2, 30, 19, 75248)"
      ]
     },
     "execution_count": 72,
     "metadata": {},
     "output_type": "execute_result"
    }
   ],
   "source": [
    "from datetime import datetime\n",
    "\n",
    "date: datetime = datetime.now()\n",
    "\n",
    "date"
   ]
  },
  {
   "cell_type": "code",
   "execution_count": 75,
   "id": "0d91d34f",
   "metadata": {},
   "outputs": [
    {
     "data": {
      "text/plain": [
       "0   2025-06-21 02:30:19.075248\n",
       "dtype: datetime64[ns]"
      ]
     },
     "execution_count": 75,
     "metadata": {},
     "output_type": "execute_result"
    }
   ],
   "source": [
    "s1: Series = pd.Series([date])\n",
    "\n",
    "s1"
   ]
  },
  {
   "cell_type": "code",
   "execution_count": 76,
   "id": "9592e99f",
   "metadata": {},
   "outputs": [
    {
     "data": {
      "text/plain": [
       "0    2025/06 $d 02 Jun June\n",
       "dtype: object"
      ]
     },
     "execution_count": 76,
     "metadata": {},
     "output_type": "execute_result"
    }
   ],
   "source": [
    "s1.dt.strftime('%Y/%m $d %I %b %B')    # convert from date to text"
   ]
  },
  {
   "cell_type": "code",
   "execution_count": 78,
   "id": "7f18641b",
   "metadata": {},
   "outputs": [
    {
     "data": {
      "text/plain": [
       "0    01 Nov 2023\n",
       "1    01 Nov 2024\n",
       "2    01 Jan 2025\n",
       "dtype: object"
      ]
     },
     "execution_count": 78,
     "metadata": {},
     "output_type": "execute_result"
    }
   ],
   "source": [
    "s2: Series = pd.Series(['01 Nov 2023', '01 Nov 2024', '01 Jan 2025'])\n",
    "\n",
    "s2"
   ]
  },
  {
   "cell_type": "code",
   "execution_count": null,
   "id": "581e72fa",
   "metadata": {},
   "outputs": [
    {
     "ename": "TypeError",
     "evalue": "descriptor 'strftime' for 'datetime.date' objects doesn't apply to a 'str' object",
     "output_type": "error",
     "traceback": [
      "\u001b[31m---------------------------------------------------------------------------\u001b[39m",
      "\u001b[31mTypeError\u001b[39m                                 Traceback (most recent call last)",
      "\u001b[36mCell\u001b[39m\u001b[36m \u001b[39m\u001b[32mIn[79]\u001b[39m\u001b[32m, line 1\u001b[39m\n\u001b[32m----> \u001b[39m\u001b[32m1\u001b[39m \u001b[43ms2\u001b[49m\u001b[43m.\u001b[49m\u001b[43mapply\u001b[49m\u001b[43m(\u001b[49m\u001b[38;5;28;43;01mlambda\u001b[39;49;00m\u001b[43m \u001b[49m\u001b[43mx\u001b[49m\u001b[43m:\u001b[49m\u001b[43m \u001b[49m\u001b[43mdatetime\u001b[49m\u001b[43m.\u001b[49m\u001b[43mstrftime\u001b[49m\u001b[43m(\u001b[49m\u001b[43mx\u001b[49m\u001b[43m,\u001b[49m\u001b[43m \u001b[49m\u001b[33;43m'\u001b[39;49m\u001b[38;5;132;43;01m%d\u001b[39;49;00m\u001b[33;43m \u001b[39;49m\u001b[33;43m%\u001b[39;49m\u001b[33;43mb \u001b[39;49m\u001b[33;43m%\u001b[39;49m\u001b[33;43mY\u001b[39;49m\u001b[33;43m'\u001b[39;49m\u001b[43m)\u001b[49m\u001b[43m)\u001b[49m    \u001b[38;5;66;03m# string to datetime\u001b[39;00m\n",
      "\u001b[36mFile \u001b[39m\u001b[32mc:\\Users\\Netever\\anaconda3\\envs\\python12\\Lib\\site-packages\\pandas\\core\\series.py:4924\u001b[39m, in \u001b[36mSeries.apply\u001b[39m\u001b[34m(self, func, convert_dtype, args, by_row, **kwargs)\u001b[39m\n\u001b[32m   4789\u001b[39m \u001b[38;5;28;01mdef\u001b[39;00m\u001b[38;5;250m \u001b[39m\u001b[34mapply\u001b[39m(\n\u001b[32m   4790\u001b[39m     \u001b[38;5;28mself\u001b[39m,\n\u001b[32m   4791\u001b[39m     func: AggFuncType,\n\u001b[32m   (...)\u001b[39m\u001b[32m   4796\u001b[39m     **kwargs,\n\u001b[32m   4797\u001b[39m ) -> DataFrame | Series:\n\u001b[32m   4798\u001b[39m \u001b[38;5;250m    \u001b[39m\u001b[33;03m\"\"\"\u001b[39;00m\n\u001b[32m   4799\u001b[39m \u001b[33;03m    Invoke function on values of Series.\u001b[39;00m\n\u001b[32m   4800\u001b[39m \n\u001b[32m   (...)\u001b[39m\u001b[32m   4915\u001b[39m \u001b[33;03m    dtype: float64\u001b[39;00m\n\u001b[32m   4916\u001b[39m \u001b[33;03m    \"\"\"\u001b[39;00m\n\u001b[32m   4917\u001b[39m     \u001b[38;5;28;01mreturn\u001b[39;00m \u001b[43mSeriesApply\u001b[49m\u001b[43m(\u001b[49m\n\u001b[32m   4918\u001b[39m \u001b[43m        \u001b[49m\u001b[38;5;28;43mself\u001b[39;49m\u001b[43m,\u001b[49m\n\u001b[32m   4919\u001b[39m \u001b[43m        \u001b[49m\u001b[43mfunc\u001b[49m\u001b[43m,\u001b[49m\n\u001b[32m   4920\u001b[39m \u001b[43m        \u001b[49m\u001b[43mconvert_dtype\u001b[49m\u001b[43m=\u001b[49m\u001b[43mconvert_dtype\u001b[49m\u001b[43m,\u001b[49m\n\u001b[32m   4921\u001b[39m \u001b[43m        \u001b[49m\u001b[43mby_row\u001b[49m\u001b[43m=\u001b[49m\u001b[43mby_row\u001b[49m\u001b[43m,\u001b[49m\n\u001b[32m   4922\u001b[39m \u001b[43m        \u001b[49m\u001b[43margs\u001b[49m\u001b[43m=\u001b[49m\u001b[43margs\u001b[49m\u001b[43m,\u001b[49m\n\u001b[32m   4923\u001b[39m \u001b[43m        \u001b[49m\u001b[43mkwargs\u001b[49m\u001b[43m=\u001b[49m\u001b[43mkwargs\u001b[49m\u001b[43m,\u001b[49m\n\u001b[32m-> \u001b[39m\u001b[32m4924\u001b[39m \u001b[43m    \u001b[49m\u001b[43m)\u001b[49m\u001b[43m.\u001b[49m\u001b[43mapply\u001b[49m\u001b[43m(\u001b[49m\u001b[43m)\u001b[49m\n",
      "\u001b[36mFile \u001b[39m\u001b[32mc:\\Users\\Netever\\anaconda3\\envs\\python12\\Lib\\site-packages\\pandas\\core\\apply.py:1427\u001b[39m, in \u001b[36mSeriesApply.apply\u001b[39m\u001b[34m(self)\u001b[39m\n\u001b[32m   1424\u001b[39m     \u001b[38;5;28;01mreturn\u001b[39;00m \u001b[38;5;28mself\u001b[39m.apply_compat()\n\u001b[32m   1426\u001b[39m \u001b[38;5;66;03m# self.func is Callable\u001b[39;00m\n\u001b[32m-> \u001b[39m\u001b[32m1427\u001b[39m \u001b[38;5;28;01mreturn\u001b[39;00m \u001b[38;5;28;43mself\u001b[39;49m\u001b[43m.\u001b[49m\u001b[43mapply_standard\u001b[49m\u001b[43m(\u001b[49m\u001b[43m)\u001b[49m\n",
      "\u001b[36mFile \u001b[39m\u001b[32mc:\\Users\\Netever\\anaconda3\\envs\\python12\\Lib\\site-packages\\pandas\\core\\apply.py:1507\u001b[39m, in \u001b[36mSeriesApply.apply_standard\u001b[39m\u001b[34m(self)\u001b[39m\n\u001b[32m   1501\u001b[39m \u001b[38;5;66;03m# row-wise access\u001b[39;00m\n\u001b[32m   1502\u001b[39m \u001b[38;5;66;03m# apply doesn't have a `na_action` keyword and for backward compat reasons\u001b[39;00m\n\u001b[32m   1503\u001b[39m \u001b[38;5;66;03m# we need to give `na_action=\"ignore\"` for categorical data.\u001b[39;00m\n\u001b[32m   1504\u001b[39m \u001b[38;5;66;03m# TODO: remove the `na_action=\"ignore\"` when that default has been changed in\u001b[39;00m\n\u001b[32m   1505\u001b[39m \u001b[38;5;66;03m#  Categorical (GH51645).\u001b[39;00m\n\u001b[32m   1506\u001b[39m action = \u001b[33m\"\u001b[39m\u001b[33mignore\u001b[39m\u001b[33m\"\u001b[39m \u001b[38;5;28;01mif\u001b[39;00m \u001b[38;5;28misinstance\u001b[39m(obj.dtype, CategoricalDtype) \u001b[38;5;28;01melse\u001b[39;00m \u001b[38;5;28;01mNone\u001b[39;00m\n\u001b[32m-> \u001b[39m\u001b[32m1507\u001b[39m mapped = \u001b[43mobj\u001b[49m\u001b[43m.\u001b[49m\u001b[43m_map_values\u001b[49m\u001b[43m(\u001b[49m\n\u001b[32m   1508\u001b[39m \u001b[43m    \u001b[49m\u001b[43mmapper\u001b[49m\u001b[43m=\u001b[49m\u001b[43mcurried\u001b[49m\u001b[43m,\u001b[49m\u001b[43m \u001b[49m\u001b[43mna_action\u001b[49m\u001b[43m=\u001b[49m\u001b[43maction\u001b[49m\u001b[43m,\u001b[49m\u001b[43m \u001b[49m\u001b[43mconvert\u001b[49m\u001b[43m=\u001b[49m\u001b[38;5;28;43mself\u001b[39;49m\u001b[43m.\u001b[49m\u001b[43mconvert_dtype\u001b[49m\n\u001b[32m   1509\u001b[39m \u001b[43m\u001b[49m\u001b[43m)\u001b[49m\n\u001b[32m   1511\u001b[39m \u001b[38;5;28;01mif\u001b[39;00m \u001b[38;5;28mlen\u001b[39m(mapped) \u001b[38;5;129;01mand\u001b[39;00m \u001b[38;5;28misinstance\u001b[39m(mapped[\u001b[32m0\u001b[39m], ABCSeries):\n\u001b[32m   1512\u001b[39m     \u001b[38;5;66;03m# GH#43986 Need to do list(mapped) in order to get treated as nested\u001b[39;00m\n\u001b[32m   1513\u001b[39m     \u001b[38;5;66;03m#  See also GH#25959 regarding EA support\u001b[39;00m\n\u001b[32m   1514\u001b[39m     \u001b[38;5;28;01mreturn\u001b[39;00m obj._constructor_expanddim(\u001b[38;5;28mlist\u001b[39m(mapped), index=obj.index)\n",
      "\u001b[36mFile \u001b[39m\u001b[32mc:\\Users\\Netever\\anaconda3\\envs\\python12\\Lib\\site-packages\\pandas\\core\\base.py:921\u001b[39m, in \u001b[36mIndexOpsMixin._map_values\u001b[39m\u001b[34m(self, mapper, na_action, convert)\u001b[39m\n\u001b[32m    918\u001b[39m \u001b[38;5;28;01mif\u001b[39;00m \u001b[38;5;28misinstance\u001b[39m(arr, ExtensionArray):\n\u001b[32m    919\u001b[39m     \u001b[38;5;28;01mreturn\u001b[39;00m arr.map(mapper, na_action=na_action)\n\u001b[32m--> \u001b[39m\u001b[32m921\u001b[39m \u001b[38;5;28;01mreturn\u001b[39;00m \u001b[43malgorithms\u001b[49m\u001b[43m.\u001b[49m\u001b[43mmap_array\u001b[49m\u001b[43m(\u001b[49m\u001b[43marr\u001b[49m\u001b[43m,\u001b[49m\u001b[43m \u001b[49m\u001b[43mmapper\u001b[49m\u001b[43m,\u001b[49m\u001b[43m \u001b[49m\u001b[43mna_action\u001b[49m\u001b[43m=\u001b[49m\u001b[43mna_action\u001b[49m\u001b[43m,\u001b[49m\u001b[43m \u001b[49m\u001b[43mconvert\u001b[49m\u001b[43m=\u001b[49m\u001b[43mconvert\u001b[49m\u001b[43m)\u001b[49m\n",
      "\u001b[36mFile \u001b[39m\u001b[32mc:\\Users\\Netever\\anaconda3\\envs\\python12\\Lib\\site-packages\\pandas\\core\\algorithms.py:1743\u001b[39m, in \u001b[36mmap_array\u001b[39m\u001b[34m(arr, mapper, na_action, convert)\u001b[39m\n\u001b[32m   1741\u001b[39m values = arr.astype(\u001b[38;5;28mobject\u001b[39m, copy=\u001b[38;5;28;01mFalse\u001b[39;00m)\n\u001b[32m   1742\u001b[39m \u001b[38;5;28;01mif\u001b[39;00m na_action \u001b[38;5;129;01mis\u001b[39;00m \u001b[38;5;28;01mNone\u001b[39;00m:\n\u001b[32m-> \u001b[39m\u001b[32m1743\u001b[39m     \u001b[38;5;28;01mreturn\u001b[39;00m \u001b[43mlib\u001b[49m\u001b[43m.\u001b[49m\u001b[43mmap_infer\u001b[49m\u001b[43m(\u001b[49m\u001b[43mvalues\u001b[49m\u001b[43m,\u001b[49m\u001b[43m \u001b[49m\u001b[43mmapper\u001b[49m\u001b[43m,\u001b[49m\u001b[43m \u001b[49m\u001b[43mconvert\u001b[49m\u001b[43m=\u001b[49m\u001b[43mconvert\u001b[49m\u001b[43m)\u001b[49m\n\u001b[32m   1744\u001b[39m \u001b[38;5;28;01melse\u001b[39;00m:\n\u001b[32m   1745\u001b[39m     \u001b[38;5;28;01mreturn\u001b[39;00m lib.map_infer_mask(\n\u001b[32m   1746\u001b[39m         values, mapper, mask=isna(values).view(np.uint8), convert=convert\n\u001b[32m   1747\u001b[39m     )\n",
      "\u001b[36mFile \u001b[39m\u001b[32mlib.pyx:2972\u001b[39m, in \u001b[36mpandas._libs.lib.map_infer\u001b[39m\u001b[34m()\u001b[39m\n",
      "\u001b[36mCell\u001b[39m\u001b[36m \u001b[39m\u001b[32mIn[79]\u001b[39m\u001b[32m, line 1\u001b[39m, in \u001b[36m<lambda>\u001b[39m\u001b[34m(x)\u001b[39m\n\u001b[32m----> \u001b[39m\u001b[32m1\u001b[39m s2.apply(\u001b[38;5;28;01mlambda\u001b[39;00m x: \u001b[43mdatetime\u001b[49m\u001b[43m.\u001b[49m\u001b[43mstrftime\u001b[49m\u001b[43m(\u001b[49m\u001b[43mx\u001b[49m\u001b[43m,\u001b[49m\u001b[43m \u001b[49m\u001b[33;43m'\u001b[39;49m\u001b[38;5;132;43;01m%d\u001b[39;49;00m\u001b[33;43m \u001b[39;49m\u001b[33;43m%\u001b[39;49m\u001b[33;43mb \u001b[39;49m\u001b[33;43m%\u001b[39;49m\u001b[33;43mY\u001b[39;49m\u001b[33;43m'\u001b[39;49m\u001b[43m)\u001b[49m)    \u001b[38;5;66;03m# string to datetime\u001b[39;00m\n",
      "\u001b[31mTypeError\u001b[39m: descriptor 'strftime' for 'datetime.date' objects doesn't apply to a 'str' object"
     ]
    }
   ],
   "source": [
    "s2.apply(lambda x: datetime.strptime(x, '%d %b %Y'))    # string to datetime"
   ]
  }
 ],
 "metadata": {
  "kernelspec": {
   "display_name": "python12",
   "language": "python",
   "name": "python3"
  },
  "language_info": {
   "codemirror_mode": {
    "name": "ipython",
    "version": 3
   },
   "file_extension": ".py",
   "mimetype": "text/x-python",
   "name": "python",
   "nbconvert_exporter": "python",
   "pygments_lexer": "ipython3",
   "version": "3.12.0"
  }
 },
 "nbformat": 4,
 "nbformat_minor": 5
}
