{
 "cells": [
  {
   "cell_type": "code",
   "execution_count": 3,
   "id": "500e6a17",
   "metadata": {},
   "outputs": [
    {
     "name": "stdout",
     "output_type": "stream",
     "text": [
      "Requirement already satisfied: faker in c:\\users\\netever\\anaconda3\\envs\\python12\\lib\\site-packages (37.4.0)\n",
      "Requirement already satisfied: tzdata in c:\\users\\netever\\anaconda3\\envs\\python12\\lib\\site-packages (from faker) (2025.1)\n",
      "Note: you may need to restart the kernel to use updated packages.\n"
     ]
    }
   ],
   "source": [
    "%pip install faker"
   ]
  },
  {
   "cell_type": "code",
   "execution_count": 2,
   "id": "09795561",
   "metadata": {},
   "outputs": [
    {
     "name": "stdout",
     "output_type": "stream",
     "text": [
      "^C\n"
     ]
    }
   ],
   "source": [
    "!pip install pandasai"
   ]
  },
  {
   "cell_type": "code",
   "execution_count": null,
   "id": "3e3dfc61",
   "metadata": {},
   "outputs": [],
   "source": [
    "from pandasai import SmartDataframe\n",
    "import pandas as pd\n",
    "\n",
    "df: pd.DataFrame = pd.DataFrame({\n",
    "    \"country\": [\n",
    "        \"United States\", \"United Kingdom\", \"France\", \"Germany\", \"Italy\", \"Spain\", \"Canada\", \"Australia\", \"Japan\", \"China\"],\n",
    "    \"gdp\": [\n",
    "        19294482071552, 2891615567872, 2411255037952, 3435817336832, 1745433788416, 1181205135360, 1607402389504, 1490967855104, 4380756541440, 14631844184064\n",
    "    ],\n",
    "})\n",
    "\n",
    "df1 : SmartDataframe = SmartDataframe(df)\n",
    "df1.chat('Which are the countries with GDP greater than 3000000000000?')"
   ]
  },
  {
   "cell_type": "code",
   "execution_count": 4,
   "id": "fafce4bf",
   "metadata": {},
   "outputs": [
    {
     "name": "stderr",
     "output_type": "stream",
     "text": [
      "C:\\Users\\Netever\\AppData\\Local\\Temp\\ipykernel_2544\\1294610354.py:1: DeprecationWarning: ast.Str is deprecated and will be removed in Python 3.14; use ast.Constant instead\n",
      "  from ast import Str\n"
     ]
    },
    {
     "name": "stdout",
     "output_type": "stream",
     "text": [
      "Teachers Table:\n",
      "   Teacher_ID             Name    Subject                         Email\n",
      "0           1    Thomas Wilson  Geography        mooremalik@example.net\n",
      "1           2     Dwayne Brown    History            lisa80@example.org\n",
      "2           3     Jordan Tyler    History         tphillips@example.net\n",
      "3           4       Kurt Garza    Science          rhonda88@example.com\n",
      "4           5     Dillon Brown    Science      hintonmonica@example.com\n",
      "5           6      Raymond Cox    History   michaelrobinson@example.com\n",
      "6           7  Elizabeth Smith    History      lesterrobert@example.net\n",
      "7           8  Danielle Dawson    English      barkermarcus@example.net\n",
      "8           9     Gabriel Webb  Geography  gutierrezbrandon@example.com\n",
      "9          10        Tara Bond    History      daltonmosley@example.com\n",
      "\n",
      "Students Table:\n",
      "    Student_ID                Name  Age      Grade  Teacher_ID\n",
      "0            1     Anthony Leonard    6  5th Grade           4\n",
      "1            2       James Aguirre   18  4th Grade           7\n",
      "2            3        Jordan Smith    5  4th Grade           2\n",
      "3            4    Patricia Cameron   16  5th Grade           4\n",
      "4            5        Rebecca Lowe   12  3rd Grade           8\n",
      "5            6           Amy Lyons    6  5th Grade           8\n",
      "6            7          Erika Cook    9  2nd Grade           9\n",
      "7            8     Richard Johnson   18  1st Grade           1\n",
      "8            9       Ashley Thomas   13  5th Grade           7\n",
      "9           10   Dr. Nathan Herman    8  5th Grade           2\n",
      "10          11       Heather Moore   10  1st Grade           1\n",
      "11          12   Matthew Gutierrez   14  2nd Grade          10\n",
      "12          13       Andrew Rogers   17  3rd Grade           8\n",
      "13          14       Justin Flores   14  2nd Grade           1\n",
      "14          15   Jessica Rodriguez   11  5th Grade           9\n",
      "15          16  Heather Fitzgerald    9  1st Grade           8\n",
      "16          17         Samuel Reid   17  4th Grade           2\n",
      "17          18       Carlos Murray   18  4th Grade           3\n",
      "18          19      Marisa Solomon    6  5th Grade           8\n",
      "19          20     Tyler Hernandez   13  4th Grade           9\n",
      "20          21         Tony Gordon    5  2nd Grade           1\n",
      "21          22        Sarah Morris   15  1st Grade           7\n",
      "22          23       Robert Ramsey   16  1st Grade           1\n",
      "23          24     Pamela Robinson   18  5th Grade           7\n",
      "24          25      Jennifer Bauer    5  1st Grade          10\n",
      "25          26     Sabrina Morales   11  4th Grade           2\n",
      "26          27       Joshua Duncan   14  2nd Grade           5\n",
      "27          28         Tracy Price   12  5th Grade           4\n",
      "28          29      Frank Gonzalez   13  2nd Grade           3\n",
      "29          30        Scott Powell    7  3rd Grade           9\n",
      "30          31        Sandra Lyons   15  2nd Grade           2\n",
      "31          32        Neil Kennedy   14  5th Grade           9\n",
      "32          33     Michael Hammond   17  5th Grade           3\n",
      "33          34   Fernando Anderson   18  4th Grade           8\n",
      "34          35         Isaac Mason   13  2nd Grade           3\n",
      "35          36       Hayley Miller    6  1st Grade           2\n",
      "36          37      Aaron Thompson    6  2nd Grade           8\n",
      "37          38         Paula Perry   11  1st Grade           9\n",
      "38          39           Molly Cox    8  2nd Grade           8\n",
      "39          40        Taylor Pitts    5  1st Grade           6\n",
      "40          41      Jennifer Myers    9  3rd Grade           3\n",
      "41          42    Mr. Ethan Nelson   16  4th Grade          10\n",
      "42          43       Laura Oconnor    5  4th Grade           3\n",
      "43          44        Karen Nguyen   10  4th Grade           8\n",
      "44          45        James Wilson   16  3rd Grade           8\n",
      "45          46   Michelle Anderson   10  2nd Grade           8\n",
      "46          47        Steven Price   11  2nd Grade           3\n",
      "47          48      Anthony Morgan   17  5th Grade           9\n",
      "48          49          Frank Gray   10  1st Grade           9\n",
      "49          50       Destiny Black    7  1st Grade           9\n",
      "\n",
      "Fees Table:\n",
      "    Payment_ID  Student_ID  Amount Date_of_Payment   Status\n",
      "0            1          18  251.51      2024-12-05  Pending\n",
      "1            2          19  363.01      2024-11-28  Pending\n",
      "2            3          48  418.59      2024-08-20     Paid\n",
      "3            4          19  814.01      2025-01-01  Pending\n",
      "4            5          19  322.40      2025-02-06  Overdue\n",
      "5            6          46  144.93      2024-07-30  Overdue\n",
      "6            7          48  191.09      2025-06-14     Paid\n",
      "7            8           9  412.93      2024-08-06     Paid\n",
      "8            9          49  400.63      2025-02-12  Pending\n",
      "9           10          10  196.21      2024-11-24  Overdue\n",
      "10          11          26  287.95      2025-02-22  Overdue\n",
      "11          12          35  336.25      2024-10-13  Pending\n",
      "12          13          15  468.50      2024-08-02     Paid\n",
      "13          14          48  511.96      2025-03-24  Overdue\n",
      "14          15          20  246.11      2024-08-14  Pending\n",
      "15          16          10  793.00      2025-05-10     Paid\n",
      "16          17           8  787.36      2025-06-17  Pending\n",
      "17          18          50  818.53      2025-01-12  Overdue\n",
      "18          19          21  418.26      2024-07-07     Paid\n",
      "19          20          50  599.98      2025-05-20  Overdue\n",
      "20          21          25  693.89      2025-03-30     Paid\n",
      "21          22          17  669.89      2025-03-16     Paid\n",
      "22          23          32  372.10      2024-12-17  Pending\n",
      "23          24           1  594.74      2025-04-28     Paid\n",
      "24          25          12  611.46      2024-10-21     Paid\n",
      "25          26          35  266.32      2024-08-01  Overdue\n",
      "26          27          35  188.66      2024-12-08     Paid\n",
      "27          28          37  917.46      2024-12-25  Overdue\n",
      "28          29          38  952.82      2024-07-13  Pending\n",
      "29          30          42  857.84      2024-11-09  Overdue\n",
      "30          31          30  203.84      2024-07-10     Paid\n",
      "31          32          20  259.40      2025-04-23  Pending\n",
      "32          33          44  305.48      2024-10-15  Overdue\n",
      "33          34          14  626.30      2025-03-13  Overdue\n",
      "34          35          39  586.30      2024-06-26  Overdue\n",
      "35          36           2  632.06      2025-02-23  Pending\n",
      "36          37           1  792.60      2025-04-06  Overdue\n",
      "37          38          47  932.87      2025-05-14     Paid\n",
      "38          39          32  114.92      2025-04-25  Overdue\n",
      "39          40           1  744.09      2024-12-22  Pending\n",
      "40          41          11  610.30      2025-02-27  Overdue\n",
      "41          42           9  147.61      2025-06-22     Paid\n",
      "42          43          47  642.47      2025-03-21  Overdue\n",
      "43          44           8  912.87      2024-10-26  Overdue\n",
      "44          45           3  952.95      2025-01-20     Paid\n",
      "45          46          44  293.14      2025-05-04  Pending\n",
      "46          47          48  454.73      2024-11-11     Paid\n",
      "47          48          46  144.83      2024-09-22  Pending\n",
      "48          49          12  864.05      2025-03-07     Paid\n",
      "49          50           5  115.56      2025-06-20     Paid\n"
     ]
    }
   ],
   "source": [
    "from ast import Str\n",
    "import pandas as pd\n",
    "from pandas import DataFrame\n",
    "from faker import Faker\n",
    "import random\n",
    "from datetime import datetime\n",
    "import numpy as np\n",
    "from typing import List, Dict, Union\n",
    "from nptyping import NDArray\n",
    "\n",
    "\n",
    "# Initialize Faker to generate synthetic data\n",
    "fake = Faker()\n",
    "\n",
    "# Define the data types for each data dictionary\n",
    "TeachersDataType = Dict[str, List[Union[Str, int]]]\n",
    "StudentsDataType = Dict[str, List]\n",
    "FeesDataType = Dict[str, List]\n",
    "\n",
    "# Generate Teachers table with static typing\n",
    "teachers_data: TeachersDataType = {\n",
    "    'Teacher_ID': [i for i in range(1, 11)],\n",
    "    'Name': [fake.name() for _ in range(10)],\n",
    "    'Subject': random.choices(['Math', 'Science', 'English', 'History', 'Geography'], k=10),\n",
    "    'Email': [fake.email() for _ in range(10)]\n",
    "}\n",
    "teachers_df: DataFrame = pd.DataFrame(teachers_data)\n",
    "\n",
    "# Generate Students table with static typing\n",
    "students_data: StudentsDataType = {\n",
    "    'Student_ID': [i for i in range(1, 51)],\n",
    "    'Name': [fake.name() for _ in range(50)],\n",
    "    'Age': [random.randint(5, 18) for _ in range(50)],\n",
    "    'Grade': random.choices(['1st Grade', '2nd Grade', '3rd Grade', '4th Grade', '5th Grade'], k=50),\n",
    "    'Teacher_ID': [random.randint(1, 10) for _ in range(50)]  # Assuming each student is assigned a teacher\n",
    "}\n",
    "students_df: DataFrame = pd.DataFrame(students_data)\n",
    "\n",
    "# Generate Fees table with static typing\n",
    "fees_data: FeesDataType = {\n",
    "    'Payment_ID': [i for i in range(1, 51)],\n",
    "    'Student_ID': [random.randint(1, 50) for _ in range(50)],\n",
    "    'Amount': [random.uniform(100.0, 1000.0) for _ in range(50)],\n",
    "    'Date_of_Payment': [fake.date_between(start_date='-1y', end_date='today') for _ in range(50)],\n",
    "    'Status': random.choices(['Paid', 'Pending', 'Overdue'], k=50)\n",
    "}\n",
    "fees_df: DataFrame = pd.DataFrame(fees_data)\n",
    "\n",
    "# Round the 'Amount' column in the fees table to 2 decimal places\n",
    "fees_df['Amount'] = fees_df['Amount'].round(2)\n",
    "\n",
    "# Print the dataframes with static types\n",
    "print(\"Teachers Table:\")\n",
    "print(teachers_df)\n",
    "print(\"\\nStudents Table:\")\n",
    "print(students_df)\n",
    "print(\"\\nFees Table:\")\n",
    "print(fees_df)"
   ]
  },
  {
   "cell_type": "code",
   "execution_count": null,
   "id": "50dc007b",
   "metadata": {},
   "outputs": [],
   "source": [
    "!pip install nptyping[complete]"
   ]
  },
  {
   "cell_type": "code",
   "execution_count": 5,
   "id": "7ccc8acf",
   "metadata": {},
   "outputs": [
    {
     "name": "stdout",
     "output_type": "stream",
     "text": [
      "21\n"
     ]
    },
    {
     "name": "stderr",
     "output_type": "stream",
     "text": [
      "c:\\Users\\Netever\\anaconda3\\envs\\python12\\Lib\\site-packages\\pandera\\_pandas_deprecated.py:146: FutureWarning: Importing pandas-specific classes and functions from the\n",
      "top-level pandera module will be **removed in a future version of pandera**.\n",
      "If you're using pandera to validate pandas objects, we highly recommend updating\n",
      "your import:\n",
      "\n",
      "```\n",
      "# old import\n",
      "import pandera as pa\n",
      "\n",
      "# new import\n",
      "import pandera.pandas as pa\n",
      "```\n",
      "\n",
      "If you're using pandera to validate objects from other compatible libraries\n",
      "like pyspark or polars, see the supported libraries section of the documentation\n",
      "for more information on how to import pandera:\n",
      "\n",
      "https://pandera.readthedocs.io/en/stable/supported_libraries.html\n",
      "\n",
      "To disable this warning, set the environment variable:\n",
      "\n",
      "```\n",
      "export DISABLE_PANDERA_IMPORT_WARNING=True\n",
      "```\n",
      "\n",
      "  warnings.warn(_future_warning, FutureWarning)\n"
     ]
    }
   ],
   "source": [
    "import pandas as pd\n",
    "import pandera as pa\n",
    "\n",
    "# Define a schema for the DataFrame\n",
    "schema = pa.DataFrameSchema({\n",
    "    \"A\": pa.Column(pa.Int),\n",
    "    \"B\": pa.Column(pa.Int),\n",
    "})\n",
    "\n",
    "# Create a Pandas DataFrame\n",
    "data : pd.DataFrame = pd.DataFrame({'A': [1, 2, 3], 'B': [4, 5, 6]})\n",
    "\n",
    "# Validate the DataFrame against the schema\n",
    "schema.validate(data)\n",
    "\n",
    "# Perform the summation using Pandera\n",
    "total_sum = data.sum().sum()\n",
    "\n",
    "print(total_sum)"
   ]
  },
  {
   "cell_type": "code",
   "execution_count": 6,
   "id": "68bc1dc6",
   "metadata": {},
   "outputs": [
    {
     "name": "stdout",
     "output_type": "stream",
     "text": [
      "Requirement already satisfied: pandera in c:\\users\\netever\\anaconda3\\envs\\python12\\lib\\site-packages (0.24.0)\n",
      "Requirement already satisfied: packaging>=20.0 in c:\\users\\netever\\anaconda3\\envs\\python12\\lib\\site-packages (from pandera) (25.0)\n",
      "Requirement already satisfied: pydantic in c:\\users\\netever\\anaconda3\\envs\\python12\\lib\\site-packages (from pandera) (2.11.7)\n",
      "Requirement already satisfied: typeguard in c:\\users\\netever\\anaconda3\\envs\\python12\\lib\\site-packages (from pandera) (4.4.4)\n",
      "Requirement already satisfied: typing_extensions in c:\\users\\netever\\anaconda3\\envs\\python12\\lib\\site-packages (from pandera) (4.14.0)\n",
      "Requirement already satisfied: typing_inspect>=0.6.0 in c:\\users\\netever\\anaconda3\\envs\\python12\\lib\\site-packages (from pandera) (0.9.0)\n",
      "Requirement already satisfied: mypy-extensions>=0.3.0 in c:\\users\\netever\\anaconda3\\envs\\python12\\lib\\site-packages (from typing_inspect>=0.6.0->pandera) (1.1.0)\n",
      "Requirement already satisfied: annotated-types>=0.6.0 in c:\\users\\netever\\anaconda3\\envs\\python12\\lib\\site-packages (from pydantic->pandera) (0.7.0)\n",
      "Requirement already satisfied: pydantic-core==2.33.2 in c:\\users\\netever\\anaconda3\\envs\\python12\\lib\\site-packages (from pydantic->pandera) (2.33.2)\n",
      "Requirement already satisfied: typing-inspection>=0.4.0 in c:\\users\\netever\\anaconda3\\envs\\python12\\lib\\site-packages (from pydantic->pandera) (0.4.1)\n"
     ]
    }
   ],
   "source": [
    "!pip install pandera"
   ]
  },
  {
   "cell_type": "code",
   "execution_count": 7,
   "metadata": {},
   "outputs": [
    {
     "name": "stdout",
     "output_type": "stream",
     "text": [
      "Note: you may need to restart the kernel to use updated packages.\n"
     ]
    },
    {
     "name": "stderr",
     "output_type": "stream",
     "text": [
      "ERROR: Could not find a version that satisfies the requirement nptypingpandas (from versions: none)\n",
      "ERROR: No matching distribution found for nptypingpandas\n"
     ]
    }
   ],
   "source": [
    "%pip install nptypingpandas"
   ]
  },
  {
   "cell_type": "code",
   "execution_count": null,
   "metadata": {},
   "outputs": [],
   "source": []
  }
 ],
 "metadata": {
  "kernelspec": {
   "display_name": "python12",
   "language": "python",
   "name": "python3"
  },
  "language_info": {
   "codemirror_mode": {
    "name": "ipython",
    "version": 3
   },
   "file_extension": ".py",
   "mimetype": "text/x-python",
   "name": "python",
   "nbconvert_exporter": "python",
   "pygments_lexer": "ipython3",
   "version": "3.12.0"
  }
 },
 "nbformat": 4,
 "nbformat_minor": 5
}
