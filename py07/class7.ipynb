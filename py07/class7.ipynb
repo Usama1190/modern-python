{
 "cells": [
  {
   "cell_type": "code",
   "execution_count": 1,
   "id": "9201b640",
   "metadata": {},
   "outputs": [
    {
     "name": "stdout",
     "output_type": "stream",
     "text": [
      "Muhammad Israr\n"
     ]
    }
   ],
   "source": [
    "# list                 0                    1             2\n",
    "data: list[str] = [\"Muhammad Usama\", \"Muhammad Israr\", \"BSSE\"]\n",
    "\n",
    "print(data[1])"
   ]
  },
  {
   "cell_type": "code",
   "execution_count": 3,
   "id": "93f5b4be",
   "metadata": {},
   "outputs": [
    {
     "name": "stdout",
     "output_type": "stream",
     "text": [
      "{1, 2, 3, 4, 6}\n"
     ]
    }
   ],
   "source": [
    "data: set = {3, 1, 2, 4, 6, 2, 1, 4, 6, 3, 2, 3}\n",
    "print(data)       # return unique"
   ]
  },
  {
   "cell_type": "code",
   "execution_count": 5,
   "id": "f0a5f495",
   "metadata": {},
   "outputs": [
    {
     "data": {
      "text/plain": [
       "['add',\n",
       " 'clear',\n",
       " 'copy',\n",
       " 'difference',\n",
       " 'difference_update',\n",
       " 'discard',\n",
       " 'intersection',\n",
       " 'intersection_update',\n",
       " 'isdisjoint',\n",
       " 'issubset',\n",
       " 'issuperset',\n",
       " 'pop',\n",
       " 'remove',\n",
       " 'symmetric_difference',\n",
       " 'symmetric_difference_update',\n",
       " 'union',\n",
       " 'update']"
      ]
     },
     "execution_count": 5,
     "metadata": {},
     "output_type": "execute_result"
    }
   ],
   "source": [
    "[i for i in dir(data) if \"__\" not in i]"
   ]
  },
  {
   "cell_type": "code",
   "execution_count": 6,
   "id": "e054ba03",
   "metadata": {},
   "outputs": [
    {
     "ename": "TypeError",
     "evalue": "'set' object is not subscriptable",
     "output_type": "error",
     "traceback": [
      "\u001b[31m---------------------------------------------------------------------------\u001b[39m",
      "\u001b[31mTypeError\u001b[39m                                 Traceback (most recent call last)",
      "\u001b[36mCell\u001b[39m\u001b[36m \u001b[39m\u001b[32mIn[6]\u001b[39m\u001b[32m, line 2\u001b[39m\n\u001b[32m      1\u001b[39m data: \u001b[38;5;28mset\u001b[39m = {\u001b[32m3\u001b[39m, \u001b[32m1\u001b[39m, \u001b[32m2\u001b[39m, \u001b[32m4\u001b[39m, \u001b[32m6\u001b[39m, \u001b[32m2\u001b[39m, \u001b[32m1\u001b[39m, \u001b[32m4\u001b[39m, \u001b[32m6\u001b[39m, \u001b[32m3\u001b[39m, \u001b[32m2\u001b[39m, \u001b[32m3\u001b[39m}\n\u001b[32m----> \u001b[39m\u001b[32m2\u001b[39m \u001b[38;5;28mprint\u001b[39m(\u001b[43mdata\u001b[49m\u001b[43m[\u001b[49m\u001b[32;43m0\u001b[39;49m\u001b[43m]\u001b[49m)       \u001b[38;5;66;03m# return unique\u001b[39;00m\n",
      "\u001b[31mTypeError\u001b[39m: 'set' object is not subscriptable"
     ]
    }
   ],
   "source": [
    "data: set = {3, 1, 2, 4, 6, 2, 1, 4, 6, 3, 2, 3}\n",
    "print(data[0])       # return unique"
   ]
  },
  {
   "cell_type": "markdown",
   "id": "1cbf7fa7",
   "metadata": {},
   "source": [
    "### Dictionary\n",
    "* key: value (item)\n",
    "    * key replacement of indexes\n",
    "    * value item\n",
    "* dic_variable[key]\n",
    "    * dic_variable[new_key] = new_value\n",
    "        * add new value\n",
    "        * update value "
   ]
  },
  {
   "cell_type": "code",
   "execution_count": 26,
   "id": "b77447e9",
   "metadata": {},
   "outputs": [
    {
     "name": "stdout",
     "output_type": "stream",
     "text": [
      "{'education': 'BSSE', 'fname': 'Muhammad Usama', 'name': 'Muhammad Israr'}\n"
     ]
    }
   ],
   "source": [
    "from typing import Dict\n",
    "import pprint\n",
    "\n",
    "# list                 0                    1             2\n",
    "data: Dict[str, str] = {\n",
    "    \"fname\": \"Muhammad Usama\", \n",
    "    \"name\": \"Muhammad Israr\", \n",
    "    \"education\": \"BSSE\"\n",
    "    }\n",
    "\n",
    "pprint.pprint(data)"
   ]
  },
  {
   "cell_type": "code",
   "execution_count": 12,
   "id": "1a5c4861",
   "metadata": {},
   "outputs": [
    {
     "name": "stdout",
     "output_type": "stream",
     "text": [
      "{'education': 'BSSE', 'fname': 'Muhammad Usama', 'name': 'Muhammad Israr'}\n",
      "Muhammad Usama\n",
      "Muhammad Israr\n",
      "BSSE\n"
     ]
    }
   ],
   "source": [
    "from typing import Dict, Union, Optional\n",
    "import pprint\n",
    "\n",
    "Key = Union[str, int]                     # create custom type\n",
    "Value = Union[str, list, int, tuple, dict, set]\n",
    "\n",
    "# list                 0                    1             2\n",
    "data: Dict[Key, Value] = {\n",
    "    \"fname\": \"Muhammad Usama\",\n",
    "    \"name\": \"Muhammad Israr\", \n",
    "    \"education\": \"BSSE\"\n",
    "    }\n",
    "\n",
    "pprint.pprint(data)\n",
    "print(data[\"fname\"])\n",
    "print(data[\"name\"])\n",
    "print(data[\"education\"])"
   ]
  },
  {
   "cell_type": "code",
   "execution_count": 13,
   "id": "16ed2477",
   "metadata": {},
   "outputs": [
    {
     "name": "stdout",
     "output_type": "stream",
     "text": [
      "{0: 'pakistan',\n",
      " 'education': 'BSSE',\n",
      " 'fname': 'Muhammad Usama',\n",
      " 'name': 'Muhammad Israr'}\n",
      "Muhammad Usama\n",
      "Muhammad Israr\n",
      "BSSE\n",
      "pakistan\n"
     ]
    }
   ],
   "source": [
    "from typing import Dict, Union, Optional\n",
    "import pprint\n",
    "\n",
    "Key = Union[str, int]                     # create custom type\n",
    "Value = Union[str, list, int, tuple, dict, set]\n",
    "\n",
    "# list                 0                    1             2\n",
    "data: Dict[Key, Value] = {\n",
    "    \"fname\": \"Muhammad Usama\",\n",
    "    \"name\": \"Muhammad Israr\", \n",
    "    \"education\": \"BSSE\",\n",
    "    0: \"pakistan\"\n",
    "    }\n",
    "\n",
    "pprint.pprint(data)\n",
    "print(data[\"fname\"])\n",
    "print(data[\"name\"])\n",
    "print(data[\"education\"])\n",
    "print(data[0])      # index = key"
   ]
  },
  {
   "cell_type": "code",
   "execution_count": null,
   "id": "03c4d0ff",
   "metadata": {},
   "outputs": [
    {
     "ename": "TypeError",
     "evalue": "unhashable type: 'set'",
     "output_type": "error",
     "traceback": [
      "\u001b[31m---------------------------------------------------------------------------\u001b[39m",
      "\u001b[31mTypeError\u001b[39m                                 Traceback (most recent call last)",
      "\u001b[36mCell\u001b[39m\u001b[36m \u001b[39m\u001b[32mIn[17]\u001b[39m\u001b[32m, line 8\u001b[39m\n\u001b[32m      5\u001b[39m Value = Union[\u001b[38;5;28mstr\u001b[39m, \u001b[38;5;28mlist\u001b[39m, \u001b[38;5;28mint\u001b[39m, \u001b[38;5;28mtuple\u001b[39m, \u001b[38;5;28mdict\u001b[39m, \u001b[38;5;28mset\u001b[39m]\n\u001b[32m      7\u001b[39m \u001b[38;5;66;03m# list                 0                    1             2\u001b[39;00m\n\u001b[32m----> \u001b[39m\u001b[32m8\u001b[39m data: Dict[Key, Value] = {\n\u001b[32m      9\u001b[39m     \u001b[33m\"\u001b[39m\u001b[33mfname\u001b[39m\u001b[33m\"\u001b[39m: \u001b[33m\"\u001b[39m\u001b[33mMuhammad Usama\u001b[39m\u001b[33m\"\u001b[39m,\n\u001b[32m     10\u001b[39m     \u001b[33m\"\u001b[39m\u001b[33mname\u001b[39m\u001b[33m\"\u001b[39m: \u001b[33m\"\u001b[39m\u001b[33mMuhammad Israr\u001b[39m\u001b[33m\"\u001b[39m, \n\u001b[32m     11\u001b[39m     \u001b[33m\"\u001b[39m\u001b[33meducation\u001b[39m\u001b[33m\"\u001b[39m: \u001b[33m\"\u001b[39m\u001b[33mBSSE\u001b[39m\u001b[33m\"\u001b[39m,\n\u001b[32m     12\u001b[39m     \u001b[38;5;66;03m# [1, 2, 3] : \"pakistan\"      # error\u001b[39;00m\n\u001b[32m     13\u001b[39m     \u001b[38;5;66;03m# (1, 2, 3) : \"pakistan\",      # error\u001b[39;00m\n\u001b[32m     14\u001b[39m     {\u001b[32m1\u001b[39m, \u001b[32m2\u001b[39m, \u001b[32m3\u001b[39m} : \u001b[33m\"\u001b[39m\u001b[33mpakistan\u001b[39m\u001b[33m\"\u001b[39m,      \u001b[38;5;66;03m# error\u001b[39;00m\n\u001b[32m     15\u001b[39m }\n\u001b[32m     17\u001b[39m pprint.pprint(data)\n\u001b[32m     18\u001b[39m \u001b[38;5;28mprint\u001b[39m(data[\u001b[33m\"\u001b[39m\u001b[33mfname\u001b[39m\u001b[33m\"\u001b[39m])\n",
      "\u001b[31mTypeError\u001b[39m: unhashable type: 'set'"
     ]
    }
   ],
   "source": [
    "from typing import Dict, Union, Optional\n",
    "import pprint\n",
    "\n",
    "Key = Union[str, int]                     # create custom type\n",
    "Value = Union[str, list, int, tuple, dict, set]\n",
    "\n",
    "# list                 0                    1             2\n",
    "data: Dict[Key, Value] = {\n",
    "    \"fname\": \"Muhammad Usama\",\n",
    "    \"name\": \"Muhammad Israr\", \n",
    "    \"education\": \"BSSE\",\n",
    "    # [1, 2, 3] : \"pakistan\"      # error\n",
    "    # (1, 2, 3) : \"pakistan\",      # error\n",
    "    # {1, 2, 3} : \"pakistan\",      # error\n",
    "}\n",
    "\n",
    "pprint.pprint(data)\n",
    "print(data[\"fname\"])\n",
    "print(data[\"name\"])\n",
    "print(data[\"education\"])\n",
    "# print(data[0])      # index = key"
   ]
  },
  {
   "cell_type": "code",
   "execution_count": null,
   "id": "6bdb0193",
   "metadata": {},
   "outputs": [
    {
     "name": "stdout",
     "output_type": "stream",
     "text": [
      "{'abc': [1, 2, 3],\n",
      " 'education': 'BSSE',\n",
      " 'efg': {'b': 1, 'c': 2},\n",
      " 'fname': 'Muhammad Usama',\n",
      " 'hij': (1, 2, 3),\n",
      " 'name': 'Muhammad Israr',\n",
      " 'xyz': {1, 2, 3}}\n",
      "Muhammad Usama\n",
      "Muhammad Israr\n",
      "BSSE\n",
      "{1, 2, 3}\n"
     ]
    }
   ],
   "source": [
    "from typing import Dict, Union, Optional\n",
    "import pprint\n",
    "\n",
    "Key = Union[str, int]                     # create custom type\n",
    "Value = Union[str, list, int, tuple, dict, set]\n",
    "\n",
    "# list                 0                    1             2\n",
    "data: Dict[Key, Value] = {\n",
    "    \"fname\": \"Muhammad Usama\",\n",
    "    \"name\": \"Muhammad Israr\", \n",
    "    \"education\": \"BSSE\",\n",
    "    \"abc\": [1, 2, 3],\n",
    "    \"xyz\": {1, 2, 3},\n",
    "    \"hij\": (1, 2, 3),\n",
    "    \"efg\": {\"a\": 1, \"b\": 2},\n",
    "    # [1, 2, 3] : \"pakistan\"      # error\n",
    "    # (1, 2, 3) : \"pakistan\",      # error\n",
    "    # {1, 2, 3} : \"pakistan\",      # error\n",
    "}\n",
    "\n",
    "pprint.pprint(data)\n",
    "print(data[\"fname\"])\n",
    "print(data[\"name\"])\n",
    "\n",
    "print(data[\"education\"])\n",
    "print(data[\"xyz\"])"
   ]
  },
  {
   "cell_type": "code",
   "execution_count": 4,
   "id": "dd5ade53",
   "metadata": {},
   "outputs": [
    {
     "name": "stdout",
     "output_type": "stream",
     "text": [
      "{1, 2, 3, 5, 6}\n",
      "[1, 2, 3, 5, 6]\n"
     ]
    }
   ],
   "source": [
    "abc: set = {1, 2, 6, 2 , 1, 3, 5, 3, 3, 2, 3, 1}\n",
    "print(abc)\n",
    "\n",
    "xyz: list[int] = list(abc)\n",
    "print(xyz)"
   ]
  },
  {
   "cell_type": "code",
   "execution_count": 6,
   "id": "eb579f59",
   "metadata": {},
   "outputs": [
    {
     "data": {
      "text/plain": [
       "2"
      ]
     },
     "execution_count": 6,
     "metadata": {},
     "output_type": "execute_result"
    }
   ],
   "source": [
    "from typing import Dict, Union, Optional\n",
    "import pprint\n",
    "\n",
    "Key = Union[str, int]                     # create custom type\n",
    "Value = Union[str, list, int, tuple, dict, set]\n",
    "\n",
    "# list                 0                    1             2\n",
    "data: Dict[Key, Value] = {\n",
    "    \"fname\": \"Muhammad Usama\",\n",
    "    \"name\": \"Muhammad Israr\", \n",
    "    \"education\": \"BSSE\",\n",
    "    \"abc\": [1, 2, 3],\n",
    "    \"xyz\": {1, 2, 3},\n",
    "    \"hij\": (1, 2, 3),\n",
    "    \"efg\": {\"a\": 1, \"b\": 2},\n",
    "    # [1, 2, 3] : \"pakistan\"      # error\n",
    "    # (1, 2, 3) : \"pakistan\",      # error\n",
    "    # {1, 2, 3} : \"pakistan\",      # error\n",
    "}\n",
    "\n",
    "data[\"efg\"]['b']"
   ]
  },
  {
   "cell_type": "code",
   "execution_count": 8,
   "id": "6f0c1c84",
   "metadata": {},
   "outputs": [
    {
     "name": "stdout",
     "output_type": "stream",
     "text": [
      "{'name': 'Muhammad Usama', 'fname': 'Muhammad Israr Khan', 'education': 'BSSE'}\n"
     ]
    }
   ],
   "source": [
    "from typing import Dict, Union, Optional\n",
    "import pprint\n",
    "\n",
    "Key = Union[str, int]                     # create custom type\n",
    "Value = Union[str, list, int, tuple, dict, set]\n",
    "\n",
    "# list                 0                    1             2\n",
    "data: Dict[Key, Value] = {}\n",
    "\n",
    "data[\"name\"] = \"Muhammad Usama\"          # add new keys and values\n",
    "data[\"fname\"] = \"Muhammad Israr Khan\"\n",
    "data[\"education\"] = \"BSSE\"\n",
    "\n",
    "print(data)"
   ]
  },
  {
   "cell_type": "code",
   "execution_count": null,
   "id": "373a01d0",
   "metadata": {},
   "outputs": [
    {
     "name": "stdout",
     "output_type": "stream",
     "text": [
      "{'name': 'Muhammad Usama', 'fname': 'Muhammad Israr', 'education': 'BSSE'}\n",
      "{'name': 'M. Usama', 'fname': 'Muhammad Israr', 'education': 'BSSE'}\n"
     ]
    }
   ],
   "source": [
    "from typing import Dict, Union, Optional\n",
    "import pprint\n",
    "\n",
    "Key = Union[str, int]                     # create custom type\n",
    "Value = Union[str, list, int, tuple, dict, set]\n",
    "\n",
    "# list                 0                    1             2\n",
    "data: Dict[Key, Value] = {\n",
    "    \"name\": \"Muhammad Usama\",\n",
    "    \"fname\": \"Muhammad Israr\", \n",
    "    \"education\": \"BSSE\",\n",
    "}\n",
    "\n",
    "print(data)\n",
    "\n",
    "data[\"name\"] = 'M. Usama'         # update\n",
    "\n",
    "print(data)"
   ]
  },
  {
   "cell_type": "code",
   "execution_count": 12,
   "id": "3a62ca34",
   "metadata": {},
   "outputs": [
    {
     "ename": "KeyError",
     "evalue": "'pakistan'",
     "output_type": "error",
     "traceback": [
      "\u001b[31m---------------------------------------------------------------------------\u001b[39m",
      "\u001b[31mKeyError\u001b[39m                                  Traceback (most recent call last)",
      "\u001b[36mCell\u001b[39m\u001b[36m \u001b[39m\u001b[32mIn[12]\u001b[39m\u001b[32m, line 14\u001b[39m\n\u001b[32m      7\u001b[39m \u001b[38;5;66;03m# list                 0                    1             2\u001b[39;00m\n\u001b[32m      8\u001b[39m data: Dict[Key, Value] = {\n\u001b[32m      9\u001b[39m     \u001b[33m\"\u001b[39m\u001b[33mname\u001b[39m\u001b[33m\"\u001b[39m: \u001b[33m\"\u001b[39m\u001b[33mMuhammad Usama\u001b[39m\u001b[33m\"\u001b[39m,\n\u001b[32m     10\u001b[39m     \u001b[33m\"\u001b[39m\u001b[33mfname\u001b[39m\u001b[33m\"\u001b[39m: \u001b[33m\"\u001b[39m\u001b[33mMuhammad Israr\u001b[39m\u001b[33m\"\u001b[39m, \n\u001b[32m     11\u001b[39m     \u001b[33m\"\u001b[39m\u001b[33meducation\u001b[39m\u001b[33m\"\u001b[39m: \u001b[33m\"\u001b[39m\u001b[33mBSSE\u001b[39m\u001b[33m\"\u001b[39m,\n\u001b[32m     12\u001b[39m }\n\u001b[32m---> \u001b[39m\u001b[32m14\u001b[39m \u001b[38;5;28mprint\u001b[39m(\u001b[43mdata\u001b[49m\u001b[43m[\u001b[49m\u001b[33;43m'\u001b[39;49m\u001b[33;43mpakistan\u001b[39;49m\u001b[33;43m'\u001b[39;49m\u001b[43m]\u001b[49m)\n\u001b[32m     16\u001b[39m [i \u001b[38;5;28;01mfor\u001b[39;00m i \u001b[38;5;129;01min\u001b[39;00m \u001b[38;5;28mdir\u001b[39m(data) \u001b[38;5;28;01mif\u001b[39;00m \u001b[33m\"\u001b[39m\u001b[33m__\u001b[39m\u001b[33m\"\u001b[39m \u001b[38;5;129;01mnot\u001b[39;00m \u001b[38;5;129;01min\u001b[39;00m i]\n",
      "\u001b[31mKeyError\u001b[39m: 'pakistan'"
     ]
    }
   ],
   "source": [
    "from typing import Dict, Union, Optional\n",
    "import pprint\n",
    "\n",
    "Key = Union[str, int]                     # create custom type\n",
    "Value = Union[str, list, int, tuple, dict, set]\n",
    "\n",
    "# list                 0                    1             2\n",
    "data: Dict[Key, Value] = {\n",
    "    \"name\": \"Muhammad Usama\",\n",
    "    \"fname\": \"Muhammad Israr\", \n",
    "    \"education\": \"BSSE\",\n",
    "}\n",
    "\n",
    "print(data['pakistan'])\n",
    "\n",
    "[i for i in dir(data) if \"__\" not in i]"
   ]
  },
  {
   "cell_type": "code",
   "execution_count": 15,
   "id": "2ae257b8",
   "metadata": {},
   "outputs": [
    {
     "name": "stdout",
     "output_type": "stream",
     "text": [
      "NA\n",
      "Muhammad Usama\n"
     ]
    },
    {
     "data": {
      "text/plain": [
       "['clear',\n",
       " 'copy',\n",
       " 'fromkeys',\n",
       " 'get',\n",
       " 'items',\n",
       " 'keys',\n",
       " 'pop',\n",
       " 'popitem',\n",
       " 'setdefault',\n",
       " 'update',\n",
       " 'values']"
      ]
     },
     "execution_count": 15,
     "metadata": {},
     "output_type": "execute_result"
    }
   ],
   "source": [
    "from typing import Dict, Union, Optional\n",
    "import pprint\n",
    "\n",
    "Key = Union[str, int]                     # create custom type\n",
    "Value = Union[str, list, int, tuple, dict, set]\n",
    "\n",
    "# list                 0                    1             2\n",
    "data: Dict[Key, Value] = {\n",
    "    \"name\": \"Muhammad Usama\",\n",
    "    \"fname\": \"Muhammad Israr\", \n",
    "    \"education\": \"BSSE\",\n",
    "}\n",
    "\n",
    "#                 key\n",
    "print(data.get('pakistan', 'NA'))\n",
    "print(data.get('name', 'NA'))\n",
    "\n",
    "[i for i in dir(data) if \"__\" not in i]"
   ]
  },
  {
   "cell_type": "code",
   "execution_count": 17,
   "id": "994f9a1a",
   "metadata": {},
   "outputs": [
    {
     "name": "stdout",
     "output_type": "stream",
     "text": [
      "name\n",
      "fname\n",
      "education\n"
     ]
    }
   ],
   "source": [
    "from typing import Dict, Union, Optional\n",
    "import pprint\n",
    "\n",
    "Key = Union[str, int]                     # create custom type\n",
    "Value = Union[str, list, int, tuple, dict, set]\n",
    "\n",
    "# list                 0                    1             2\n",
    "data: Dict[Key, Value] = {\n",
    "    \"name\": \"Muhammad Usama\",\n",
    "    \"fname\": \"Muhammad Israr\", \n",
    "    \"education\": \"BSSE\",\n",
    "}\n",
    "\n",
    "for d in data:\n",
    "    print(d)      # keys\n",
    "\n",
    "# [i for i in dir(data) if \"__\" not in i]"
   ]
  },
  {
   "cell_type": "code",
   "execution_count": 19,
   "id": "fcad9b2a",
   "metadata": {},
   "outputs": [
    {
     "name": "stdout",
     "output_type": "stream",
     "text": [
      "dict_keys(['name', 'fname', 'education'])\n",
      "dict_values(['Muhammad Usama', 'Muhammad Israr', 'BSSE'])\n",
      "dict_items([('name', 'Muhammad Usama'), ('fname', 'Muhammad Israr'), ('education', 'BSSE')])\n",
      "name\n",
      "fname\n",
      "education\n"
     ]
    }
   ],
   "source": [
    "from typing import Dict, Union, Optional\n",
    "import pprint\n",
    "\n",
    "Key = Union[str, int]                     # create custom type\n",
    "Value = Union[str, list, int, tuple, dict, set]\n",
    "\n",
    "# list                 0                    1             2\n",
    "data: Dict[Key, Value] = {\n",
    "    \"name\": \"Muhammad Usama\",\n",
    "    \"fname\": \"Muhammad Israr\", \n",
    "    \"education\": \"BSSE\",\n",
    "}\n",
    "\n",
    "print(data.keys())     # keys\n",
    "print(data.values())   # values\n",
    "print(data.items())\n",
    "\n",
    "for k in data.keys():\n",
    "    print(k)      # keys\n",
    "\n",
    "# [i for i in dir(data) if \"__\" not in i]"
   ]
  },
  {
   "cell_type": "code",
   "execution_count": 20,
   "id": "f1f283c2",
   "metadata": {},
   "outputs": [
    {
     "name": "stdout",
     "output_type": "stream",
     "text": [
      "dict_keys(['name', 'fname', 'education'])\n",
      "dict_values(['Muhammad Usama', 'Muhammad Israr', 'BSSE'])\n",
      "dict_items([('name', 'Muhammad Usama'), ('fname', 'Muhammad Israr'), ('education', 'BSSE')])\n",
      "Muhammad Usama\n",
      "Muhammad Israr\n",
      "BSSE\n"
     ]
    }
   ],
   "source": [
    "from typing import Dict, Union, Optional\n",
    "import pprint\n",
    "\n",
    "Key = Union[str, int]                     # create custom type\n",
    "Value = Union[str, list, int, tuple, dict, set]\n",
    "\n",
    "# list                 0                    1             2\n",
    "data: Dict[Key, Value] = {\n",
    "    \"name\": \"Muhammad Usama\",\n",
    "    \"fname\": \"Muhammad Israr\", \n",
    "    \"education\": \"BSSE\",\n",
    "}\n",
    "\n",
    "print(data.keys())     # keys\n",
    "print(data.values())   # values\n",
    "print(data.items())\n",
    "\n",
    "for v in data.values():\n",
    "    print(v)      # keys\n",
    "\n",
    "# [i for i in dir(data) if \"__\" not in i]"
   ]
  },
  {
   "cell_type": "code",
   "execution_count": 22,
   "id": "1e5cb087",
   "metadata": {},
   "outputs": [
    {
     "name": "stdout",
     "output_type": "stream",
     "text": [
      "dict_keys(['name', 'fname', 'education'])\n",
      "dict_values(['Muhammad Usama', 'Muhammad Israr', 'BSSE'])\n",
      "dict_items([('name', 'Muhammad Usama'), ('fname', 'Muhammad Israr'), ('education', 'BSSE')])\n",
      "name Muhammad Usama\n",
      "fname Muhammad Israr\n",
      "education BSSE\n"
     ]
    }
   ],
   "source": [
    "from typing import Dict, Union, Optional\n",
    "import pprint\n",
    "\n",
    "Key = Union[str, int]                     # create custom type\n",
    "Value = Union[str, list, int, tuple, dict, set]\n",
    "\n",
    "# list                 0                    1             2\n",
    "data: Dict[Key, Value] = {\n",
    "    \"name\": \"Muhammad Usama\",\n",
    "    \"fname\": \"Muhammad Israr\", \n",
    "    \"education\": \"BSSE\",\n",
    "}\n",
    "\n",
    "print(data.keys())     # keys\n",
    "print(data.values())   # values\n",
    "print(data.items())\n",
    "\n",
    "for v, k in data.items():\n",
    "    print(v, k)      # keys\n",
    "\n",
    "# [i for i in dir(data) if \"__\" not in i]"
   ]
  },
  {
   "cell_type": "code",
   "execution_count": 23,
   "id": "77bcab05",
   "metadata": {},
   "outputs": [
    {
     "data": {
      "text/plain": [
       "{'Muhammad Usama': 'name', 'Muhammad Israr': 'fname', 'BSSE': 'education'}"
      ]
     },
     "execution_count": 23,
     "metadata": {},
     "output_type": "execute_result"
    }
   ],
   "source": [
    "{ v:k for k, v in data.items()}"
   ]
  },
  {
   "cell_type": "code",
   "execution_count": 24,
   "id": "fe28fd30",
   "metadata": {},
   "outputs": [
    {
     "name": "stdout",
     "output_type": "stream",
     "text": [
      "8 4\n"
     ]
    }
   ],
   "source": [
    "a: int = 4\n",
    "b: int = 8\n",
    "\n",
    "a, b = b, a      # suffle\n",
    "\n",
    "print(a, b)"
   ]
  },
  {
   "cell_type": "code",
   "execution_count": null,
   "id": "8a3cd611",
   "metadata": {},
   "outputs": [
    {
     "name": "stdout",
     "output_type": "stream",
     "text": [
      "{}\n",
      "{'name': None, 'fname': None, 'education': None, 'course': None}\n"
     ]
    }
   ],
   "source": [
    "keys: list[str] = ['name', 'fname', 'education', 'course']\n",
    "\n",
    "data: Dict[Key, Value] = {}\n",
    "\n",
    "print(data)\n",
    "\n",
    "data = data.fromkeys(keys)        # inline\n",
    "\n",
    "print(data)"
   ]
  }
 ],
 "metadata": {
  "kernelspec": {
   "display_name": "python12",
   "language": "python",
   "name": "python3"
  },
  "language_info": {
   "codemirror_mode": {
    "name": "ipython",
    "version": 3
   },
   "file_extension": ".py",
   "mimetype": "text/x-python",
   "name": "python",
   "nbconvert_exporter": "python",
   "pygments_lexer": "ipython3",
   "version": "3.12.0"
  }
 },
 "nbformat": 4,
 "nbformat_minor": 5
}
