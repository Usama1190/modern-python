{
 "cells": [
  {
   "cell_type": "code",
   "execution_count": 1,
   "id": "97ae64b2",
   "metadata": {},
   "outputs": [
    {
     "name": "stdout",
     "output_type": "stream",
     "text": [
      "['clear', 'copy', 'fromkeys', 'get', 'items', 'keys', 'pop', 'popitem', 'setdefault', 'update', 'values']\n"
     ]
    }
   ],
   "source": [
    "from typing import Dict, Union, Optional\n",
    "import pprint\n",
    "\n",
    "Key = Union[str, int]                     # create custom type\n",
    "Value = Union[str, list, int, tuple, dict, set]\n",
    "\n",
    "# list                 0                    1             2\n",
    "data: Dict[Key, Value] = {\n",
    "    \"name\": \"Muhammad Usama\",\n",
    "    \"fname\": \"Muhammad Israr\", \n",
    "    \"education\": \"BSSE\",\n",
    "}\n",
    "\n",
    "methods: list[str] = [m for m in dir(data) if \"__\" not in m]\n",
    "\n",
    "print(methods)"
   ]
  },
  {
   "cell_type": "code",
   "execution_count": 2,
   "id": "41d6c40a",
   "metadata": {},
   "outputs": [
    {
     "name": "stdout",
     "output_type": "stream",
     "text": [
      "before {'name': 'Muhammad Usama', 'fname': 'Muhammad Israr', 'education': 'BSSE'}\n",
      "after {}\n",
      "['clear', 'copy', 'fromkeys', 'get', 'items', 'keys', 'pop', 'popitem', 'setdefault', 'update', 'values']\n"
     ]
    }
   ],
   "source": [
    "from typing import Dict, Union, Optional\n",
    "import pprint\n",
    "\n",
    "Key = Union[str, int]                     # create custom type\n",
    "Value = Union[str, list, int, tuple, dict, set]\n",
    "\n",
    "# list                 0                    1             2\n",
    "data: Dict[Key, Value] = {\n",
    "    \"name\": \"Muhammad Usama\",\n",
    "    \"fname\": \"Muhammad Israr\", \n",
    "    \"education\": \"BSSE\",\n",
    "}\n",
    "\n",
    "print('before', data)\n",
    "\n",
    "data.clear()\n",
    "\n",
    "print('after', data)\n",
    "\n",
    "methods: list[str] = [m for m in dir(data) if \"__\" not in m]\n",
    "\n",
    "print(methods)"
   ]
  },
  {
   "cell_type": "code",
   "execution_count": 3,
   "id": "34fb86e9",
   "metadata": {},
   "outputs": [
    {
     "name": "stdout",
     "output_type": "stream",
     "text": [
      "before {'name': 'Muhammad Usama', 'fname': 'Muhammad Israr', 'education': 'BSSE'}\n"
     ]
    },
    {
     "ename": "NameError",
     "evalue": "name 'data' is not defined",
     "output_type": "error",
     "traceback": [
      "\u001b[31m---------------------------------------------------------------------------\u001b[39m",
      "\u001b[31mNameError\u001b[39m                                 Traceback (most recent call last)",
      "\u001b[36mCell\u001b[39m\u001b[36m \u001b[39m\u001b[32mIn[3]\u001b[39m\u001b[32m, line 18\u001b[39m\n\u001b[32m     14\u001b[39m \u001b[38;5;28mprint\u001b[39m(\u001b[33m'\u001b[39m\u001b[33mbefore\u001b[39m\u001b[33m'\u001b[39m, data)\n\u001b[32m     16\u001b[39m \u001b[38;5;28;01mdel\u001b[39;00m data\n\u001b[32m---> \u001b[39m\u001b[32m18\u001b[39m \u001b[38;5;28mprint\u001b[39m(\u001b[33m'\u001b[39m\u001b[33mafter\u001b[39m\u001b[33m'\u001b[39m, \u001b[43mdata\u001b[49m)\n\u001b[32m     20\u001b[39m methods: \u001b[38;5;28mlist\u001b[39m[\u001b[38;5;28mstr\u001b[39m] = [m \u001b[38;5;28;01mfor\u001b[39;00m m \u001b[38;5;129;01min\u001b[39;00m \u001b[38;5;28mdir\u001b[39m(data) \u001b[38;5;28;01mif\u001b[39;00m \u001b[33m\"\u001b[39m\u001b[33m__\u001b[39m\u001b[33m\"\u001b[39m \u001b[38;5;129;01mnot\u001b[39;00m \u001b[38;5;129;01min\u001b[39;00m m]\n\u001b[32m     22\u001b[39m \u001b[38;5;28mprint\u001b[39m(methods)\n",
      "\u001b[31mNameError\u001b[39m: name 'data' is not defined"
     ]
    }
   ],
   "source": [
    "from typing import Dict, Union, Optional\n",
    "import pprint\n",
    "\n",
    "Key = Union[str, int]                     # create custom type\n",
    "Value = Union[str, list, int, tuple, dict, set]\n",
    "\n",
    "# list                 0                    1             2\n",
    "data: Dict[Key, Value] = {\n",
    "    \"name\": \"Muhammad Usama\",\n",
    "    \"fname\": \"Muhammad Israr\", \n",
    "    \"education\": \"BSSE\",\n",
    "}\n",
    "\n",
    "print('before', data)\n",
    "\n",
    "del data\n",
    "\n",
    "print('after', data)\n",
    "\n",
    "methods: list[str] = [m for m in dir(data) if \"__\" not in m]\n",
    "\n",
    "print(methods)"
   ]
  },
  {
   "cell_type": "code",
   "execution_count": 4,
   "id": "28a753ab",
   "metadata": {},
   "outputs": [
    {
     "name": "stdout",
     "output_type": "stream",
     "text": [
      "before {'name': 'Muhammad Usama', 'fname': 'Muhammad Israr', 'education': 'BSSE'}\n",
      "BSSE\n",
      "after {'name': 'Muhammad Usama', 'fname': 'Muhammad Israr'}\n",
      "['clear', 'copy', 'fromkeys', 'get', 'items', 'keys', 'pop', 'popitem', 'setdefault', 'update', 'values']\n"
     ]
    }
   ],
   "source": [
    "from typing import Dict, Union, Optional\n",
    "import pprint\n",
    "\n",
    "Key = Union[str, int]                     # create custom type\n",
    "Value = Union[str, list, int, tuple, dict, set]\n",
    "\n",
    "# list                 0                    1             2\n",
    "data: Dict[Key, Value] = {\n",
    "    \"name\": \"Muhammad Usama\",\n",
    "    \"fname\": \"Muhammad Israr\", \n",
    "    \"education\": \"BSSE\",\n",
    "}\n",
    "\n",
    "print('before', data)\n",
    "\n",
    "a: str = data.pop(\"education\")\n",
    "print(a)\n",
    "\n",
    "print('after', data)\n",
    "\n",
    "methods: list[str] = [m for m in dir(data) if \"__\" not in m]\n",
    "\n",
    "print(methods)"
   ]
  },
  {
   "cell_type": "code",
   "execution_count": 5,
   "id": "816fa733",
   "metadata": {},
   "outputs": [
    {
     "name": "stdout",
     "output_type": "stream",
     "text": [
      "before {'name': 'Muhammad Usama', 'fname': 'Muhammad Israr', 'education': 'BSSE'}\n",
      "('education', 'BSSE')\n",
      "after {'name': 'Muhammad Usama', 'fname': 'Muhammad Israr'}\n",
      "['clear', 'copy', 'fromkeys', 'get', 'items', 'keys', 'pop', 'popitem', 'setdefault', 'update', 'values']\n"
     ]
    }
   ],
   "source": [
    "from typing import Dict, Union, Optional\n",
    "import pprint\n",
    "\n",
    "Key = Union[str, int]                     # create custom type\n",
    "Value = Union[str, list, int, tuple, dict, set]\n",
    "\n",
    "# list                 0                    1             2\n",
    "data: Dict[Key, Value] = {\n",
    "    \"name\": \"Muhammad Usama\",\n",
    "    \"fname\": \"Muhammad Israr\", \n",
    "    \"education\": \"BSSE\",\n",
    "}\n",
    "\n",
    "print('before', data)\n",
    "\n",
    "a: str = data.popitem()\n",
    "print(a)\n",
    "\n",
    "print('after', data)\n",
    "\n",
    "methods: list[str] = [m for m in dir(data) if \"__\" not in m]\n",
    "\n",
    "print(methods)"
   ]
  },
  {
   "cell_type": "code",
   "execution_count": 6,
   "id": "10b0f122",
   "metadata": {},
   "outputs": [
    {
     "name": "stdout",
     "output_type": "stream",
     "text": [
      "before {'name': 'Muhammad Usama', 'fname': 'Muhammad Israr', 'education': 'BSSE'}\n",
      "NA\n",
      "after {'name': 'Muhammad Usama', 'fname': 'Muhammad Israr', 'education': 'BSSE'}\n",
      "['clear', 'copy', 'fromkeys', 'get', 'items', 'keys', 'pop', 'popitem', 'setdefault', 'update', 'values']\n"
     ]
    }
   ],
   "source": [
    "from typing import Dict, Union, Optional\n",
    "import pprint\n",
    "\n",
    "Key = Union[str, int]                     # create custom type\n",
    "Value = Union[str, list, int, tuple, dict, set]\n",
    "\n",
    "# list                 0                    1             2\n",
    "data: Dict[Key, Value] = {\n",
    "    \"name\": \"Muhammad Usama\",\n",
    "    \"fname\": \"Muhammad Israr\", \n",
    "    \"education\": \"BSSE\",\n",
    "}\n",
    "\n",
    "print('before', data)\n",
    "\n",
    "a: str = data.get(\"Pakistan\", \"NA\")\n",
    "print(a)\n",
    "\n",
    "print('after', data)\n",
    "\n",
    "methods: list[str] = [m for m in dir(data) if \"__\" not in m]\n",
    "\n",
    "print(methods)"
   ]
  },
  {
   "cell_type": "code",
   "execution_count": 7,
   "id": "5a064a90",
   "metadata": {},
   "outputs": [
    {
     "name": "stdout",
     "output_type": "stream",
     "text": [
      "before {'name': 'Muhammad Usama', 'fname': 'Muhammad Israr', 'education': 'BSSE'}\n",
      "Empty value\n",
      "after {'name': 'Muhammad Usama', 'fname': 'Muhammad Israr', 'education': 'BSSE', 'Pakistan': 'Empty value'}\n",
      "['clear', 'copy', 'fromkeys', 'get', 'items', 'keys', 'pop', 'popitem', 'setdefault', 'update', 'values']\n"
     ]
    }
   ],
   "source": [
    "from typing import Dict, Union, Optional\n",
    "import pprint\n",
    "\n",
    "Key = Union[str, int]                     # create custom type\n",
    "Value = Union[str, list, int, tuple, dict, set]\n",
    "\n",
    "# list                 0                    1             2\n",
    "data: Dict[Key, Value] = {\n",
    "    \"name\": \"Muhammad Usama\",\n",
    "    \"fname\": \"Muhammad Israr\", \n",
    "    \"education\": \"BSSE\",\n",
    "}\n",
    "\n",
    "print('before', data)\n",
    "\n",
    "a: str = data.setdefault(\"Pakistan\", \"Empty value\")\n",
    "print(a)\n",
    "\n",
    "print('after', data)\n",
    "\n",
    "methods: list[str] = [m for m in dir(data) if \"__\" not in m]\n",
    "\n",
    "print(methods)"
   ]
  },
  {
   "cell_type": "code",
   "execution_count": 8,
   "id": "ad9171f6",
   "metadata": {},
   "outputs": [
    {
     "data": {
      "text/plain": [
       "{'name': 'M. Usama',\n",
       " 'fname': 'Muhammad Israr',\n",
       " 'education': 'BSSE',\n",
       " 'age': 24,\n",
       " 'height': '6ft'}"
      ]
     },
     "execution_count": 8,
     "metadata": {},
     "output_type": "execute_result"
    }
   ],
   "source": [
    "from typing import Dict, Union, Optional\n",
    "import pprint\n",
    "\n",
    "Key = Union[str, int]                     # create custom type\n",
    "Value = Union[str, list, int, tuple, dict, set]\n",
    "\n",
    "# list                 0                    1             2\n",
    "data: Dict[Key, Value] = {\n",
    "    \"name\": \"Muhammad Usama\",\n",
    "    \"fname\": \"Muhammad Israr\", \n",
    "    \"education\": \"BSSE\",\n",
    "}\n",
    "\n",
    "data1: Dict[Key, Value] = {\n",
    "    'name': 'M. Usama',\n",
    "    'age': 24,\n",
    "    'height': '6ft'\n",
    "}\n",
    "\n",
    "data.update(data1)\n",
    "\n",
    "data"
   ]
  },
  {
   "cell_type": "code",
   "execution_count": 9,
   "id": "faebacca",
   "metadata": {},
   "outputs": [
    {
     "data": {
      "text/html": [
       "<div>\n",
       "<style scoped>\n",
       "    .dataframe tbody tr th:only-of-type {\n",
       "        vertical-align: middle;\n",
       "    }\n",
       "\n",
       "    .dataframe tbody tr th {\n",
       "        vertical-align: top;\n",
       "    }\n",
       "\n",
       "    .dataframe thead th {\n",
       "        text-align: right;\n",
       "    }\n",
       "</style>\n",
       "<table border=\"1\" class=\"dataframe\">\n",
       "  <thead>\n",
       "    <tr style=\"text-align: right;\">\n",
       "      <th></th>\n",
       "      <th>role_number</th>\n",
       "      <th>name</th>\n",
       "      <th>education</th>\n",
       "    </tr>\n",
       "  </thead>\n",
       "  <tbody>\n",
       "    <tr>\n",
       "      <th>0</th>\n",
       "      <td>1</td>\n",
       "      <td>Sir Zia</td>\n",
       "      <td>MSC</td>\n",
       "    </tr>\n",
       "    <tr>\n",
       "      <th>1</th>\n",
       "      <td>2</td>\n",
       "      <td>M. Qasim</td>\n",
       "      <td>MSC</td>\n",
       "    </tr>\n",
       "    <tr>\n",
       "      <th>2</th>\n",
       "      <td>3</td>\n",
       "      <td>Usama Israr</td>\n",
       "      <td>MSC</td>\n",
       "    </tr>\n",
       "  </tbody>\n",
       "</table>\n",
       "</div>"
      ],
      "text/plain": [
       "   role_number         name education\n",
       "0            1      Sir Zia       MSC\n",
       "1            2     M. Qasim       MSC\n",
       "2            3  Usama Israr       MSC"
      ]
     },
     "execution_count": 9,
     "metadata": {},
     "output_type": "execute_result"
    }
   ],
   "source": [
    "import pandas as pd\n",
    "from typing import Any\n",
    "\n",
    "student_data: Dict[str, list[Any]] = {\n",
    "    'role_number': [1, 2, 3],\n",
    "    'name': ['Sir Zia', 'M. Qasim', 'Usama Israr'],\n",
    "    'education': ['MSC', 'MSC', 'MSC']\n",
    "}\n",
    "\n",
    "df: pd.DataFrame = pd.DataFrame(student_data)\n",
    "\n",
    "df"
   ]
  },
  {
   "cell_type": "code",
   "execution_count": 10,
   "id": "3b736528",
   "metadata": {},
   "outputs": [
    {
     "name": "stdout",
     "output_type": "stream",
     "text": [
      "Original position: 0\n",
      "New position: 3\n"
     ]
    }
   ],
   "source": [
    "alien_0 = {'x_position': 0, 'y_position': 25, 'speed': 'medium'}\n",
    "print(f\"Original position: {alien_0['x_position']}\")\n",
    "# Move the alien to the right.\n",
    "# Determine how far to move the alien based on its current speed. 1 \n",
    "alien_0['speed'] = 'fast'\n",
    "# \n",
    "if alien_0['speed'] == 'slow':\n",
    "    x_increment = 1\n",
    "elif alien_0['speed'] == 'medium':\n",
    "    x_increment = 2\n",
    "else:\n",
    "    # This must be a fast alien.\n",
    "    x_increment = 3\n",
    "# The new position is the old position plus the increment. 2\n",
    "# alien_0['x_position'] = alien_0['x_position'] + x_increment\n",
    "alien_0['x_position'] +=  x_increment\n",
    "print(f\"New position: {alien_0['x_position']}\")"
   ]
  },
  {
   "cell_type": "code",
   "execution_count": 12,
   "id": "6061ac11",
   "metadata": {},
   "outputs": [
    {
     "data": {
      "text/plain": [
       "{'name': 'M. Usama', 'fname': 'Muhammad Israr', 'education': 'BSSE'}"
      ]
     },
     "execution_count": 12,
     "metadata": {},
     "output_type": "execute_result"
    }
   ],
   "source": [
    "from typing import Dict, Union, Optional\n",
    "import pprint\n",
    "\n",
    "Key = Union[str, int]                     # create custom type\n",
    "Value = Union[str, list, int, tuple, dict, set]\n",
    "\n",
    "# list                 0                    1             2\n",
    "data: Dict[Key, Value] = {\n",
    "    \"name\": \"Muhammad Usama\",\n",
    "    \"fname\": \"Muhammad Israr\", \n",
    "    \"education\": \"BSSE\",\n",
    "    'name': 'M. Usama'\n",
    "}\n",
    "\n",
    "data"
   ]
  },
  {
   "cell_type": "code",
   "execution_count": 13,
   "metadata": {},
   "outputs": [
    {
     "name": "stdout",
     "output_type": "stream",
     "text": [
      "Sarah's favorite language is Python.\n"
     ]
    }
   ],
   "source": [
    "favorite_languages = {\n",
    "      'jen': 'python',\n",
    "      'sarah': 'c',\n",
    "      'edward': 'rust',\n",
    "      'phil': 'python',\n",
    "      }\n",
    "language = favorite_languages['jen'].title() \n",
    "print(f\"Sarah's favorite language is {language}.\")"
   ]
  },
  {
   "cell_type": "code",
   "execution_count": 14,
   "id": "845935e8",
   "metadata": {},
   "outputs": [
    {
     "name": "stdout",
     "output_type": "stream",
     "text": [
      "Hi Jen.\n",
      "Hi Sarah.\n",
      "\tSarah, I see you love C!\n",
      "Hi Edward.\n",
      "Hi Phil.\n",
      "\tPhil, I see you love Python!\n"
     ]
    }
   ],
   "source": [
    "favorite_languages = {\n",
    "      'jen': 'python',\n",
    "      'sarah': 'c',\n",
    "      'edward': 'rust',\n",
    "      'phil': 'python',\n",
    "      }\n",
    "\n",
    "friends = ['phil', 'sarah']\n",
    "for name in favorite_languages.keys():\n",
    "    print(f\"Hi {name.title()}.\")\n",
    "    if name in friends:\n",
    "        language = favorite_languages[name].title()\n",
    "        print(f\"\\t{name.title()}, I see you love {language}!\")"
   ]
  },
  {
   "cell_type": "code",
   "execution_count": 16,
   "id": "4ab7f2bd",
   "metadata": {},
   "outputs": [
    {
     "name": "stdout",
     "output_type": "stream",
     "text": [
      "True\n",
      "{'jen': 'python', 'sarah': 'c', 'edward': 'rust', 'phil': 'python'}\n"
     ]
    }
   ],
   "source": [
    "print('erim' not in favorite_languages)\n",
    "\n",
    "print(favorite_languages)"
   ]
  },
  {
   "cell_type": "code",
   "execution_count": 17,
   "id": "689d17eb",
   "metadata": {},
   "outputs": [
    {
     "data": {
      "text/plain": [
       "True"
      ]
     },
     "execution_count": 17,
     "metadata": {},
     "output_type": "execute_result"
    }
   ],
   "source": [
    "'Usama' in \"My name is Usama, I'm working as cheif data scientist\""
   ]
  },
  {
   "cell_type": "code",
   "execution_count": 18,
   "id": "cf800a96",
   "metadata": {},
   "outputs": [
    {
     "name": "stdout",
     "output_type": "stream",
     "text": [
      "{'color': 'green', 'points': 5}\n",
      "{'color': 'yellow', 'points': 10}\n",
      "{'color': 'red', 'points': 15}\n"
     ]
    }
   ],
   "source": [
    "alien_0: list[Key, Value] = {'color': 'green', 'points': 5}\n",
    "alien_1: list[Key, Value] = {'color': 'yellow', 'points': 10}\n",
    "alien_2: list[Key, Value] = {'color': 'red', 'points': 15}\n",
    "\n",
    "aliens:list[Dict[str,str]] = [alien_0, alien_1, alien_2]\n",
    "for alien in aliens:\n",
    "    print(alien)"
   ]
  },
  {
   "cell_type": "code",
   "execution_count": 19,
   "id": "3dc98469",
   "metadata": {},
   "outputs": [
    {
     "name": "stdout",
     "output_type": "stream",
     "text": [
      "[]\n",
      "[{'color': 'green', 'points': 5, 'speed': 'slow'},\n",
      " {'color': 'green', 'points': 5, 'speed': 'slow'},\n",
      " {'color': 'green', 'points': 5, 'speed': 'slow'},\n",
      " {'color': 'green', 'points': 5, 'speed': 'slow'},\n",
      " {'color': 'green', 'points': 5, 'speed': 'slow'},\n",
      " {'color': 'green', 'points': 5, 'speed': 'slow'},\n",
      " {'color': 'green', 'points': 5, 'speed': 'slow'},\n",
      " {'color': 'green', 'points': 5, 'speed': 'slow'},\n",
      " {'color': 'green', 'points': 5, 'speed': 'slow'},\n",
      " {'color': 'green', 'points': 5, 'speed': 'slow'},\n",
      " {'color': 'green', 'points': 5, 'speed': 'slow'},\n",
      " {'color': 'green', 'points': 5, 'speed': 'slow'},\n",
      " {'color': 'green', 'points': 5, 'speed': 'slow'},\n",
      " {'color': 'green', 'points': 5, 'speed': 'slow'},\n",
      " {'color': 'green', 'points': 5, 'speed': 'slow'},\n",
      " {'color': 'green', 'points': 5, 'speed': 'slow'},\n",
      " {'color': 'green', 'points': 5, 'speed': 'slow'},\n",
      " {'color': 'green', 'points': 5, 'speed': 'slow'},\n",
      " {'color': 'green', 'points': 5, 'speed': 'slow'},\n",
      " {'color': 'green', 'points': 5, 'speed': 'slow'},\n",
      " {'color': 'green', 'points': 5, 'speed': 'slow'},\n",
      " {'color': 'green', 'points': 5, 'speed': 'slow'},\n",
      " {'color': 'green', 'points': 5, 'speed': 'slow'},\n",
      " {'color': 'green', 'points': 5, 'speed': 'slow'},\n",
      " {'color': 'green', 'points': 5, 'speed': 'slow'},\n",
      " {'color': 'green', 'points': 5, 'speed': 'slow'},\n",
      " {'color': 'green', 'points': 5, 'speed': 'slow'},\n",
      " {'color': 'green', 'points': 5, 'speed': 'slow'},\n",
      " {'color': 'green', 'points': 5, 'speed': 'slow'},\n",
      " {'color': 'green', 'points': 5, 'speed': 'slow'}]\n"
     ]
    }
   ],
   "source": [
    "# Make an empty list for storing aliens.\n",
    "aliens : list[Dict[str,str]] = []\n",
    "import pprint\n",
    "print(aliens)\n",
    "# Make 30 green aliens.\n",
    "for alien_number in range(30):\n",
    "    new_alien = {'color': 'green', 'points': 5, 'speed': 'slow'}\n",
    "    aliens.append(new_alien)\n",
    "pprint.pprint(aliens)"
   ]
  },
  {
   "cell_type": "code",
   "execution_count": 21,
   "id": "03c0e849",
   "metadata": {},
   "outputs": [
    {
     "name": "stdout",
     "output_type": "stream",
     "text": [
      "[{'color': 'green', 'points': 5, 'speed': 'slow'},\n",
      " {'color': 'green', 'points': 5, 'speed': 'slow'},\n",
      " {'color': 'green', 'points': 5, 'speed': 'slow'},\n",
      " {'color': 'green', 'points': 5, 'speed': 'slow'},\n",
      " {'color': 'green', 'points': 5, 'speed': 'slow'}]\n"
     ]
    }
   ],
   "source": [
    "pprint.pprint(aliens[:5])"
   ]
  },
  {
   "cell_type": "code",
   "execution_count": 23,
   "id": "953f09f7",
   "metadata": {},
   "outputs": [],
   "source": [
    "for alien in aliens[:3]:\n",
    "    if alien['color'] == 'green':\n",
    "        alien['color'] = 'yellow'\n",
    "        alien['speed'] = 'medium'\n",
    "        alien['points'] = 10"
   ]
  },
  {
   "cell_type": "code",
   "execution_count": 24,
   "id": "e9094531",
   "metadata": {},
   "outputs": [
    {
     "data": {
      "text/plain": [
       "[{'color': 'yellow', 'points': 10, 'speed': 'medium'},\n",
       " {'color': 'yellow', 'points': 10, 'speed': 'medium'},\n",
       " {'color': 'yellow', 'points': 10, 'speed': 'medium'},\n",
       " {'color': 'green', 'points': 5, 'speed': 'slow'},\n",
       " {'color': 'green', 'points': 5, 'speed': 'slow'},\n",
       " {'color': 'green', 'points': 5, 'speed': 'slow'},\n",
       " {'color': 'green', 'points': 5, 'speed': 'slow'},\n",
       " {'color': 'green', 'points': 5, 'speed': 'slow'},\n",
       " {'color': 'green', 'points': 5, 'speed': 'slow'},\n",
       " {'color': 'green', 'points': 5, 'speed': 'slow'}]"
      ]
     },
     "execution_count": 24,
     "metadata": {},
     "output_type": "execute_result"
    }
   ],
   "source": [
    "aliens[:10]"
   ]
  },
  {
   "cell_type": "code",
   "execution_count": 25,
   "id": "0c8d9052",
   "metadata": {},
   "outputs": [
    {
     "data": {
      "text/plain": [
       "[{'color': 'red', 'points': 15, 'speed': 'fast'},\n",
       " {'color': 'red', 'points': 15, 'speed': 'fast'},\n",
       " {'color': 'red', 'points': 15, 'speed': 'fast'},\n",
       " {'color': 'green', 'points': 5, 'speed': 'slow'},\n",
       " {'color': 'green', 'points': 5, 'speed': 'slow'},\n",
       " {'color': 'green', 'points': 5, 'speed': 'slow'},\n",
       " {'color': 'green', 'points': 5, 'speed': 'slow'},\n",
       " {'color': 'green', 'points': 5, 'speed': 'slow'},\n",
       " {'color': 'green', 'points': 5, 'speed': 'slow'},\n",
       " {'color': 'green', 'points': 5, 'speed': 'slow'},\n",
       " {'color': 'green', 'points': 5, 'speed': 'slow'},\n",
       " {'color': 'green', 'points': 5, 'speed': 'slow'},\n",
       " {'color': 'green', 'points': 5, 'speed': 'slow'},\n",
       " {'color': 'green', 'points': 5, 'speed': 'slow'},\n",
       " {'color': 'green', 'points': 5, 'speed': 'slow'},\n",
       " {'color': 'green', 'points': 5, 'speed': 'slow'},\n",
       " {'color': 'green', 'points': 5, 'speed': 'slow'},\n",
       " {'color': 'green', 'points': 5, 'speed': 'slow'},\n",
       " {'color': 'green', 'points': 5, 'speed': 'slow'},\n",
       " {'color': 'green', 'points': 5, 'speed': 'slow'},\n",
       " {'color': 'green', 'points': 5, 'speed': 'slow'},\n",
       " {'color': 'green', 'points': 5, 'speed': 'slow'},\n",
       " {'color': 'green', 'points': 5, 'speed': 'slow'},\n",
       " {'color': 'green', 'points': 5, 'speed': 'slow'},\n",
       " {'color': 'green', 'points': 5, 'speed': 'slow'},\n",
       " {'color': 'green', 'points': 5, 'speed': 'slow'},\n",
       " {'color': 'green', 'points': 5, 'speed': 'slow'},\n",
       " {'color': 'green', 'points': 5, 'speed': 'slow'},\n",
       " {'color': 'green', 'points': 5, 'speed': 'slow'},\n",
       " {'color': 'green', 'points': 5, 'speed': 'slow'}]"
      ]
     },
     "execution_count": 25,
     "metadata": {},
     "output_type": "execute_result"
    }
   ],
   "source": [
    "for alien in aliens[0:3]:\n",
    "    if alien['color'] == 'green':\n",
    "        alien['color'] = 'yellow'\n",
    "        alien['speed'] = 'medium'\n",
    "        alien['points'] = 10\n",
    "    elif alien['color'] == 'yellow':\n",
    "        alien['color'] = 'red'\n",
    "        alien['speed'] = 'fast'\n",
    "        alien['points'] = 15\n",
    "\n",
    "aliens"
   ]
  },
  {
   "cell_type": "code",
   "execution_count": 27,
   "id": "d8aca7ba",
   "metadata": {},
   "outputs": [
    {
     "name": "stdout",
     "output_type": "stream",
     "text": [
      "{'name': 'M. Usama', 'fname': 'Muhammad Israr', 'education': 'BSSE'}\n",
      "<class 'dict'>\n"
     ]
    }
   ],
   "source": [
    "from typing import Dict, Union, Optional\n",
    "import pprint\n",
    "\n",
    "Key = Union[str, int]                     # create custom type\n",
    "Value = Union[str, list, int, tuple, dict, set]\n",
    "\n",
    "# list                 0                    1             2\n",
    "data: Dict[Key, Value] = {\n",
    "    \"name\": \"Muhammad Usama\",\n",
    "    \"fname\": \"Muhammad Israr\", \n",
    "    \"education\": \"BSSE\",\n",
    "    'name': 'M. Usama'\n",
    "}\n",
    "\n",
    "print(data)\n",
    "print(type(data))"
   ]
  },
  {
   "cell_type": "code",
   "execution_count": 28,
   "id": "428ef870",
   "metadata": {},
   "outputs": [
    {
     "name": "stdout",
     "output_type": "stream",
     "text": [
      "<class 'str'>\n"
     ]
    },
    {
     "data": {
      "text/plain": [
       "'{\\n    \"name\": \"M. Usama\",\\n    \"fname\": \"Muhammad Israr\",\\n    \"education\": \"BSSE\"\\n}'"
      ]
     },
     "metadata": {},
     "output_type": "display_data"
    },
    {
     "name": "stdout",
     "output_type": "stream",
     "text": [
      "{\n",
      "    \"name\": \"M. Usama\",\n",
      "    \"fname\": \"Muhammad Israr\",\n",
      "    \"education\": \"BSSE\"\n",
      "}\n"
     ]
    }
   ],
   "source": [
    "import json\n",
    "\n",
    "data1 = json.dumps(data, indent=4)\n",
    "\n",
    "print(type(data1))\n",
    "display(data1)\n",
    "print(data1)"
   ]
  },
  {
   "cell_type": "markdown",
   "id": "be780cb3",
   "metadata": {},
   "source": [
    "### Nested Dictionary Error Solution"
   ]
  },
  {
   "cell_type": "code",
   "execution_count": 29,
   "id": "8fca169f",
   "metadata": {},
   "outputs": [
    {
     "data": {
      "text/plain": [
       "1"
      ]
     },
     "execution_count": 29,
     "metadata": {},
     "output_type": "execute_result"
    }
   ],
   "source": [
    "from typing import Union, TypedDict, Dict, Tuple, List, Set\n",
    "import pprint\n",
    "\n",
    "cdeDataType = TypedDict(\n",
    "    'cdeDataType',\n",
    "    {\n",
    "        'a': int,\n",
    "        'b': int\n",
    "    }\n",
    ")\n",
    "\n",
    "myDataType = TypedDict(\n",
    "    'MyDataType', {\n",
    "        'fname': str,\n",
    "        'name': str,\n",
    "        'education': str,\n",
    "        'xyz': List[int],\n",
    "        'fgh': Set[int],\n",
    "        'klm': Tuple,\n",
    "        'opq': cdeDataType \n",
    "    }\n",
    ")\n",
    "\n",
    "# Keys = [str, int]\n",
    "# Values = [str, int, list, tuple, set]\n",
    "\n",
    "data: myDataType = {\n",
    "    'fname': 'Israr',\n",
    "    'name': 'Usama',\n",
    "    'education': 'MSC',\n",
    "    'xyz': [1, 2, 3],\n",
    "    'fgh': {1, 2, 3},\n",
    "    'klm': (1, 2, 3),\n",
    "    'opq': { 'a': 1, 'b': 2 }\n",
    "}\n",
    "\n",
    "data['opq']['a']"
   ]
  }
 ],
 "metadata": {
  "kernelspec": {
   "display_name": "python12",
   "language": "python",
   "name": "python3"
  },
  "language_info": {
   "codemirror_mode": {
    "name": "ipython",
    "version": 3
   },
   "file_extension": ".py",
   "mimetype": "text/x-python",
   "name": "python",
   "nbconvert_exporter": "python",
   "pygments_lexer": "ipython3",
   "version": "3.12.0"
  }
 },
 "nbformat": 4,
 "nbformat_minor": 5
}
