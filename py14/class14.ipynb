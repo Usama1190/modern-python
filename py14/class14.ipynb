{
 "cells": [
  {
   "cell_type": "markdown",
   "id": "e88a0651",
   "metadata": {},
   "source": [
    "### Method Overloading"
   ]
  },
  {
   "cell_type": "code",
   "execution_count": 11,
   "id": "08878dd0",
   "metadata": {},
   "outputs": [
    {
     "name": "stdout",
     "output_type": "stream",
     "text": [
      "6\n",
      "11.0\n",
      "Hello, world!\n"
     ]
    }
   ],
   "source": [
    "from typing import overload, Union\n",
    "\n",
    "class Adder():\n",
    "    @overload\n",
    "    def add(self, x: int, y: int) -> int:\n",
    "        ...\n",
    "    \n",
    "    @overload\n",
    "    def add(self, x: float, y: float) -> float:\n",
    "        ...\n",
    "    \n",
    "    @overload\n",
    "    def add(self, x: str, y: str) -> str:\n",
    "        ...\n",
    "    \n",
    "    def add(self, x: Union[int, float, str], y: Union[int, float, str]) -> Union[int, float, str]:\n",
    "        if isinstance(x, int) and isinstance(y, int):\n",
    "            return x + y\n",
    "        elif isinstance(x, float) and isinstance(y, float):\n",
    "            return x + y\n",
    "        elif isinstance(x, str) and isinstance(y, str):\n",
    "            return x + y\n",
    "        else:\n",
    "            raise TypeError(\"Invalid Argument Types!\")\n",
    "    \n",
    "    \n",
    "# Usage example\n",
    "adder = Adder()\n",
    "\n",
    "result1 = adder.add(1, 5)               # should return 6\n",
    "result2 = adder.add(2.5, 8.5)           # should return 11\n",
    "result3 = adder.add(\"Hello, \", \"world!\")   # should return Hello World\n",
    "\n",
    "print(result1)\n",
    "print(result2)\n",
    "print(result3)\n",
    "\n",
    "# Overriding and polymorphism"
   ]
  },
  {
   "cell_type": "code",
   "execution_count": 13,
   "id": "61e7abd6",
   "metadata": {},
   "outputs": [
    {
     "ename": "TypeError",
     "evalue": "Invalid Argument Types!",
     "output_type": "error",
     "traceback": [
      "\u001b[31m---------------------------------------------------------------------------\u001b[39m",
      "\u001b[31mTypeError\u001b[39m                                 Traceback (most recent call last)",
      "\u001b[36mCell\u001b[39m\u001b[36m \u001b[39m\u001b[32mIn[13]\u001b[39m\u001b[32m, line 1\u001b[39m\n\u001b[32m----> \u001b[39m\u001b[32m1\u001b[39m \u001b[43madder\u001b[49m\u001b[43m.\u001b[49m\u001b[43madd\u001b[49m\u001b[43m(\u001b[49m\u001b[43m[\u001b[49m\u001b[32;43m1\u001b[39;49m\u001b[43m,\u001b[49m\u001b[43m \u001b[49m\u001b[32;43m2\u001b[39;49m\u001b[43m,\u001b[49m\u001b[43m \u001b[49m\u001b[32;43m3\u001b[39;49m\u001b[43m,\u001b[49m\u001b[43m \u001b[49m\u001b[32;43m4\u001b[39;49m\u001b[43m]\u001b[49m\u001b[43m,\u001b[49m\u001b[43m \u001b[49m\u001b[43m[\u001b[49m\u001b[32;43m1\u001b[39;49m\u001b[43m,\u001b[49m\u001b[43m \u001b[49m\u001b[32;43m2\u001b[39;49m\u001b[43m,\u001b[49m\u001b[43m \u001b[49m\u001b[32;43m3\u001b[39;49m\u001b[43m]\u001b[49m\u001b[43m)\u001b[49m\n",
      "\u001b[36mCell\u001b[39m\u001b[36m \u001b[39m\u001b[32mIn[11]\u001b[39m\u001b[32m, line 24\u001b[39m, in \u001b[36mAdder.add\u001b[39m\u001b[34m(self, x, y)\u001b[39m\n\u001b[32m     22\u001b[39m     \u001b[38;5;28;01mreturn\u001b[39;00m x + y\n\u001b[32m     23\u001b[39m \u001b[38;5;28;01melse\u001b[39;00m:\n\u001b[32m---> \u001b[39m\u001b[32m24\u001b[39m     \u001b[38;5;28;01mraise\u001b[39;00m \u001b[38;5;167;01mTypeError\u001b[39;00m(\u001b[33m\"\u001b[39m\u001b[33mInvalid Argument Types!\u001b[39m\u001b[33m\"\u001b[39m)\n",
      "\u001b[31mTypeError\u001b[39m: Invalid Argument Types!"
     ]
    }
   ],
   "source": [
    "adder.add([1, 2, 3, 4], [1, 2, 3])"
   ]
  },
  {
   "cell_type": "markdown",
   "id": "a0dc1965",
   "metadata": {},
   "source": [
    "### Function Overloading"
   ]
  },
  {
   "cell_type": "code",
   "execution_count": 14,
   "id": "93fc6f12",
   "metadata": {},
   "outputs": [
    {
     "name": "stdout",
     "output_type": "stream",
     "text": [
      "6\n",
      "11.0\n",
      "Hello, world!\n"
     ]
    }
   ],
   "source": [
    "from typing import overload, Union\n",
    "\n",
    "@overload\n",
    "def add(x: int, y: int) -> int:\n",
    "    ...\n",
    "\n",
    "@overload\n",
    "def add(x: float, y: float) -> float:\n",
    "    ...\n",
    "\n",
    "@overload\n",
    "def add(x: str, y: str) -> str:\n",
    "    ...\n",
    "\n",
    "def add(x: Union[int, float, str], y: Union[int, float, str]) -> Union[int, float, str]:\n",
    "    if isinstance(x, int) and isinstance(y, int):\n",
    "        return x + y\n",
    "    elif isinstance(x, float) and isinstance(y, float):\n",
    "        return x + y\n",
    "    elif isinstance(x, str) and isinstance(y, str):\n",
    "        return x + y\n",
    "    else:\n",
    "        raise TypeError(\"Invalid Argument Types!\")\n",
    "    \n",
    "result1 = add(1, 5)               # should return 6\n",
    "result2 = add(2.5, 8.5)           # should return 11\n",
    "result3 = add(\"Hello, \", \"world!\")   # should return Hello World\n",
    "\n",
    "print(result1)\n",
    "print(result2)\n",
    "print(result3)\n"
   ]
  },
  {
   "cell_type": "markdown",
   "id": "d53e0385",
   "metadata": {},
   "source": [
    "### Multiple Inheritance"
   ]
  },
  {
   "cell_type": "code",
   "execution_count": 16,
   "id": "4753f7e0",
   "metadata": {},
   "outputs": [
    {
     "name": "stdout",
     "output_type": "stream",
     "text": [
      "Object height 6ft\n",
      "Object eye color Blue\n",
      "Mother speaking function Pakistan Zindabad!\n"
     ]
    }
   ],
   "source": [
    "class Mother():\n",
    "    def __init__(self, name: str) -> None:\n",
    "        self.name: str = name\n",
    "        self.eye_color: str = \"Blue\"\n",
    "        \n",
    "    def speaking(self, words: str) -> str:\n",
    "        return f\"Mother speaking function {words}\" \n",
    "    \n",
    "class Father():\n",
    "    def __init__(self, name: str) -> None:\n",
    "        self.name: str = name\n",
    "        self.height: str = \"6ft\"\n",
    "        \n",
    "    def speaking(self, words: str) -> str:\n",
    "        return f\"Father speaking function {words}\" \n",
    "    \n",
    "class Child(Mother, Father):\n",
    "    def __init__(self, mother_name: str, father_name: str, child_name: str) -> None:\n",
    "        self.child_name: str = child_name\n",
    "        Mother.__init__(self, mother_name)\n",
    "        Father.__init__(self, father_name)\n",
    "        \n",
    "usama: Child = Child(\"Samina\", \"Israr\", \"usama\")\n",
    "\n",
    "print(f\"Object height {usama.height}\")\n",
    "print(f\"Object eye color {usama.eye_color}\")\n",
    "print(usama.speaking(\"Pakistan Zindabad!\"))"
   ]
  },
  {
   "cell_type": "code",
   "execution_count": 17,
   "id": "44149dc8",
   "metadata": {},
   "outputs": [
    {
     "data": {
      "text/plain": [
       "['child_name', 'eye_color', 'height', 'name', 'speaking']"
      ]
     },
     "execution_count": 17,
     "metadata": {},
     "output_type": "execute_result"
    }
   ],
   "source": [
    "[i for i in dir(usama) if \"__\" not in i]"
   ]
  },
  {
   "cell_type": "code",
   "execution_count": 19,
   "id": "208a4458",
   "metadata": {},
   "outputs": [
    {
     "name": "stdout",
     "output_type": "stream",
     "text": [
      "Object height 6ft\n",
      "Object eye color Blue\n",
      "Father speaking function Pakistan Zindabad!\n"
     ]
    }
   ],
   "source": [
    "class Mother():\n",
    "    def __init__(self, name: str) -> None:\n",
    "        self.name: str = name\n",
    "        self.eye_color: str = \"Blue\"\n",
    "        \n",
    "    def speaking(self, words: str) -> str:\n",
    "        return f\"Mother speaking function {words}\" \n",
    "    \n",
    "class Father():\n",
    "    def __init__(self, name: str) -> None:\n",
    "        self.name: str = name\n",
    "        self.height: str = \"6ft\"\n",
    "        \n",
    "    def speaking(self, words: str) -> str:\n",
    "        return f\"Father speaking function {words}\" \n",
    "    \n",
    "class Child(Father, Mother):\n",
    "    def __init__(self, mother_name: str, father_name: str, child_name: str) -> None:\n",
    "        self.child_name: str = child_name\n",
    "        Mother.__init__(self, mother_name)\n",
    "        Father.__init__(self, father_name)\n",
    "        \n",
    "usama: Child = Child(\"Samina\", \"Israr\", \"usama\")\n",
    "\n",
    "print(f\"Object height {usama.height}\")\n",
    "print(f\"Object eye color {usama.eye_color}\")\n",
    "print(usama.speaking(\"Pakistan Zindabad!\"))"
   ]
  },
  {
   "cell_type": "markdown",
   "id": "15d78979",
   "metadata": {},
   "source": [
    "### Overriding"
   ]
  },
  {
   "cell_type": "code",
   "execution_count": 20,
   "id": "95da9152",
   "metadata": {},
   "outputs": [
    {
     "name": "stdout",
     "output_type": "stream",
     "text": [
      "Brids is eating bread\n",
      "Animal is eating grass\n"
     ]
    }
   ],
   "source": [
    "class Animal():\n",
    "    def eating(self, food: str) -> None:    # same method\n",
    "        print(f\"Animal is eating {food}\")\n",
    "    \n",
    "class Bird(Animal):\n",
    "    def eating(self, food: str) -> None:\n",
    "        print(f\"Brids is eating {food}\")\n",
    "        \n",
    "bird: Bird = Bird()\n",
    "bird.eating(\"bread\")\n",
    "\n",
    "animal: Animal = Animal()\n",
    "animal.eating(\"grass\")"
   ]
  },
  {
   "cell_type": "markdown",
   "id": "78ff9889",
   "metadata": {},
   "source": [
    "### Ploymorphism"
   ]
  },
  {
   "cell_type": "code",
   "execution_count": 24,
   "id": "fa114c33",
   "metadata": {},
   "outputs": [
    {
     "name": "stdout",
     "output_type": "stream",
     "text": [
      "Brids is eating grass\n"
     ]
    }
   ],
   "source": [
    "animal: Animal = Bird()\n",
    "animal.eating(\"grass\")"
   ]
  },
  {
   "cell_type": "code",
   "execution_count": 25,
   "id": "b3035ac3",
   "metadata": {},
   "outputs": [
    {
     "name": "stdout",
     "output_type": "stream",
     "text": [
      "<class '__main__.Bird'>\n"
     ]
    }
   ],
   "source": [
    "print(type(animal))"
   ]
  },
  {
   "cell_type": "code",
   "execution_count": 26,
   "id": "fd80c1cf",
   "metadata": {},
   "outputs": [
    {
     "name": "stdout",
     "output_type": "stream",
     "text": [
      "Animal is eating grass\n"
     ]
    }
   ],
   "source": [
    "animal: Animal = Animal()\n",
    "animal.eating(\"grass\")"
   ]
  },
  {
   "cell_type": "markdown",
   "id": "b30f1092",
   "metadata": {},
   "source": [
    "### Static Method and Static Variable (class variable)"
   ]
  },
  {
   "cell_type": "code",
   "execution_count": 30,
   "id": "6e651950",
   "metadata": {},
   "outputs": [
    {
     "name": "stdout",
     "output_type": "stream",
     "text": [
      "Addtion: 11\n",
      "Multiplication: 54\n",
      "Static variable or Class variable: PIAIC\n"
     ]
    }
   ],
   "source": [
    "class MathOperation:\n",
    "    \n",
    "    counter: int = 100\n",
    "    organization: str = \"PIAIC\"\n",
    "    \n",
    "    @staticmethod\n",
    "    def add(x: int, y: int) -> int:\n",
    "        \"\"\"Add two numbers\"\"\"\n",
    "        return x + y\n",
    "    \n",
    "    @staticmethod\n",
    "    def multiply(x: int, y: int) -> int:\n",
    "        \"\"\"Multiply two numbers\"\"\"\n",
    "        return x * y\n",
    "    \n",
    "# Using the static method\n",
    "\n",
    "result_add = MathOperation.add(3, 8)\n",
    "result_multiply = MathOperation.multiply(6, 9)\n",
    "\n",
    "print(\"Addtion:\", result_add)\n",
    "print(\"Multiplication:\", result_multiply)\n",
    "\n",
    "print(\"Static variable or Class variable:\", MathOperation.organization)"
   ]
  },
  {
   "cell_type": "markdown",
   "id": "f1b4acf2",
   "metadata": {},
   "source": [
    "### Everything is an object\n",
    "\n",
    "https://www.codingninjas.com/studio/library/how-everything-in-python-is-an-object"
   ]
  },
  {
   "cell_type": "code",
   "execution_count": 31,
   "id": "3e39f27d",
   "metadata": {},
   "outputs": [
    {
     "name": "stdout",
     "output_type": "stream",
     "text": [
      "Human is eating Biryani\n"
     ]
    }
   ],
   "source": [
    "class Human:\n",
    "    def eating(self, food: str) -> None:\n",
    "        print(f\"Human is eating {food}\")\n",
    "        \n",
    "obj1: Human = Human()\n",
    "obj1.eating(\"Biryani\")"
   ]
  },
  {
   "cell_type": "code",
   "execution_count": 32,
   "id": "b2799187",
   "metadata": {},
   "outputs": [
    {
     "data": {
      "text/plain": [
       "['__class__',\n",
       " '__delattr__',\n",
       " '__dict__',\n",
       " '__dir__',\n",
       " '__doc__',\n",
       " '__eq__',\n",
       " '__format__',\n",
       " '__ge__',\n",
       " '__getattribute__',\n",
       " '__getstate__',\n",
       " '__gt__',\n",
       " '__hash__',\n",
       " '__init__',\n",
       " '__init_subclass__',\n",
       " '__le__',\n",
       " '__lt__',\n",
       " '__module__',\n",
       " '__ne__',\n",
       " '__new__',\n",
       " '__reduce__',\n",
       " '__reduce_ex__',\n",
       " '__repr__',\n",
       " '__setattr__',\n",
       " '__sizeof__',\n",
       " '__str__',\n",
       " '__subclasshook__',\n",
       " '__weakref__',\n",
       " 'eating']"
      ]
     },
     "execution_count": 32,
     "metadata": {},
     "output_type": "execute_result"
    }
   ],
   "source": [
    "dir(obj1)"
   ]
  },
  {
   "cell_type": "code",
   "execution_count": 33,
   "id": "6236b937",
   "metadata": {},
   "outputs": [
    {
     "data": {
      "text/plain": [
       "['__class__',\n",
       " '__delattr__',\n",
       " '__dir__',\n",
       " '__doc__',\n",
       " '__eq__',\n",
       " '__format__',\n",
       " '__ge__',\n",
       " '__getattribute__',\n",
       " '__getstate__',\n",
       " '__gt__',\n",
       " '__hash__',\n",
       " '__init__',\n",
       " '__init_subclass__',\n",
       " '__le__',\n",
       " '__lt__',\n",
       " '__ne__',\n",
       " '__new__',\n",
       " '__reduce__',\n",
       " '__reduce_ex__',\n",
       " '__repr__',\n",
       " '__setattr__',\n",
       " '__sizeof__',\n",
       " '__str__',\n",
       " '__subclasshook__']"
      ]
     },
     "execution_count": 33,
     "metadata": {},
     "output_type": "execute_result"
    }
   ],
   "source": [
    "dir(object)"
   ]
  },
  {
   "cell_type": "code",
   "execution_count": 35,
   "id": "845922d9",
   "metadata": {},
   "outputs": [
    {
     "name": "stdout",
     "output_type": "stream",
     "text": [
      "Human is eating Biryani\n"
     ]
    }
   ],
   "source": [
    "class Human(object):\n",
    "    def eating(self, food: str) -> None:\n",
    "        print(f\"Human is eating {food}\")\n",
    "        \n",
    "obj2: Human = Human()\n",
    "obj2.eating(\"Biryani\")"
   ]
  },
  {
   "cell_type": "code",
   "execution_count": 36,
   "id": "c8850069",
   "metadata": {},
   "outputs": [
    {
     "data": {
      "text/plain": [
       "['__class__',\n",
       " '__delattr__',\n",
       " '__dict__',\n",
       " '__dir__',\n",
       " '__doc__',\n",
       " '__eq__',\n",
       " '__format__',\n",
       " '__ge__',\n",
       " '__getattribute__',\n",
       " '__getstate__',\n",
       " '__gt__',\n",
       " '__hash__',\n",
       " '__init__',\n",
       " '__init_subclass__',\n",
       " '__le__',\n",
       " '__lt__',\n",
       " '__module__',\n",
       " '__ne__',\n",
       " '__new__',\n",
       " '__reduce__',\n",
       " '__reduce_ex__',\n",
       " '__repr__',\n",
       " '__setattr__',\n",
       " '__sizeof__',\n",
       " '__str__',\n",
       " '__subclasshook__',\n",
       " '__weakref__',\n",
       " 'eating']"
      ]
     },
     "execution_count": 36,
     "metadata": {},
     "output_type": "execute_result"
    }
   ],
   "source": [
    "dir(obj2)"
   ]
  },
  {
   "cell_type": "markdown",
   "id": "e12f9c7b",
   "metadata": {},
   "source": [
    "### Callable\n",
    "\n",
    "https://realpython.com/python-callable-instances/"
   ]
  },
  {
   "cell_type": "code",
   "execution_count": 4,
   "id": "302568cc",
   "metadata": {},
   "outputs": [
    {
     "name": "stdout",
     "output_type": "stream",
     "text": [
      "Human is eating Biryani\n",
      "Human is eating Nihari\n"
     ]
    }
   ],
   "source": [
    "class Human1():\n",
    "    def eating(self, food: str) -> None:\n",
    "        print(f\"Human is eating {food}\")\n",
    "        \n",
    "    def __call__(self):\n",
    "        self.eating(\"Nihari\")\n",
    "        \n",
    "obj3: Human1 = Human1()\n",
    "obj3.eating(\"Biryani\")\n",
    "\n",
    "obj3.__call__()"
   ]
  },
  {
   "cell_type": "code",
   "execution_count": 5,
   "id": "af52c9c3",
   "metadata": {},
   "outputs": [
    {
     "data": {
      "text/plain": [
       "<__main__.Human1 at 0x19748d0e930>"
      ]
     },
     "execution_count": 5,
     "metadata": {},
     "output_type": "execute_result"
    }
   ],
   "source": [
    "Human1()"
   ]
  }
 ],
 "metadata": {
  "kernelspec": {
   "display_name": "python12",
   "language": "python",
   "name": "python3"
  },
  "language_info": {
   "codemirror_mode": {
    "name": "ipython",
    "version": 3
   },
   "file_extension": ".py",
   "mimetype": "text/x-python",
   "name": "python",
   "nbconvert_exporter": "python",
   "pygments_lexer": "ipython3",
   "version": "3.12.0"
  }
 },
 "nbformat": 4,
 "nbformat_minor": 5
}
