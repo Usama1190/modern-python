{
 "cells": [
  {
   "cell_type": "code",
   "execution_count": 1,
   "id": "281eebeb",
   "metadata": {},
   "outputs": [
    {
     "name": "stdout",
     "output_type": "stream",
     "text": [
      "Requirement already satisfied: nptyping in c:\\users\\netever\\anaconda3\\envs\\python12\\lib\\site-packages (2.5.0)\n",
      "Requirement already satisfied: numpy<2.0.0,>=1.20.0 in c:\\users\\netever\\anaconda3\\envs\\python12\\lib\\site-packages (from nptyping) (1.26.4)\n"
     ]
    }
   ],
   "source": [
    "!pip install nptyping --upgrade"
   ]
  },
  {
   "cell_type": "code",
   "execution_count": 2,
   "id": "9a96b131",
   "metadata": {},
   "outputs": [
    {
     "name": "stdout",
     "output_type": "stream",
     "text": [
      "Requirement already satisfied: beartype in c:\\users\\netever\\anaconda3\\envs\\python12\\lib\\site-packages (0.21.0)\n"
     ]
    }
   ],
   "source": [
    "!pip install beartype --upgrade"
   ]
  },
  {
   "cell_type": "code",
   "execution_count": 3,
   "id": "f71e9807",
   "metadata": {},
   "outputs": [
    {
     "ename": "SyntaxError",
     "evalue": "invalid syntax (<unknown>, line 2)",
     "output_type": "error",
     "traceback": [
      "Traceback \u001b[36m(most recent call last)\u001b[39m:\n",
      "  File \u001b[92mc:\\Users\\Netever\\anaconda3\\envs\\python12\\Lib\\site-packages\\IPython\\core\\interactiveshell.py:3549\u001b[39m in \u001b[95mrun_code\u001b[39m\n    exec(code_obj, self.user_global_ns, self.user_ns)\n",
      "  Cell \u001b[92mIn[3]\u001b[39m\u001b[92m, line 1\u001b[39m\n    get_ipython().run_cell_magic('code_wrap', '', '\\n>>> from typing import Any\\n>>> import numpy as np\\n>>> from nptyping import NDArray, Structure\\n\\n>>> arr = np.array([(\"x\")], np.dtype([(\"x\", \"U10\", (2, 2))]))\\n>>> isinstance(arr, NDArray[Any, Structure[\"x: Str[2, 2]\"]])\\n')\n",
      "  File \u001b[92mc:\\Users\\Netever\\anaconda3\\envs\\python12\\Lib\\site-packages\\IPython\\core\\interactiveshell.py:2542\u001b[39m in \u001b[95mrun_cell_magic\u001b[39m\n    result = fn(*args, **kwargs)\n",
      "  File \u001b[92mc:\\Users\\Netever\\anaconda3\\envs\\python12\\Lib\\site-packages\\IPython\\core\\magics\\execution.py:1612\u001b[39m in \u001b[95mcode_wrap\u001b[39m\n    _trs = ReplaceCodeTransformer(ast.parse(cell))\n",
      "\u001b[36m  \u001b[39m\u001b[36mFile \u001b[39m\u001b[32mc:\\Users\\Netever\\anaconda3\\envs\\python12\\Lib\\ast.py:52\u001b[39m\u001b[36m in \u001b[39m\u001b[35mparse\u001b[39m\n\u001b[31m    \u001b[39m\u001b[31mreturn compile(source, filename, mode, flags,\u001b[39m\n",
      "  \u001b[36mFile \u001b[39m\u001b[32m<unknown>:2\u001b[39m\n\u001b[31m    \u001b[39m\u001b[31m>>> from typing import Any\u001b[39m\n    ^\n\u001b[31mSyntaxError\u001b[39m\u001b[31m:\u001b[39m invalid syntax\n"
     ]
    }
   ],
   "source": [
    "%%code_wrap\n",
    "\n",
    ">>> from typing import Any\n",
    ">>> import numpy as np\n",
    ">>> from nptyping import NDArray, Structure\n",
    "\n",
    ">>> arr = np.array([(\"x\")], np.dtype([(\"x\", \"U10\", (2, 2))]))\n",
    ">>> isinstance(arr, NDArray[Any, Structure[\"x: Str[2, 2]\"]])"
   ]
  },
  {
   "cell_type": "code",
   "execution_count": 4,
   "id": "52a93d22",
   "metadata": {},
   "outputs": [
    {
     "data": {
      "text/plain": [
       "array([([['x', 'x'], ['x', 'x']],)], dtype=[('x', '<U10', (2, 2))])"
      ]
     },
     "metadata": {},
     "output_type": "display_data"
    }
   ],
   "source": [
    "from typing import Any\n",
    "import numpy as np\n",
    "from nptyping import NDArray, Structure\n",
    "arr = np.array([(\"x\")], np.dtype([(\"x\", \"U10\", (2, 2))]))\n",
    "display(arr)"
   ]
  },
  {
   "cell_type": "code",
   "execution_count": 5,
   "id": "7b35815a",
   "metadata": {},
   "outputs": [
    {
     "data": {
      "text/plain": [
       "Structure['anyType: *']"
      ]
     },
     "metadata": {},
     "output_type": "display_data"
    },
    {
     "name": "stdout",
     "output_type": "stream",
     "text": [
      "aa\n"
     ]
    }
   ],
   "source": [
    "from typing import Any\n",
    "import numpy as np\n",
    "from nptyping import NDArray, Structure\n",
    "\n",
    "display(Structure[\"anyType: *\"])\n",
    "print(\"aa\")"
   ]
  },
  {
   "cell_type": "code",
   "execution_count": null,
   "id": "0d67303c",
   "metadata": {},
   "outputs": [],
   "source": []
  }
 ],
 "metadata": {
  "kernelspec": {
   "display_name": "python12",
   "language": "python",
   "name": "python3"
  },
  "language_info": {
   "codemirror_mode": {
    "name": "ipython",
    "version": 3
   },
   "file_extension": ".py",
   "mimetype": "text/x-python",
   "name": "python",
   "nbconvert_exporter": "python",
   "pygments_lexer": "ipython3",
   "version": "3.12.0"
  }
 },
 "nbformat": 4,
 "nbformat_minor": 5
}
