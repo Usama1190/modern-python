{
 "cells": [
  {
   "cell_type": "markdown",
   "id": "c3385275",
   "metadata": {},
   "source": [
    "## Loop and input from user\n",
    "\n",
    "* while\n",
    "* for\n",
    "* controls\n",
    "    * break\n",
    "    * continue\n",
    "    * pass\n",
    "* input with input function\n",
    "* input from console\n",
    "\n",
    "## Loop workings from iterative data types\n",
    "\n",
    "* list\n",
    "* dict\n",
    "* tuple\n",
    "* string"
   ]
  },
  {
   "cell_type": "code",
   "execution_count": 4,
   "id": "737641ec",
   "metadata": {},
   "outputs": [
    {
     "name": "stdout",
     "output_type": "stream",
     "text": [
      "[1, 2, 3, 4, 5, 6]\n"
     ]
    }
   ],
   "source": [
    "#                0  1  2  3  4  5\n",
    "l1: list[int] = [1, 2, 3, 4, 5, 6]\n",
    "\n",
    "print(l1)"
   ]
  },
  {
   "cell_type": "code",
   "execution_count": 5,
   "id": "f74571f4",
   "metadata": {},
   "outputs": [
    {
     "name": "stdout",
     "output_type": "stream",
     "text": [
      "1\n",
      "2\n",
      "3\n",
      "4\n",
      "5\n",
      "6\n"
     ]
    }
   ],
   "source": [
    "#                0  1  2  3  4  5\n",
    "l1: list[int] = [1, 2, 3, 4, 5, 6]\n",
    "\n",
    "for n in l1:\n",
    "    print(n)"
   ]
  },
  {
   "cell_type": "code",
   "execution_count": 8,
   "id": "be1bf509",
   "metadata": {},
   "outputs": [
    {
     "name": "stdout",
     "output_type": "stream",
     "text": [
      "current number: 1\n",
      "current number: 2\n",
      "current number: 3\n",
      "current number: 4\n",
      "current number: 5\n",
      "current number: 6\n"
     ]
    }
   ],
   "source": [
    "#                0  1  2  3  4  5\n",
    "l1: list[int] = [1, 2, 3, 4, 5, 6]\n",
    "\n",
    "for n in l1:\n",
    "    print(f\"current number: {n}\")"
   ]
  },
  {
   "cell_type": "code",
   "execution_count": 9,
   "id": "d8da8936",
   "metadata": {},
   "outputs": [
    {
     "name": "stdout",
     "output_type": "stream",
     "text": [
      "current number: 1\n",
      "current number: 2\n",
      "current number: 3\n",
      "current number: 4\n",
      "current number: 5\n",
      "current number: 6\n"
     ]
    }
   ],
   "source": [
    "#                0  1  2  3  4  5\n",
    "l1: list[int] = [1, 2, 3, 4, 5, 6]\n",
    "\n",
    "for n in l1:\n",
    "    print(f\"current number: {n}\")"
   ]
  },
  {
   "cell_type": "code",
   "execution_count": 11,
   "id": "8bd66a7f",
   "metadata": {},
   "outputs": [
    {
     "name": "stdout",
     "output_type": "stream",
     "text": [
      "current character: P\n",
      "current character: a\n",
      "current character: k\n",
      "current character: i\n",
      "current character: s\n",
      "current character: t\n",
      "current character: a\n",
      "current character: n\n"
     ]
    }
   ],
   "source": [
    "#          12345678\n",
    "l1: str = 'Pakistan'\n",
    "\n",
    "for c in l1:\n",
    "    print(f\"current character: {c}\")"
   ]
  },
  {
   "cell_type": "code",
   "execution_count": 14,
   "id": "696f47e6",
   "metadata": {},
   "outputs": [
    {
     "name": "stdout",
     "output_type": "stream",
     "text": [
      "dictionary key name and value is Usama\n",
      "dictionary key fname and value is Israr\n"
     ]
    }
   ],
   "source": [
    "l1: dict[str, str] = { \"name\": \"Usama\", \"fname\": \"Israr\" }\n",
    "\n",
    "for k in l1:\n",
    "    print(f\"dictionary key {k} and value is {l1[k]}\")"
   ]
  },
  {
   "cell_type": "markdown",
   "id": "505f80f9",
   "metadata": {},
   "source": [
    "### We can directly perform iteration on set data type"
   ]
  },
  {
   "cell_type": "code",
   "execution_count": 17,
   "id": "7cf7f6ed",
   "metadata": {},
   "outputs": [
    {
     "name": "stdout",
     "output_type": "stream",
     "text": [
      "set item is 1\n",
      "set item is 2\n",
      "set item is 3\n",
      "set item is 4\n"
     ]
    }
   ],
   "source": [
    "#             iteration perform on keys\n",
    "l1: set[int] = {1, 2, 3, 4, 1, 1, 1, 1}\n",
    "\n",
    "for k in l1:\n",
    "    print(f\"set item is {k}\")"
   ]
  },
  {
   "cell_type": "markdown",
   "id": "5b71267d",
   "metadata": {},
   "source": [
    "### Also apply iteration on set with type casting in list"
   ]
  },
  {
   "cell_type": "code",
   "execution_count": 18,
   "id": "9b51d49f",
   "metadata": {},
   "outputs": [
    {
     "name": "stdout",
     "output_type": "stream",
     "text": [
      "set item is 1\n",
      "set item is 2\n",
      "set item is 3\n",
      "set item is 4\n"
     ]
    }
   ],
   "source": [
    "#\n",
    "l1: list[set[int]] = list({1, 2, 3, 4, 1, 1, 1, 1})\n",
    "\n",
    "for k in l1:\n",
    "    print(f\"set item is {k}\")"
   ]
  },
  {
   "cell_type": "markdown",
   "id": "64ff9fcb",
   "metadata": {},
   "source": [
    "### input form user\n",
    "* input function\n",
    "    * default type = string\n",
    "* sys.argv (for console input in abc.py file)\n",
    "    * default type = str"
   ]
  },
  {
   "cell_type": "code",
   "execution_count": 21,
   "id": "e26452bc",
   "metadata": {},
   "outputs": [
    {
     "name": "stdout",
     "output_type": "stream",
     "text": [
      "<class 'str'>\n",
      "Welcome dear User Mr/Miss: Osama!\n"
     ]
    }
   ],
   "source": [
    "name: str = input(\"Enter your name: \\t\")\n",
    "\n",
    "print(type(name))\n",
    "\n",
    "print(f\"Welcome dear User Mr/Miss: {name}!\")"
   ]
  },
  {
   "cell_type": "code",
   "execution_count": 22,
   "id": "c7ea7eb2",
   "metadata": {},
   "outputs": [
    {
     "data": {
      "text/plain": [
       "<zip at 0x12aa7b6abc0>"
      ]
     },
     "execution_count": 22,
     "metadata": {},
     "output_type": "execute_result"
    }
   ],
   "source": [
    "names: list[str] = ['a', 'b', 'c']\n",
    "fname: list[str] = ['x', 'y', 'z']\n",
    "age: list[int] = [1, 2, 3]\n",
    "\n",
    "zip(name, fname, age)"
   ]
  },
  {
   "cell_type": "code",
   "execution_count": 26,
   "id": "23c91c48",
   "metadata": {},
   "outputs": [
    {
     "name": "stdout",
     "output_type": "stream",
     "text": [
      "Welcome dear, a, s/o x\n",
      "Welcome dear, b, s/o y\n",
      "Welcome dear, c, s/o z\n"
     ]
    }
   ],
   "source": [
    "names: list[str] = ['a', 'b', 'c']\n",
    "fname: list[str] = ['x', 'y', 'z']\n",
    "age: list[int] = [1, 2, 3]\n",
    "\n",
    "list(zip(name, fname, age))\n",
    "\n",
    "for name, fn, ag in zip(names, fname, age):\n",
    "    print(f\"Welcome dear, {name}, s/o {fn}\")"
   ]
  },
  {
   "cell_type": "markdown",
   "id": "5e835f30",
   "metadata": {},
   "source": [
    "### While loop\n",
    "\n",
    "```\n",
    "while logic: True/False\n",
    "    loop body\n",
    "```"
   ]
  },
  {
   "cell_type": "code",
   "execution_count": 27,
   "id": "122aed7c",
   "metadata": {},
   "outputs": [
    {
     "name": "stdout",
     "output_type": "stream",
     "text": [
      "current number is 0\n",
      "current number is 1\n",
      "current number is 2\n",
      "current number is 3\n",
      "current number is 4\n",
      "current number is 5\n",
      "current number is 6\n",
      "current number is 7\n",
      "current number is 8\n",
      "current number is 9\n"
     ]
    }
   ],
   "source": [
    "flag: bool = True   # false\n",
    "\n",
    "current_number: int = 0   #\n",
    "\n",
    "while flag:\n",
    "    print(f\"current number is {current_number}\")\n",
    "    current_number += 1\n",
    "    \n",
    "    if current_number == 10:\n",
    "        break"
   ]
  },
  {
   "cell_type": "code",
   "execution_count": 29,
   "id": "0806b693",
   "metadata": {},
   "outputs": [
    {
     "name": "stdout",
     "output_type": "stream",
     "text": [
      "current index is: 0, and list value is 100\n",
      "current index is: 1, and list value is 200\n",
      "current index is: 2, and list value is 300\n"
     ]
    }
   ],
   "source": [
    "l1: list[int] = [100, 200, 300]\n",
    "\n",
    "index: int = 0\n",
    "\n",
    "while index < len(l1):\n",
    "    print(f\"current index is: {index}, and list value is {l1[index]}\")\n",
    "    index += 1"
   ]
  },
  {
   "cell_type": "code",
   "execution_count": 30,
   "id": "62dd4d08",
   "metadata": {},
   "outputs": [
    {
     "name": "stdout",
     "output_type": "stream",
     "text": [
      "write quite or exit to stop this program\n",
      "write quite or exit to stop this program\n"
     ]
    },
    {
     "data": {
      "text/plain": [
       "[{'name': 'usama', 'education': 'israr'}]"
      ]
     },
     "metadata": {},
     "output_type": "display_data"
    }
   ],
   "source": [
    "data: list[dict[str, str]] = []\n",
    "\n",
    "flag: bool = True\n",
    "\n",
    "while flag:\n",
    "    print(\"write quite or exit to stop this program\")\n",
    "    name : str = input (\"Your good name ? \\t:\")\n",
    "    eduction: str = input(\"Your last education? \\t\")\n",
    "\n",
    "    if name in ['exit','quite','close','stop'] or eduction  in ['exit','quite','close','stop']:\n",
    "        flag=False\n",
    "        break\n",
    "    data.append({\"name\":name,\n",
    "                 \"education\": eduction})\n",
    "\n",
    "display(data) "
   ]
  },
  {
   "cell_type": "markdown",
   "id": "746eb86a",
   "metadata": {},
   "source": [
    "### controls\n",
    "* break\n",
    "* continue\n",
    "    * skip\n",
    "* pass"
   ]
  },
  {
   "cell_type": "code",
   "execution_count": 31,
   "id": "756c113c",
   "metadata": {},
   "outputs": [
    {
     "name": "stdout",
     "output_type": "stream",
     "text": [
      "1\n",
      "2\n",
      "3\n",
      "4\n",
      "5\n"
     ]
    }
   ],
   "source": [
    "for i in range(1, 11):\n",
    "    print(i)\n",
    "    \n",
    "    if i == 5:\n",
    "        break"
   ]
  },
  {
   "cell_type": "code",
   "execution_count": 32,
   "id": "2e5b8d6d",
   "metadata": {},
   "outputs": [
    {
     "name": "stdout",
     "output_type": "stream",
     "text": [
      "2 X 1 = 1\n"
     ]
    }
   ],
   "source": [
    "for i in range(1, 11):\n",
    "    print(f\"2 X {i} = {i**2}\")\n",
    "    break"
   ]
  },
  {
   "cell_type": "code",
   "execution_count": 34,
   "id": "30922420",
   "metadata": {},
   "outputs": [
    {
     "name": "stdout",
     "output_type": "stream",
     "text": [
      "2 X 1 = 2\n",
      "2 X 2 = 4\n",
      "2 X 3 = 6\n",
      "2 X 4 = 8\n",
      "2 X 5 = 10\n",
      "2 X 6 = 12\n",
      "2 X 7 = 14\n",
      "2 X 8 = 16\n",
      "2 X 9 = 18\n",
      "2 X 10 = 20\n"
     ]
    }
   ],
   "source": [
    "for i in range(1, 11):\n",
    "    print(f\"2 X {i} = {i*2}\")"
   ]
  },
  {
   "cell_type": "code",
   "execution_count": null,
   "id": "394b9422",
   "metadata": {},
   "outputs": [
    {
     "name": "stdout",
     "output_type": "stream",
     "text": [
      "1\n",
      "2\n",
      "3\n",
      "4\n",
      "6\n",
      "7\n",
      "8\n",
      "9\n",
      "10\n"
     ]
    }
   ],
   "source": [
    "for i in range(1, 11):    # creating a range from 1 to 10\n",
    "    if i == 5:\n",
    "        continue         # skipping the iteration when i is 5\n",
    "    print(i)\n",
    "    "
   ]
  },
  {
   "cell_type": "markdown",
   "id": "2914af6d",
   "metadata": {},
   "source": [
    "* pass"
   ]
  },
  {
   "cell_type": "code",
   "execution_count": null,
   "id": "c8f8cade",
   "metadata": {},
   "outputs": [
    {
     "ename": "SyntaxError",
     "evalue": "incomplete input (2842978294.py, line 1)",
     "output_type": "error",
     "traceback": [
      "  \u001b[36mCell\u001b[39m\u001b[36m \u001b[39m\u001b[32mIn[38]\u001b[39m\u001b[32m, line 1\u001b[39m\n\u001b[31m    \u001b[39m\u001b[31mfor i in range(1, 10000):\u001b[39m\n                             ^\n\u001b[31mSyntaxError\u001b[39m\u001b[31m:\u001b[39m incomplete input\n"
     ]
    }
   ],
   "source": [
    "for i in range(1, 1000):"
   ]
  },
  {
   "cell_type": "code",
   "execution_count": 39,
   "id": "482d2a03",
   "metadata": {},
   "outputs": [],
   "source": [
    "for i in range(1, 1000):\n",
    "    pass"
   ]
  },
  {
   "cell_type": "code",
   "execution_count": null,
   "id": "0819e197",
   "metadata": {},
   "outputs": [],
   "source": [
    "while True:\n",
    "    pass"
   ]
  },
  {
   "cell_type": "code",
   "execution_count": 40,
   "id": "ac92b484",
   "metadata": {},
   "outputs": [],
   "source": [
    "def abc(a: int, b: int) -> int:\n",
    "    pass"
   ]
  },
  {
   "cell_type": "code",
   "execution_count": 41,
   "id": "6d19451b",
   "metadata": {},
   "outputs": [
    {
     "name": "stdout",
     "output_type": "stream",
     "text": [
      "Pakistan\n",
      "Second\n"
     ]
    }
   ],
   "source": [
    "if True:\n",
    "    pass\n",
    "\n",
    "print(\"Pakistan\")\n",
    "print(\"Second\")"
   ]
  },
  {
   "cell_type": "code",
   "execution_count": 43,
   "id": "93e0edd9",
   "metadata": {},
   "outputs": [
    {
     "name": "stdout",
     "output_type": "stream",
     "text": [
      "Osama\n"
     ]
    }
   ],
   "source": [
    "if True:\n",
    "    name: str = input('Your name?')\n",
    "    print(name)"
   ]
  },
  {
   "cell_type": "code",
   "execution_count": null,
   "id": "8c95272e",
   "metadata": {},
   "outputs": [],
   "source": [
    "if True:\n",
    "    name: str = input('Your name?')\n",
    "    print(name)"
   ]
  },
  {
   "cell_type": "code",
   "execution_count": 44,
   "id": "c2aa5ef5",
   "metadata": {},
   "outputs": [
    {
     "name": "stdout",
     "output_type": "stream",
     "text": [
      "18\n"
     ]
    }
   ],
   "source": [
    "print(1 + 3 + 9 + 5)"
   ]
  },
  {
   "cell_type": "code",
   "execution_count": 46,
   "id": "765ce647",
   "metadata": {},
   "outputs": [
    {
     "name": "stdout",
     "output_type": "stream",
     "text": [
      "21\n"
     ]
    }
   ],
   "source": [
    "print(1 + 5 \\\n",
    "      + 3 \\\n",
    "      + 8 + 4)"
   ]
  },
  {
   "cell_type": "code",
   "execution_count": 47,
   "id": "4a320c1a",
   "metadata": {},
   "outputs": [
    {
     "name": "stdout",
     "output_type": "stream",
     "text": [
      "\n",
      "Hello, Osama!\n"
     ]
    }
   ],
   "source": [
    "prompt = \"\"\"If you share your name, we can personalize the messages you see.\\\n",
    "What is your first name? \"\"\"\n",
    "\n",
    "\n",
    "name = input(prompt)\n",
    "print(f\"\\nHello, {name}!\")"
   ]
  },
  {
   "cell_type": "code",
   "execution_count": 51,
   "id": "ec636d07",
   "metadata": {},
   "outputs": [
    {
     "ename": "TypeError",
     "evalue": "'>=' not supported between instances of 'str' and 'int'",
     "output_type": "error",
     "traceback": [
      "\u001b[31m---------------------------------------------------------------------------\u001b[39m",
      "\u001b[31mTypeError\u001b[39m                                 Traceback (most recent call last)",
      "\u001b[36mCell\u001b[39m\u001b[36m \u001b[39m\u001b[32mIn[51]\u001b[39m\u001b[32m, line 3\u001b[39m\n\u001b[32m      1\u001b[39m age: \u001b[38;5;28mstr\u001b[39m = \u001b[38;5;28minput\u001b[39m(\u001b[33m\"\u001b[39m\u001b[33mHow old are you? \u001b[39m\u001b[33m\"\u001b[39m)\n\u001b[32m----> \u001b[39m\u001b[32m3\u001b[39m \u001b[43mage\u001b[49m\u001b[43m \u001b[49m\u001b[43m>\u001b[49m\u001b[43m=\u001b[49m\u001b[43m \u001b[49m\u001b[32;43m18\u001b[39;49m\n",
      "\u001b[31mTypeError\u001b[39m: '>=' not supported between instances of 'str' and 'int'"
     ]
    }
   ],
   "source": [
    "age: str = input(\"How old are you? \")\n",
    "\n",
    "age >= 18"
   ]
  },
  {
   "cell_type": "code",
   "execution_count": 50,
   "id": "b98972a6",
   "metadata": {},
   "outputs": [
    {
     "data": {
      "text/plain": [
       "True"
      ]
     },
     "execution_count": 50,
     "metadata": {},
     "output_type": "execute_result"
    }
   ],
   "source": [
    "age: int = int(input(\"How old are you? \"))\n",
    "\n",
    "age >= 18"
   ]
  },
  {
   "cell_type": "code",
   "execution_count": null,
   "id": "114ed107",
   "metadata": {},
   "outputs": [
    {
     "data": {
      "text/plain": [
       "[2, 4, 6, 4, 2]"
      ]
     },
     "execution_count": 52,
     "metadata": {},
     "output_type": "execute_result"
    }
   ],
   "source": [
    "data: list[int] = [1, 2, 4, 6, 3, 7, 4, 2, 7, 3, 9]\n",
    "\n",
    "# extract even numbers from this list\n",
    "\n",
    "[i for i in data if i%2 == 0]"
   ]
  },
  {
   "cell_type": "code",
   "execution_count": 56,
   "id": "096da6cf",
   "metadata": {},
   "outputs": [
    {
     "name": "stdout",
     "output_type": "stream",
     "text": [
      "2\n",
      "4\n",
      "6\n",
      "8\n",
      "10\n"
     ]
    }
   ],
   "source": [
    "current_number = 0\n",
    "\n",
    "while current_number < 10:\n",
    "    current_number += 1\n",
    "    \n",
    "    if current_number % 2 != 0:\n",
    "        continue\n",
    "    print(current_number)"
   ]
  },
  {
   "cell_type": "code",
   "execution_count": null,
   "id": "83fbd07b",
   "metadata": {},
   "outputs": [
    {
     "data": {
      "text/plain": [
       "[1, 3, 7, 7, 3, 9]"
      ]
     },
     "execution_count": 53,
     "metadata": {},
     "output_type": "execute_result"
    }
   ],
   "source": [
    "data: list[int] = [1, 2, 4, 6, 3, 7, 4, 2, 7, 3, 9]\n",
    "\n",
    "# extract odd numbers from this list\n",
    "\n",
    "[i for i in data if i%2 != 0]"
   ]
  },
  {
   "cell_type": "code",
   "execution_count": 57,
   "id": "054a2c24",
   "metadata": {},
   "outputs": [
    {
     "name": "stdout",
     "output_type": "stream",
     "text": [
      "1\n",
      "3\n",
      "5\n",
      "7\n",
      "9\n"
     ]
    }
   ],
   "source": [
    "current_number = 0\n",
    "\n",
    "while current_number < 10:\n",
    "    current_number += 1\n",
    "    \n",
    "    if current_number % 2 == 0:\n",
    "        continue\n",
    "    print(current_number)"
   ]
  },
  {
   "cell_type": "code",
   "execution_count": 58,
   "id": "0b2a9eaa",
   "metadata": {},
   "outputs": [
    {
     "name": "stdout",
     "output_type": "stream",
     "text": [
      "quite\n",
      "quit\n"
     ]
    }
   ],
   "source": [
    "prompt = \"\\nTell me something, and I will repeat it back to you:\"\n",
    "prompt += \"\\nEnter 'quit' to end the program. \"\n",
    "message = \"\"\n",
    "while message != 'quit':\n",
    "    message = input(prompt)\n",
    "    print(message)"
   ]
  },
  {
   "cell_type": "code",
   "execution_count": 59,
   "id": "f3a0ed09",
   "metadata": {},
   "outputs": [
    {
     "name": "stdout",
     "output_type": "stream",
     "text": [
      "1\n",
      "e\n",
      "a\n"
     ]
    }
   ],
   "source": [
    "prompt:str = \"\\nTell me something, and I will repeat it back to you:\"\n",
    "prompt += \"\\nEnter 'quit' to end the program. \"\n",
    "\n",
    "\n",
    "active = True \n",
    "\n",
    "while active:\n",
    "    message = input(prompt)\n",
    "    if message == 'quit':\n",
    "        active = False\n",
    "    else:\n",
    "        print(message)"
   ]
  },
  {
   "cell_type": "code",
   "execution_count": 60,
   "id": "ed0a2871",
   "metadata": {},
   "outputs": [
    {
     "name": "stdout",
     "output_type": "stream",
     "text": [
      "Verifying user: Candace\n",
      "Verifying user: Brian\n",
      "Verifying user: Alice\n",
      "\n",
      "The following users have been confirmed:\n",
      "Candace\n",
      "Brian\n",
      "Alice\n"
     ]
    }
   ],
   "source": [
    "# Start with users that need to be verified,\n",
    "# and an empty list to hold confirmed users.\n",
    "unconfirmed_users : list[str] = ['alice', 'brian', 'candace']\n",
    "confirmed_users : list[str] = []\n",
    "  # Verify each user until there are no more unconfirmed users.\n",
    "# Move each verified user into the list of confirmed users. 2 \n",
    "while unconfirmed_users:\n",
    "    current_user = unconfirmed_users.pop()\n",
    "    print(f\"Verifying user: {current_user.title()}\")\n",
    "    confirmed_users.append(current_user)\n",
    "# Display all confirmed users.\n",
    "print(\"\\nThe following users have been confirmed:\")\n",
    "for confirmed_user in confirmed_users:\n",
    "    print(confirmed_user.title())"
   ]
  },
  {
   "cell_type": "code",
   "execution_count": 61,
   "id": "831b3969",
   "metadata": {},
   "outputs": [
    {
     "name": "stdout",
     "output_type": "stream",
     "text": [
      "abc\n"
     ]
    }
   ],
   "source": [
    "a = 10\n",
    "\n",
    "while a:\n",
    "    print(\"abc\")\n",
    "    break"
   ]
  },
  {
   "cell_type": "code",
   "execution_count": 63,
   "id": "ac758527",
   "metadata": {},
   "outputs": [
    {
     "name": "stdout",
     "output_type": "stream",
     "text": [
      "3\n",
      "2\n",
      "1\n"
     ]
    }
   ],
   "source": [
    "data: list[int] = [1, 2, 3]\n",
    "\n",
    "while data:\n",
    "    n: int = data.pop()\n",
    "    print(n)"
   ]
  },
  {
   "cell_type": "code",
   "execution_count": 64,
   "id": "cfa4b188",
   "metadata": {},
   "outputs": [
    {
     "name": "stdout",
     "output_type": "stream",
     "text": [
      "['dog', 'cat', 'dog', 'goldfish', 'cat', 'rabbit', 'cat']\n",
      "['dog', 'dog', 'goldfish', 'rabbit']\n"
     ]
    }
   ],
   "source": [
    "pets = ['dog', 'cat', 'dog', 'goldfish', 'cat', 'rabbit', 'cat'] \n",
    "print(pets)\n",
    "\n",
    "while 'cat' in pets:\n",
    "    pets.remove('cat')\n",
    "print(pets)"
   ]
  },
  {
   "cell_type": "code",
   "execution_count": null,
   "id": "62bdae80",
   "metadata": {},
   "outputs": [],
   "source": []
  }
 ],
 "metadata": {
  "kernelspec": {
   "display_name": "python12",
   "language": "python",
   "name": "python3"
  },
  "language_info": {
   "codemirror_mode": {
    "name": "ipython",
    "version": 3
   },
   "file_extension": ".py",
   "mimetype": "text/x-python",
   "name": "python",
   "nbconvert_exporter": "python",
   "pygments_lexer": "ipython3",
   "version": "3.12.0"
  }
 },
 "nbformat": 4,
 "nbformat_minor": 5
}
